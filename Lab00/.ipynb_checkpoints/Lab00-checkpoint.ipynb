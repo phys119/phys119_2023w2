{
 "cells": [
  {
   "cell_type": "markdown",
   "id": "38c874a6-cae3-4f94-931a-173155fa86d3",
   "metadata": {
    "tags": []
   },
   "source": [
    "# Lab 00 - Introduction to Jupyter"
   ]
  },
  {
   "cell_type": "markdown",
   "id": "a17e32ac-bb67-4311-ba68-aaf5766d1291",
   "metadata": {},
   "source": [
    "In this Jupyter notebook, we will go through some basics of using Jupyter notebooks. This will be the medium which encompasses your lab notebook, data recording, and data analysis!\n",
    "\n",
    "We know that for many of you this will be your first encounter with Jupyter notebooks and with coding in general. It is perfectly normal if you feel some cognitive overload as you go through this notebook with all the new information. We will revisit a lot of this material as we continue in future labs and pre-labs.\n",
    "\n",
    "The first thing to know is that the notebook you are working in today is stored 'in the cloud' in a service operated by UBC. You are working in your own copy of this document and any changes you make to it are automatically saved frequently. If you want to force it to save immediately, you can type: CTRL+S, or go to File->Save Notebook. "
   ]
  },
  {
   "cell_type": "markdown",
   "id": "8282c5b1-ade2-4c3f-a844-55ad3894e4bc",
   "metadata": {
    "tags": []
   },
   "source": [
    "## Cells - Code and Markdown"
   ]
  },
  {
   "cell_type": "markdown",
   "id": "d7695526-6e26-4ca6-9c4b-2889d944d320",
   "metadata": {},
   "source": [
    "The first thing we will introduce is the \"base unit\" of the Jupyter notebook, the \"cell.\" There are two types of cells; Code cells (where you can write and run Python code) and Markdown cells (where you can write text, and also create headings and equations). The benefit of using a Jupyter notebook for these labs is that you can seamlessly alternate between Markdown and Code cells. In a PHYS 119 lab session, we will generally have periods of notetaking when you are familiarizing yourself with the equipment for an experiment, coming up with a measurement plan, explaining your results and analysis, as well as planning and executing improvements. At other times, you will be using Python code to perform analysis and calculations on your data. A Jupyter notebook thus allows you to seamlessly transition between notetaking and analysis. Formatted text is entered in Markdown while the analysis will be done in a programming language called Python.\n",
    "\n",
    "This cell that you are currently reading is a markdown cell."
   ]
  },
  {
   "cell_type": "code",
   "execution_count": 1,
   "id": "82f2910b-46fc-49cb-a115-38901d7af276",
   "metadata": {},
   "outputs": [],
   "source": [
    "# This cell is a code cell.\n",
    "x = 3.1415\n",
    "y = 2.7\n",
    "z = x + y"
   ]
  },
  {
   "cell_type": "markdown",
   "id": "64e834a1-0ae2-49da-9ee9-e0f0d43bd6e4",
   "metadata": {
    "tags": []
   },
   "source": [
    "## Editing and Running Markdown Cells"
   ]
  },
  {
   "cell_type": "markdown",
   "id": "7cf12e6e-d085-4dfa-831d-780f9b29eb14",
   "metadata": {},
   "source": [
    "Markdown cells can be edited by double clicking them. They can be then run (to be displayed in formatted form) either by pressing Shift+Enter, or by clicking the \"play\" button in the top toolbar.\n",
    "\n",
    "**Try it!**\n",
    "- double click on this cell\n",
    "- add your favourite quote between the quotation marks at the bottom, \n",
    "- use Shift+Enter to 'execute' the cell \n",
    "\n",
    "(where for a markdown cell, 'execute' just means: display the formatted text).\n",
    "\n",
    "\" \""
   ]
  },
  {
   "cell_type": "markdown",
   "id": "74d4bb5f-3027-409f-9b38-1161a89880e4",
   "metadata": {
    "tags": []
   },
   "source": [
    "## Adding New Cells"
   ]
  },
  {
   "cell_type": "markdown",
   "id": "92689b3a-5a60-468f-9ff0-bec7ae4aa80c",
   "metadata": {},
   "source": [
    "New cells can be added using the \"+\" button that you see in the top toolbar (in between the floppy disk (save) and scissor (cut) buttons). You can add a new cell above the currently highlighted cell (indicated by a blue bar on the left side) by pressing Esc - a (Esc first, then a) or a cell below with Esc - b. \n",
    "\n",
    "After creating a new cell, you can change the cell type using the dropdown menu in the same toolbar (to the right of the 'double play' (rerun notebook) button. You can choose between Markdown, Code and Raw.\n",
    "\n",
    "**Try it:**\n",
    "- Create a new cell now using the '+' button\n",
    "- change the type to Markdown\n",
    "- Write a few words\n",
    "- 'Execute' the cell with Shift-Enter"
   ]
  },
  {
   "cell_type": "markdown",
   "id": "14c39ad2-ff34-46c9-8b0b-1f7cfe8d49c5",
   "metadata": {
    "tags": []
   },
   "source": [
    "## Typefaces, Headings & Lists in Markdown"
   ]
  },
  {
   "cell_type": "markdown",
   "id": "643976d8-6f45-428a-9246-d2b32e0bba9f",
   "metadata": {},
   "source": [
    "Within Markdown, we can do things like making text **bold** or *in italics* (or ***both***).\n",
    "\n",
    "In this cell, and in those below, you can see how to do the formatting by double clicking the cell to see the editable text, then use Shift+Enter to return to the formatted version."
   ]
  },
  {
   "cell_type": "markdown",
   "id": "e77f5c91-5967-4067-94a4-982faac9156f",
   "metadata": {},
   "source": [
    "Headings can be created by placing \"#\" symbols at the beginning of a line of markdown text. The more #s you have in front of a heading, the smaller the heading it will be (e.g # Large Heading, ## Medium Heading, ### Small Heading). You can also compress the size of a notebook by hiding cells under a heading; you can hide/unhide by clicking the triangle to the left of any given heading."
   ]
  },
  {
   "cell_type": "markdown",
   "id": "cb6e9a7d-f95f-414b-9013-8e3fb29ad5aa",
   "metadata": {
    "tags": []
   },
   "source": [
    "### This is a small heading"
   ]
  },
  {
   "cell_type": "markdown",
   "id": "c313b66e-1d74-4caa-8b79-fd038f32575b",
   "metadata": {},
   "source": [
    "You can make numbered lists in markdown:\n",
    "1. First entry\n",
    "2. Second entry\n",
    "3. Third entry\n",
    "\n",
    "Or unnumbered bullet points:\n",
    "- A thing\n",
    "- Another thing\n",
    "- Yet another thing\n",
    "\n",
    "both of which may be useful for taking notes.\n",
    "\n",
    "It's also useful to know about ~~strike through~~ for when you want to go back and \"remove\" text. In lab notebooks nothing should ever be removed - but sometimes you realize that you weren't on the right track and want to indicate that you're thinking has changed. You start and end strikethrough with a pair of tildes: ~"
   ]
  },
  {
   "cell_type": "markdown",
   "id": "f991a28d-7367-4c7b-ae59-dd1a6de5d2a7",
   "metadata": {
    "tags": []
   },
   "source": [
    "## Formatting Math in Markdown"
   ]
  },
  {
   "cell_type": "markdown",
   "id": "7c7cddb0-40bb-4031-a255-d4aa63d48e1d",
   "metadata": {},
   "source": [
    "A powerful part of Markdown is the ability to type mathematical expressions through a typesetting system known as $\\LaTeX$. While we won't require any real proficiency with $\\LaTeX$ in this course, it may be useful for formatting the various equations that we will come across when looking at various physical laws or formulas for calculating uncertainties. Most of the time, we will provide you with a formula and you can copy + paste it into your notebook."
   ]
  },
  {
   "cell_type": "markdown",
   "id": "da52a2c4-d39c-40f6-9274-390fa4410510",
   "metadata": {},
   "source": [
    "If you want to type mathematical expressions \"in-line\", surround them with single \\\\$s. For example:\n",
    "\n",
    "The mass-energy equivalence $E = mc^2$ is attributed to Albert Einstein."
   ]
  },
  {
   "cell_type": "markdown",
   "id": "ba60c500-ed23-4bf9-aabf-75247dff3e15",
   "metadata": {},
   "source": [
    "If you want to type mathematical expressions as equations, surround them with double \\\\$s. For example:\n",
    "\n",
    "The solution to the quadratic equation $ax^2 + bx + c= 0$ is given by:\n",
    "\n",
    "$$ x = \\frac{-b \\pm \\sqrt{b^2 - 4ac}}{2a}$$"
   ]
  },
  {
   "cell_type": "markdown",
   "id": "b85524b9-7452-4f29-a4c2-a83549c6ab3c",
   "metadata": {
    "tags": []
   },
   "source": [
    "## How to Write Math in Markdown (Optional)"
   ]
  },
  {
   "cell_type": "markdown",
   "id": "a67cbb17-8e9e-4815-bf9b-b191bb778575",
   "metadata": {},
   "source": [
    "\"+\", \"-\", and \"=\", and numbers/symbols can be typed in $\\LaTeX$ as you would do normally. Some other commands that that may come in useful are below for your reference:\n",
    "\n",
    "Multiplication:\n",
    "$$A \\cdot B \\text{ or } A \\times B$$\n",
    "\n",
    "Division/Fractions:\n",
    "$$A / B \\ \\textrm{or}\\  \\frac{A}{B}$$\n",
    "\n",
    "Powers:\n",
    "$$y^{1/3} = x^2$$\n",
    "\n",
    "Roots:\n",
    "$$\\sqrt{2} \\neq \\sqrt[3]{2}$$\n",
    "\n",
    "Sums:\n",
    "$$y = \\sum_{i=1}^N x_i$$"
   ]
  },
  {
   "cell_type": "markdown",
   "id": "b223c35b-0f48-417d-9c0f-77aed72f44fd",
   "metadata": {},
   "source": [
    "One can also type in Greek letters by typing the name of the Greek letter preceded by a backslash \\. Some that may be encountered during the lab are $\\sigma$, $\\Delta$ and $\\chi$. "
   ]
  },
  {
   "cell_type": "markdown",
   "id": "345f94bc-3329-4ff8-a224-3fe2287c677f",
   "metadata": {},
   "source": [
    "There is a whole world of markdown that we have not completely explored in this tutorial, but the curious can discover more! There is a short reference of the basics under the Help menu at the top of the Jupyter interface: Help->Markdown Reference. There is much more information at https://www.markdownguide.org. A two-page cheatsheet for math typesetting with $\\LaTeX$ can be found at http://tug.ctan.org/info/undergradmath/undergradmath.pdf."
   ]
  },
  {
   "cell_type": "markdown",
   "id": "82b1aede-dcc7-423b-864c-82678bd4cda5",
   "metadata": {
    "tags": []
   },
   "source": [
    "## Editing and Running Code Cells"
   ]
  },
  {
   "cell_type": "markdown",
   "id": "df722f8c-3f74-4312-86ac-aa5f1867439c",
   "metadata": {},
   "source": [
    "All the data taking, analysis, and display in this course will be done through Python. Like with $\\LaTeX$, we will not expect extensive knowledge or proficiency in this course (but those curious can look forward to PHYS 210!) However, we will want to become familiar enough to adapt and understand the provided code to accomplish the tasks for each lab.\n",
    "\n",
    "Code cells can be edited by clicking and typing. They can be executed just like markdown cells, by clicking the \"play\" button in the top toolbar, or by Shift + Enter. Either will run the python code in that cell."
   ]
  },
  {
   "cell_type": "code",
   "execution_count": 2,
   "id": "39059471-5914-4665-879f-a899ccdb26f8",
   "metadata": {},
   "outputs": [],
   "source": [
    "# This is a code cell.\n",
    "# Python treats any lines with a \"#\" in front as a comment.\n",
    "# So these lines will do nothing even if the cell is run.\n",
    "\n",
    "x = 5  # You can also put comments after code."
   ]
  },
  {
   "cell_type": "markdown",
   "id": "5725f504-31a5-40d7-aa0f-3898b2faa528",
   "metadata": {
    "tags": []
   },
   "source": [
    "## Arithmetic in python"
   ]
  },
  {
   "cell_type": "markdown",
   "id": "a03b6d31-c28d-4a9c-bfc7-9fe8566c5626",
   "metadata": {},
   "source": [
    "Arithmetic in python with numbers works almost exactly like you would expect it! Execute each of the cells below:"
   ]
  },
  {
   "cell_type": "code",
   "execution_count": 3,
   "id": "727dc7a5-63ce-49c3-8bf4-4554132ffcfd",
   "metadata": {},
   "outputs": [
    {
     "data": {
      "text/plain": [
       "3"
      ]
     },
     "execution_count": 3,
     "metadata": {},
     "output_type": "execute_result"
    }
   ],
   "source": [
    "# Addition\n",
    "1 + 2"
   ]
  },
  {
   "cell_type": "code",
   "execution_count": 4,
   "id": "077005dd-7d92-48ca-9d9c-0aa6c60d94ef",
   "metadata": {},
   "outputs": [
    {
     "data": {
      "text/plain": [
       "1.3"
      ]
     },
     "execution_count": 4,
     "metadata": {},
     "output_type": "execute_result"
    }
   ],
   "source": [
    "# Subtraction\n",
    "2.5 - 1.2"
   ]
  },
  {
   "cell_type": "code",
   "execution_count": 5,
   "id": "c4711372-276f-4401-bf73-83a1d5a31520",
   "metadata": {},
   "outputs": [
    {
     "data": {
      "text/plain": [
       "6"
      ]
     },
     "execution_count": 5,
     "metadata": {},
     "output_type": "execute_result"
    }
   ],
   "source": [
    "# Multiplication\n",
    "2 * 3"
   ]
  },
  {
   "cell_type": "code",
   "execution_count": 6,
   "id": "78ca2ac4-8354-4938-b923-a17ae650f5c7",
   "metadata": {},
   "outputs": [
    {
     "data": {
      "text/plain": [
       "3.0"
      ]
     },
     "execution_count": 6,
     "metadata": {},
     "output_type": "execute_result"
    }
   ],
   "source": [
    "# Division\n",
    "6 / 2"
   ]
  },
  {
   "cell_type": "code",
   "execution_count": 7,
   "id": "fffeb48e-bb7c-41c0-b1c2-cba98eae58c8",
   "metadata": {},
   "outputs": [
    {
     "data": {
      "text/plain": [
       "8"
      ]
     },
     "execution_count": 7,
     "metadata": {},
     "output_type": "execute_result"
    }
   ],
   "source": [
    "# Exponentiation\n",
    "2**3  # Note the use of ** and not ^ (which means something completely different) in python"
   ]
  },
  {
   "cell_type": "code",
   "execution_count": 8,
   "id": "c865d1c5-1097-4eb0-85b8-1c1a8e0f5af0",
   "metadata": {},
   "outputs": [
    {
     "data": {
      "text/plain": [
       "2.0"
      ]
     },
     "execution_count": 8,
     "metadata": {},
     "output_type": "execute_result"
    }
   ],
   "source": [
    "# Roots\n",
    "4**(1/2)"
   ]
  },
  {
   "cell_type": "markdown",
   "id": "74948a64-fdb6-4c44-a98f-0c9c6e116ca5",
   "metadata": {
    "tags": []
   },
   "source": [
    "## Variables in python, printing"
   ]
  },
  {
   "cell_type": "markdown",
   "id": "daf5bc04-9e37-401e-b2a7-fae4392dc80f",
   "metadata": {},
   "source": [
    "It will be useful to store and handle values symbolically (instead of just working with individual numbers all the time). To this end, we introduce variables. The cell below can be run to set the value of the variable `x` to be 7. In python, the \"=\" symbol is used as an assignment operator, rather than checking if two things are equal (confusingly, that task is done by a double equals sign \"==\"... but this will not be necessary for this course!)"
   ]
  },
  {
   "cell_type": "code",
   "execution_count": 9,
   "id": "bf164117-ab26-4c9d-b836-1486c1386a50",
   "metadata": {},
   "outputs": [],
   "source": [
    "x = 7"
   ]
  },
  {
   "cell_type": "markdown",
   "id": "735180bd-e396-46c0-8d0f-a4fd3ae7ed3e",
   "metadata": {},
   "source": [
    "This stored value now persists across cells, so you can use this in future cells:"
   ]
  },
  {
   "cell_type": "code",
   "execution_count": 10,
   "id": "0f6295af-5b47-40ee-b89c-5d0cee5234cd",
   "metadata": {},
   "outputs": [
    {
     "data": {
      "text/plain": [
       "7"
      ]
     },
     "execution_count": 10,
     "metadata": {},
     "output_type": "execute_result"
    }
   ],
   "source": [
    "x"
   ]
  },
  {
   "cell_type": "markdown",
   "id": "5d8ee407-79f9-4c64-9b94-b35a9a88f259",
   "metadata": {},
   "source": [
    "However, sometimes you will want to see the value of something not just at the end of the cell (as we have been doing now) but at some intermediate point in the cell. For this, the print function is very useful. Try running the cell below, where we assign some values, and along the way `print` the value of `a` to see what it is:"
   ]
  },
  {
   "cell_type": "code",
   "execution_count": 11,
   "id": "ef659ee9-dffc-42f7-b112-7761e451ef33",
   "metadata": {
    "tags": []
   },
   "outputs": [
    {
     "name": "stdout",
     "output_type": "stream",
     "text": [
      "1\n"
     ]
    }
   ],
   "source": [
    "a = 1\n",
    "print(a)\n",
    "b = 2"
   ]
  },
  {
   "cell_type": "markdown",
   "id": "df583a7c-b978-4a24-9da4-92b0dbdba96b",
   "metadata": {},
   "source": [
    "Note that we can also do all the usual arithmetic operations on variables (provided that the variables store numbers). For example, what do you expect the value of `c` to be below?"
   ]
  },
  {
   "cell_type": "code",
   "execution_count": 12,
   "id": "13ffb573-2ab4-4b37-8869-b6c65f3d3d49",
   "metadata": {},
   "outputs": [
    {
     "name": "stdout",
     "output_type": "stream",
     "text": [
      "3\n"
     ]
    }
   ],
   "source": [
    "c = a + b\n",
    "print(c)"
   ]
  },
  {
   "cell_type": "markdown",
   "id": "4771aa16-360d-4a9f-a1d0-b26ed39b5b30",
   "metadata": {},
   "source": [
    "We can also overwrite variables; `c` will be a new value when you run the following cell:"
   ]
  },
  {
   "cell_type": "code",
   "execution_count": 13,
   "id": "eb62442d-a147-4645-ba37-2ca8ee8f0e63",
   "metadata": {},
   "outputs": [
    {
     "name": "stdout",
     "output_type": "stream",
     "text": [
      "2\n"
     ]
    }
   ],
   "source": [
    "c = a * b\n",
    "print(c)"
   ]
  },
  {
   "cell_type": "markdown",
   "id": "e0194423-9470-402b-b104-1b75e8c9ee41",
   "metadata": {
    "tags": []
   },
   "source": [
    "## Downloads & Setup\n",
    "\n",
    "We're almost done for today, just a couple more tasks to take care of.\n",
    "\n",
    "First: there are some features we need to configure within your UBC Jupyter account. Executing the code cell below will take of this.\n",
    "\n",
    "You only need to execute the next cell once. It won't cause any problems if you repeat it though.\n",
    "\n",
    "- Click on the next cell\n",
    "- Execute it with Shift+Enter\n",
    "- Look at the output section below. In the first few lines you should see 'Installation complete' to indicate that data_entry was successfully installed.\n",
    "- At the very bottom of the output there should be a line that reports that ipysheet and jupyter-archive were successfully installed.\n",
    "- If both tasks were performed successfully, add # signs in front of the last three lines in the cell below so that they won't ever be executed again.\n",
    "\n",
    "\n"
   ]
  },
  {
   "cell_type": "code",
   "execution_count": 14,
   "id": "ff6b33e8-a530-421a-bd60-5ef4fe786bfa",
   "metadata": {
    "tags": []
   },
   "outputs": [
    {
     "name": "stderr",
     "output_type": "stream",
     "text": [
      "'wget' is not recognized as an internal or external command,\n",
      "operable program or batch file.\n"
     ]
    },
    {
     "ename": "Exception",
     "evalue": "File `'data_entry.py'` not found.",
     "output_type": "error",
     "traceback": [
      "\u001b[1;31m---------------------------------------------------------------------------\u001b[0m",
      "\u001b[1;31mOSError\u001b[0m                                   Traceback (most recent call last)",
      "File \u001b[1;32m~\\anaconda3\\lib\\site-packages\\IPython\\core\\magics\\execution.py:696\u001b[0m, in \u001b[0;36mExecutionMagics.run\u001b[1;34m(self, parameter_s, runner, file_finder)\u001b[0m\n\u001b[0;32m    695\u001b[0m     fpath \u001b[38;5;241m=\u001b[39m arg_lst[\u001b[38;5;241m0\u001b[39m]\n\u001b[1;32m--> 696\u001b[0m     filename \u001b[38;5;241m=\u001b[39m \u001b[43mfile_finder\u001b[49m\u001b[43m(\u001b[49m\u001b[43mfpath\u001b[49m\u001b[43m)\u001b[49m\n\u001b[0;32m    697\u001b[0m \u001b[38;5;28;01mexcept\u001b[39;00m \u001b[38;5;167;01mIndexError\u001b[39;00m \u001b[38;5;28;01mas\u001b[39;00m e:\n",
      "File \u001b[1;32m~\\anaconda3\\lib\\site-packages\\IPython\\utils\\path.py:91\u001b[0m, in \u001b[0;36mget_py_filename\u001b[1;34m(name)\u001b[0m\n\u001b[0;32m     90\u001b[0m \u001b[38;5;28;01melse\u001b[39;00m:\n\u001b[1;32m---> 91\u001b[0m     \u001b[38;5;28;01mraise\u001b[39;00m \u001b[38;5;167;01mIOError\u001b[39;00m(\u001b[38;5;124m'\u001b[39m\u001b[38;5;124mFile `\u001b[39m\u001b[38;5;132;01m%r\u001b[39;00m\u001b[38;5;124m` not found.\u001b[39m\u001b[38;5;124m'\u001b[39m \u001b[38;5;241m%\u001b[39m name)\n",
      "\u001b[1;31mOSError\u001b[0m: File `'data_entry.py'` not found.",
      "\nThe above exception was the direct cause of the following exception:\n",
      "\u001b[1;31mException\u001b[0m                                 Traceback (most recent call last)",
      "Input \u001b[1;32mIn [14]\u001b[0m, in \u001b[0;36m<cell line: 7>\u001b[1;34m()\u001b[0m\n\u001b[0;32m      1\u001b[0m \u001b[38;5;66;03m# Execute this cell to 1) install a module we will use for entering data in a \u001b[39;00m\n\u001b[0;32m      2\u001b[0m \u001b[38;5;66;03m# spreadsheet-like interface in later labs, and 2) install two extensions to the Jupyter \u001b[39;00m\n\u001b[0;32m      3\u001b[0m \u001b[38;5;66;03m# environment. One extension, ipysheet is used by the data entry module.\u001b[39;00m\n\u001b[0;32m      4\u001b[0m \u001b[38;5;66;03m# The other, jupyter-archive, allows you to download folders as .zip files.\u001b[39;00m\n\u001b[0;32m      6\u001b[0m get_ipython()\u001b[38;5;241m.\u001b[39msystem(\u001b[38;5;124m'\u001b[39m\u001b[38;5;124mwget -N --quiet https://www.phas.ubc.ca/~michal/data_entry.py # download data_entry.py\u001b[39m\u001b[38;5;124m'\u001b[39m)\n\u001b[1;32m----> 7\u001b[0m \u001b[43mget_ipython\u001b[49m\u001b[43m(\u001b[49m\u001b[43m)\u001b[49m\u001b[38;5;241;43m.\u001b[39;49m\u001b[43mrun_line_magic\u001b[49m\u001b[43m(\u001b[49m\u001b[38;5;124;43m'\u001b[39;49m\u001b[38;5;124;43mrun\u001b[39;49m\u001b[38;5;124;43m'\u001b[39;49m\u001b[43m,\u001b[49m\u001b[43m \u001b[49m\u001b[38;5;124;43m'\u001b[39;49m\u001b[38;5;124;43mdata_entry.py  # install it.\u001b[39;49m\u001b[38;5;124;43m'\u001b[39;49m\u001b[43m)\u001b[49m\n\u001b[0;32m      8\u001b[0m get_ipython()\u001b[38;5;241m.\u001b[39msystem(\u001b[38;5;124m'\u001b[39m\u001b[38;5;124mpip install --user ipysheet # install jupyter extensions.\u001b[39m\u001b[38;5;124m'\u001b[39m)\n",
      "File \u001b[1;32m~\\anaconda3\\lib\\site-packages\\IPython\\core\\interactiveshell.py:2285\u001b[0m, in \u001b[0;36mInteractiveShell.run_line_magic\u001b[1;34m(self, magic_name, line, _stack_depth)\u001b[0m\n\u001b[0;32m   2283\u001b[0m     kwargs[\u001b[38;5;124m'\u001b[39m\u001b[38;5;124mlocal_ns\u001b[39m\u001b[38;5;124m'\u001b[39m] \u001b[38;5;241m=\u001b[39m \u001b[38;5;28mself\u001b[39m\u001b[38;5;241m.\u001b[39mget_local_scope(stack_depth)\n\u001b[0;32m   2284\u001b[0m \u001b[38;5;28;01mwith\u001b[39;00m \u001b[38;5;28mself\u001b[39m\u001b[38;5;241m.\u001b[39mbuiltin_trap:\n\u001b[1;32m-> 2285\u001b[0m     result \u001b[38;5;241m=\u001b[39m \u001b[43mfn\u001b[49m\u001b[43m(\u001b[49m\u001b[38;5;241;43m*\u001b[39;49m\u001b[43margs\u001b[49m\u001b[43m,\u001b[49m\u001b[43m \u001b[49m\u001b[38;5;241;43m*\u001b[39;49m\u001b[38;5;241;43m*\u001b[39;49m\u001b[43mkwargs\u001b[49m\u001b[43m)\u001b[49m\n\u001b[0;32m   2286\u001b[0m \u001b[38;5;28;01mreturn\u001b[39;00m result\n",
      "File \u001b[1;32m~\\anaconda3\\lib\\site-packages\\IPython\\core\\magics\\execution.py:707\u001b[0m, in \u001b[0;36mExecutionMagics.run\u001b[1;34m(self, parameter_s, runner, file_finder)\u001b[0m\n\u001b[0;32m    705\u001b[0m     \u001b[38;5;28;01mif\u001b[39;00m os\u001b[38;5;241m.\u001b[39mname \u001b[38;5;241m==\u001b[39m \u001b[38;5;124m'\u001b[39m\u001b[38;5;124mnt\u001b[39m\u001b[38;5;124m'\u001b[39m \u001b[38;5;129;01mand\u001b[39;00m re\u001b[38;5;241m.\u001b[39mmatch(\u001b[38;5;124mr\u001b[39m\u001b[38;5;124m\"\u001b[39m\u001b[38;5;124m^\u001b[39m\u001b[38;5;124m'\u001b[39m\u001b[38;5;124m.*\u001b[39m\u001b[38;5;124m'\u001b[39m\u001b[38;5;124m$\u001b[39m\u001b[38;5;124m\"\u001b[39m,fpath):\n\u001b[0;32m    706\u001b[0m         warn(\u001b[38;5;124m'\u001b[39m\u001b[38;5;124mFor Windows, use double quotes to wrap a filename: \u001b[39m\u001b[38;5;132;01m%r\u001b[39;00m\u001b[38;5;124mun \u001b[39m\u001b[38;5;124m\"\u001b[39m\u001b[38;5;124mmypath\u001b[39m\u001b[38;5;130;01m\\\\\u001b[39;00m\u001b[38;5;124mmyfile.py\u001b[39m\u001b[38;5;124m\"\u001b[39m\u001b[38;5;124m'\u001b[39m)\n\u001b[1;32m--> 707\u001b[0m     \u001b[38;5;28;01mraise\u001b[39;00m \u001b[38;5;167;01mException\u001b[39;00m(msg) \u001b[38;5;28;01mfrom\u001b[39;00m \u001b[38;5;21;01me\u001b[39;00m\n\u001b[0;32m    708\u001b[0m \u001b[38;5;28;01mexcept\u001b[39;00m \u001b[38;5;167;01mTypeError\u001b[39;00m:\n\u001b[0;32m    709\u001b[0m     \u001b[38;5;28;01mif\u001b[39;00m fpath \u001b[38;5;129;01min\u001b[39;00m sys\u001b[38;5;241m.\u001b[39mmeta_path:\n",
      "\u001b[1;31mException\u001b[0m: File `'data_entry.py'` not found."
     ]
    }
   ],
   "source": [
    "# Execute this cell to 1) install a module we will use for entering data in a \n",
    "# spreadsheet-like interface in later labs, and 2) install two extensions to the Jupyter \n",
    "# environment. One extension, ipysheet is used by the data entry module.\n",
    "# The other, jupyter-archive, allows you to download folders as .zip files.\n",
    "\n",
    "!wget -N --quiet https://www.phas.ubc.ca/~michal/data_entry.py # download data_entry.py\n",
    "%run data_entry.py  # install it.\n",
    "!pip install --user ipysheet # install jupyter extensions."
   ]
  },
  {
   "cell_type": "markdown",
   "id": "17adda27-1425-44df-979c-72022a790ca4",
   "metadata": {
    "tags": []
   },
   "source": [
    "## End of Lab - Rerunning your notebook and Submitting"
   ]
  },
  {
   "cell_type": "markdown",
   "id": "65f356bf-f2c1-45da-97a9-8fa7ae9074ad",
   "metadata": {},
   "source": [
    "At the end of lab, before submitting your work, we will ask you to restart + rerun your entire notebook to make sure that everything runs correctly and without error. Let's practice how to do that here! \n",
    "\n",
    "- First, go to the very top bar in Jupyter lab (with File, Edit, View...) and then click \"Cell\". From the dropdown menu, select \"Run All Cells\". It will take a few seconds for the entire notebook to execute.\n",
    "\n",
    "- You should look through the whole notebook and make sure it looks right. If the entire notebook runs without errors, fantastic! You're then ready to submit your work. If there are errors, see if there is something obvious you can fix. If you need help figuring out what's wrong, ask us!\n",
    "\n",
    "This notebook is in your private Jupyter account. To submit notebooks for marking, you'll need to download it, and submit to Canvas.\n",
    "\n",
    "- After you've executed and checked your notebook, choose: File->Save_and_Export_Notebook_As->HTML This will download an HTML version of your notebook to your local computer. This version can not be executed or modified. You may have to disable a pop-up blocker to allow the file to be downloaded.\n",
    "\n",
    "- Finally: submit the html file that you just downloaded to the Lab00 submission assignment on Canvas. \n",
    "\n",
    "If there was anything in this notebook that you didn't understand or aren't comfortable with, now is a great time to talk to your table-mates about it or to ask the course staff."
   ]
  },
  {
   "cell_type": "markdown",
   "id": "28d9a020-aa4c-4cb1-987b-82d62e00f70a",
   "metadata": {},
   "source": [
    "# Done\n",
    "\n",
    "We'll see you next week!"
   ]
  }
 ],
 "metadata": {
  "kernelspec": {
   "display_name": "Python 3",
   "language": "python",
   "name": "python3"
  },
  "language_info": {
   "codemirror_mode": {
    "name": "ipython",
    "version": 3
   },
   "file_extension": ".py",
   "mimetype": "text/x-python",
   "name": "python",
   "nbconvert_exporter": "python",
   "pygments_lexer": "ipython3",
   "version": "3.8.8"
  }
 },
 "nbformat": 4,
 "nbformat_minor": 5
}
