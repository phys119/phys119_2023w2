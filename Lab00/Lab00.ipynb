{
 "cells": [
  {
   "cell_type": "markdown",
   "id": "38c874a6-cae3-4f94-931a-173155fa86d3",
   "metadata": {
    "tags": []
   },
   "source": [
    "# Lab 00 - Introduction to Jupyter"
   ]
  },
  {
   "cell_type": "markdown",
   "id": "a17e32ac-bb67-4311-ba68-aaf5766d1291",
   "metadata": {},
   "source": [
    "In this Jupyter notebook, we will go through some basics of using Jupyter notebooks. This will be the medium which encompasses your lab notebook, data recording, and data analysis!\n",
    "\n",
    "We know that for many of you this will be your first encounter with Jupyter notebooks and with coding in general. It is perfectly normal if you feel some cognitive overload as you go through this notebook with all the new information. We will revisit a lot of this material as we continue in future labs and pre-labs.\n",
    "\n",
    "The first thing to know is that the notebook you are working in today is stored 'in the cloud' in a service operated by UBC. You are working in your own copy of this document and any changes you make to it are automatically saved frequently. If you want to force it to save immediately, you can type: CTRL+S, or go to File->Save Notebook. "
   ]
  },
  {
   "cell_type": "markdown",
   "id": "8282c5b1-ade2-4c3f-a844-55ad3894e4bc",
   "metadata": {
    "tags": []
   },
   "source": [
    "## Cells - Code and Markdown"
   ]
  },
  {
   "cell_type": "markdown",
   "id": "d7695526-6e26-4ca6-9c4b-2889d944d320",
   "metadata": {},
   "source": [
    "The first thing we will introduce is the \"base unit\" of the Jupyter notebook, the \"cell.\" There are two types of cells; Code cells (where you can write and run Python code) and Markdown cells (where you can write text, and also create headings and equations). One benefit of using a Jupyter notebook for these labs is that you can seamlessly alternate between Markdown and Code cells. In a PHYS 119 lab session, we will generally have periods of notetaking when you are familiarizing yourself with the equipment for an experiment, coming up with a measurement plan, explaining your results and analysis, as well as planning and executing improvements. At other times, you will be using Python code to perform analysis and calculations on your data. A Jupyter notebook thus allows you to seamlessly transition between notetaking and analysis. Formatted text is entered in Markdown while the analysis will be done in a programming language called Python.\n",
    "\n",
    "This cell that you are currently reading is a markdown cell."
   ]
  },
  {
   "cell_type": "code",
   "execution_count": null,
   "id": "82f2910b-46fc-49cb-a115-38901d7af276",
   "metadata": {},
   "outputs": [],
   "source": [
    "# This cell is a code cell.\n",
    "x = 3.1415\n",
    "y = 2.7\n",
    "z = x + y"
   ]
  },
  {
   "cell_type": "markdown",
   "id": "64e834a1-0ae2-49da-9ee9-e0f0d43bd6e4",
   "metadata": {
    "tags": []
   },
   "source": [
    "## Editing and Running Markdown Cells"
   ]
  },
  {
   "cell_type": "markdown",
   "id": "7cf12e6e-d085-4dfa-831d-780f9b29eb14",
   "metadata": {},
   "source": [
    "Markdown cells can be edited by double clicking them. They can be then run (to be displayed in formatted form) either by pressing Shift+Enter, or by clicking the \"play\" button in the top toolbar.\n",
    "\n",
    "**Try it!**\n",
    "- double click on this cell (click RIGHT HERE!)\n",
    "- add your favourite quote between the quotation marks at the bottom, \n",
    "- use Shift+Enter to 'execute' the cell \n",
    "\n",
    "(where for a markdown cell, 'execute' or 'run' just means: display the formatted text).\n",
    "\n",
    "\" \""
   ]
  },
  {
   "cell_type": "markdown",
   "id": "74d4bb5f-3027-409f-9b38-1161a89880e4",
   "metadata": {
    "tags": []
   },
   "source": [
    "## Adding New Cells"
   ]
  },
  {
   "cell_type": "markdown",
   "id": "92689b3a-5a60-468f-9ff0-bec7ae4aa80c",
   "metadata": {},
   "source": [
    "New cells can be added using the \"+\" button that you see in the top toolbar. You can add a new cell above the currently highlighted cell (indicated by a blue bar on the left side) by pressing Esc - a (Esc first, then a) or a cell below with Esc - b. \n",
    "\n",
    "After creating a new cell, you can change the cell type using the dropdown menu in the same toolbar (to the right of the 'double play' (rerun notebook) button. You can choose between Markdown, Code and Raw.\n",
    "\n",
    "**Try it:**\n",
    "- Create a new cell now using the '+' button\n",
    "- change the type to Markdown\n",
    "- Write a few words\n",
    "- 'Execute' the cell with Shift-Enter"
   ]
  },
  {
   "cell_type": "markdown",
   "id": "14c39ad2-ff34-46c9-8b0b-1f7cfe8d49c5",
   "metadata": {
    "tags": []
   },
   "source": [
    "## Typefaces, Headings & Lists in Markdown"
   ]
  },
  {
   "cell_type": "markdown",
   "id": "643976d8-6f45-428a-9246-d2b32e0bba9f",
   "metadata": {},
   "source": [
    "Within Markdown, we can do things like making text **bold** or *in italics* (or ***both***).\n",
    "\n",
    "In this cell, and in those below, you can see how to do the formatting by double clicking the cell to see the editable text, then use Shift+Enter to return to the formatted version."
   ]
  },
  {
   "cell_type": "markdown",
   "id": "e77f5c91-5967-4067-94a4-982faac9156f",
   "metadata": {},
   "source": [
    "Headings can be created by placing \"#\" symbols at the beginning of a line of markdown text. The more #s you have in front of a heading, the smaller the heading it will be (e.g # Large Heading, ## Medium Heading, ### Small Heading). You can also compress the size of a notebook by hiding cells under a heading; you can hide/unhide by clicking the triangle to the left of any given heading."
   ]
  },
  {
   "cell_type": "markdown",
   "id": "cb6e9a7d-f95f-414b-9013-8e3fb29ad5aa",
   "metadata": {
    "tags": []
   },
   "source": [
    "### This is a small heading"
   ]
  },
  {
   "cell_type": "markdown",
   "id": "c313b66e-1d74-4caa-8b79-fd038f32575b",
   "metadata": {},
   "source": [
    "You can make numbered lists in markdown:\n",
    "1. First entry\n",
    "2. Second entry\n",
    "3. Third entry\n",
    "\n",
    "Or unnumbered bullet points:\n",
    "- A thing\n",
    "- Another thing\n",
    "- Yet another thing\n",
    "\n",
    "both of which may be useful for taking notes.\n",
    "\n",
    "It's also useful to know about ~~strike through~~ for when you want to go back and \"remove\" text. In lab notebooks nothing should ever be removed - but sometimes you realize that you weren't on the right track and want to indicate that you're thinking has changed. You start and end strikethrough with a pair of tildes: ~"
   ]
  },
  {
   "cell_type": "markdown",
   "id": "f991a28d-7367-4c7b-ae59-dd1a6de5d2a7",
   "metadata": {
    "tags": []
   },
   "source": [
    "## Formatting Math in Markdown"
   ]
  },
  {
   "cell_type": "markdown",
   "id": "7c7cddb0-40bb-4031-a255-d4aa63d48e1d",
   "metadata": {},
   "source": [
    "A powerful part of Markdown is the ability to type mathematical expressions through a typesetting system known as $\\LaTeX$. While we won't require any real proficiency with $\\LaTeX$ in this course, it may be useful for formatting the various equations that we will come across when looking at various physical laws or formulas for calculating uncertainties. Most of the time, we will provide you with a formula and you can copy + paste it into your notebook."
   ]
  },
  {
   "cell_type": "markdown",
   "id": "da52a2c4-d39c-40f6-9274-390fa4410510",
   "metadata": {},
   "source": [
    "If you want to type mathematical expressions \"in-line\", surround them with single \\\\$s. For example:\n",
    "\n",
    "The mass-energy equivalence $E = mc^2$ is attributed to Albert Einstein."
   ]
  },
  {
   "cell_type": "markdown",
   "id": "ba60c500-ed23-4bf9-aabf-75247dff3e15",
   "metadata": {},
   "source": [
    "If you want to type mathematical expressions as equations, surround them with double \\\\$s. For example:\n",
    "\n",
    "The solution to the quadratic equation $ax^2 + bx + c= 0$ is given by:\n",
    "\n",
    "$$ x = \\frac{-b \\pm \\sqrt{b^2 - 4ac}}{2a}$$"
   ]
  },
  {
   "cell_type": "markdown",
   "id": "b85524b9-7452-4f29-a4c2-a83549c6ab3c",
   "metadata": {
    "tags": []
   },
   "source": [
    "## How to Write Math in Markdown"
   ]
  },
  {
   "cell_type": "markdown",
   "id": "a67cbb17-8e9e-4815-bf9b-b191bb778575",
   "metadata": {},
   "source": [
    "\"+\", \"-\", and \"=\", and numbers/symbols can be typed in $\\LaTeX$ as you would do normally. Some other commands that that may come in useful are below for your reference:\n",
    "\n",
    "Multiplication:\n",
    "$$A \\cdot B \\text{ or } A \\times B$$\n",
    "\n",
    "Division/Fractions:\n",
    "$$A / B \\ \\textrm{or}\\  \\frac{A}{B}$$\n",
    "\n",
    "Powers:\n",
    "$$y^{1/3} = x^2$$\n",
    "\n",
    "Roots:\n",
    "$$\\sqrt{2} \\neq \\sqrt[3]{2}$$\n",
    "\n",
    "Sums:\n",
    "$$y = \\sum_{i=1}^N x_i$$"
   ]
  },
  {
   "cell_type": "markdown",
   "id": "b223c35b-0f48-417d-9c0f-77aed72f44fd",
   "metadata": {},
   "source": [
    "One can also type in Greek letters by typing the name of the Greek letter preceded by a backslash. Some that may be encountered during the lab are $\\sigma$, $\\Delta$ and $\\chi$. Double-click this cell to see how those symbols are produced."
   ]
  },
  {
   "cell_type": "markdown",
   "id": "345f94bc-3329-4ff8-a224-3fe2287c677f",
   "metadata": {},
   "source": [
    "There is a whole world of markdown that we have not completely explored in this tutorial, but the curious can discover more! There is a short reference of the basics under the Help menu at the top of the Jupyter interface: Help->Markdown Reference. There is much more information at https://www.markdownguide.org. A two-page cheatsheet for math typesetting with $\\LaTeX$ can be found at http://tug.ctan.org/info/undergradmath/undergradmath.pdf."
   ]
  },
  {
   "cell_type": "markdown",
   "id": "82b1aede-dcc7-423b-864c-82678bd4cda5",
   "metadata": {
    "tags": []
   },
   "source": [
    "## Editing and Running Code Cells"
   ]
  },
  {
   "cell_type": "markdown",
   "id": "df722f8c-3f74-4312-86ac-aa5f1867439c",
   "metadata": {},
   "source": [
    "All the data taking, analysis, and display in this course will be done through Python. Like with $\\LaTeX$, we will not expect extensive knowledge or proficiency in this course (but those curious can look forward to PHYS 210!) However, we will want to become familiar enough to adapt and understand the provided code to accomplish the tasks for each lab.\n",
    "\n",
    "Code cells can be edited by clicking and typing. They can be executed just like markdown cells, by clicking the \"play\" button in the top toolbar, or by Shift + Enter. Either will run the python code in that cell."
   ]
  },
  {
   "cell_type": "code",
   "execution_count": null,
   "id": "39059471-5914-4665-879f-a899ccdb26f8",
   "metadata": {},
   "outputs": [],
   "source": [
    "# This is a code cell.\n",
    "# Python treats any lines with a \"#\" in front as a comment.\n",
    "# So these lines will do nothing even if the cell is run.\n",
    "\n",
    "x = 5  # You can also put comments after code."
   ]
  },
  {
   "cell_type": "markdown",
   "id": "5725f504-31a5-40d7-aa0f-3898b2faa528",
   "metadata": {
    "tags": []
   },
   "source": [
    "## Arithmetic in python"
   ]
  },
  {
   "cell_type": "markdown",
   "id": "a03b6d31-c28d-4a9c-bfc7-9fe8566c5626",
   "metadata": {},
   "source": [
    "Arithmetic in python with numbers works almost exactly like you would expect it! Execute each of the cells below:"
   ]
  },
  {
   "cell_type": "code",
   "execution_count": null,
   "id": "727dc7a5-63ce-49c3-8bf4-4554132ffcfd",
   "metadata": {
    "tags": []
   },
   "outputs": [],
   "source": [
    "# Addition\n",
    "1 + 2"
   ]
  },
  {
   "cell_type": "code",
   "execution_count": null,
   "id": "077005dd-7d92-48ca-9d9c-0aa6c60d94ef",
   "metadata": {
    "tags": []
   },
   "outputs": [],
   "source": [
    "# Subtraction\n",
    "2.5 - 1.2"
   ]
  },
  {
   "cell_type": "code",
   "execution_count": null,
   "id": "c4711372-276f-4401-bf73-83a1d5a31520",
   "metadata": {
    "tags": []
   },
   "outputs": [],
   "source": [
    "# Multiplication\n",
    "2 * 3"
   ]
  },
  {
   "cell_type": "code",
   "execution_count": null,
   "id": "78ca2ac4-8354-4938-b923-a17ae650f5c7",
   "metadata": {
    "tags": []
   },
   "outputs": [],
   "source": [
    "# Division\n",
    "6 / 2"
   ]
  },
  {
   "cell_type": "code",
   "execution_count": null,
   "id": "fffeb48e-bb7c-41c0-b1c2-cba98eae58c8",
   "metadata": {
    "tags": []
   },
   "outputs": [],
   "source": [
    "# Exponentiation\n",
    "2**3  # Note the use of ** and not ^ (which means something completely different) in python"
   ]
  },
  {
   "cell_type": "code",
   "execution_count": null,
   "id": "c865d1c5-1097-4eb0-85b8-1c1a8e0f5af0",
   "metadata": {
    "tags": []
   },
   "outputs": [],
   "source": [
    "# Roots\n",
    "4**(1/2)"
   ]
  },
  {
   "cell_type": "markdown",
   "id": "74948a64-fdb6-4c44-a98f-0c9c6e116ca5",
   "metadata": {
    "tags": []
   },
   "source": [
    "## Variables in python, printing"
   ]
  },
  {
   "cell_type": "markdown",
   "id": "daf5bc04-9e37-401e-b2a7-fae4392dc80f",
   "metadata": {},
   "source": [
    "It will be useful to store and handle values symbolically (instead of just working with individual numbers all the time). To this end, we introduce variables. The cell below can be run to set the value of the variable `x` to be 7. In python, the \"=\" symbol is used as an assignment operator, rather than checking if two things are equal (confusingly, that task is done by a double equals sign \"==\"... but this will not be necessary for this course!)"
   ]
  },
  {
   "cell_type": "code",
   "execution_count": null,
   "id": "bf164117-ab26-4c9d-b836-1486c1386a50",
   "metadata": {
    "tags": []
   },
   "outputs": [],
   "source": [
    "x = 7"
   ]
  },
  {
   "cell_type": "markdown",
   "id": "735180bd-e396-46c0-8d0f-a4fd3ae7ed3e",
   "metadata": {},
   "source": [
    "This stored value now persists across cells, so you can use this in future cells:"
   ]
  },
  {
   "cell_type": "code",
   "execution_count": null,
   "id": "0f6295af-5b47-40ee-b89c-5d0cee5234cd",
   "metadata": {
    "tags": []
   },
   "outputs": [],
   "source": [
    "x"
   ]
  },
  {
   "cell_type": "markdown",
   "id": "5d8ee407-79f9-4c64-9b94-b35a9a88f259",
   "metadata": {},
   "source": [
    "However, sometimes you will want to see the value of something not just at the end of the cell (as we have been doing now) but at some intermediate point in the cell. For this, the print function is very useful. Try running the cell below, where we assign some values, and along the way `print` the value of `a` to see what it is:"
   ]
  },
  {
   "cell_type": "code",
   "execution_count": null,
   "id": "ef659ee9-dffc-42f7-b112-7761e451ef33",
   "metadata": {
    "tags": []
   },
   "outputs": [],
   "source": [
    "a = 1.407\n",
    "print(a)\n",
    "b = 20.7"
   ]
  },
  {
   "cell_type": "markdown",
   "id": "df583a7c-b978-4a24-9da4-92b0dbdba96b",
   "metadata": {},
   "source": [
    "Note that we can also do all the usual arithmetic operations on variables (provided that the variables store numbers). For example, what do you expect the value of `c` to be below?"
   ]
  },
  {
   "cell_type": "code",
   "execution_count": null,
   "id": "13ffb573-2ab4-4b37-8869-b6c65f3d3d49",
   "metadata": {
    "tags": []
   },
   "outputs": [],
   "source": [
    "c = a + b\n",
    "print(c)"
   ]
  },
  {
   "cell_type": "markdown",
   "id": "4771aa16-360d-4a9f-a1d0-b26ed39b5b30",
   "metadata": {},
   "source": [
    "We can also overwrite variables; `c` will be a new value when you run the following cell:"
   ]
  },
  {
   "cell_type": "code",
   "execution_count": null,
   "id": "eb62442d-a147-4645-ba37-2ca8ee8f0e63",
   "metadata": {},
   "outputs": [],
   "source": [
    "c = a * b\n",
    "print(c)"
   ]
  },
  {
   "cell_type": "markdown",
   "id": "d1b85df5",
   "metadata": {},
   "source": [
    "We may want to combine text and variables in the same print statement. There are a couple ways to do this. \n",
    "\n",
    "The simple way to separate the words and vaiables you want to print with commas. "
   ]
  },
  {
   "cell_type": "code",
   "execution_count": null,
   "id": "20f53a74",
   "metadata": {},
   "outputs": [],
   "source": [
    "print(\"Let's print our variables, a =\", a, \"b =\", b, \"c =\", c)"
   ]
  },
  {
   "cell_type": "markdown",
   "id": "43352f45",
   "metadata": {},
   "source": [
    "We can also print with string (or word) formatting, using the str.format() method. "
   ]
  },
  {
   "cell_type": "code",
   "execution_count": null,
   "id": "55789465",
   "metadata": {},
   "outputs": [],
   "source": [
    "print(\"Let's print our variables, a = {}, b = {}, c = {}\".format(a, b, c))"
   ]
  },
  {
   "cell_type": "markdown",
   "id": "78e6b31e",
   "metadata": {},
   "source": [
    "Maybe we want to only show our variables to fewer decimal places. We can add extra arguments within the curly braces. \n",
    "\n",
    "We can use ':.2f' to print to two decimal places. 'f' is for fixed-point, 2 is the number of decimal places. \n",
    "\n",
    "We can also use ':.2e' to print in scientific notation. Here if we use 2, we will get 2+1, or three significant figures."
   ]
  },
  {
   "cell_type": "code",
   "execution_count": null,
   "id": "13f488d2",
   "metadata": {},
   "outputs": [],
   "source": [
    "print(\"Let's print our variables using fixed-point notation, a = {:.2f}, b = {:.2f}, c = {:.2f}\".format(a, b, c))\n",
    "print(\"Let's print our variables in scientific notation, a = {:.2e}, b = {:.2e}, c = {:.2e}\".format(a, b, c))"
   ]
  },
  {
   "cell_type": "markdown",
   "id": "e9b0b907",
   "metadata": {},
   "source": [
    "(optional) You can read more about string formatting in the documantation : https://docs.python.org/3/library/string.html#formatstrings.\n",
    "Or you can google things like \"How to print to two decimal places python\". "
   ]
  },
  {
   "cell_type": "markdown",
   "id": "1358f51a",
   "metadata": {},
   "source": [
    "## Arrays in python"
   ]
  },
  {
   "cell_type": "markdown",
   "id": "745300c4",
   "metadata": {},
   "source": [
    "Since we will be taking measurements in this class, we often want to store multiple measurements in one variable. To do this we will use numpy arrays, which can store several numbers. \n",
    "\n",
    "\n",
    "First, we need to bring in some extra functions into python. To do this we import the numpy module. \n",
    "The command below imports the module 'numpy' and renames it to 'np'. This renaming may seem a little odd, but we do it because it is standard usage (i.e. *everyone* else does it), and saves a little typing, we can access functions from numpy by typing just 'np' intead of the whole word 'numpy'. "
   ]
  },
  {
   "cell_type": "code",
   "execution_count": null,
   "id": "424d9e0c",
   "metadata": {
    "tags": []
   },
   "outputs": [],
   "source": [
    "import numpy as np"
   ]
  },
  {
   "cell_type": "markdown",
   "id": "6a7a4f61",
   "metadata": {},
   "source": [
    "Next, lets say we measured three values : \n",
    "$$\n",
    "x_1 = 1.7 \\\\\n",
    "x_2 = 3.5 \\\\\n",
    "x_3 = 2.9\n",
    "$$\n",
    "and we want to store them in a single variable as an array (kind of like a list). "
   ]
  },
  {
   "cell_type": "code",
   "execution_count": null,
   "id": "1fb21510",
   "metadata": {
    "tags": []
   },
   "outputs": [],
   "source": [
    "# define an array with three x measurements\n",
    "x_values = np.array([1.7, 3.5, 2.9])\n",
    "print(\"Our new array of x-values is :\", x_values)"
   ]
  },
  {
   "cell_type": "markdown",
   "id": "61a2258b",
   "metadata": {},
   "source": [
    "If we want to get the individual values back out, we refer to them based on their index (or their position in the array). Indexing in python starts at zero, so here $x_1$ would be the zeroth element of the array. To get $x_1$ out of our array, we would use x_values[0]. "
   ]
  },
  {
   "cell_type": "code",
   "execution_count": null,
   "id": "a096186e",
   "metadata": {
    "tags": []
   },
   "outputs": [],
   "source": [
    "# access the individual x measurements from the x_values array\n",
    "x_1 = x_values[0]\n",
    "x_2 = x_values[1]\n",
    "x_3 = x_values[2]\n",
    "\n",
    "print(\"The values in our array are x_1 =\", x_1, \"x_2 =\", x_2, \"and x_3 =\", x_3)\n",
    "print(\"We can also print them directly from the array as x_1 = {}, x_2 = {}, and x_3 = {}\".format(x_values[0], x_values[1], x_values[2]))"
   ]
  },
  {
   "cell_type": "markdown",
   "id": "1ebc1ebe",
   "metadata": {},
   "source": [
    "If we want to know how many values are in our array, we can use the python function `len()`. \n",
    "\n",
    "`len(array)` : returns the number of elements or values in the array."
   ]
  },
  {
   "cell_type": "code",
   "execution_count": null,
   "id": "e158adb4",
   "metadata": {
    "tags": []
   },
   "outputs": [],
   "source": [
    "num_values = len(x_values)\n",
    "print(\"x_values has\", num_values, \"values\")"
   ]
  },
  {
   "cell_type": "markdown",
   "id": "0effb0b2",
   "metadata": {},
   "source": [
    "We can also change the values in the array. Let's say we want to reset $x_2$ to 2.2. "
   ]
  },
  {
   "cell_type": "code",
   "execution_count": null,
   "id": "4708030a",
   "metadata": {
    "tags": []
   },
   "outputs": [],
   "source": [
    "# change element in the array\n",
    "x_values[1] = 2.2\n",
    "print(\"Modified x_2 value :\", x_values)"
   ]
  },
  {
   "cell_type": "markdown",
   "id": "2febd3f6",
   "metadata": {},
   "source": [
    "We can also do arithmetic operations to arrays, like adding, multiplication, division, and exponentiation. When we do these operations with a single other number, it will do the operation to each element of the array. "
   ]
  },
  {
   "cell_type": "code",
   "execution_count": null,
   "id": "556f6b99",
   "metadata": {
    "tags": []
   },
   "outputs": [],
   "source": [
    "x_plus_3 = x_values + 3 \n",
    "print(\"We can add 3 to every element in the array :\", x_plus_3)\n",
    "\n",
    "x_times_3 = x_values * 3 \n",
    "print(\"We can multiply every element in the array by 3 :\", x_times_3)"
   ]
  },
  {
   "cell_type": "markdown",
   "id": "0ba245ba",
   "metadata": {},
   "source": [
    "To calculate powers, numpy has a function built in:\n",
    "\n",
    "`np.power(array, n)` : where you raise each value in the array to the power n (n is a number)\n",
    "\n",
    "But you can also use the simpler way we've seen before with `a**b` notation, where `a` can be an array.\n",
    "(optional) Check out the documentation : https://numpy.org/doc/stable/reference/generated/numpy.power.html"
   ]
  },
  {
   "cell_type": "code",
   "execution_count": null,
   "id": "7dc66501",
   "metadata": {
    "tags": []
   },
   "outputs": [],
   "source": [
    "# use the np.power function to square elements of x_values\n",
    "x_squared = np.power(x_values, 2)\n",
    "print(\"We can square every element in the array :\", x_squared)\n"
   ]
  },
  {
   "cell_type": "markdown",
   "id": "50cc5557",
   "metadata": {},
   "source": [
    "TASK : Try taking the square root now. You can either use the np.power function with a fractional exponent, or numpy as has a special function that takes the square roots of all the elements of an array (Hint: google \"Take square root of numpy array\")."
   ]
  },
  {
   "cell_type": "code",
   "execution_count": null,
   "id": "58a56fe6",
   "metadata": {},
   "outputs": [],
   "source": [
    "# get the square root of the elements of x_values\n",
    "x_square_root = \n",
    "print(\"We can take the square root of every element in the array :\", x_square_root)"
   ]
  },
  {
   "cell_type": "markdown",
   "id": "668d35f9",
   "metadata": {},
   "source": [
    "Numpy also has some other useful functions that allow us to get other properties of the array : \n",
    "\n",
    "`np.sum(array)` : returns the sum of the array\n",
    "\n",
    "`np.mean(array)` : returns the mean or average of the array\n",
    "\n",
    "`np.std(array)` : returns the standard deviation of the array\n",
    "\n",
    "`np.max(array)` : returns the maximum value stored in the array\n",
    "\n",
    "`np.min(array)` : returns the minimum value stored in the array"
   ]
  },
  {
   "cell_type": "markdown",
   "id": "a42965e4",
   "metadata": {},
   "source": [
    "Inputting measurements into arrays is time consuming and can lead to mistakes if we are collecting several measurements. Starting in week 3, we will be using a spreadsheet module as well where we input out measurements into a spreadsheet and python will turn the columns into numpy arrays for us automatically. "
   ]
  },
  {
   "cell_type": "markdown",
   "id": "26ccaa87",
   "metadata": {},
   "source": [
    "## Plotting in python "
   ]
  },
  {
   "cell_type": "markdown",
   "id": "50569ba6",
   "metadata": {},
   "source": [
    "Data visualization is an important aspect of many scientific endeavours. We will be using python to make plots or graphs of our data throughout this course. To make our plots, we will be using the module matplotlib.pyplot."
   ]
  },
  {
   "cell_type": "code",
   "execution_count": null,
   "id": "b30bb764",
   "metadata": {},
   "outputs": [],
   "source": [
    "import matplotlib.pyplot as plt"
   ]
  },
  {
   "cell_type": "markdown",
   "id": "90829b14",
   "metadata": {},
   "source": [
    "First lets start by trying to plot a linear function of the form $y = mx + b$.\n",
    "\n",
    "Let make this plot over the range $x \\in [-2, 4]$, with $m=2$ and $b=-3$. So first thing let's start by defining our varibles.\n",
    "\n",
    "TASK : define the plotting and function variables."
   ]
  },
  {
   "cell_type": "code",
   "execution_count": null,
   "id": "6f587204",
   "metadata": {},
   "outputs": [],
   "source": [
    "# define plotting variables\n",
    "xmin = \n",
    "xmax = \n",
    "m = \n",
    "b = "
   ]
  },
  {
   "cell_type": "markdown",
   "id": "b4fe6c1a",
   "metadata": {},
   "source": [
    "When we are plotting in python, we need to give the actual points or $(x, y)$ coordinates. We will start by making our x-coordinates. This will be a numpy array of values between `xmin` and `xmax`. To do this, we will use the python function `np.linspace()`\n",
    "\n",
    "`np.linspace(start, stop, num=50)` : makes an array of evenly spaced values between start and stop. It has a default argument, num, which is the number of points created. You can specify num, or it will default to 50.\n",
    "\n",
    "Just to try things out, let's make 40 x values. \n",
    "\n",
    "(optional) Check out the documentation : https://numpy.org/doc/stable/reference/generated/numpy.linspace.html<br />\n",
    "(optional) Try googling other ways to automatically make arrays of numbers, like `np.arange()`"
   ]
  },
  {
   "cell_type": "code",
   "execution_count": null,
   "id": "551f946e",
   "metadata": {},
   "outputs": [],
   "source": [
    "# makes x values in our defined range\n",
    "x_points = np.linspace(xmin, xmax, num=40)\n",
    "x_points"
   ]
  },
  {
   "cell_type": "markdown",
   "id": "31c4acad",
   "metadata": {},
   "source": [
    "Now that we've made our x values, we want to make our y values as a function of these x values, using our function $y = mx + b$. \n",
    "So for every value in `x_points`, we need to multiply it by m and add b. Thankfully, we can do this all at once with our arrays."
   ]
  },
  {
   "cell_type": "code",
   "execution_count": null,
   "id": "fff9b835",
   "metadata": {},
   "outputs": [],
   "source": [
    "# make the y values at each of our x values\n",
    "y_points = m*x_points + b\n",
    "y_points"
   ]
  },
  {
   "cell_type": "markdown",
   "id": "78dcb487",
   "metadata": {},
   "source": [
    "Now that we have our two arrays to give us our points, we're ready to plot. To plot a line that connects the points, we're going to use the python function plt.plot(). Let's start with just the required arguments (or inputs) to our function, and we'll work towards making our plot more complete as we go.\n",
    "\n",
    "`plt.plot(x_array, y_array)` : creates a plot with a line connecting the points given in x_array and y_array. x_array and y_array must have the same length. "
   ]
  },
  {
   "cell_type": "code",
   "execution_count": null,
   "id": "9b26e2b0",
   "metadata": {},
   "outputs": [],
   "source": [
    "# plot linear function\n",
    "plt.plot(x_points, y_points)"
   ]
  },
  {
   "cell_type": "markdown",
   "id": "ffae0c63",
   "metadata": {},
   "source": [
    "`plt.plot()` has many optional inputs such as color, marker, linestyle, linewidth, and markersize that can change how our plot looks. Try playing around with some of these values in the plot below. \n",
    "\n",
    "(optional) Check out the documentation : https://matplotlib.org/stable/api/_as_gen/matplotlib.pyplot.plot.html"
   ]
  },
  {
   "cell_type": "code",
   "execution_count": null,
   "id": "d4e3f8cd",
   "metadata": {},
   "outputs": [],
   "source": [
    "# plot linear function with additional parameters\n",
    "plt.plot(x_points, y_points, color='green', marker='o', linestyle='dashed', linewidth=2, markersize=3)"
   ]
  },
  {
   "cell_type": "markdown",
   "id": "a958da11",
   "metadata": {},
   "source": [
    "When we are making plots of data, it's also important to have axis labels, a title, and legend. "
   ]
  },
  {
   "cell_type": "code",
   "execution_count": null,
   "id": "7363a97d",
   "metadata": {},
   "outputs": [],
   "source": [
    "# plot linear function where data has a label for the legend\n",
    "plt.plot(x_points, y_points, label = \"Linear Function\")\n",
    "\n",
    "# add title to the plot \n",
    "plt.title(\"Our First Plot\")\n",
    "\n",
    "# add axis labels to the plot \n",
    "plt.xlabel(\"x values\")\n",
    "plt.ylabel(\"y values\")\n",
    "\n",
    "# add legend to the plot \n",
    "plt.legend()\n",
    "\n",
    "# display the plot with all our added formatting\n",
    "plt.show()"
   ]
  },
  {
   "cell_type": "markdown",
   "id": "c4a4dcd6",
   "metadata": {},
   "source": [
    "Congratulations on making your first plot! Later in this course we'll make different types of plots with data and models, but this is the basics of plotting in python. "
   ]
  },
  {
   "cell_type": "markdown",
   "id": "487656c0",
   "metadata": {},
   "source": [
    "## Practice"
   ]
  },
  {
   "cell_type": "markdown",
   "id": "bf64baf5",
   "metadata": {},
   "source": [
    "This is an exercise to get familiar with the python skills we have just learned. It is not marked, but as you go through try to keep up good commenting and formatting of your print statements. "
   ]
  },
  {
   "cell_type": "markdown",
   "id": "3a1d93e2",
   "metadata": {},
   "source": [
    "Let's say we're interested in measuring the gravitational acceleration constant, $g$. So we set up an experiment where we drop a ball from a fixed hight, $h$, and measure the time it takes for the ball to fall, $t$. From our kinematics formulas, we know that \n",
    "\n",
    "$$\n",
    "h = \\frac{1}{2} g t^2\n",
    "$$\n",
    "$$\n",
    "g = \\frac{2h}{t^2}\n",
    "$$\n",
    "\n",
    "We drop the ball from the roof, which is about 10m from the ground and measure 10 times (in seconds): 1.30, 1.51, 1.44, 1.44, 1.26, 1.41, 1.54, 1.44, 1.35, 1.49."
   ]
  },
  {
   "cell_type": "markdown",
   "id": "2d6d0c81",
   "metadata": {},
   "source": [
    "First let's enter our times into a numpy array."
   ]
  },
  {
   "cell_type": "code",
   "execution_count": null,
   "id": "2ed921e7",
   "metadata": {},
   "outputs": [],
   "source": [
    "time_array = np.array([])\n",
    "print(\"Check that times are correct: \", time_array)"
   ]
  },
  {
   "cell_type": "markdown",
   "id": "5893ed29",
   "metadata": {},
   "source": [
    "Next, lets calculate g for all our times."
   ]
  },
  {
   "cell_type": "code",
   "execution_count": null,
   "id": "0fbcfbdb",
   "metadata": {},
   "outputs": [],
   "source": [
    "g_array = \n",
    "print(\"Check that g values are reasonable: \", g_array) "
   ]
  },
  {
   "cell_type": "markdown",
   "id": "5c427b13",
   "metadata": {},
   "source": [
    "Now that we've calculated g for all our values, let's find some properties about our data. We now want to calculate the mean and standard deviation of g. "
   ]
  },
  {
   "cell_type": "code",
   "execution_count": null,
   "id": "7251287a",
   "metadata": {},
   "outputs": [],
   "source": [
    "# \n",
    "g_mean = \n",
    "g_std = \n",
    "print()"
   ]
  },
  {
   "cell_type": "markdown",
   "id": "1924a855",
   "metadata": {},
   "source": [
    "Now we try measuring the positions of the ball at different times for a single drop of the ball. \n",
    "\n",
    "| time (s) | position (m) |\n",
    "|----------|--------------|\n",
    "| 0        | 10.0         |\n",
    "| 0.2      | 9.8          |\n",
    "| 0.4      | 9.6          |\n",
    "| 0.6      | 8.2          |\n",
    "| 0.8      | 6.9          |\n",
    "| 1.0      | 4.9          |\n",
    "| 1.2      | 2.8          |\n",
    "| 1.4      | 0.8          |\n",
    "\n",
    "Let's start by making an array for the times and one for the positions. "
   ]
  },
  {
   "cell_type": "code",
   "execution_count": null,
   "id": "e21746e3",
   "metadata": {},
   "outputs": [],
   "source": [
    "#\n",
    "time_array = \n",
    "position_array = "
   ]
  },
  {
   "cell_type": "markdown",
   "id": "8bb2c5f0",
   "metadata": {},
   "source": [
    "Now let's try plotting our data from above, where our x-axis is time and our y-axis is position. Because we have data points now, we want to just plot the points in a scatter plot. To do this we want to change the 'marker'. If you're not sure how to do this, try googling 'how to change marker to dot with plt.plot'."
   ]
  },
  {
   "cell_type": "code",
   "execution_count": null,
   "id": "bd7abae6",
   "metadata": {},
   "outputs": [],
   "source": [
    "# plot data points\n",
    "plt.plot(x, y, label = , marker = )\n",
    "\n",
    "# add title to the plot \n",
    "plt.title()\n",
    "\n",
    "# add axis labels to the plot \n",
    "plt.xlabel()\n",
    "plt.ylabel()\n",
    "\n",
    "# add legend to the plot \n",
    "plt.legend()\n",
    "\n",
    "# display the plot with all our added formatting\n",
    "plt.show()"
   ]
  },
  {
   "cell_type": "markdown",
   "id": "d4e5a530",
   "metadata": {},
   "source": [
    "Now let's try plotting our kinematic model over our points. Our kinematic model is given by,\n",
    "$$\n",
    "x = h - \\frac{1}{2}gt^2\n",
    "$$\n",
    "The value we often use for the gravitational acceleration constant is $g=9.81m/s^2$. \n",
    "Let's walk through calculating our model for plotting along side our data. "
   ]
  },
  {
   "cell_type": "markdown",
   "id": "617f2f57",
   "metadata": {},
   "source": [
    "First, we need to get the range over which we want to plot. That means finding `t_min` and `t_max`. Recall, to access elements of an array, we can use `array[index]`, where index is the number of the position we want to get. To get the first element of the array, our index would be zero. To get the last element of the array, our index would be 7 (or -1). "
   ]
  },
  {
   "cell_type": "code",
   "execution_count": null,
   "id": "a02b65ae",
   "metadata": {},
   "outputs": [],
   "source": [
    "t_min = \n",
    "t_max = "
   ]
  },
  {
   "cell_type": "markdown",
   "id": "32165e02",
   "metadata": {},
   "source": [
    "Now let's make our `times_model` values. We want to make an array of values from `t_min` to `t_max`, with 50 values. "
   ]
  },
  {
   "cell_type": "code",
   "execution_count": null,
   "id": "75825849",
   "metadata": {},
   "outputs": [],
   "source": [
    "times_model = "
   ]
  },
  {
   "cell_type": "markdown",
   "id": "0f56ceea",
   "metadata": {},
   "source": [
    "Now that we have our times, we need to get the positions using the formula above. Recall, when we add or multiply a single value with an array, it will do those operations to all the values in the array. "
   ]
  },
  {
   "cell_type": "code",
   "execution_count": null,
   "id": "6ae10b63",
   "metadata": {},
   "outputs": [],
   "source": [
    "positions_model = "
   ]
  },
  {
   "cell_type": "markdown",
   "id": "2fbca965",
   "metadata": {},
   "source": [
    "We are now ready for plotting. The plotting is the same as before, except now we need to plot two sets of points on our plot. For our data, we also want to just have a scatter plot, so we set `linestyle = 'none'`."
   ]
  },
  {
   "cell_type": "code",
   "execution_count": null,
   "id": "deb029f3",
   "metadata": {},
   "outputs": [],
   "source": [
    "# plot data points\n",
    "plt.plot(x, y, label = , marker = , linestyle = )\n",
    "# plot model\n",
    "plt.plot(x, y, label = , linestyle = )\n",
    "\n",
    "# add title to the plot \n",
    "plt.title()\n",
    "\n",
    "# add axis labels to the plot \n",
    "plt.xlabel()\n",
    "plt.ylabel()\n",
    "\n",
    "# add legend to the plot \n",
    "plt.legend()\n",
    "\n",
    "# display the plot with all our added formatting\n",
    "plt.show()"
   ]
  },
  {
   "cell_type": "markdown",
   "id": "e0194423-9470-402b-b104-1b75e8c9ee41",
   "metadata": {
    "tags": []
   },
   "source": [
    "## Downloads & Setup\n",
    "\n",
    "We're almost done for today, just a couple more tasks to take care of. \n",
    "\n",
    "First, we need to enable widget saving, which is a feature we will be using in future labs. \n",
    "\n",
    "Enable Widget State Saving:\n",
    "1. Please Go to: Settings->Save Widget State Automatically\n",
    "This is a toggle setting, after you've selected it, it should appear in the settings menu with a checkbox next to it.\n",
    "2. Reload your browser tab (eg CTRL-R, or click on the URL and hit enter).\n",
    "\n",
    "\n",
    "\n"
   ]
  },
  {
   "cell_type": "markdown",
   "id": "82592850",
   "metadata": {},
   "source": [
    "Second: there are some features we need to configure within your UBC Jupyter account. Executing the code cell below will take care of this.\n",
    "\n",
    "You only need to execute the next cell once. It won't cause any problems if you repeat it though.\n",
    "\n",
    "- Click on the next cell\n",
    "- Execute it with Shift+Enter\n",
    "- Look at the output section below. In the first few lines you should see 'Installation complete' to indicate that data_entry2 was successfully installed.\n",
    "- At the very bottom of the output there should be a line that reports that ipydatagrid was successfully installed.\n",
    "- If both tasks were performed successfully, add # signs in front of each of the last three lines in the cell below so that they won't ever be executed again.\n"
   ]
  },
  {
   "cell_type": "code",
   "execution_count": null,
   "id": "ff6b33e8-a530-421a-bd60-5ef4fe786bfa",
   "metadata": {
    "tags": []
   },
   "outputs": [],
   "source": [
    "# Execute this cell to 1) install a module we will use for entering data in a \n",
    "# spreadsheet-like interface in later labs, and 2) install two extensions to the Jupyter \n",
    "# environment. One extension, ipysheet is used by the data entry module.\n",
    "# The other, jupyter-archive, allows you to download folders as .zip files.\n",
    "\n",
    "!wget -N --quiet https://www.phas.ubc.ca/~michal/data_entry2.py # download data_entry.py\n",
    "%run data_entry2.py  # install it.\n",
    "!pip install --user ipydatagrid # install jupyter extensions."
   ]
  },
  {
   "cell_type": "markdown",
   "id": "17adda27-1425-44df-979c-72022a790ca4",
   "metadata": {
    "tags": []
   },
   "source": [
    "## End of Lab - Rerunning your notebook and Submitting"
   ]
  },
  {
   "cell_type": "markdown",
   "id": "65f356bf-f2c1-45da-97a9-8fa7ae9074ad",
   "metadata": {},
   "source": [
    "At the end of lab, before submitting your work, we will ask you to restart + rerun your entire notebook to make sure that everything runs correctly and without error. Let's practice how to do that here! \n",
    "\n",
    "- First, go to the very top bar in Jupyter lab (with File, Edit, View...) and then click \"Run\". From the dropdown menu, select \"Run All Cells\". It will take a few seconds for the entire notebook to execute.\n",
    "\n",
    "- You should look through the whole notebook and make sure it looks right. If the entire notebook runs without errors, fantastic! You're then ready to submit your work. If there are errors, see if there is something obvious you can fix. If you need help figuring out what's wrong, ask us!\n",
    "\n",
    "This notebook is in your private Jupyter account. To submit a notebook for marking, you'll need to download it, and submit to Canvas.\n",
    "\n",
    "- After you've executed and checked your notebook, choose: File->Save_and_Export_Notebook_As->HTML This will download an HTML version of your notebook to your local computer. This version can not be executed or modified. You may have to disable a pop-up blocker to allow the file to be downloaded.\n",
    "\n",
    "- Finally: submit the html file that you just downloaded to the Lab00 submission assignment on Canvas. \n",
    "\n",
    "If there was anything in this notebook that you didn't understand or aren't comfortable with, please ask us at a drop-in session or on Piazza."
   ]
  },
  {
   "cell_type": "markdown",
   "id": "28d9a020-aa4c-4cb1-987b-82d62e00f70a",
   "metadata": {},
   "source": [
    "# Done\n",
    "\n",
    "We'll see you next week!"
   ]
  }
 ],
 "metadata": {
  "kernelspec": {
   "display_name": "Python 3 (ipykernel)",
   "language": "python",
   "name": "python3"
  },
  "language_info": {
   "codemirror_mode": {
    "name": "ipython",
    "version": 3
   },
   "file_extension": ".py",
   "mimetype": "text/x-python",
   "name": "python",
   "nbconvert_exporter": "python",
   "pygments_lexer": "ipython3",
   "version": "3.11.4"
  },
  "widgets": {
   "application/vnd.jupyter.widget-state+json": {
    "state": {},
    "version_major": 2,
    "version_minor": 0
   }
  }
 },
 "nbformat": 4,
 "nbformat_minor": 5
}
