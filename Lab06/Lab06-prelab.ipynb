{
 "cells": [
  {
   "attachments": {},
   "cell_type": "markdown",
   "id": "c0a76f2d-ef0a-4eee-9411-c124f1e08887",
   "metadata": {},
   "source": [
    "# Lab 06 Prelab - A review of residuals and fitting"
   ]
  },
  {
   "cell_type": "code",
   "execution_count": null,
   "id": "1b294a4c-e07a-43e6-b6e9-de737f89c959",
   "metadata": {},
   "outputs": [],
   "source": [
    "%reset -f\n",
    "import data_entry2\n",
    "import numpy as np\n",
    "import matplotlib.pyplot as plt"
   ]
  },
  {
   "attachments": {},
   "cell_type": "markdown",
   "id": "b1c7e749-6d19-48d1-a16a-05da741efad5",
   "metadata": {},
   "source": [
    "This prelab focuses on revisting and reinforcing concepts from Lab 05. We start with a review of residual plots."
   ]
  },
  {
   "attachments": {},
   "cell_type": "markdown",
   "id": "b692a95b-892b-4b2f-bd5a-f0e39d5a3f98",
   "metadata": {
    "tags": []
   },
   "source": [
    "## Part A - How to read residuals"
   ]
  },
  {
   "attachments": {},
   "cell_type": "markdown",
   "id": "41d4bf3d-1d4a-40f3-b2d0-93308f296326",
   "metadata": {},
   "source": [
    "**Your turn #1a:** Given experimental data and a model for that data, what is a residual?"
   ]
  },
  {
   "attachments": {},
   "cell_type": "markdown",
   "id": "363e57f7-4fc5-4f76-91c2-0d70bf4da8e7",
   "metadata": {},
   "source": []
  },
  {
   "attachments": {},
   "cell_type": "markdown",
   "id": "8da66fa7-4e33-439b-b45a-2a351a589242",
   "metadata": {},
   "source": [
    "**Your turn #1b:** What are properties of a residual plot that inform us that the model is a good fit to the data?"
   ]
  },
  {
   "attachments": {},
   "cell_type": "markdown",
   "id": "8da6fda0-d830-4cb4-bd0e-6ad8ad148363",
   "metadata": {},
   "source": []
  },
  {
   "attachments": {},
   "cell_type": "markdown",
   "id": "7549b6de-1d02-48d6-b146-f0f1288bc4e5",
   "metadata": {
    "jp-MarkdownHeadingCollapsed": true,
    "tags": []
   },
   "source": [
    "##### **Answer for #1a:**"
   ]
  },
  {
   "attachments": {},
   "cell_type": "markdown",
   "id": "972fe2f5-6877-4274-9626-cec7dbceb3f3",
   "metadata": {},
   "source": [
    "A residual is defined as the difference between experimental data and a model, i.e., $R_i = y_i - \\text{model}(x_i)$ or $R_i = y_i - f(x_i)$."
   ]
  },
  {
   "attachments": {},
   "cell_type": "markdown",
   "id": "58c9b12a-6304-495f-965d-27d5331160b9",
   "metadata": {
    "jp-MarkdownHeadingCollapsed": true,
    "tags": []
   },
   "source": [
    "##### **Answer for #1b:**"
   ]
  },
  {
   "attachments": {},
   "cell_type": "markdown",
   "id": "254156ce-7308-4af7-b048-430ce9b69622",
   "metadata": {},
   "source": [
    "A model that is a good fit to the data will have a residual plot with:<font>\n",
    "- No obvious trend\n",
    "- A roughly equal scatter of points across the x-axis (x = 0)\n",
    "- And if the uncertainties are well characterized, we will also see\n",
    "    + Roughly ~68% of error bars crossing the x-axis\n",
    "    + Roughly all (~95%) of doubled error bars crossing the x-axis"
   ]
  },
  {
   "attachments": {},
   "cell_type": "markdown",
   "id": "6390dd02-f08d-4252-bb0a-d5f385ce7fc9",
   "metadata": {
    "tags": []
   },
   "source": [
    "### Part A1: Diagnosing models with residuals"
   ]
  },
  {
   "attachments": {},
   "cell_type": "markdown",
   "id": "aaf4324a-09c6-4130-b704-29127f256c2b",
   "metadata": {},
   "source": [
    "Now that we have reminded ourselves of how to use residuals to diagnose the goodness of fit of a model to a given set of experimental data, let's use these criteria to diagnose some fits. Below, we have three data sets to which we have tried to fit the model of a straight line with intercept; $y_{\\text{model}} = mx + b$. By running the code cells below, we can plot the three data sets with the model, as well as the subsequent residual plot. \n",
    "\n",
    "For each of the three datasets, point out any features of the residual plot that may indicate that there is a problem of the model fit to the data. Explain what should be changed about the model. Finally, go into the code cell and modify the model according to the diagnosis, until the residual plot indicates that the model is a good fit to the data, as per the criteria discussed in question 1."
   ]
  },
  {
   "cell_type": "code",
   "execution_count": null,
   "id": "06a9ffbc-a740-4bc5-bc71-1a4c1bcfdaa1",
   "metadata": {},
   "outputs": [],
   "source": [
    "# Run me to load our three data sets\n",
    "# Make sure to hit the \"Generate Vectors\" button!\n",
    "\n",
    "de1 = data_entry2.sheet(\"lab06_prelab_data1.csv\")"
   ]
  },
  {
   "attachments": {},
   "cell_type": "markdown",
   "id": "f8709fc8-68e5-43d3-9603-50b5479709af",
   "metadata": {
    "tags": []
   },
   "source": [
    "### Your turn #2 (Dataset 1)\n",
    "\n",
    "View and interact with the plots below to answer the following questions."
   ]
  },
  {
   "attachments": {},
   "cell_type": "markdown",
   "id": "11a6012a-3e0c-4f2b-b03d-3c4015a14375",
   "metadata": {},
   "source": [
    "**Your turn #2a:** Which feature(s) of the residuals plot below indicates a problem with the fit of the model to the data?"
   ]
  },
  {
   "attachments": {},
   "cell_type": "markdown",
   "id": "c553ab4b-faa9-427a-9c3a-53d3fbc063d0",
   "metadata": {},
   "source": []
  },
  {
   "attachments": {},
   "cell_type": "markdown",
   "id": "4a62d3da-ca26-4c3d-9287-d7c20edfefe0",
   "metadata": {},
   "source": [
    "**Your turn #2b:** What should be changed about the model?"
   ]
  },
  {
   "attachments": {},
   "cell_type": "markdown",
   "id": "1c0a7ca6-c813-4dd8-94f0-372f6a2d021b",
   "metadata": {},
   "source": []
  },
  {
   "attachments": {},
   "cell_type": "markdown",
   "id": "4bf44dc4-9375-4da6-abed-b41dd0111c46",
   "metadata": {},
   "source": [
    "**Your turn #2c:** Change the model in the code cell (in the area specified) until the residuals indicate the model is a good fit. What are your new slope and/or y-intercept?"
   ]
  },
  {
   "attachments": {},
   "cell_type": "markdown",
   "id": "e4cbb0d3-ac8f-4256-8092-92196f0ba8ac",
   "metadata": {},
   "source": []
  },
  {
   "attachments": {},
   "cell_type": "markdown",
   "id": "abc01138-0e86-42e0-81f8-4c25039a3d15",
   "metadata": {
    "jp-MarkdownHeadingCollapsed": true,
    "tags": []
   },
   "source": [
    "##### **Answer #2a**"
   ]
  },
  {
   "attachments": {},
   "cell_type": "markdown",
   "id": "23af65be-6850-40d2-9625-a1dab9e21be4",
   "metadata": {},
   "source": [
    "We see a trend in the residuals where all of the residual points lie below the x-axis (x=0 line)"
   ]
  },
  {
   "attachments": {},
   "cell_type": "markdown",
   "id": "c35a95b1-8aa2-4605-aa84-74e88f723207",
   "metadata": {
    "jp-MarkdownHeadingCollapsed": true,
    "tags": []
   },
   "source": [
    "##### **Answer #2b**"
   ]
  },
  {
   "attachments": {},
   "cell_type": "markdown",
   "id": "ed12cab0-f091-4b12-81a8-beebfdd1cccb",
   "metadata": {},
   "source": [
    "The y-intercept of the model is too large, so we should decrease it."
   ]
  },
  {
   "attachments": {},
   "cell_type": "markdown",
   "id": "a6f132e8-2472-40d0-a27a-a2862ef59d55",
   "metadata": {
    "jp-MarkdownHeadingCollapsed": true,
    "tags": []
   },
   "source": [
    "##### **Answer #2c:**"
   ]
  },
  {
   "attachments": {},
   "cell_type": "markdown",
   "id": "5af39d3f-d813-43c9-8dc0-34826f509322",
   "metadata": {},
   "source": [
    "Changing the intercept from 1.1 to 1 in the code improves the model in the desired fashion."
   ]
  },
  {
   "attachments": {},
   "cell_type": "markdown",
   "id": "4db438c9-a709-4cc0-9f46-9638e8f2b8f0",
   "metadata": {},
   "source": [
    "##### **Cell to generate plots for data set 1**"
   ]
  },
  {
   "cell_type": "code",
   "execution_count": null,
   "id": "f3c8fc5f-583c-4a57-bb9c-81c2b76e83ea",
   "metadata": {},
   "outputs": [],
   "source": [
    "# Run me to make an initial set of plots, to be modified to answer #2c above.\n",
    "\n",
    "# Data/Model Plot\n",
    "# Step 1: find the limits of the data:\n",
    "xmin = np.min(xVec) # use the np.min function to find the smallest x value\n",
    "xmax = np.max(xVec) # same for max\n",
    "#print (xmin, xmax)  # uncomment to see what the limits are\n",
    "\n",
    "# Step 2: generate a bunch of x points between xmin and xmax\n",
    "xpoints = np.linspace(xmin, xmax, 200) # gives 200 evenly spaced points between xmin and xmax\n",
    "#print(xpoints) # uncomment to see the x values that were generated.\n",
    "\n",
    "# Step 3: calculate the model values:\n",
    "#################################### MODIFY THIS PART ###########################################\n",
    "slope = 1 # Estimate of the slope.\n",
    "intercept = 1.1  # Estimate of the intercept\n",
    "ypoints = xpoints * slope + intercept # this calculates the yvalues at all 200 points.\n",
    "#################################################################################################\n",
    "\n",
    "# Step 4: plot the curve. We plot this as a red line \"r-\" :\n",
    "plt.plot(xpoints, ypoints, \"r-\", label = \"y = mx + b\")\n",
    "\n",
    "# Plot the data:\n",
    "plt.errorbar(xVec, y1Vec, u_y1Vec, fmt=\"bo\", markersize=3, label=\"Experimental data\")\n",
    "plt.title(\"y vs. x for first dataset\")\n",
    "plt.xlabel(\"x (s)\")\n",
    "plt.ylabel(\"y (m)\")\n",
    "plt.legend()\n",
    "plt.show()\n",
    "\n",
    "# Residuals Plot\n",
    "# Step 1: Calculate the model at each x-datapoint\n",
    "ymodel = xVec * slope + intercept\n",
    "\n",
    "# Step 2: Calcualte the residual vector\n",
    "ResVec = y1Vec - ymodel\n",
    "\n",
    "# Step 3: Plot the residual vector against the x-data vector\n",
    "plt.errorbar(xVec, ResVec, u_y1Vec, fmt=\"bo\", markersize = 3)\n",
    "\n",
    "# Step 4: Add a R = 0 x-axis (horizontal line) to the plot\n",
    "plt.hlines(y=0, xmin=xmin, xmax=xmax, color='k') # draw axis at y = 0.\n",
    "\n",
    "# Add axis labels and title, and show the graph\n",
    "plt.title(\"Residuals for y vs. x for first dataset\")\n",
    "plt.xlabel(\"x (s)\")\n",
    "plt.ylabel(\"Residual = data - model (m)\")\n",
    "plt.show()"
   ]
  },
  {
   "attachments": {},
   "cell_type": "markdown",
   "id": "febd32d4-92ee-486d-85f4-67b12ba78fcc",
   "metadata": {
    "tags": []
   },
   "source": [
    "### Your turn #3 (Dataset 2)\n",
    "\n",
    "View and interact with the plots below to answer the following questions."
   ]
  },
  {
   "attachments": {},
   "cell_type": "markdown",
   "id": "6472236c-87c2-4b3f-a933-342ebbcb1126",
   "metadata": {},
   "source": [
    "**Your turn #3a:** Which feature(s) of the residuals plot below indicates a problem with the fit of the model to the data?"
   ]
  },
  {
   "attachments": {},
   "cell_type": "markdown",
   "id": "e9440bce-a74f-4360-8d15-576c96769641",
   "metadata": {},
   "source": []
  },
  {
   "attachments": {},
   "cell_type": "markdown",
   "id": "15089a78-0d3f-4a35-bee3-f9b58f51715d",
   "metadata": {},
   "source": [
    "**Your turn #3b:** What should be changed about the model?"
   ]
  },
  {
   "attachments": {},
   "cell_type": "markdown",
   "id": "165f2f00-b2a2-493a-89bc-15b539083d78",
   "metadata": {},
   "source": []
  },
  {
   "attachments": {},
   "cell_type": "markdown",
   "id": "4f60430c-b674-48e5-a9f0-777eae810939",
   "metadata": {},
   "source": [
    "**Your turn #3c:** Change the model in the code cell (in the area specified) until the residuals indicate the model is a good fit. What are your new slope and/or y-intercept?"
   ]
  },
  {
   "attachments": {},
   "cell_type": "markdown",
   "id": "bf9941ec-d9de-4724-8753-17fe543858a4",
   "metadata": {},
   "source": []
  },
  {
   "attachments": {},
   "cell_type": "markdown",
   "id": "effa081f-9c4c-4e61-b326-e0c58d2447f2",
   "metadata": {
    "jp-MarkdownHeadingCollapsed": true,
    "tags": []
   },
   "source": [
    "##### **Answer #3a**"
   ]
  },
  {
   "attachments": {},
   "cell_type": "markdown",
   "id": "0978ec6a-10ca-4bcd-99f3-a8c53c816d29",
   "metadata": {},
   "source": [
    "We see an (upwards) linear trend in the residuals plot."
   ]
  },
  {
   "attachments": {},
   "cell_type": "markdown",
   "id": "7a0ac048-77fe-4ec2-961a-f0e91a5789c2",
   "metadata": {
    "jp-MarkdownHeadingCollapsed": true,
    "tags": []
   },
   "source": [
    "##### **Answer #3b**"
   ]
  },
  {
   "attachments": {},
   "cell_type": "markdown",
   "id": "52e7ca85-d096-4c39-a8a6-eaf27bcfe7b4",
   "metadata": {},
   "source": [
    "The slope of the model is too small, so we should increase it."
   ]
  },
  {
   "attachments": {},
   "cell_type": "markdown",
   "id": "c4bec1cd-09e3-4e65-bfa9-dd783113c91d",
   "metadata": {
    "jp-MarkdownHeadingCollapsed": true,
    "tags": []
   },
   "source": [
    "##### **Answer #3c**"
   ]
  },
  {
   "attachments": {},
   "cell_type": "markdown",
   "id": "fb104d65-9be7-4a93-8a35-3bbe8256fbf4",
   "metadata": {},
   "source": [
    "Changing the slope from 1.9 to 2 in the code improves the model in the desired fashion."
   ]
  },
  {
   "attachments": {},
   "cell_type": "markdown",
   "id": "e1abfbca-ae28-4900-b600-4a3c4fe46e6a",
   "metadata": {},
   "source": [
    "##### **Cell to generate plots for data set 2**"
   ]
  },
  {
   "cell_type": "code",
   "execution_count": null,
   "id": "e294ab89-b070-4cb1-8e7d-2d8d631af25e",
   "metadata": {},
   "outputs": [],
   "source": [
    "# Run me to make an initial set of plots, to be modified to answer #3c above.\n",
    "\n",
    "# Data/Model Plot\n",
    "# Step 1: find the limits of the data:\n",
    "xmin = np.min(xVec) # use the np.min function to find the smallest x value\n",
    "xmax = np.max(xVec) # same for max\n",
    "#print (xmin, xmax)  # uncomment to see what the limits are\n",
    "\n",
    "# Step 2: generate a bunch of x points between xmin and xmax\n",
    "xpoints = np.linspace(xmin, xmax, 200) # gives 200 evenly spaced points between xmin and xmax\n",
    "#print(xpoints) # uncomment to see the x values that were generated.\n",
    "\n",
    "# Step 3: calculate the model values:\n",
    "#################################### MODIFY THIS PART ###########################################\n",
    "slope = 1.9 # Estimate of the slope.\n",
    "intercept = 3\n",
    "ypoints = xpoints * slope + intercept # this calculates the yvalues at all 200 points.\n",
    "#################################################################################################\n",
    "\n",
    "# Step 4: plot the curve. We plot this as a red line \"r-\" :\n",
    "plt.plot(xpoints, ypoints, \"r-\", label = \"y = mx + b\")\n",
    "\n",
    "# Plot the data:\n",
    "plt.errorbar(xVec, y2Vec, u_y2Vec, fmt=\"bo\", markersize=3, label=\"Experimental data\")\n",
    "plt.title(\"y vs. x for second dataset\")\n",
    "plt.xlabel(\"x (s)\")\n",
    "plt.ylabel(\"y (m)\")\n",
    "plt.legend()\n",
    "plt.show()\n",
    "\n",
    "# Residuals Plot\n",
    "# Step 1: Calculate the model at each x-datapoint\n",
    "ymodel = xVec * slope + intercept\n",
    "\n",
    "# Step 2: Calcualte the residual vector\n",
    "ResVec = y2Vec - ymodel\n",
    "\n",
    "# Step 3: Plot the residual vector against the x-data vector\n",
    "plt.errorbar(xVec, ResVec, u_y2Vec, fmt=\"bo\", markersize = 3)\n",
    "\n",
    "# Step 4: Add a R = 0 x-axis (horizontal line) to the plot\n",
    "plt.hlines(y=0, xmin=xmin, xmax=xmax, color='k') # draw axis at y = 0.\n",
    "\n",
    "# Add axis labels and title, and show the graph\n",
    "plt.title(\"Residuals for y vs. x for second dataset\")\n",
    "plt.xlabel(\"x (s)\")\n",
    "plt.ylabel(\"Residual = data - model (m)\")\n",
    "plt.show()"
   ]
  },
  {
   "attachments": {},
   "cell_type": "markdown",
   "id": "e4d4c4f0-d1db-4d62-b277-09ffbc27d0e3",
   "metadata": {
    "tags": []
   },
   "source": [
    "### Your turn #4 (Data set 3)"
   ]
  },
  {
   "attachments": {},
   "cell_type": "markdown",
   "id": "df62bd41-7618-4522-8faf-b7c4557fc9d5",
   "metadata": {},
   "source": [
    "_Note:_ For this data set, the issue with the model is a bit harder to fix compared to the other two examples; for this part it is alright to skip the step of fixing the model in the code, and just comment on what appears to be wrong and how one could feasibly improve the fit of the model to the data (though we welcome the initiative to try to fix the model in the code, as well!)"
   ]
  },
  {
   "attachments": {},
   "cell_type": "markdown",
   "id": "f79b845f-3ee1-42b5-80bc-8dce41c7d4d6",
   "metadata": {},
   "source": [
    "**Your turn #4a:** Which feature(s) of the residuals plot below indicates a problem with the fit of the model to the data?"
   ]
  },
  {
   "attachments": {},
   "cell_type": "markdown",
   "id": "0c4145e1-2908-427e-9831-1750f10fffe7",
   "metadata": {},
   "source": []
  },
  {
   "attachments": {},
   "cell_type": "markdown",
   "id": "5706a279-f9ba-4aca-a23b-06c2a2ec90e0",
   "metadata": {},
   "source": [
    "**Your turn #4b:** What should be changed about the model?"
   ]
  },
  {
   "attachments": {},
   "cell_type": "markdown",
   "id": "a397c59b-4b81-4837-9e16-3316156bcb09",
   "metadata": {},
   "source": []
  },
  {
   "attachments": {},
   "cell_type": "markdown",
   "id": "46bda486-e9ba-43e3-aa07-1757529ca91f",
   "metadata": {},
   "source": [
    "**Your turn #4c (optional):** Change the model in the code cell (in the area specified) until the residuals indicate the model is a good fit. Note that for this question the model is harder to fix in the code compared to the previous two questions; it is therefore a bonus for those who really want to put their python-model-fixing skills to the test. How did you need to adjust your model to make a good fit?"
   ]
  },
  {
   "attachments": {},
   "cell_type": "markdown",
   "id": "3e13fb8a-cc2a-41f7-9caf-48ae9baa7905",
   "metadata": {},
   "source": []
  },
  {
   "attachments": {},
   "cell_type": "markdown",
   "id": "ebd4624f-c853-4189-932a-0165d04b5e9e",
   "metadata": {
    "jp-MarkdownHeadingCollapsed": true,
    "tags": []
   },
   "source": [
    "##### **Answer #4a**"
   ]
  },
  {
   "attachments": {},
   "cell_type": "markdown",
   "id": "b3a0365c-af80-4085-b1cc-c39d70062a01",
   "metadata": {},
   "source": [
    "We notice from the residuals plot that there is a upwards parabolic trend."
   ]
  },
  {
   "attachments": {},
   "cell_type": "markdown",
   "id": "f7264770-baf9-4af8-9087-30f4471585fd",
   "metadata": {
    "jp-MarkdownHeadingCollapsed": true,
    "tags": []
   },
   "source": [
    "##### **Answer #4b**"
   ]
  },
  {
   "attachments": {},
   "cell_type": "markdown",
   "id": "ae801a6c-15bb-48f6-8f30-d80d39eeec89",
   "metadata": {},
   "source": [
    "This parabolic trend tells us that the current linear model is not a good fit for the data; we should add a (positive) quadratic term."
   ]
  },
  {
   "attachments": {},
   "cell_type": "markdown",
   "id": "cb8e172b-ec61-4edd-9515-b8e9c6d41060",
   "metadata": {
    "jp-MarkdownHeadingCollapsed": true,
    "tags": []
   },
   "source": [
    "##### **Answer #4c**"
   ]
  },
  {
   "attachments": {},
   "cell_type": "markdown",
   "id": "2a7b7615-68ff-44f9-a16b-cf8f50df1c36",
   "metadata": {},
   "source": [
    "To improve it in the desired fashion, we add $0.01x^2$ to the model, which can be done by modifying the code to:\n",
    "- ypoints = 0.01 * xpoints**2 + xpoints * slope + intercept\n",
    "- ymodel = 0.01 * xVec**2 + xVec * slope + intercept"
   ]
  },
  {
   "attachments": {},
   "cell_type": "markdown",
   "id": "97955005-d2b0-4c0e-b62d-7a41b5355543",
   "metadata": {},
   "source": [
    "##### **Cell to generate plots for data set 3**"
   ]
  },
  {
   "cell_type": "code",
   "execution_count": null,
   "id": "bfb809d8-44a6-4bbf-a108-e678e593f495",
   "metadata": {},
   "outputs": [],
   "source": [
    "# Run me to make an initial set of plots, to be modified to answer #4c above.\n",
    "\n",
    "# Data/Model Plot\n",
    "# Step 1: find the limits of the data:\n",
    "xmin = np.min(xVec) # use the np.min function to find the smallest x value\n",
    "xmax = np.max(xVec) # same for max\n",
    "#print (xmin, xmax)  # uncomment to see what the limits are\n",
    "\n",
    "# Step 2: generate a bunch of x points between xmin and xmax\n",
    "xpoints = np.linspace(xmin, xmax, 200) # gives 200 evenly spaced points between xmin and xmax\n",
    "#print(xpoints) # uncomment to see the x values that were generated.\n",
    "\n",
    "# Step 3: calculate the model values:\n",
    "# MODIFY THIS PART ##############################################################################\n",
    "slope = 1 # Estimate of the slope.\n",
    "intercept = 3\n",
    "ypoints = xpoints * slope + intercept # this calculates the yvalues at all 200 points.\n",
    "#################################################################################################\n",
    "\n",
    "# Step 4: plot the curve. We plot this as a red line \"r-\" :\n",
    "plt.plot(xpoints, ypoints, \"r-\", label = \"y = mx + b\")\n",
    "\n",
    "# Plot the data:\n",
    "plt.errorbar(xVec, y3Vec, uy3Vec, fmt=\"bo\", markersize=3, label=\"Experimental data\")\n",
    "plt.title(\"y vs. x for third dataset\")\n",
    "plt.xlabel(\"x (s)\")\n",
    "plt.ylabel(\"y (m)\")\n",
    "plt.legend()\n",
    "plt.show()\n",
    "\n",
    "# Residuals Plot\n",
    "# Step 1: Calculate the model at each x-datapoint\n",
    "# ALSO MODIFY THIS PART, DEPENDING ON YOUR MODEL MODIFICATION ABOVE###########################\n",
    "ymodel = xVec * slope + intercept\n",
    "#################################################################################################\n",
    "\n",
    "# Step 2: Calcualte the residual vector\n",
    "ResVec = y3Vec - ymodel\n",
    "\n",
    "# Step 3: Plot the residual vector against the x-data vector\n",
    "plt.errorbar(xVec, ResVec, u_y3Vec, fmt=\"bo\", markersize = 3)\n",
    "\n",
    "# Step 4: Add a R = 0 x-axis (horizontal line) to the plot\n",
    "plt.hlines(y=0, xmin=xmin, xmax=xmax, color='k') # draw axis at y = 0.\n",
    "\n",
    "# Add axis labels and title, and show the graph\n",
    "plt.title(\"Residuals for y vs. x for third dataset\")\n",
    "plt.xlabel(\"x (s)\")\n",
    "plt.ylabel(\"Residual = data - model (m)\")\n",
    "plt.show()"
   ]
  },
  {
   "attachments": {},
   "cell_type": "markdown",
   "id": "d11613d7-5758-49fc-8d24-1847d2fe0ff9",
   "metadata": {
    "tags": []
   },
   "source": [
    "## Part B - Using residuals to obtain best fit parameters and their uncertainties"
   ]
  },
  {
   "attachments": {},
   "cell_type": "markdown",
   "id": "a479fb14-0af9-4cda-8cf7-0e5cb2dfe27a",
   "metadata": {},
   "source": [
    "In the Notebook tutorial in lab 5, we learned how to use the residual plot to find the best fit parameters in a linear model and evaluate their uncertainties. We review this procedure here, looking at an experimental setting which gives similar linear data."
   ]
  },
  {
   "attachments": {},
   "cell_type": "markdown",
   "id": "45c7dffe-92ae-4d01-99db-838acf52990a",
   "metadata": {
    "tags": []
   },
   "source": [
    "### A worked example"
   ]
  },
  {
   "attachments": {},
   "cell_type": "markdown",
   "id": "76e344db-b8cc-4ae8-8108-93caef55f5d8",
   "metadata": {},
   "source": [
    "An experiment was performed using an electric toy car and an ultrasonic position sensor. The toy car was set into motion (travelling at constant velocity) and the position sensor recorded its position, $d$, every 0.5 seconds. From these data we want to determine the speed and initial position of the toy car. From kinematics, we believe that the toy car's position should follow:\n",
    "\n",
    "$$d = vt + d_0$$\n",
    "\n",
    "where $v$ is the speed of the car and $d_0$ is the position at $t=0$. We will therefore model this as a linear model with a non-zero y-intercept.\n",
    "\n",
    "To begin, we will plot the data and then can make some initial estimates of the slope and y-intercept by looking at the graph or the data table. If we perform a quick rise/run slope calculation using the first and last data points, we get:\n",
    "\n",
    "$$\\text{initial slope estimate} = m = \\frac{1.218\\text{m}-0.323\\text{m}}{3.0\\text{s}-0.5\\text{s}} = 0.36\\text{ m/s}.$$\n",
    "\n",
    "Similarly, to get an initial rough estimate of the y-intercept, we could observe that the $d$ value at $t=1\\text{s}$ should be approximately the y-intercept plus the slope times 1 second:\n",
    "\n",
    "$$\\text{initial y-intercept estimate} = b = d_{t=1s} - \\text{slope}\\times 1\\text{s}$$\n",
    "$$\\text{initial y-intercept estimate} = b = 0.537\\text{m} - 0.36\\text{m} \\approx 0.15\\text{m}$$\n",
    "\n",
    "So we build a scatter plot, with an initial linear model using the estimated parameters above, and then build a residuals plot as well. \n",
    "\n",
    "It is also worth noticing that uncertainty in the position, $u\\_d$, increases as the distance between the car and position sensor increases."
   ]
  },
  {
   "cell_type": "code",
   "execution_count": null,
   "id": "8b18f73b-9b8a-4ea6-9d74-b8574759578b",
   "metadata": {},
   "outputs": [],
   "source": [
    "# Run me to load our second data set\n",
    "# Make sure to hit the \"Generate Vectors\" button!\n",
    "\n",
    "de2 = data_entry2.sheet(\"lab06_prelab_data2.csv\")"
   ]
  },
  {
   "cell_type": "code",
   "execution_count": null,
   "id": "b3791af5-c026-4fd7-9943-59c03a8df6e5",
   "metadata": {},
   "outputs": [],
   "source": [
    "# Run me to make an initial set of plots using m = 0.36 and b = 0.15 for initial model estimates\n",
    "\n",
    "# Data/Model Plot\n",
    "# Step 1: find the limits of the data:\n",
    "xmin = np.min(tVec) # use the np.min function to find the smallest x value\n",
    "xmax = np.max(tVec) # same for max\n",
    "#print (xmin, xmax)  # uncomment to see what the limits are\n",
    "\n",
    "# Step 2: generate a bunch of x points between xmin and xmax\n",
    "xpoints = np.linspace(xmin, xmax, 200) # gives 200 evenly spaced points between xmin and xmax\n",
    "#print(xpoints) # uncomment to see the x values that were generated.\n",
    "\n",
    "# Step 3: calculate the model values:\n",
    "slope = 0.36  # Estimate of the slope.\n",
    "intercept = 0.15  # Estimate of the intercept\n",
    "ypoints = xpoints * slope + intercept # this calculates the yvalues at all 200 points.\n",
    "\n",
    "# Step 4: plot the curve. We plot this as a red line \"r-\" :\n",
    "plt.plot(xpoints, ypoints, \"r-\", label = \"d = vt + d0\")\n",
    "\n",
    "# Plot the data:\n",
    "plt.errorbar(tVec, dVec, u_dVec, fmt=\"bo\", markersize=3, label=\"Experimental data\")\n",
    "plt.title(\"Position vs. Time for toy car\")\n",
    "plt.xlabel(\"Time (s)\")\n",
    "plt.ylabel(\"Position (m)\")\n",
    "plt.legend()\n",
    "plt.show()\n",
    "\n",
    "# Residuals Plot\n",
    "# Step 1: Calculate the model at each x-datapoint\n",
    "ymodel = tVec * slope + intercept\n",
    "\n",
    "# Step 2: Calcualte the residual vector\n",
    "ResVec = dVec - ymodel\n",
    "\n",
    "# Step 3: Plot the residual vector against the x-data vector\n",
    "plt.errorbar(tVec, ResVec, u_dVec, fmt=\"bo\", markersize = 3)\n",
    "\n",
    "# Step 4: Add a R = 0 x-axis (horizontal line) to the plot\n",
    "plt.hlines(y=0, xmin=xmin, xmax=xmax, color='k') # draw axis at y = 0.\n",
    "\n",
    "# Add axis labels and title, and show the graph\n",
    "plt.title(\"Position vs. Time for toy car\")\n",
    "plt.xlabel(\"Time (s)\")\n",
    "plt.ylabel(\"Residual = data - model (m)\")\n",
    "plt.show()"
   ]
  },
  {
   "attachments": {},
   "cell_type": "markdown",
   "id": "eda8914c-a6a8-4be1-a4b9-8aeb03d6c643",
   "metadata": {},
   "source": [
    "Looking at the scatter plot above, it looks like our data are roughly linear and that our initial guesses of $m$ and $d_0$ produce a somewhat reasonable model. However, we will make use of the residuals plot and our criteria of good model fits to improve our current fit:\n",
    "\n",
    "*Criteria: The scatter of the residuals for a good fit will follow a Gaussian distribution with a mean of 0, which means we are looking for a roughly equal number of residuals above the y=0 line as below it. Ideally we should also see no obvious trend/shape in the residuals plot.*\n",
    "\n",
    "Let’s use these criteria to make some small adjustments to the slope and intercept of our model. First, notice that the residuals plot shows a small trend where they are slowly decreasing from left to right. Decreasing our slope slightly could fix this, since a smaller slope will decrease the model values more at larger $t$ values, reducing the difference between data and model (the residual) more on the right-hand side of the graph than the left-hand side.\n",
    "\n",
    "Changing the slope to 0.34 below, we see that the trend of increasing from left to right goes away, but our model line is now a bit too low, which can also be seen with most of our residuals (data-model) being positive."
   ]
  },
  {
   "cell_type": "code",
   "execution_count": null,
   "id": "c8c62b93-3ec7-4ddc-ab0a-4eb7dca2e9c0",
   "metadata": {},
   "outputs": [],
   "source": [
    "# Run me to make an updated set of plots using m = 0.34 instead of m = 0.36\n",
    "\n",
    "# Data/Model Plot\n",
    "# Step 1: find the limits of the data:\n",
    "xmin = np.min(tVec) # use the np.min function to find the smallest x value\n",
    "xmax = np.max(tVec) # same for max\n",
    "#print (xmin, xmax)  # uncomment to see what the limits are\n",
    "\n",
    "# Step 2: generate a bunch of x points between xmin and xmax\n",
    "xpoints = np.linspace(xmin, xmax, 200) # gives 200 evenly spaced points between xmin and xmax\n",
    "#print(xpoints) # uncomment to see the x values that were generated.\n",
    "\n",
    "# Step 3: calculate the model values:\n",
    "slope = 0.34  # Estimate of the slope; this has been increased from the previous time.\n",
    "intercept = 0.15  # Estimate of the intercept\n",
    "ypoints = xpoints * slope + intercept # this calculates the yvalues at all 200 points.\n",
    "\n",
    "# Step 4: plot the curve. We plot this as a red line \"r-\" :\n",
    "plt.plot(xpoints, ypoints, \"r-\", label = \"d = vt + d0\")\n",
    "\n",
    "# Plot the data:\n",
    "plt.errorbar(tVec, dVec, u_dVec, fmt=\"bo\", markersize=3, label=\"Experimental data\")\n",
    "plt.title(\"Position vs. Time for toy car\")\n",
    "plt.xlabel(\"Time (s)\")\n",
    "plt.ylabel(\"Position (m)\")\n",
    "plt.legend()\n",
    "plt.show()\n",
    "\n",
    "# Residuals Plot\n",
    "# Step 1: Calculate the model at each x-datapoint\n",
    "ymodel = tVec * slope + intercept\n",
    "\n",
    "# Step 2: Calcualte the residual vector\n",
    "ResVec = dVec - ymodel\n",
    "\n",
    "# Step 3: Plot the residual vector against the x-data vector\n",
    "plt.errorbar(tVec, ResVec, u_dVec, fmt=\"bo\", markersize = 3)\n",
    "\n",
    "# Step 4: Add a R = 0 x-axis (horizontal line) to the plot\n",
    "plt.hlines(y=0, xmin=xmin, xmax=xmax, color='k') # draw axis at y = 0.\n",
    "\n",
    "# Add axis labels and title, and show the graph\n",
    "plt.title(\"Position vs. Time for toy car\")\n",
    "plt.xlabel(\"Time (s)\")\n",
    "plt.ylabel(\"Residual = data - model (m)\")\n",
    "plt.show()"
   ]
  },
  {
   "attachments": {},
   "cell_type": "markdown",
   "id": "58b6e301-446f-4353-860f-590e7b3be18c",
   "metadata": {},
   "source": [
    "Finally, if we adjust the $y$-intercept ($b$), we eventually find that $b$ = 0.17 gets us to a place where the residuals look randomly scattered about 0 and have no obvious trend/shape. If we have a good fit of our model to our data, and our uncertainties have been well estimated, we expect ~68% of our residuals to cross zero, which is the same as ~68% of our data points crossing the model line."
   ]
  },
  {
   "cell_type": "code",
   "execution_count": null,
   "id": "21a65cbb-ce36-4f05-afd6-caba30878b5b",
   "metadata": {},
   "outputs": [],
   "source": [
    "# Run me to make an updated set of plots using m = 0.34 and b = 0.17\n",
    "\n",
    "# Data/Model Plot\n",
    "# Step 1: find the limits of the data:\n",
    "xmin = np.min(tVec) # use the np.min function to find the smallest x value\n",
    "xmax = np.max(tVec) # same for max\n",
    "#print (xmin, xmax)  # uncomment to see what the limits are\n",
    "\n",
    "# Step 2: generate a bunch of x points between xmin and xmax\n",
    "xpoints = np.linspace(xmin, xmax, 200) # gives 200 evenly spaced points between xmin and xmax\n",
    "#print(xpoints) # uncomment to see the x values that were generated.\n",
    "\n",
    "# Step 3: calculate the model values:\n",
    "slope = 0.34  # Estimate of the slope\n",
    "intercept = 0.17  # Estimate of the intercept; this has been decreased\n",
    "ypoints = xpoints * slope + intercept # this calculates the yvalues at all 200 points.\n",
    "\n",
    "# Step 4: plot the curve. We plot this as a red line \"r-\" :\n",
    "plt.plot(xpoints, ypoints, \"r-\", label = \"d = vt + d0\")\n",
    "\n",
    "# Plot the data:\n",
    "plt.errorbar(tVec, dVec, u_dVec, fmt=\"bo\", markersize=3, label=\"Experimental data\")\n",
    "plt.title(\"Position vs. Time for toy car\")\n",
    "plt.xlabel(\"Time (s)\")\n",
    "plt.ylabel(\"Position (m)\")\n",
    "plt.legend()\n",
    "plt.show()\n",
    "\n",
    "# Residuals Plot\n",
    "# Step 1: Calculate the model at each x-datapoint\n",
    "ymodel = tVec * slope + intercept\n",
    "\n",
    "# Step 2: Calcualte the residual vector\n",
    "ResVec = dVec - ymodel\n",
    "\n",
    "# Step 3: Plot the residual vector against the x-data vector\n",
    "plt.errorbar(tVec, ResVec, u_dVec, fmt=\"bo\", markersize = 3)\n",
    "\n",
    "# Step 4: Add a R = 0 x-axis (horizontal line) to the plot\n",
    "plt.hlines(y=0, xmin=xmin, xmax=xmax, color='k') # draw axis at y = 0.\n",
    "\n",
    "# Add axis labels and title, and show the graph\n",
    "plt.title(\"Position vs. Time for toy car\")\n",
    "plt.xlabel(\"Time (s)\")\n",
    "plt.ylabel(\"Residual = data - model (m)\")\n",
    "plt.show()"
   ]
  },
  {
   "attachments": {},
   "cell_type": "markdown",
   "id": "4ec2d84b-e0ca-4c20-83e2-be1976f17838",
   "metadata": {},
   "source": [
    "Let’s interpret these results again. The slope of this graph represents the speed of the car for a model that assumes a constant speed (that’s why we are trying to use a straight line to fit this graph) and that speed is 0.34 m/s. The y-intercept represents the position of the car at $t=0$, which is 0.17m.\n",
    "\n",
    "It is worth noting in all of this that we probably could have used the original scatter plot to improve the fit in a similar way, but this ability of the residuals plot to zoom in on the difference between data and model values allows us to make these sorts of improvements even when the uncertainties in the original scatter plot become invisibly small. \n",
    "\n",
    "But hold on a moment, these fit parameters from the graphs are experimental results and should have uncertainties! Let’s look at how to estimate these."
   ]
  },
  {
   "attachments": {},
   "cell_type": "markdown",
   "id": "afe6a27a-4745-43ee-9a29-e221b8e518b6",
   "metadata": {},
   "source": [
    "### Estimating uncertainties in fitting parameters  (fitting 2 parameters)\n",
    "To estimate uncertainties in fitting parameters, we will use the method of looking at the range of reasonable best-fit lines and treating that as a confidence interval. We will make the steepest possible best-fit line \"Max\" (as in maximum slope) that still does a reasonable job of fitting the data and a least steep \"Min\" (as in minimum slope) that also does a reasonable job of fitting the data. We will call our original model line \"Best\". Use the \"Best\" parameters for the starting guesses for the \"Max\" and \"Min\" fit parameters. While doing this adjusting to find limits on the range of reasonable fits, we are adjusting both the slope and the intercept to find the steepest reasonable line. The parameter choices with the maximum reasonable slope correspond to that with the minimum reasonable intercept."
   ]
  },
  {
   "attachments": {},
   "cell_type": "markdown",
   "id": "0c8ffb4f-a63d-469f-aa6b-f314aa1bfb22",
   "metadata": {},
   "source": [
    "**Your turn #5:** Try adjusting the slope and intercept parameters in the plot below to find the models that correspond to the maximum and minimum slopes that still correspond to reasonable fits. Recall that you will also need to adjust the y-intercepts as well in this process.\n",
    "\n",
    "_Note that similar to estimating confidence intervals with your individual measurements, this process involves some judgement and different people will come up with slightly different, but still reasonable, values; so do not worry if you got slightly different numbers!_"
   ]
  },
  {
   "attachments": {},
   "cell_type": "markdown",
   "id": "0fe08bbf-e508-4afa-97c2-5eeb712c9daf",
   "metadata": {},
   "source": [
    "Your maximum slope answers:\n",
    "* m(max) = \n",
    "* b(min) = \n",
    "\n",
    "Your minimum slope answers:\n",
    "* m(min) =\n",
    "* b(max) ="
   ]
  },
  {
   "attachments": {},
   "cell_type": "markdown",
   "id": "4c756ca0-18a4-46b8-83ee-8508b562699d",
   "metadata": {
    "jp-MarkdownHeadingCollapsed": true,
    "tags": []
   },
   "source": [
    "##### **Answer #5 Max:**"
   ]
  },
  {
   "attachments": {},
   "cell_type": "markdown",
   "id": "defe817e-264b-459c-a135-6bacf545b3bb",
   "metadata": {},
   "source": [
    "We find that $m_{\\text{max}} = 0.37$ and $b_{\\text{min}} = 0.13$ correspond to the maximum slope model still having a reasonable fit"
   ]
  },
  {
   "attachments": {},
   "cell_type": "markdown",
   "id": "cee027f2-a4bf-4557-adcf-9524fb680650",
   "metadata": {
    "jp-MarkdownHeadingCollapsed": true,
    "tags": []
   },
   "source": [
    "##### **Answer #5 Min:**"
   ]
  },
  {
   "attachments": {},
   "cell_type": "markdown",
   "id": "3ada5f7f-cc11-4dc3-9617-c9e1f52dc164",
   "metadata": {},
   "source": [
    "We find that $m_{\\text{max}} = 0.32$ and $b_{\\text{min}} = 0.19$ correspond to the maximum slope model still having a reasonable fit"
   ]
  },
  {
   "attachments": {},
   "cell_type": "markdown",
   "id": "5f072f08-22bb-4631-9767-93524fc99fef",
   "metadata": {},
   "source": [
    "##### Plots to adjust to investigate maximum and minimum slopes"
   ]
  },
  {
   "cell_type": "code",
   "execution_count": null,
   "id": "bbaf52f7-f971-498f-8f7a-8dc9ff71564d",
   "metadata": {},
   "outputs": [],
   "source": [
    "# Data/Model Plot\n",
    "# Step 1: find the limits of the data:\n",
    "xmin = np.min(tVec) # use the np.min function to find the smallest x value\n",
    "xmax = np.max(tVec) # same for max\n",
    "#print (xmin, xmax)  # uncomment to see what the limits are\n",
    "\n",
    "# Step 2: generate a bunch of x points between xmin and xmax\n",
    "xpoints = np.linspace(xmin, xmax, 200) # gives 200 evenly spaced points between xmin and xmax\n",
    "#print(xpoints) # uncomment to see the x values that were generated.\n",
    "\n",
    "# Step 3: calculate the model values:\n",
    "slope = 0.34  # Estimate of the slope\n",
    "intercept = 0.17  # Estimate of the intercept\n",
    "ypoints = xpoints * slope + intercept # this calculates the yvalues at all 200 points.\n",
    "\n",
    "# Step 4: plot the curve. We plot this as a red line \"r-\" :\n",
    "plt.plot(xpoints, ypoints, \"r-\", label = \"d = vt + d0\")\n",
    "\n",
    "# Plot the data:\n",
    "plt.errorbar(tVec, dVec, u_dVec, fmt=\"bo\", markersize=3, label=\"Experimental data\")\n",
    "plt.title(\"Position vs. Time for toy car\")\n",
    "plt.xlabel(\"Time (s)\")\n",
    "plt.ylabel(\"Position (m)\")\n",
    "plt.legend()\n",
    "plt.show()\n",
    "\n",
    "# Residuals Plot\n",
    "# Step 1: Calculate the model at each x-datapoint\n",
    "ymodel = tVec * slope + intercept\n",
    "\n",
    "# Step 2: Calcualte the residual vector\n",
    "ResVec = dVec - ymodel\n",
    "\n",
    "# Step 3: Plot the residual vector against the x-data vector\n",
    "plt.errorbar(tVec, ResVec, u_dVec, fmt=\"bo\", markersize = 3)\n",
    "\n",
    "# Step 4: Add a R = 0 x-axis (horizontal line) to the plot\n",
    "plt.hlines(y=0, xmin=xmin, xmax=xmax, color='k') # draw axis at y = 0.\n",
    "\n",
    "# Add axis labels and title, and show the graph\n",
    "plt.title(\"Position vs. Time for toy car\")\n",
    "plt.xlabel(\"Time (s)\")\n",
    "plt.ylabel(\"Residual = data - model (m)\")\n",
    "plt.show()"
   ]
  },
  {
   "attachments": {},
   "cell_type": "markdown",
   "id": "90663293-e8ff-4a49-a903-1cd98cfb1900",
   "metadata": {},
   "source": [
    "For the sake of comparison, we plot all three different models below (best/max/min):"
   ]
  },
  {
   "cell_type": "code",
   "execution_count": null,
   "id": "3f76b471-b0bb-4b71-a9b6-1b263a2f6e2a",
   "metadata": {},
   "outputs": [],
   "source": [
    "# Run me to see all three models (best/max/min) on the same scatter plot \n",
    "\n",
    "# Step 1: find the limits of the data:\n",
    "xmin = np.min(tVec) # use the np.min function to find the smallest x value\n",
    "xmax = np.max(tVec) # same for max\n",
    "#print (xmin, xmax)  # uncomment to see what the limits are\n",
    "\n",
    "# Step 2: generate a bunch of x points between xmin and xmax\n",
    "xpoints = np.linspace(xmin, xmax, 200) # gives 200 evenly spaced points between xmin and xmax\n",
    "#print(xpoints) # uncomment to see the x values that were generated.\n",
    "\n",
    "# Step 3: calculate the model values:\n",
    "best_slope = 0.34  # Estimate of the slope\n",
    "best_intercept = 0.17  # Estimate of the intercept\n",
    "best_ypoints = xpoints * best_slope + best_intercept # this calculates the yvalues at all 200 points.\n",
    "\n",
    "max_slope = 0.37\n",
    "min_intercept = 0.13\n",
    "max_ypoints = xpoints * max_slope + min_intercept\n",
    "\n",
    "min_slope = 0.32\n",
    "max_intercept = 0.19\n",
    "min_ypoints = xpoints * min_slope + max_intercept\n",
    "\n",
    "# Uncertainties\n",
    "um = (max_slope-min_slope)/2\n",
    "ub = (max_intercept-min_intercept)/2\n",
    "print(\"u[m] =\",um,\"m/s\")\n",
    "print(\"u[b] =\",ub,\"m\")\n",
    "\n",
    "# Step 4: plot the curve. We plot this as a red line \"r-\" :\n",
    "plt.plot(xpoints, best_ypoints, \"r-\", label = \"d = vt + d0 best\")\n",
    "plt.plot(xpoints, max_ypoints, \"g-\", label = \"d = vt + d0 max\")\n",
    "plt.plot(xpoints, min_ypoints, \"y-\", label = \"d = vt + d0 min\")\n",
    "\n",
    "# Plot the data:\n",
    "plt.errorbar(tVec, dVec, u_dVec, fmt=\"bo\", markersize=3, label=\"Experimental data\")\n",
    "plt.title(\"Position vs. Time for toy car\")\n",
    "plt.xlabel(\"Time (s)\")\n",
    "plt.ylabel(\"Position (m)\")\n",
    "plt.legend()\n",
    "plt.show()"
   ]
  },
  {
   "attachments": {},
   "cell_type": "markdown",
   "id": "0bf02595-7d89-43b9-b458-918f1afe13cc",
   "metadata": {},
   "source": [
    "This method of determining uncertainties in the fit parameters is quite crude and is meant to give a very rough approximation of these fit parameters uncertainties. We will take these max and min fit parameter values as representing 68% confidence intervals. The standard uncertainty will be a quarter of the width of the 95% Confidence Interval. For the slope we have:\n",
    "\n",
    "$$u\\_m = (m_{\\text{max}} - m_{\\text{min}})/2 = (0.37-0.32)/2 = 0.025\\text{ m/s}$$\n",
    "\n",
    "and for the y-intercept:\n",
    "\n",
    "$$u\\_b = (0.19 - 0.13)/2 = 0.030\\text{ m}$$"
   ]
  },
  {
   "attachments": {},
   "cell_type": "markdown",
   "id": "277a0e26-0af9-462b-a570-9069ca3aaf2e",
   "metadata": {},
   "source": [
    "We report our final results from this fit as the car having a speed ($m = v$) of:\n",
    "\n",
    "$$v \\pm u\\_v = 0.340 \\pm 0.026\\text{ m/s}$$\n",
    "\n",
    "and an initial position ($b = d_0$) of:\n",
    "\n",
    "$$d_0 \\pm u\\_d_0 = 0.170 \\pm 0.030 \\text{ m}$$"
   ]
  },
  {
   "attachments": {},
   "cell_type": "markdown",
   "id": "579a87c6-e8d9-4ef5-a3ea-8235170cf587",
   "metadata": {},
   "source": [
    "**Your turn #6:** Below is the experimental data for the position vs. time of a different toy car. Following the procedure as we covered in the above worked example (and in the tutorial), use the residual plot to determine the best fit model parameters and their uncertainties; from this conclude the initial position and speed of the toy car.\n",
    "\n",
    "To review:\n",
    "1. Start by plotting a scatterplot of the below data, with a linear model (with y-intercept) and a residuals plot. We provide the code for this below, with a poor starting guesses of $m = 0.7$ and $b = 0.2$. \n",
    "2. Using the residuals plot, adjust the slope and the y-intercept values until you see no trend in the residuals. This will give you the best fit slope $m_{\\text{best}}$ and y-intercept $b_{\\text{best}}$. \n",
    "3. Increase the slope/decrease the y-intercept to the extent possible where the model still fits the data reasonably well (as evaluated by the residuals). From this obtain $m_{\\text{max}}$ and $b_{\\text{min}}$. Analogously, obtain $m_{\\text{min}}$ and $b_{\\text{max}}$ by pushing the model parameters in the opposite direction.\n",
    "4. From $m_{\\text{max}}/m_{\\text{min}}$ and $b_{\\text{max}}/b_{\\text{min}}$, calculate the uncertainties in $m$ and $b$.\n",
    "5. The speed of the car can be identified as the slope of the distance vs. time graph, and the initial position can be identified as the y-intercept of the graph. Given this, report the speed and initial position of the toy car with uncertainty.\n",
    "\n",
    "_Note: It is not necessary to copy and paste the same block of plotting code multiple times (this was done in the worked example above so that it is easier to follow); it suffices to have one single block of plotting code that you can run multiple times while changing the parameters inside._"
   ]
  },
  {
   "cell_type": "code",
   "execution_count": null,
   "id": "210a1dcd-428c-475d-8dc2-0a393fcec2ee",
   "metadata": {},
   "outputs": [],
   "source": [
    "# Run me to load our third data set\n",
    "# Make sure to hit the \"Generate Vectors\" button!\n",
    "\n",
    "de3 = data_entry2.sheet(\"lab06_prelab_data3.csv\")"
   ]
  },
  {
   "cell_type": "code",
   "execution_count": null,
   "id": "9f95619d-7280-44e0-988d-0479d47f66d3",
   "metadata": {},
   "outputs": [],
   "source": [
    "\n",
    "\n",
    "# Data/Model Plot\n",
    "# Step 1: find the limits of the data:\n",
    "xmin = np.min(tVec) # use the np.min function to find the smallest x value\n",
    "xmax = np.max(tVec) # same for max\n",
    "#print (xmin, xmax)  # uncomment to see what the limits are\n",
    "\n",
    "# Step 2: generate a bunch of x points between xmin and xmax\n",
    "xpoints = np.linspace(xmin, xmax, 200) # gives 200 evenly spaced points between xmin and xmax\n",
    "#print(xpoints) # uncomment to see the x values that were generated.\n",
    "\n",
    "# Step 3: calculate the model values:\n",
    "#\n",
    "# Use the comments below to keep track of your best, max and min fit parameters\n",
    "#\n",
    "# m(best) =\n",
    "# b(best) =\n",
    "#\n",
    "# m(max) =\n",
    "# b(min) =\n",
    "#\n",
    "# m(min) =\n",
    "# b(max) = \n",
    "#\n",
    "############## MODIFY THE MODEL PARAMETERS HERE #####################\n",
    "slope = 0.7  # Estimate of the slope\n",
    "intercept = 0.2  # Estimate of the intercept\n",
    "#####################################################################\n",
    "ypoints = xpoints * slope + intercept # this calculates the yvalues at all 200 points.\n",
    "\n",
    "# Step 4: plot the curve. We plot this as a red line \"r-\" :\n",
    "plt.plot(xpoints, ypoints, \"r-\", label = \"d = vt + d0\")\n",
    "\n",
    "# Plot the data:\n",
    "plt.errorbar(tVec, dVec, u_dVec, fmt=\"bo\", markersize=3, label=\"Experimental data\")\n",
    "plt.title(\"Position vs. Time for toy car\")\n",
    "plt.xlabel(\"Time (s)\")\n",
    "plt.ylabel(\"Position (m)\")\n",
    "plt.legend()\n",
    "plt.show()\n",
    "\n",
    "# Residuals Plot\n",
    "# Step 1: Calculate the model at each x-datapoint\n",
    "ymodel = tVec * slope + intercept\n",
    "\n",
    "# Step 2: Calcualte the residual vector\n",
    "ResVec = dVec - ymodel\n",
    "\n",
    "# Step 3: Plot the residual vector against the x-data vector\n",
    "plt.errorbar(tVec, ResVec, u_dVec, fmt=\"bo\", markersize = 3)\n",
    "\n",
    "# Step 4: Add a R = 0 x-axis (horizontal line) to the plot\n",
    "plt.hlines(y=0, xmin=xmin, xmax=xmax, color='k') # draw axis at y = 0.\n",
    "\n",
    "# Add axis labels and title, and show the graph\n",
    "plt.title(\"Position vs. Time for toy car\")\n",
    "plt.xlabel(\"Time (s)\")\n",
    "plt.ylabel(\"Residual = data - model (m)\")\n",
    "plt.show()"
   ]
  },
  {
   "attachments": {},
   "cell_type": "markdown",
   "id": "cdfa536a-2f4e-462e-80dd-9807d85e4a5d",
   "metadata": {},
   "source": []
  },
  {
   "attachments": {},
   "cell_type": "markdown",
   "id": "43f99a8b-81b4-489f-9c3c-4507014b16de",
   "metadata": {},
   "source": [
    "# Submit\n",
    "\n",
    "Steps for submission:\n",
    "\n",
    "1. Click: Run => Run_All_Cells\n",
    "2. Read through the notebook to ensure all the cells executed correctly and without error.\n",
    "3. File => Save_and_Export_Notebook_As->HTML\n",
    "4. Inspect your downloaded html document\n",
    "5. Upload the HTML document to the lab submission assignment on Canvas."
   ]
  },
  {
   "cell_type": "code",
   "execution_count": null,
   "id": "5300ab2e",
   "metadata": {},
   "outputs": [],
   "source": []
  },
  {
   "cell_type": "code",
   "execution_count": null,
   "id": "eb38a50c-d9d7-46da-9f99-0b3823d14b1a",
   "metadata": {},
   "outputs": [],
   "source": [
    "display_sheets()"
   ]
  }
 ],
 "metadata": {
  "kernelspec": {
   "display_name": "Python 3 (ipykernel)",
   "language": "python",
   "name": "python3"
  },
  "language_info": {
   "codemirror_mode": {
    "name": "ipython",
    "version": 3
   },
   "file_extension": ".py",
   "mimetype": "text/x-python",
   "name": "python",
   "nbconvert_exporter": "python",
   "pygments_lexer": "ipython3",
   "version": "3.11.5"
  },
  "widgets": {
   "application/vnd.jupyter.widget-state+json": {
    "state": {},
    "version_major": 2,
    "version_minor": 0
   }
  }
 },
 "nbformat": 4,
 "nbformat_minor": 5
}
