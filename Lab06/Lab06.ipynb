{
 "cells": [
  {
   "attachments": {},
   "cell_type": "markdown",
   "id": "8de8e3ae-6ec1-459d-8891-723280cf44fc",
   "metadata": {
    "id": "61ed9912-a3b5-4024-b62b-49c912b1aa25"
   },
   "source": [
    "# Lab 06 - Ohm's Law (Part 2)"
   ]
  },
  {
   "attachments": {},
   "cell_type": "markdown",
   "id": "303093f5-5a84-435b-a9d6-1a16f3ffa57c",
   "metadata": {
    "id": "355521ea-d050-45f2-93d5-988f72f018a2"
   },
   "source": [
    "Edit this cell and provide the information requested:\n",
    "\n",
    "- Your name:\n",
    "- Your student number:\n",
    "- Partner's name:"
   ]
  },
  {
   "cell_type": "code",
   "execution_count": 1,
   "id": "c1ccb1a5-b97d-4814-8c70-d2c0ea9b4c14",
   "metadata": {
    "id": "b795858f-a049-496e-a9bb-8128e61d49c3"
   },
   "outputs": [],
   "source": [
    "%reset -f\n",
    "import numpy as np\n",
    "import data_entry2\n",
    "import matplotlib.pyplot as plt"
   ]
  },
  {
   "attachments": {},
   "cell_type": "markdown",
   "id": "e14d1686-3a61-41a0-8b19-8f1c3901e5b8",
   "metadata": {},
   "source": [
    "## Part A - Intro & Learning Activities"
   ]
  },
  {
   "attachments": {},
   "cell_type": "markdown",
   "id": "cb9b11bb-4ce0-415c-8b5a-cce2297469d5",
   "metadata": {
    "id": "f8ab58f4-f2bf-4517-a32e-e8626a910a48"
   },
   "source": []
  },
  {
   "attachments": {},
   "cell_type": "markdown",
   "id": "518d538e-c0d3-4418-874a-db411d6558cb",
   "metadata": {},
   "source": []
  },
  {
   "attachments": {},
   "cell_type": "markdown",
   "id": "5a92851b-0d2c-4bdd-9148-c6d886bff8d3",
   "metadata": {},
   "source": [
    "## Part B - Revisiting the fit to last week's data"
   ]
  },
  {
   "cell_type": "code",
   "execution_count": null,
   "id": "2cd7e857-5bdb-47d2-85af-bf5fc5485e94",
   "metadata": {},
   "outputs": [],
   "source": []
  },
  {
   "attachments": {},
   "cell_type": "markdown",
   "id": "0943a0da-de32-434c-b6e4-12ea25661d66",
   "metadata": {},
   "source": [
    "## Part C -  Familiarize Part I (Build your circuit)"
   ]
  },
  {
   "attachments": {},
   "cell_type": "markdown",
   "id": "99fa2e72-f70f-44b2-91e0-2b001b33f4ac",
   "metadata": {},
   "source": []
  },
  {
   "attachments": {},
   "cell_type": "markdown",
   "id": "e936ce58-5c02-4063-87c7-8f264d1c96bc",
   "metadata": {},
   "source": [
    "## Part D - Familiarize Part II (Explore)"
   ]
  },
  {
   "cell_type": "code",
   "execution_count": null,
   "id": "abe09cc7-7b08-44cf-ab06-4d46e68b424b",
   "metadata": {},
   "outputs": [],
   "source": []
  },
  {
   "attachments": {},
   "cell_type": "markdown",
   "id": "5fd43319-b167-4a89-a425-6af506ab8100",
   "metadata": {},
   "source": [
    "## Part E - Measure, Analyze, Reflect"
   ]
  },
  {
   "cell_type": "code",
   "execution_count": null,
   "id": "0ba2f6c1-0533-4f6d-8818-21cea7dcbeb5",
   "metadata": {},
   "outputs": [],
   "source": []
  },
  {
   "attachments": {},
   "cell_type": "markdown",
   "id": "d2fef773-83f2-4bcc-9a00-38a2d588ace7",
   "metadata": {},
   "source": []
  },
  {
   "attachments": {},
   "cell_type": "markdown",
   "id": "854ac493-4037-42c4-8f6b-68188f458544",
   "metadata": {},
   "source": [
    "## Part F - Iterate and Improve"
   ]
  },
  {
   "cell_type": "code",
   "execution_count": null,
   "id": "6ce9fa9d-93e5-4156-aec2-94fb376d0490",
   "metadata": {},
   "outputs": [],
   "source": []
  },
  {
   "attachments": {},
   "cell_type": "markdown",
   "id": "1be072de-eb92-4347-b8df-abf0eaf37d1d",
   "metadata": {},
   "source": [
    "## Part G - Completing the Lab"
   ]
  },
  {
   "cell_type": "code",
   "execution_count": null,
   "id": "1177e7c9-47be-4a1b-b5d9-45476e0228d8",
   "metadata": {},
   "outputs": [],
   "source": []
  },
  {
   "attachments": {},
   "cell_type": "markdown",
   "id": "1de977e3-3d41-41e1-b1ab-95e9bb92bd9f",
   "metadata": {},
   "source": [
    "# Submit\n",
    "\n",
    "Steps for submission:\n",
    "\n",
    "1. Click: Run => Run_All_Cells\n",
    "2. Read through the notebook to ensure all the cells executed correctly and without error.\n",
    "3. File => Save_and_Export_Notebook_As->HTML\n",
    "4. Inspect your exported html\n",
    "5. Upload the HTML document to the lab submission assignment on Canvas."
   ]
  },
  {
   "cell_type": "code",
   "execution_count": null,
   "id": "fd053003",
   "metadata": {},
   "outputs": [],
   "source": []
  },
  {
   "cell_type": "code",
   "execution_count": null,
   "id": "ec5f41ef-d3a4-42fb-9883-1649d9c3434c",
   "metadata": {},
   "outputs": [],
   "source": [
    "display_sheets()"
   ]
  }
 ],
 "metadata": {
  "kernelspec": {
   "display_name": "Python 3 (ipykernel)",
   "language": "python",
   "name": "python3"
  },
  "language_info": {
   "codemirror_mode": {
    "name": "ipython",
    "version": 3
   },
   "file_extension": ".py",
   "mimetype": "text/x-python",
   "name": "python",
   "nbconvert_exporter": "python",
   "pygments_lexer": "ipython3",
   "version": "3.11.5"
  },
  "widgets": {
   "application/vnd.jupyter.widget-state+json": {
    "state": {},
    "version_major": 2,
    "version_minor": 0
   }
  }
 },
 "nbformat": 4,
 "nbformat_minor": 5
}
