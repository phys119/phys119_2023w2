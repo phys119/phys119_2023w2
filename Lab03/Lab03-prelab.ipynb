{
 "cells": [
  {
   "cell_type": "markdown",
   "id": "518183bc-a091-4568-a016-ae4ac3f76c8c",
   "metadata": {
    "id": "518183bc-a091-4568-a016-ae4ac3f76c8c"
   },
   "source": [
    "# Lab 03 Prelab, Part 2 - Analysis preparation and initial data collection"
   ]
  },
  {
   "cell_type": "markdown",
   "id": "c09706c7-5926-4907-adfa-c9067bc9a00d",
   "metadata": {},
   "source": [
    "Please complete Part 1 of the prelab on Canvas before working through this notebook."
   ]
  },
  {
   "cell_type": "code",
   "execution_count": null,
   "id": "4e142931-ccce-4ee2-a592-68019af67fd5",
   "metadata": {
    "id": "4e142931-ccce-4ee2-a592-68019af67fd5"
   },
   "outputs": [],
   "source": [
    "%reset -f \n",
    "# Clear all variables, start with a clean environment.\n",
    "import numpy as np\n",
    "import data_entry2"
   ]
  },
  {
   "cell_type": "markdown",
   "id": "732687db-903c-4002-84b8-a9af6bfe6673",
   "metadata": {
    "id": "732687db-903c-4002-84b8-a9af6bfe6673"
   },
   "source": [
    "This prelab activity introduces a useful features in our data_entry2 spreadsheet tool and then walks you through how to calculate, using Python, the quantities _average_, _standard deviation_ and _(standard) uncertainty of the mean_. It starts by using a hypothetical example data set to guide you through the use of the relevant Python functions. The work done with the hypothetical data set will not be handed in directly, and instead will set you up to perform these same calculations on some real data, also collected in this prelab. "
   ]
  },
  {
   "cell_type": "markdown",
   "id": "eaeb910a-2970-4119-9502-1d186004228c",
   "metadata": {},
   "source": [
    "## Simple Calculations in data_entry2 cells"
   ]
  },
  {
   "cell_type": "markdown",
   "id": "bba062aa-fc5a-451c-b499-bd6cf24c724d",
   "metadata": {},
   "source": [
    "It is possible to do some simple calculations directly in the data_entry2 sheet. In general we want you to do calculations using python, but for some tasks, most notably recording your uncertainties, it is very convenient to use this feature of the sheet.\n",
    "\n",
    "As an example, if you measure a mass of 497 g, and estimate a 95% confidence interval of 477 -> 516 g, your sheet could look like:\n"
   ]
  },
  {
   "cell_type": "markdown",
   "id": "fe6aa860-b4b8-4862-a30f-6087cc10636e",
   "metadata": {},
   "source": [
    "| m | u_m|\n",
    "| ------ | ------- |\n",
    "| g | g |\n",
    "| 497 | = (516-477)/4|\n"
   ]
  },
  {
   "cell_type": "markdown",
   "id": "4437b2f4-a3c6-4708-a244-245a781d912a",
   "metadata": {},
   "source": [
    "Alternatively, if you have a rectangular PDF on a balance with a 10 g resolution, you might use something like:"
   ]
  },
  {
   "cell_type": "markdown",
   "id": "4128f55b-980b-48da-af50-e357638e044c",
   "metadata": {},
   "source": [
    "| m | u_m |\n",
    "| ------ | ------- |\n",
    "| g | g |\n",
    "| 142 | = 10/(2 * np.sqrt(3))|\n"
   ]
  },
  {
   "cell_type": "markdown",
   "id": "27e93933-d567-4acc-b971-11b5575fc9ff",
   "metadata": {},
   "source": [
    "**Try it**\n",
    "\n",
    "Use the sheet below to try out both of these styles of uncertainty.\n",
    "- enter a variable name, m (in grams) for the first column, and um in the second column. \n",
    "\n",
    "- In the next two rows, enter the measurements and expressions to calculate uncertainties as shown in the two examples above.\n",
    "\n",
    "- To get rid of unused rows and columns, execute (Shift-Enter) in the notebook cell that creates the sheet again.\n",
    "\n",
    "- Notice that in the sheet interface, you see the formulas you've entered, but that when you Generate Vectors, the expressions are evaluated and the generated uncertainy vector contains the results of the calculations.\n",
    "\n",
    "- Alter one of the expressions in the uncertainy column so that it contains an error - perhaps add an extra ')' at the end of the expression\n",
    "to see what happens."
   ]
  },
  {
   "cell_type": "code",
   "execution_count": null,
   "id": "c9888e54-a6ab-414c-b5d6-bde7a0416a88",
   "metadata": {},
   "outputs": [],
   "source": [
    "de0 = data_entry2.sheet(\"test_formulas\")"
   ]
  },
  {
   "cell_type": "markdown",
   "id": "42e79d28-fc94-43fd-9703-59d9cf639822",
   "metadata": {
    "id": "42e79d28-fc94-43fd-9703-59d9cf639822",
    "tags": []
   },
   "source": [
    "## Summary of Part 1 of the prelab"
   ]
  },
  {
   "cell_type": "markdown",
   "id": "82c3f210-fbae-487a-a7d3-407925419bba",
   "metadata": {
    "id": "82c3f210-fbae-487a-a7d3-407925419bba"
   },
   "source": [
    "Here is a summary of the statistics concepts covered or reviewed in part 1 of this prelab:\n",
    "\n",
    "**a)** Average is given by\n",
    "     \n",
    "$$x_{ave} = \\frac{1}{N} \\sum_{i=1}^N x_i$$\n",
    "\n",
    "**b)** For variables that follow a Gaussian distribution, approximately 68\\% of the values lie between the range $ x_{ave} - \\sigma$ to $x_{ave} + \\sigma$ **(68% CI)**\n",
    "\n",
    "**c)** Approximately 95% of the values will lie within the range $ x_{ave} - 2\\sigma$ to $x_{ave} + 2\\sigma$ **(95% CI)**\n",
    "\n",
    "**d)** Standard deviation is given by \n",
    "\n",
    "$$ \\sigma = \\frac{95\\% \\,\\mathrm{CI}}{4} = \\sqrt{\\frac{1}{N-1}\\sum_{i=1}^N \\left(x_i - x_{ave}\\right)^2} $$\n",
    "\n",
    "**e)** We use the standard deviation as an indicator of the uncertainty (or the variability) in a single measurement and it does not depend on the number of measurements taken. \n",
    "\n",
    "**f)** Uncertainty of the mean (often called standard error of the mean) is given by\n",
    "\n",
    "$$\\sigma_m = u\\_x_{ave} = \\frac{\\sigma}{\\sqrt{N}}$$\n",
    "\n",
    "We use uncertainty of the mean as an indicator of the uncertainty (or the variability) in the average of multiple measurements and it does improve as we increase the number of measurements."
   ]
  },
  {
   "cell_type": "markdown",
   "id": "63aa2504-672f-4e5c-bd6c-b44997bca23c",
   "metadata": {
    "id": "63aa2504-672f-4e5c-bd6c-b44997bca23c",
    "tags": []
   },
   "source": [
    "## Developing your Python skills"
   ]
  },
  {
   "cell_type": "markdown",
   "id": "c45b9c11-a0be-4126-b601-90f47a27987c",
   "metadata": {
    "id": "c45b9c11-a0be-4126-b601-90f47a27987c"
   },
   "source": [
    "Let's import a spreadsheet of our data \"prelab03_01\""
   ]
  },
  {
   "cell_type": "code",
   "execution_count": null,
   "id": "29d83f88-0b2b-4c91-9286-2858b340b165",
   "metadata": {
    "id": "29d83f88-0b2b-4c91-9286-2858b340b165"
   },
   "outputs": [],
   "source": [
    "# Run me to import the spreadsheet, `prelab03_1`, which is found in the same directory as `Lab03-prelab.ipynb`\n",
    "de = data_entry2.sheet('prelab03_1')"
   ]
  },
  {
   "cell_type": "markdown",
   "id": "cda27066-c8fd-4a69-8c41-274090093419",
   "metadata": {
    "id": "cda27066-c8fd-4a69-8c41-274090093419"
   },
   "source": [
    "Below is a table of the hypothetical data in your imported spreadsheet\n",
    "\n",
    "**Your turn #1:** Double-check that you have the correct number of data points. It should be 25, but you need to recall that Python indexing starts at 0! "
   ]
  },
  {
   "cell_type": "markdown",
   "id": "7ca6d482-4ec1-4ee4-b7b3-746a6ba85b8e",
   "metadata": {
    "id": "7ca6d482-4ec1-4ee4-b7b3-746a6ba85b8e",
    "tags": []
   },
   "source": [
    "### Hypothetical data"
   ]
  },
  {
   "cell_type": "markdown",
   "id": "8e82326f-8609-4a64-afe5-16af323fe8cf",
   "metadata": {
    "id": "8e82326f-8609-4a64-afe5-16af323fe8cf"
   },
   "source": [
    "| d (mm) |\n",
    "| ------ |\n",
    "| 439.3  |\n",
    "431.6\n",
    "434.6\n",
    "433.3\n",
    "439.3\n",
    "442.6\n",
    "428.6\n",
    "441.6\n",
    "431.2\n",
    "427.6\n",
    "433.2\n",
    "441.3\n",
    "436\n",
    "437.6\n",
    "434.7\n",
    "433.2\n",
    "433.1\n",
    "431.3\n",
    "436\n",
    "432.9\n",
    "436.5\n",
    "437.2\n",
    "435.7\n",
    "432.6\n",
    "434.7"
   ]
  },
  {
   "cell_type": "markdown",
   "id": "67a09e76-6eb5-443a-a5e8-9880a08e341f",
   "metadata": {
    "id": "67a09e76-6eb5-443a-a5e8-9880a08e341f",
    "tags": []
   },
   "source": [
    "## Calculating average and standard deviation using Python numpy functions"
   ]
  },
  {
   "cell_type": "markdown",
   "id": "cd87dc55-4330-46b5-9268-7ca0f93842bd",
   "metadata": {},
   "source": [
    "**Your turn #2:** Press the 'Generate Vectors' button at the top of your spreadsheet to transfer the data into the Python environment and then calculate the average and standard deviation in the cell below using the `np.mean` and `np.std()` functions, respectively. `np.mean` has a single *argument*, which is the vector of values over which to calculate the average. We discuss the second argument in `np.std` below.\n",
    "\n",
    "_Note: If it is not working correctly, double-check above that you have correctly titled the single spreadsheet column as 'd' and that there is a resulting generated vector 'dVec'._"
   ]
  },
  {
   "cell_type": "code",
   "execution_count": null,
   "id": "f6164c32-3e04-452e-8ee3-5f492278006e",
   "metadata": {
    "id": "f6164c32-3e04-452e-8ee3-5f492278006e"
   },
   "outputs": [],
   "source": [
    "# Run me to calculate average and standard deviation. Note how we're able to include descriptive text and units in the print commands.\n",
    "\n",
    "dAve = np.mean(dVec)\n",
    "print(\"Average of d =\", dAve, \"mm\")\n",
    "\n",
    "dStd = np.std(dVec, ddof=1)\n",
    "print(\"Standard deviation of d =\", dStd, \"mm\")"
   ]
  },
  {
   "cell_type": "markdown",
   "id": "41729d00-9c41-4adb-a282-f430838b8ab6",
   "metadata": {
    "id": "41729d00-9c41-4adb-a282-f430838b8ab6"
   },
   "source": [
    "You should find that the average is 435.028 mm, which is consistent with our earlier estimate of 435 mm from the histogram. The standard deviation should be 3.8362872676586677 mm, which would be 3.8 mm if we were to round it to 2 significant figures when we report it. This is also consistent with our estimate of 4 mm using the 95% Confidence Interval with the histogram earlier.\n",
    "\n",
    "Note that in 'np.std()' we are supplying a second argument, `ddof=1`; this additional argument is needed because the np.std() function uses a general formula in its calculation - it can be used for a number of related calculations. In particular the formula it uses is:\n",
    "\n",
    "$$ \\textrm{np.std()} = \\sqrt{\\frac{1}{N-\\textrm{ddof}}\\sum_{i=1}^N \\left(x_i - x_{ave}\\right)^2} $$\n",
    "\n",
    "We want $N-1$ in the denominator as per our definition of standard deviation, so we need to use `ddof = 1`:\n",
    "\n",
    "$$ \\sigma = \\sqrt{\\frac{1}{N-1}\\sum_{i=1}^N \\left(x_i - x_{ave}\\right)^2} $$\n",
    "\n",
    "If you are interested, ddof is an abbreviation for 'delta degrees of freedom.' As discussed in Lab 01, we use one 'degree of freedom' from our dataset when we calculate the average. Since the average is used in the calculation of standard deviation, we control for this in the formula for standard deviation by dividing the squared differences between each data point in the mean by $N-1$ instead of $N$. "
   ]
  },
  {
   "cell_type": "markdown",
   "id": "def0eaa1-7eb6-41b9-848d-4a745d2156e8",
   "metadata": {},
   "source": [
    "If you want to control the number of significant figures displayed you can modify the print statement as follows. Within the curly braces, the ':.2' tells the print function to round the variable specified to 'format()' - in this case 'dStd', the standard deviation of 'd' - to two digits. "
   ]
  },
  {
   "cell_type": "code",
   "execution_count": null,
   "id": "6b65f649-4472-4c58-a275-5bc9014f4d61",
   "metadata": {
    "id": "6b65f649-4472-4c58-a275-5bc9014f4d61"
   },
   "outputs": [],
   "source": [
    "# Run me to print dStd with 2 decimal places \"{:.2}\"\n",
    "\n",
    "print(\"Standard deviation to 2 sig figs = {:.2} mm\".format(dStd))"
   ]
  },
  {
   "cell_type": "markdown",
   "id": "2804849a-adc3-491d-bdb2-68b4eac73815",
   "metadata": {
    "id": "2804849a-adc3-491d-bdb2-68b4eac73815"
   },
   "source": [
    "Let's step back for a moment and think about what the standard deviation represents. Twenty-five measurements were made using the same experimental procedure, so this standard deviation is a method we can use to represent the variability in our measurements. In the language we are using in the lab, this standard deviation is the single-measurement standard uncertainty of the distance, $u\\_d_1$. What does this mean? It means that if we wanted to report the value and uncertainty for one of our measurements of $d$, 434.7 mm for example, we would report it as:\n",
    "\n",
    "$$ d_1 = (434.7 \\pm 3.8) \\, \\textnormal{mm} $$\n"
   ]
  },
  {
   "cell_type": "markdown",
   "id": "640021e0-b9d4-48fe-a986-e153af09578e",
   "metadata": {
    "id": "640021e0-b9d4-48fe-a986-e153af09578e"
   },
   "source": [
    "The subscript '1' is being used here to emphasize that we are talking about a single measurement and not the average. We will look at the uncertainty in the average later.\n",
    "\n",
    "The variability (the standard deviation) in the 25 measurements that we made describes us how confident we should be in any one of the individual values. Instead of estimating our uncertainty from a single measurement as we did with the height of the spring in the first two labs, the use of repeated measurements can allow us to measure the variability in our measurements in a more rigorous way."
   ]
  },
  {
   "cell_type": "markdown",
   "id": "9e8fa3d1-d557-4331-9ecd-5a64049da58f",
   "metadata": {
    "id": "9e8fa3d1-d557-4331-9ecd-5a64049da58f",
    "tags": []
   },
   "source": [
    "## Calculating average and standard deviation the \"long way\" using Python"
   ]
  },
  {
   "cell_type": "markdown",
   "id": "63ea1d14-5d74-4555-b190-361d253e79ab",
   "metadata": {
    "id": "63ea1d14-5d74-4555-b190-361d253e79ab"
   },
   "source": [
    "*In the lab, you do not need to perform your calculations the \"long way\", but we want you to learn how to do it this way as part of the prelab for the following reasons:*\n",
    "\n",
    "1. Many of the calculations we perform later in this course will not correspond to built-in functions, so it is useful to learn how to do more complicated calculations.\n",
    "2. Breaking down complicated calculations into a several lines of code---as we do in these \"long way\" calculations---is the strategy that we will be encouraging you to use for most of your coding work going forward in this course.\n",
    "3. We will also be giving you a few generally useful tips and skills during this process.\n",
    "4. It is often easier to find problems or errors in your calculations if you can look at intermediate values."
   ]
  },
  {
   "cell_type": "markdown",
   "id": "23f88bb4-9285-4b68-8502-cdd8cfb4c94a",
   "metadata": {
    "id": "23f88bb4-9285-4b68-8502-cdd8cfb4c94a",
    "tags": []
   },
   "source": [
    "### Calculating average the \"long way\""
   ]
  },
  {
   "cell_type": "markdown",
   "id": "1a1f1b0c-df39-436e-83da-6e09059f451e",
   "metadata": {
    "id": "1a1f1b0c-df39-436e-83da-6e09059f451e"
   },
   "source": [
    "Let's revisit our equation for calculating average,\n",
    "\n",
    "$$x_{ave} = \\frac{1}{N} \\sum_{i=1}^N x_i$$\n",
    "\n",
    "We will break the operation of calculating the average into steps. We will first sum up all the $x_i$ values, then count how many values there are ($N$), and then finally calculate the quotient.\n",
    "\n",
    "**Your turn #3a:** Similar to `np.mean()` and `np.std()`, there is a NumPy function for calculating a sum,`np.sum()`. Use this function in the code cell below to define a variable 'dSum' which is the result of the sum over 'dVec'."
   ]
  },
  {
   "cell_type": "code",
   "execution_count": null,
   "id": "16ec6a6e-e56e-4202-96ef-96af4b426b9c",
   "metadata": {
    "id": "16ec6a6e-e56e-4202-96ef-96af4b426b9c"
   },
   "outputs": [],
   "source": [
    "# Use this cell to define a variable dSum, which uses np.sum to sum over dVec\n",
    "\n"
   ]
  },
  {
   "cell_type": "markdown",
   "id": "4b9dad83-ca29-4ae6-a0ad-8786974c0fa0",
   "metadata": {
    "id": "4b9dad83-ca29-4ae6-a0ad-8786974c0fa0"
   },
   "source": [
    "Next, the built-in Python function `len()` calculate how \"long\" a vector is, i.e. it counts up the number of elements within the supplied variable. For instance, if you run the code cell below you can see `len()` returns `3` when we supply it with the three-element vector `foo`:"
   ]
  },
  {
   "cell_type": "code",
   "execution_count": null,
   "id": "0d460624-63f9-4673-8119-3a913db2cd6a",
   "metadata": {
    "id": "0d460624-63f9-4673-8119-3a913db2cd6a"
   },
   "outputs": [],
   "source": [
    "# Run me to see how len() works\n",
    "\n",
    "foo = np.array([1, 2, 3])\n",
    "len(foo)"
   ]
  },
  {
   "cell_type": "markdown",
   "id": "986321df-a5a3-4e17-a32a-77ff724dbd50",
   "metadata": {
    "id": "986321df-a5a3-4e17-a32a-77ff724dbd50"
   },
   "source": [
    "**Your turn #3b:** Use `len()` in the cell below to define another variable 'dCount' which is the result of counting the number of elements in 'dVec'."
   ]
  },
  {
   "cell_type": "code",
   "execution_count": null,
   "id": "ccfa221a-cadc-420e-851f-7e6fba3dc627",
   "metadata": {
    "id": "ccfa221a-cadc-420e-851f-7e6fba3dc627"
   },
   "outputs": [],
   "source": [
    "# Use this cell to define a variable dCount, which uses len() to count the number of elements in dVec\n",
    "\n"
   ]
  },
  {
   "cell_type": "markdown",
   "id": "e2f77217-16b9-4283-8ce1-56877de4b544",
   "metadata": {
    "id": "e2f77217-16b9-4283-8ce1-56877de4b544"
   },
   "source": [
    "**Your turn #3c:** Finally, define the variable 'dAveLong' which is calculated by dividing 'dSum' by 'dCount' to arrive at the average of 'dVec' the \"long way\"."
   ]
  },
  {
   "cell_type": "code",
   "execution_count": null,
   "id": "e83e08f5-c93a-40a5-aad2-f70fd403f57e",
   "metadata": {
    "id": "e83e08f5-c93a-40a5-aad2-f70fd403f57e"
   },
   "outputs": [],
   "source": [
    "# Use this cell to define dAveLong. Add a second line of code to print out the value\n",
    "\n"
   ]
  },
  {
   "cell_type": "markdown",
   "id": "d07f6ea6-dd6c-41eb-8898-ea9710dce885",
   "metadata": {
    "id": "d07f6ea6-dd6c-41eb-8898-ea9710dce885"
   },
   "source": [
    "You should find that you calculated an average distance of 435.028 mm just like when using the short way."
   ]
  },
  {
   "cell_type": "markdown",
   "id": "88c8ccb7-fc63-4c3b-ae22-86ee476aad1e",
   "metadata": {
    "id": "88c8ccb7-fc63-4c3b-ae22-86ee476aad1e",
    "tags": []
   },
   "source": [
    "### Calculating standard deviation the \"long way\""
   ]
  },
  {
   "cell_type": "markdown",
   "id": "01acb5dd-b798-4140-872f-75d0bec941ce",
   "metadata": {
    "id": "01acb5dd-b798-4140-872f-75d0bec941ce"
   },
   "source": [
    "This equation is a little more involved, but we want you have some practice with these methods in addition to having to stop and think a bit about each of the pieces involved in doing the standard deviation calculation.\n",
    "\n",
    "Lets look again at our equation for the standard deviation,\n",
    "\n",
    "$$ \\sigma = \\sqrt{\\frac{1}{N-1}\\sum_{i=1}^N \\left(x_i - x_{ave}\\right)^2} $$"
   ]
  },
  {
   "cell_type": "markdown",
   "id": "7ce21b3e-457b-4f90-81a4-7765231644a5",
   "metadata": {
    "id": "7ce21b3e-457b-4f90-81a4-7765231644a5"
   },
   "source": [
    "We need to first find the average (done!), then for each value $x_i$ find the difference between it and the average. Next we need to find the square of that difference for each value and then sum up all of those differences of squares. And then finally we need divide that sum by $N-1$ and take the square root. Let's do it!\n",
    "\n",
    "Let's start with calculating $x_i - x_{ave}$ for each data point. What we want Python to do is take each data point in 'dVec' and subtract 'dAve'. Thankfully, this can be done in a single, intuitive line of code. If we were to do this in a calculator, we'd have to make 25 calculations - one for each data point in 'dVec'. However, Python is smart enough that when we supply it with a 25-element vector like 'dVec' and ask it to subtract off a one-element vector (or scalar) like 'dAve', then it knows that you want to subtract 'dAve' from each data point in 'dVec'."
   ]
  },
  {
   "cell_type": "code",
   "execution_count": null,
   "id": "7ea3d697-d65f-47cf-ab3c-1d34788a2c7d",
   "metadata": {
    "id": "7ea3d697-d65f-47cf-ab3c-1d34788a2c7d"
   },
   "outputs": [],
   "source": [
    "# Run me to see how subtracting a single number from a vector works\n",
    "\n",
    "bar = np.array([1, 2, 3, 4, 5])\n",
    "print('Dummy data = ', bar)\n",
    "\n",
    "barMinusOne = bar - 1\n",
    "print('Dummy data subtracted by 1 = ', barMinusOne)"
   ]
  },
  {
   "cell_type": "markdown",
   "id": "fd13039f-88dc-462b-b2c5-9ea38c7719d6",
   "metadata": {
    "id": "fd13039f-88dc-462b-b2c5-9ea38c7719d6"
   },
   "source": [
    "**Your turn #4a:** Using the example above, define a new Python variable 'diffFromAve' below which subtracts 'dAvg' from each element of 'dVec'."
   ]
  },
  {
   "cell_type": "code",
   "execution_count": null,
   "id": "6d34aaa1-7936-4fd1-b8f0-d538586887ed",
   "metadata": {
    "id": "6d34aaa1-7936-4fd1-b8f0-d538586887ed"
   },
   "outputs": [],
   "source": [
    "# Use this cell to define diffFromAve\n",
    "\n"
   ]
  },
  {
   "cell_type": "markdown",
   "id": "c782b93d-39d3-41a0-9657-dfa4062b1f49",
   "metadata": {
    "id": "c782b93d-39d3-41a0-9657-dfa4062b1f49"
   },
   "source": [
    "Going back to the standard deviation formula, we see that we now need to _square_ each of these differences from the average. In Python, the operator that raises a number to a power is two stars. Again, Python is smart enough to know when we ask to square a vector, Python will square each element within the vector. Run the cell below to define the new variable 'diffFromAvgSquared', which squares your previous result."
   ]
  },
  {
   "cell_type": "code",
   "execution_count": null,
   "id": "a7a11ae0-33ca-4d5e-a07f-fae02e011703",
   "metadata": {
    "id": "a7a11ae0-33ca-4d5e-a07f-fae02e011703"
   },
   "outputs": [],
   "source": [
    "# Run this cell to define diffFromAvgSquared, the square of each element from the vector diffFromAvg\n",
    "\n",
    "diffFromAvgSquared = diffFromAve**2"
   ]
  },
  {
   "cell_type": "markdown",
   "id": "0ec5ff2c-d4c1-4339-8414-6c2836e7ed82",
   "metadata": {
    "id": "0ec5ff2c-d4c1-4339-8414-6c2836e7ed82"
   },
   "source": [
    "Our next step is to sum up these squared differences. You already learned how to perform sums in Python using 'np.sum()' earlier in calculating the average the \"long way\". \n",
    "\n",
    "**Your turn #4b:** Use `np.sum()` to define a new variable 'sumSquaredDiffs' which is the result of summing all the elements in the vector 'diffFromAvgSquared'."
   ]
  },
  {
   "cell_type": "code",
   "execution_count": null,
   "id": "eb303738-9255-48b6-8cb9-af1418d7b1ac",
   "metadata": {
    "id": "eb303738-9255-48b6-8cb9-af1418d7b1ac"
   },
   "outputs": [],
   "source": [
    "# Use this cell to define sumSquaredDiffs\n",
    "\n"
   ]
  },
  {
   "cell_type": "markdown",
   "id": "192f9d7c-c471-4428-8dd9-449d893b770c",
   "metadata": {
    "id": "192f9d7c-c471-4428-8dd9-449d893b770c"
   },
   "source": [
    "Only two steps to go! Recall that because we use one degree of freedom to calculate the average, we divide the sum of the squared differences by $N-1$ instead of $N$ when we calculate the standard deviation. \n",
    "\n",
    "**Your turn #4c:** We already have $N$ calculated and stored in the variable 'dCount', so below define a new variable 'dCountMinusOne' which stores $N-1$."
   ]
  },
  {
   "cell_type": "code",
   "execution_count": null,
   "id": "455cd428-1bf0-4339-b337-c3682e441966",
   "metadata": {
    "id": "455cd428-1bf0-4339-b337-c3682e441966"
   },
   "outputs": [],
   "source": [
    "# Use this cell to define dCountMinusOne\n",
    "\n"
   ]
  },
  {
   "cell_type": "markdown",
   "id": "f619e812-b3d2-4ce1-a8bb-f48ac58de645",
   "metadata": {
    "id": "f619e812-b3d2-4ce1-a8bb-f48ac58de645"
   },
   "source": [
    "Finally, we can combine everything together by running the code cell below, which takes the square root of the sum of the squared differences divided by $N-1$:"
   ]
  },
  {
   "cell_type": "code",
   "execution_count": null,
   "id": "352313dd-e067-486b-8423-685be4ca48e4",
   "metadata": {
    "id": "352313dd-e067-486b-8423-685be4ca48e4"
   },
   "outputs": [],
   "source": [
    "# Run me to finish the \"long way\" calculation of the standard deviation and compare it to the \"short way\"\n",
    "\n",
    "dStdLong = np.sqrt( sumSquaredDiffs / dCountMinusOne )\n",
    "print(\"Standard deviation (long way) =\", dStdLong, \"mm\")\n",
    "print(\"Standard deviation (short way) =\", dStd, \"mm\")"
   ]
  },
  {
   "cell_type": "markdown",
   "id": "187dfd6a-9cce-4eb8-8a51-6df3cca76984",
   "metadata": {
    "id": "187dfd6a-9cce-4eb8-8a51-6df3cca76984"
   },
   "source": [
    "If all went well, you should see identical results for calculating the standard deviation of 'dVec' the long or short way."
   ]
  },
  {
   "cell_type": "markdown",
   "id": "0e0b0374-0b4f-47b0-a75a-556f24a2612c",
   "metadata": {},
   "source": [
    "# Collecting your first set of data (approx. 15 min)"
   ]
  },
  {
   "cell_type": "markdown",
   "id": "075d56f9-2fb3-4f59-9717-895c0bb5c70a",
   "metadata": {},
   "source": [
    "For this lab, we are asking you to collect some initial data using a simulation of the experimental equipment.\n",
    "\n",
    "Notes:\n",
    "\n",
    "* You may find it helpful to add some notes about your observations in the \"Part B - Start of familiarization\" section of your Lab03.ipynb notebook.\n",
    "* All of your calculations should use the \"short way\" (`np.std(dVec, ddof=1)`, etc). The \"long way\" was to help you better understand what the equations are doing and to give you some initial practice with doing calculations by column, which will come up again later in the course. \n",
    "\n",
    "**Your turn #5:** Please open the Pendulum simulation (link found on Canvas in this lab's module). Play around with the pendulum simulation so that you understand how the pendulum and the timer work. In this prelab, you’ll be taking some initial measurements to determine the period of a pendulum $T$ at a starting amplitude of $15^\\circ$. Here are things to consider when planning your first set of measurements:\n",
    "\n",
    "1. Remember that the period, $T$,  is defined as one complete cycle of the pendulum’s motion, returning to the same initial position while also travelling in the same initial direction.\n",
    "2. Once you have figured out how to use the timer and pendulum, you will have a design choice to make: how many swings back and forth (Mswings) will be counted in each of your trials (Ntrials). Be sure to record Mswings as a python variable (i.e., have something like: `Mswings = <value>` in a code cell).\n",
    "3. Start a fresh spreadsheet below for data collection (make sure the name **is different** from the name used for the earlier spreadsheet above). In the new spreadsheet you will record the time taken for Mswings swings of the pendulum in each trial.\n",
    "4. Set an external timer and give yourself 7 minutes total to collect data.\n",
    "   1. Start with a release amplitude of $15^\\circ$. Record _directly in your spreadsheet_ the time taken, $t$ for the pendulum to complete $M$ cycles. We will refer to this as your \"measured time\" or just \"time.\"\n",
    "   2. Repeat your measurement ***as many times as you can*** in 7 minutes. We will refer to the number of data points you collected as your number of trials, Ntrials.\n",
    "   \n",
    "After your 7 minutes of data collection are finished:\n",
    "\n",
    "5. Press `generate_vectors` to create a vector with your data\n",
    "6. In the code cell below the new spreadsheet, calculate the average time for M swings (tave) and the average period (Tave)\n",
    "7. Calculate utave ($u\\_t_{ave}$) and uTave ($u\\_T_{ave}$), the uncertainties of the means for tave and Tave.\n",
    "8. Calculate relutave and reluTave, the relative uncertainties in tave and Tave.\n"
   ]
  },
  {
   "cell_type": "code",
   "execution_count": 1,
   "id": "b23c8274-4d44-4b79-8e9b-0073c6d0a57e",
   "metadata": {},
   "outputs": [],
   "source": [
    "# Use this cell to create a new spreadsheet, prelab03_2, for data collection\n",
    "\n"
   ]
  },
  {
   "cell_type": "code",
   "execution_count": null,
   "id": "29ff03d4-ddcd-4438-a453-52c972eaf8c8",
   "metadata": {},
   "outputs": [],
   "source": [
    "# Use this cell (and additional ones if you like) to define and print tave, Tave, utave, uTave, relutave and reluTave\n",
    "# for your collected data\n",
    "\n"
   ]
  },
  {
   "cell_type": "markdown",
   "id": "2296900e-36fa-4afc-bafe-b3d95772c7e0",
   "metadata": {},
   "source": [
    "## Share your prelab results\n",
    "\n",
    "We will use everybody's shared prelab results as the basis for a discussion about measurement design during the lab. Please add your results to the  \"Spreadsheet for Sharing prelab data\" found in this lab's module on Canvas."
   ]
  },
  {
   "cell_type": "markdown",
   "id": "VLqz33sYIjwu",
   "metadata": {
    "id": "VLqz33sYIjwu",
    "tags": []
   },
   "source": [
    "# Submit\n",
    "\n",
    "Steps for submission:\n",
    "\n",
    "1. Click: Run => Run_All_Cells\n",
    "2. Read through the notebook to ensure all the cells executed correctly and without error.\n",
    "3. Correct any errors you find.\n",
    "4. File => Save_and_Export_Notebook_As->HTML\n",
    "5. Upload the HTML document to the lab submission assignment on Canvas."
   ]
  },
  {
   "cell_type": "code",
   "execution_count": null,
   "id": "067fbc39-9f60-4970-bad9-fb9b2cf7297a",
   "metadata": {},
   "outputs": [],
   "source": [
    "display_sheets()"
   ]
  },
  {
   "cell_type": "code",
   "execution_count": null,
   "id": "5b8dc667-5d41-4160-a9f2-e96452497f62",
   "metadata": {},
   "outputs": [],
   "source": []
  }
 ],
 "metadata": {
  "colab": {
   "name": "lab03_prelab_part2_student_version.ipynb",
   "provenance": []
  },
  "kernelspec": {
   "display_name": "Python 3 (ipykernel)",
   "language": "python",
   "name": "python3"
  },
  "language_info": {
   "codemirror_mode": {
    "name": "ipython",
    "version": 3
   },
   "file_extension": ".py",
   "mimetype": "text/x-python",
   "name": "python",
   "nbconvert_exporter": "python",
   "pygments_lexer": "ipython3",
   "version": "3.11.5"
  },
  "widgets": {
   "application/vnd.jupyter.widget-state+json": {
    "state": {
     "00d1df0c5f6a4e50ae27b823447087ac": {
      "model_module": "@jupyter-widgets/controls",
      "model_module_version": "2.0.0",
      "model_name": "ButtonModel",
      "state": {
       "description": "Generate Vectors",
       "layout": "IPY_MODEL_ca89fdfc25324d3a983deb59a49e6279",
       "style": "IPY_MODEL_0535fff445244f75bef3bd7b824e56f5",
       "tooltip": null
      }
     },
     "014f700959dd410d9223278983422187": {
      "model_module": "@jupyter-widgets/base",
      "model_module_version": "2.0.0",
      "model_name": "LayoutModel",
      "state": {}
     },
     "01748b72f9754998b953b14495513689": {
      "model_module": "ipydatagrid",
      "model_module_version": "^1.1.13",
      "model_name": "DataGridModel",
      "state": {
       "_data": {
        "data": [
         {
          "0": "d",
          "1": "",
          "ipydguuid": 0,
          "key": "  Variable:"
         },
         {
          "0": "mm",
          "1": "",
          "ipydguuid": 1,
          "key": " Units:"
         },
         {
          "0": "439.3",
          "1": "",
          "ipydguuid": 2,
          "key": 0
         },
         {
          "0": "431.6",
          "1": "",
          "ipydguuid": 3,
          "key": 1
         },
         {
          "0": "0",
          "1": "",
          "ipydguuid": 4,
          "key": 2
         },
         {
          "0": "7",
          "1": "",
          "ipydguuid": 5,
          "key": 3
         },
         {
          "0": "8",
          "1": "",
          "ipydguuid": 6,
          "key": 4
         },
         {
          "0": "7",
          "1": "",
          "ipydguuid": 7,
          "key": 5
         },
         {
          "0": "8",
          "1": "",
          "ipydguuid": 8,
          "key": 6
         },
         {
          "0": "9",
          "1": "",
          "ipydguuid": 9,
          "key": 7
         },
         {
          "0": "1",
          "1": "",
          "ipydguuid": 10,
          "key": 8
         },
         {
          "0": "2",
          "1": "",
          "ipydguuid": 11,
          "key": 9
         },
         {
          "0": "7",
          "1": "",
          "ipydguuid": 12,
          "key": 10
         },
         {
          "0": "8",
          "1": "",
          "ipydguuid": 13,
          "key": 11
         },
         {
          "0": "1",
          "1": "",
          "ipydguuid": 14,
          "key": 12
         }
        ],
        "fields": [
         {
          "key": null
         },
         {
          "0": null
         },
         {
          "1": null
         },
         {
          "ipydguuid": null
         }
        ],
        "schema": {
         "fields": [
          {
           "name": "key",
           "type": "string"
          },
          {
           "name": 0,
           "type": "string"
          },
          {
           "name": 1,
           "type": "string"
          },
          {
           "name": "ipydguuid",
           "type": "integer"
          }
         ],
         "pandas_version": "1.4.0",
         "primaryKey": [
          "key",
          "ipydguuid"
         ],
         "primaryKeyUuid": "ipydguuid"
        }
       },
       "_model_module_version": "^1.1.13",
       "_model_name": "DataGridModel",
       "_view_module_version": "^1.1.13",
       "auto_fit_columns": false,
       "auto_fit_params": {
        "area": "all",
        "numCols": null,
        "padding": 30
       },
       "base_column_header_size": 20,
       "base_column_size": 64,
       "base_row_header_size": 64,
       "base_row_size": 20,
       "default_renderer": "IPY_MODEL_9cb081fd1a474178b6f838e2da16b7d5",
       "editable": true,
       "header_visibility": "all",
       "layout": "IPY_MODEL_213d163427dd40518f6f3e3282fdb65b",
       "selection_mode": "cell"
      }
     },
     "01b1ceb73bdb4b20a5b25de5cf387a3b": {
      "model_module": "@jupyter-widgets/base",
      "model_module_version": "2.0.0",
      "model_name": "LayoutModel",
      "state": {}
     },
     "02e44c40776949758a1a43d67390db70": {
      "model_module": "@jupyter-widgets/controls",
      "model_module_version": "2.0.0",
      "model_name": "ButtonModel",
      "state": {
       "description": "Undo",
       "layout": "IPY_MODEL_05a8a96f8aef4fc482ca163b54b25563",
       "style": "IPY_MODEL_a708476e8cbc4c8dae7bf4cb25f50c9b",
       "tooltip": null
      }
     },
     "0364f35e6eb248e1b0ade1fcab4e0bf5": {
      "model_module": "@jupyter-widgets/output",
      "model_module_version": "1.0.0",
      "model_name": "OutputModel",
      "state": {
       "layout": "IPY_MODEL_2b6b9c6dc3f54f229f0cdaed6ee9093d",
       "outputs": [
        {
         "name": "stdout",
         "output_type": "stream",
         "text": "Converting Row:  0 Col:  1 with value =(516-477)/4) Failed\nRow # 0 skipped\nFound 1 valid rows\n\nCreated array:\n mVec = np.array([142.0])\n\nCreated array:\n umVec = np.array([2.886751345948129])\n"
        }
       ]
      }
     },
     "0374df25259445ea855c849c8959d680": {
      "model_module": "@jupyter-widgets/controls",
      "model_module_version": "2.0.0",
      "model_name": "ButtonStyleModel",
      "state": {
       "font_family": null,
       "font_size": null,
       "font_style": null,
       "font_variant": null,
       "font_weight": null,
       "text_color": null,
       "text_decoration": null
      }
     },
     "03cf038364c94b25a819e8a2c3d49722": {
      "model_module": "@jupyter-widgets/output",
      "model_module_version": "1.0.0",
      "model_name": "OutputModel",
      "state": {
       "layout": "IPY_MODEL_7a5f7af5ba754cf288bec60ba4a793b5",
       "outputs": [
        {
         "name": "stdout",
         "output_type": "stream",
         "text": "Skipping column 2 because it does not have a valid name\nConverting Row:  0 Col:  1 with value (516-477)/4 Failed\nRow # 0 skipped\nConverting Row:  2 Col:  0 with value  Failed\nRow # 2 skipped\nConverting Row:  3 Col:  0 with value  Failed\nRow # 3 skipped\nConverting Row:  4 Col:  0 with value  Failed\nRow # 4 skipped\nConverting Row:  5 Col:  0 with value  Failed\nRow # 5 skipped\nConverting Row:  6 Col:  0 with value  Failed\nRow # 6 skipped\nConverting Row:  7 Col:  0 with value  Failed\nRow # 7 skipped\nFound 1 valid rows\n\nCreated array:\n mVec = np.array([142.0])\n\nCreated array:\n umVec = np.array([2.886751345948129])\n"
        }
       ]
      }
     },
     "03f0f3088a2f4d9ab60106ecbe4e7de0": {
      "model_module": "@jupyter-widgets/controls",
      "model_module_version": "2.0.0",
      "model_name": "ButtonModel",
      "state": {
       "description": "Undo",
       "layout": "IPY_MODEL_061758c4389844b49cea19c53def39c7",
       "style": "IPY_MODEL_238698b0ec2549ee8b30f14e4cb4cb86",
       "tooltip": null
      }
     },
     "0462500403884606b22e2bbb6850ad2f": {
      "model_module": "ipydatagrid",
      "model_module_version": "^1.1.13",
      "model_name": "TextRendererModel",
      "state": {
       "_model_module_version": "^1.1.13",
       "_view_module_version": "^1.1.13",
       "background_color": "IPY_MODEL_5e9ae21fa6d742cd90ef7a9c7eec2cfd",
       "text_color": "IPY_MODEL_3bc08418e03d458daa3caa680e106732"
      }
     },
     "0535fff445244f75bef3bd7b824e56f5": {
      "model_module": "@jupyter-widgets/controls",
      "model_module_version": "2.0.0",
      "model_name": "ButtonStyleModel",
      "state": {
       "font_family": null,
       "font_size": null,
       "font_style": null,
       "font_variant": null,
       "font_weight": null,
       "text_color": null,
       "text_decoration": null
      }
     },
     "058ce34af17e464dab46bee1bbcf1b80": {
      "model_module": "@jupyter-widgets/controls",
      "model_module_version": "2.0.0",
      "model_name": "ButtonStyleModel",
      "state": {
       "font_family": null,
       "font_size": null,
       "font_style": null,
       "font_variant": null,
       "font_weight": null,
       "text_color": null,
       "text_decoration": null
      }
     },
     "05a8a96f8aef4fc482ca163b54b25563": {
      "model_module": "@jupyter-widgets/base",
      "model_module_version": "2.0.0",
      "model_name": "LayoutModel",
      "state": {}
     },
     "05bc8d8539114b13a076e5916aa26755": {
      "model_module": "ipydatagrid",
      "model_module_version": "^1.1.13",
      "model_name": "DataGridModel",
      "state": {
       "_data": {
        "data": [
         {
          "0": "m",
          "1": "um",
          "ipydguuid": 0,
          "key": "  Variable:"
         },
         {
          "0": "g",
          "1": "g",
          "ipydguuid": 1,
          "key": " Units:"
         },
         {
          "0": "497",
          "1": "=(516-477)/4",
          "ipydguuid": 2,
          "key": 0
         },
         {
          "0": "142",
          "1": "=10/(2*np.sqrt(3))",
          "ipydguuid": 3,
          "key": 1
         }
        ],
        "fields": [
         {
          "key": null
         },
         {
          "0": null
         },
         {
          "1": null
         },
         {
          "ipydguuid": null
         }
        ],
        "schema": {
         "fields": [
          {
           "name": "key",
           "type": "string"
          },
          {
           "name": 0,
           "type": "string"
          },
          {
           "name": 1,
           "type": "string"
          },
          {
           "name": "ipydguuid",
           "type": "integer"
          }
         ],
         "pandas_version": "1.4.0",
         "primaryKey": [
          "key",
          "ipydguuid"
         ],
         "primaryKeyUuid": "ipydguuid"
        }
       },
       "_model_module_version": "^1.1.13",
       "_model_name": "DataGridModel",
       "_view_module_version": "^1.1.13",
       "auto_fit_columns": false,
       "auto_fit_params": {
        "area": "all",
        "numCols": null,
        "padding": 30
       },
       "base_column_header_size": 20,
       "base_column_size": 64,
       "base_row_header_size": 64,
       "base_row_size": 20,
       "default_renderer": "IPY_MODEL_206f6a7be91742719f329755ff791f3e",
       "editable": true,
       "header_visibility": "all",
       "layout": "IPY_MODEL_81c12ed6d54a4efe8d652dde5b01b703",
       "selection_mode": "cell"
      }
     },
     "061758c4389844b49cea19c53def39c7": {
      "model_module": "@jupyter-widgets/base",
      "model_module_version": "2.0.0",
      "model_name": "LayoutModel",
      "state": {}
     },
     "062aec4b7be347a89983b87aae193bfa": {
      "model_module": "@jupyter-widgets/controls",
      "model_module_version": "2.0.0",
      "model_name": "HBoxModel",
      "state": {
       "children": [
        "IPY_MODEL_e909ad5b96894a6a9e69b2722248e541",
        "IPY_MODEL_b90a8e84c8c2444eb5ded32085e138b4",
        "IPY_MODEL_83da8556bfee4f738f43c0331c37ec7a",
        "IPY_MODEL_0c498bf7db7d4093802e46e750d23e22",
        "IPY_MODEL_5cfb4a4dffb4412e82bab30c0285ce36"
       ],
       "layout": "IPY_MODEL_54767a487c514d11a1169e20e8228630"
      }
     },
     "0657eb6fbcd84ccb8517f495496ce36f": {
      "model_module": "@jupyter-widgets/controls",
      "model_module_version": "2.0.0",
      "model_name": "ButtonModel",
      "state": {
       "description": "Add Column",
       "layout": "IPY_MODEL_289ae01bea1c418ba05493327b33bffb",
       "style": "IPY_MODEL_a00df9b8ed6c4847a120e824f6ce5427",
       "tooltip": null
      }
     },
     "06c44f60d2264a81902f24fdd987046b": {
      "model_module": "@jupyter-widgets/controls",
      "model_module_version": "2.0.0",
      "model_name": "HBoxModel",
      "state": {
       "children": [
        "IPY_MODEL_5a8270cdc70e4897a269334e1040a7cc",
        "IPY_MODEL_503186f47c534bbf9a3d9e7e21395924",
        "IPY_MODEL_090a811c270a4bd6972cce804c6812be",
        "IPY_MODEL_4af3ee4b5d774df3bfee68e38fa57284",
        "IPY_MODEL_54bf016a4a1341179f24917b8f581fb7"
       ],
       "layout": "IPY_MODEL_80a78ab82e404bd0b5e14e89eb8bbebc"
      }
     },
     "06d810b541214c6e9281c2cbe040d61a": {
      "model_module": "@jupyter-widgets/controls",
      "model_module_version": "2.0.0",
      "model_name": "ButtonStyleModel",
      "state": {
       "font_family": null,
       "font_size": null,
       "font_style": null,
       "font_variant": null,
       "font_weight": null,
       "text_color": null,
       "text_decoration": null
      }
     },
     "0784fcdfa8b1492fa69b067268096a82": {
      "model_module": "@jupyter-widgets/controls",
      "model_module_version": "2.0.0",
      "model_name": "ButtonStyleModel",
      "state": {
       "font_family": null,
       "font_size": null,
       "font_style": null,
       "font_variant": null,
       "font_weight": null,
       "text_color": null,
       "text_decoration": null
      }
     },
     "08269b19d5d8481d900172bd3d68821d": {
      "model_module": "@jupyter-widgets/controls",
      "model_module_version": "2.0.0",
      "model_name": "ButtonStyleModel",
      "state": {
       "font_family": null,
       "font_size": null,
       "font_style": null,
       "font_variant": null,
       "font_weight": null,
       "text_color": null,
       "text_decoration": null
      }
     },
     "0835568726d747c883af68a3a29b7df7": {
      "model_module": "@jupyter-widgets/controls",
      "model_module_version": "2.0.0",
      "model_name": "VBoxModel",
      "state": {
       "children": [
        "IPY_MODEL_876415435b7c4964a294ca32af9befaf",
        "IPY_MODEL_8782397617004aff8eae5b348f3591e7",
        "IPY_MODEL_03cf038364c94b25a819e8a2c3d49722"
       ],
       "layout": "IPY_MODEL_a6577235d8f0420e9f989716cf41ad00"
      }
     },
     "090a811c270a4bd6972cce804c6812be": {
      "model_module": "@jupyter-widgets/controls",
      "model_module_version": "2.0.0",
      "model_name": "ButtonModel",
      "state": {
       "description": "Add Row",
       "layout": "IPY_MODEL_0c47ca5fcae4420eb2cfb6f402b4d3c5",
       "style": "IPY_MODEL_c7752f5cb5e6437d84e6a0044c1c9733",
       "tooltip": null
      }
     },
     "0931c338d0974d968ed83b6e2da728af": {
      "model_module": "@jupyter-widgets/base",
      "model_module_version": "2.0.0",
      "model_name": "LayoutModel",
      "state": {}
     },
     "09555c75aad4491caf28c4cc73792cc1": {
      "model_module": "@jupyter-widgets/controls",
      "model_module_version": "2.0.0",
      "model_name": "ButtonModel",
      "state": {
       "description": "Generate Vectors",
       "layout": "IPY_MODEL_885328f5b1484960ad8762586c1c3058",
       "style": "IPY_MODEL_11cd2a8e97044b4580a4ddac0997546b",
       "tooltip": null
      }
     },
     "09ef20c835a9415c855cfd3fce812163": {
      "model_module": "@jupyter-widgets/controls",
      "model_module_version": "2.0.0",
      "model_name": "ButtonStyleModel",
      "state": {
       "font_family": null,
       "font_size": null,
       "font_style": null,
       "font_variant": null,
       "font_weight": null,
       "text_color": null,
       "text_decoration": null
      }
     },
     "0a1bbf544ea84cc59dd3f6ac8812c6b4": {
      "model_module": "@jupyter-widgets/base",
      "model_module_version": "2.0.0",
      "model_name": "LayoutModel",
      "state": {
       "height": "290px"
      }
     },
     "0a820c0267b443c6afbd150f91ade759": {
      "model_module": "@jupyter-widgets/base",
      "model_module_version": "2.0.0",
      "model_name": "LayoutModel",
      "state": {}
     },
     "0b39852cf89b429d81809f2ddf88ccf0": {
      "model_module": "@jupyter-widgets/base",
      "model_module_version": "2.0.0",
      "model_name": "LayoutModel",
      "state": {}
     },
     "0b4173d180ab4bd3aed2ae6d1c2c8364": {
      "model_module": "@jupyter-widgets/base",
      "model_module_version": "2.0.0",
      "model_name": "LayoutModel",
      "state": {}
     },
     "0bf207f856ab4ad7b91aeb1b0a5d8dfd": {
      "model_module": "@jupyter-widgets/base",
      "model_module_version": "2.0.0",
      "model_name": "LayoutModel",
      "state": {}
     },
     "0bfa7fab73a34f59ba55ac6c852bf8ac": {
      "model_module": "@jupyter-widgets/base",
      "model_module_version": "2.0.0",
      "model_name": "LayoutModel",
      "state": {}
     },
     "0c18a9cce0a64268ad589f1f99c4d01e": {
      "model_module": "@jupyter-widgets/base",
      "model_module_version": "2.0.0",
      "model_name": "LayoutModel",
      "state": {}
     },
     "0c3336ed5bee455f88bc840b06d6f123": {
      "model_module": "@jupyter-widgets/base",
      "model_module_version": "2.0.0",
      "model_name": "LayoutModel",
      "state": {}
     },
     "0c3966ad43454de1b5572f394f404e2b": {
      "model_module": "@jupyter-widgets/controls",
      "model_module_version": "2.0.0",
      "model_name": "VBoxModel",
      "state": {
       "children": [
        "IPY_MODEL_58b3e7cbf5ca4a498c05db90825d5dd4",
        "IPY_MODEL_64a5a69cc176467aa43076316ae634bb",
        "IPY_MODEL_fe92c711534743a3a613c0b22907ede3"
       ],
       "layout": "IPY_MODEL_6e3aeb12d37b4e5d96befb9dfb1659be"
      }
     },
     "0c47ca5fcae4420eb2cfb6f402b4d3c5": {
      "model_module": "@jupyter-widgets/base",
      "model_module_version": "2.0.0",
      "model_name": "LayoutModel",
      "state": {}
     },
     "0c498bf7db7d4093802e46e750d23e22": {
      "model_module": "@jupyter-widgets/controls",
      "model_module_version": "2.0.0",
      "model_name": "ButtonModel",
      "state": {
       "description": "Add Column",
       "layout": "IPY_MODEL_213047f605714b8b824f42f0bdf02a04",
       "style": "IPY_MODEL_1fdbfb311915424bac20b813583ee1b3",
       "tooltip": null
      }
     },
     "0e910b74658540d7b8436119d850823d": {
      "model_module": "@jupyter-widgets/controls",
      "model_module_version": "2.0.0",
      "model_name": "ButtonModel",
      "state": {
       "description": "Redo",
       "layout": "IPY_MODEL_eed565987d4d45c5b1aace3fd681d661",
       "style": "IPY_MODEL_52594fc8df2b4a2b9c8f0a0c9ca409c5",
       "tooltip": null
      }
     },
     "0eb3bcfda9464c1988644dae96fd932e": {
      "model_module": "@jupyter-widgets/controls",
      "model_module_version": "2.0.0",
      "model_name": "ButtonStyleModel",
      "state": {
       "font_family": null,
       "font_size": null,
       "font_style": null,
       "font_variant": null,
       "font_weight": null,
       "text_color": null,
       "text_decoration": null
      }
     },
     "0ec104405cbc45699d6212eded148931": {
      "model_module": "@jupyter-widgets/base",
      "model_module_version": "2.0.0",
      "model_name": "LayoutModel",
      "state": {
       "height": "350px"
      }
     },
     "103235bccdb64da5b2a7eaf03268b73f": {
      "model_module": "@jupyter-widgets/base",
      "model_module_version": "2.0.0",
      "model_name": "LayoutModel",
      "state": {}
     },
     "1192fcbf95ea451caed16b6ee7bdc2ac": {
      "model_module": "@jupyter-widgets/controls",
      "model_module_version": "2.0.0",
      "model_name": "ButtonModel",
      "state": {
       "description": "Add Row",
       "layout": "IPY_MODEL_227ba5f338af4fb7b5304c5b7279774d",
       "style": "IPY_MODEL_c091d962f39a4b3a8b2f68a482283851",
       "tooltip": null
      }
     },
     "11cd2a8e97044b4580a4ddac0997546b": {
      "model_module": "@jupyter-widgets/controls",
      "model_module_version": "2.0.0",
      "model_name": "ButtonStyleModel",
      "state": {
       "font_family": null,
       "font_size": null,
       "font_style": null,
       "font_variant": null,
       "font_weight": null,
       "text_color": null,
       "text_decoration": null
      }
     },
     "121699d37448406ab258eba8e70ca42c": {
      "model_module": "@jupyter-widgets/controls",
      "model_module_version": "2.0.0",
      "model_name": "ButtonModel",
      "state": {
       "description": "Add Row",
       "layout": "IPY_MODEL_75eada7a1f7a4546a82b47167459fd6e",
       "style": "IPY_MODEL_058ce34af17e464dab46bee1bbcf1b80",
       "tooltip": null
      }
     },
     "13085dc1fafb463f831291145ac63e43": {
      "model_module": "@jupyter-widgets/base",
      "model_module_version": "2.0.0",
      "model_name": "LayoutModel",
      "state": {}
     },
     "13a4a0983cbc4b11b8dc152d47288f0c": {
      "model_module": "@jupyter-widgets/base",
      "model_module_version": "2.0.0",
      "model_name": "LayoutModel",
      "state": {}
     },
     "143aac76caed4c4ea27e613934fe8e4a": {
      "model_module": "@jupyter-widgets/controls",
      "model_module_version": "2.0.0",
      "model_name": "ButtonStyleModel",
      "state": {
       "font_family": null,
       "font_size": null,
       "font_style": null,
       "font_variant": null,
       "font_weight": null,
       "text_color": null,
       "text_decoration": null
      }
     },
     "1496b2c565314f288a64a554e2df9c4c": {
      "model_module": "@jupyter-widgets/base",
      "model_module_version": "2.0.0",
      "model_name": "LayoutModel",
      "state": {
       "height": "310px"
      }
     },
     "15666cf1fe96486ab326701f8b449725": {
      "model_module": "@jupyter-widgets/controls",
      "model_module_version": "2.0.0",
      "model_name": "ButtonModel",
      "state": {
       "description": "Add Row",
       "layout": "IPY_MODEL_014f700959dd410d9223278983422187",
       "style": "IPY_MODEL_5a2eebcb0ce24752be0f393c6ac05d84",
       "tooltip": null
      }
     },
     "15d232cb057144c68ef2f7c78fcb540a": {
      "model_module": "@jupyter-widgets/base",
      "model_module_version": "2.0.0",
      "model_name": "LayoutModel",
      "state": {}
     },
     "160110a1cbf24a938c9ac6b0654fa832": {
      "model_module": "@jupyter-widgets/controls",
      "model_module_version": "2.0.0",
      "model_name": "ButtonStyleModel",
      "state": {
       "font_family": null,
       "font_size": null,
       "font_style": null,
       "font_variant": null,
       "font_weight": null,
       "text_color": null,
       "text_decoration": null
      }
     },
     "160f10a230e342f7a2cbba660cf45a22": {
      "model_module": "@jupyter-widgets/controls",
      "model_module_version": "2.0.0",
      "model_name": "ButtonModel",
      "state": {
       "description": "Redo",
       "layout": "IPY_MODEL_b0e593837370479abcf1a95e1d9c18e9",
       "style": "IPY_MODEL_661834f6363344e6811a396f8d0a5d5c",
       "tooltip": null
      }
     },
     "167014d6418a4f9bbee7e3dc2c29bf59": {
      "model_module": "@jupyter-widgets/base",
      "model_module_version": "2.0.0",
      "model_name": "LayoutModel",
      "state": {}
     },
     "168f597bdde0411ab1abbb8b124bf7a4": {
      "model_module": "@jupyter-widgets/base",
      "model_module_version": "2.0.0",
      "model_name": "LayoutModel",
      "state": {}
     },
     "16b066ade0c84753903ac0cbcde150c3": {
      "model_module": "@jupyter-widgets/output",
      "model_module_version": "1.0.0",
      "model_name": "OutputModel",
      "state": {
       "layout": "IPY_MODEL_785533911cfd4682bfd541a9ccf94987",
       "outputs": [
        {
         "name": "stdout",
         "output_type": "stream",
         "text": "Skipping column 1 because it does not have a valid name\nFound 13 valid rows\n\nCreated array:\n dVec = np.array([439.3, 431.6, 0.0, 7.0, 8.0, 7.0, 8.0, 9.0, 1.0, 2.0, 7.0, 8.0, 1.0])\n"
        }
       ]
      }
     },
     "1716e246941f48d4a9da91c9563f5e38": {
      "model_module": "@jupyter-widgets/controls",
      "model_module_version": "2.0.0",
      "model_name": "ButtonModel",
      "state": {
       "description": "Add Row",
       "layout": "IPY_MODEL_e9990b7b337e4a5eb35749e2997d386a",
       "style": "IPY_MODEL_275e9ae9321c4240854dc84787c68b03",
       "tooltip": null
      }
     },
     "17615aadfd6743b8967d4205ec283373": {
      "model_module": "@jupyter-widgets/base",
      "model_module_version": "2.0.0",
      "model_name": "LayoutModel",
      "state": {
       "height": "590px"
      }
     },
     "179a508db59f4ebe891ec26f6ddf3475": {
      "model_module": "@jupyter-widgets/controls",
      "model_module_version": "2.0.0",
      "model_name": "ButtonModel",
      "state": {
       "description": "Generate Vectors",
       "layout": "IPY_MODEL_0c3336ed5bee455f88bc840b06d6f123",
       "style": "IPY_MODEL_2fb9972b010a4f5eb2170338312499f8",
       "tooltip": null
      }
     },
     "17d9e339d949445cb7f77a5705fe4586": {
      "model_module": "@jupyter-widgets/base",
      "model_module_version": "2.0.0",
      "model_name": "LayoutModel",
      "state": {}
     },
     "183f987e631c4a6599a0ac707a1c3a79": {
      "model_module": "@jupyter-widgets/base",
      "model_module_version": "2.0.0",
      "model_name": "LayoutModel",
      "state": {}
     },
     "184f8c954305491fb44d9a44f3628baa": {
      "model_module": "@jupyter-widgets/base",
      "model_module_version": "2.0.0",
      "model_name": "LayoutModel",
      "state": {}
     },
     "1921d749afb3435d824c1eec0234b055": {
      "model_module": "@jupyter-widgets/controls",
      "model_module_version": "2.0.0",
      "model_name": "ButtonStyleModel",
      "state": {
       "font_family": null,
       "font_size": null,
       "font_style": null,
       "font_variant": null,
       "font_weight": null,
       "text_color": null,
       "text_decoration": null
      }
     },
     "19743c4131de4731ac268aba140e01fb": {
      "model_module": "@jupyter-widgets/base",
      "model_module_version": "2.0.0",
      "model_name": "LayoutModel",
      "state": {}
     },
     "19acaedb2c7047aabba728082f62163b": {
      "model_module": "@jupyter-widgets/base",
      "model_module_version": "2.0.0",
      "model_name": "LayoutModel",
      "state": {}
     },
     "1bd0b402a30b42d69a3e9da2f5c64124": {
      "model_module": "@jupyter-widgets/base",
      "model_module_version": "2.0.0",
      "model_name": "LayoutModel",
      "state": {}
     },
     "1bd20b6dc3904da294bf5f35d574b1c6": {
      "model_module": "@jupyter-widgets/controls",
      "model_module_version": "2.0.0",
      "model_name": "VBoxModel",
      "state": {
       "children": [
        "IPY_MODEL_d268578d33e94a0c8877c664e5fde6b2",
        "IPY_MODEL_f3b170408c1b49aa8fc5953f41326968",
        "IPY_MODEL_1f3c025d95a140b0968ec98473c25856"
       ],
       "layout": "IPY_MODEL_60f79d5148d04b7099f6ae88a176485b"
      }
     },
     "1c7d643c7e0944908a01623b586b14e7": {
      "model_module": "@jupyter-widgets/base",
      "model_module_version": "2.0.0",
      "model_name": "LayoutModel",
      "state": {
       "height": "250px"
      }
     },
     "1ce9390d746040a3bd085d0fcf295550": {
      "model_module": "@jupyter-widgets/base",
      "model_module_version": "2.0.0",
      "model_name": "LayoutModel",
      "state": {
       "height": "370px"
      }
     },
     "1cfbdb87b18d4de49eab005c47e9ff9d": {
      "model_module": "@jupyter-widgets/controls",
      "model_module_version": "2.0.0",
      "model_name": "VBoxModel",
      "state": {
       "children": [
        "IPY_MODEL_98e9be560e7a4ec084ed838bcf689f55",
        "IPY_MODEL_3ee37ca235154a78a982b5799e6d3fd8",
        "IPY_MODEL_2a7b2b0b561a48bcb9a543573950a3eb"
       ],
       "layout": "IPY_MODEL_77eef3f0f35343889adaf5080aa37214"
      }
     },
     "1d5247cd3c49462c9f9d44faf40bd182": {
      "model_module": "@jupyter-widgets/base",
      "model_module_version": "2.0.0",
      "model_name": "LayoutModel",
      "state": {
       "height": "470px"
      }
     },
     "1d5a74da757f42be81e65a63ff5e676d": {
      "model_module": "ipydatagrid",
      "model_module_version": "^1.1.13",
      "model_name": "TextRendererModel",
      "state": {
       "_model_module_version": "^1.1.13",
       "_view_module_version": "^1.1.13",
       "background_color": "IPY_MODEL_5e9ae21fa6d742cd90ef7a9c7eec2cfd",
       "text_color": "IPY_MODEL_3bc08418e03d458daa3caa680e106732"
      }
     },
     "1e12582ee37f43d1a88c9206189a412b": {
      "model_module": "@jupyter-widgets/controls",
      "model_module_version": "2.0.0",
      "model_name": "HBoxModel",
      "state": {
       "children": [
        "IPY_MODEL_e461ed0b71cf496a820151d20f757d0c",
        "IPY_MODEL_a08736a44dde4434a5079f8701bf61ac",
        "IPY_MODEL_15666cf1fe96486ab326701f8b449725",
        "IPY_MODEL_f14fb5463ca4462ea81c1c607a286b8c",
        "IPY_MODEL_29c29e68ca5e49ea9e48ad4c8ab07d81"
       ],
       "layout": "IPY_MODEL_fde489df9c5f425ea22ad2f46d60995a"
      }
     },
     "1ed94505a15642c992dfc0ea803d5f90": {
      "model_module": "@jupyter-widgets/controls",
      "model_module_version": "2.0.0",
      "model_name": "ButtonModel",
      "state": {
       "description": "Redo",
       "layout": "IPY_MODEL_fe5b3a6362dd4e75a9471b23515558cd",
       "style": "IPY_MODEL_a63fbd645bc4401d876d6e8da32e7567",
       "tooltip": null
      }
     },
     "1ee4174c013149b39ecbbd2aff0e45b5": {
      "model_module": "@jupyter-widgets/controls",
      "model_module_version": "2.0.0",
      "model_name": "ButtonModel",
      "state": {
       "description": "Redo",
       "layout": "IPY_MODEL_90b62d277cf4496a9d689f9028458133",
       "style": "IPY_MODEL_e658591a8013489090cbc1d3f88745c7",
       "tooltip": null
      }
     },
     "1f1157647b5b4551aca1e0d1e4d6ce98": {
      "model_module": "@jupyter-widgets/base",
      "model_module_version": "2.0.0",
      "model_name": "LayoutModel",
      "state": {
       "height": "130px"
      }
     },
     "1f3c025d95a140b0968ec98473c25856": {
      "model_module": "@jupyter-widgets/output",
      "model_module_version": "1.0.0",
      "model_name": "OutputModel",
      "state": {
       "layout": "IPY_MODEL_3164ba96e35a4064bf1226a60445f79b",
       "outputs": [
        {
         "name": "stdout",
         "output_type": "stream",
         "text": "Found 2 valid rows\n\nCreated array:\n mVec = np.array([497.0, 142.0])\n\nCreated array:\n umVec = np.array([9.75, 2.886751345948129])\n"
        }
       ]
      }
     },
     "1fdbfb311915424bac20b813583ee1b3": {
      "model_module": "@jupyter-widgets/controls",
      "model_module_version": "2.0.0",
      "model_name": "ButtonStyleModel",
      "state": {
       "font_family": null,
       "font_size": null,
       "font_style": null,
       "font_variant": null,
       "font_weight": null,
       "text_color": null,
       "text_decoration": null
      }
     },
     "2008173299a64160bc5437ab31f0e76f": {
      "model_module": "@jupyter-widgets/base",
      "model_module_version": "2.0.0",
      "model_name": "LayoutModel",
      "state": {
       "height": "270px"
      }
     },
     "206f6a7be91742719f329755ff791f3e": {
      "model_module": "ipydatagrid",
      "model_module_version": "^1.1.13",
      "model_name": "TextRendererModel",
      "state": {
       "_model_module_version": "^1.1.13",
       "_view_module_version": "^1.1.13",
       "background_color": "IPY_MODEL_5e9ae21fa6d742cd90ef7a9c7eec2cfd",
       "text_color": "IPY_MODEL_3bc08418e03d458daa3caa680e106732"
      }
     },
     "20b6b493155e45b28cc5df6e307fcd05": {
      "model_module": "@jupyter-widgets/controls",
      "model_module_version": "2.0.0",
      "model_name": "ButtonModel",
      "state": {
       "description": "Undo",
       "layout": "IPY_MODEL_f54b5facd183437289dde97efe796c70",
       "style": "IPY_MODEL_4d0c2e69e3db4ca58a952fe44c5ab289",
       "tooltip": null
      }
     },
     "213047f605714b8b824f42f0bdf02a04": {
      "model_module": "@jupyter-widgets/base",
      "model_module_version": "2.0.0",
      "model_name": "LayoutModel",
      "state": {}
     },
     "213d163427dd40518f6f3e3282fdb65b": {
      "model_module": "@jupyter-widgets/base",
      "model_module_version": "2.0.0",
      "model_name": "LayoutModel",
      "state": {
       "height": "350px"
      }
     },
     "21aab12b36f64f31811074c72ad9612d": {
      "model_module": "ipydatagrid",
      "model_module_version": "^1.1.13",
      "model_name": "TextRendererModel",
      "state": {
       "_model_module_version": "^1.1.13",
       "_view_module_version": "^1.1.13",
       "background_color": "IPY_MODEL_5e9ae21fa6d742cd90ef7a9c7eec2cfd",
       "text_color": "IPY_MODEL_3bc08418e03d458daa3caa680e106732"
      }
     },
     "21bedcd745244e048a856b0c94f318cf": {
      "model_module": "@jupyter-widgets/controls",
      "model_module_version": "2.0.0",
      "model_name": "ButtonStyleModel",
      "state": {
       "font_family": null,
       "font_size": null,
       "font_style": null,
       "font_variant": null,
       "font_weight": null,
       "text_color": null,
       "text_decoration": null
      }
     },
     "21efa182c6cc49bea6b350911ccadf2a": {
      "model_module": "@jupyter-widgets/controls",
      "model_module_version": "2.0.0",
      "model_name": "ButtonStyleModel",
      "state": {
       "font_family": null,
       "font_size": null,
       "font_style": null,
       "font_variant": null,
       "font_weight": null,
       "text_color": null,
       "text_decoration": null
      }
     },
     "227ba5f338af4fb7b5304c5b7279774d": {
      "model_module": "@jupyter-widgets/base",
      "model_module_version": "2.0.0",
      "model_name": "LayoutModel",
      "state": {}
     },
     "238698b0ec2549ee8b30f14e4cb4cb86": {
      "model_module": "@jupyter-widgets/controls",
      "model_module_version": "2.0.0",
      "model_name": "ButtonStyleModel",
      "state": {
       "font_family": null,
       "font_size": null,
       "font_style": null,
       "font_variant": null,
       "font_weight": null,
       "text_color": null,
       "text_decoration": null
      }
     },
     "241057e34535482c870495f2cf34db77": {
      "model_module": "@jupyter-widgets/base",
      "model_module_version": "2.0.0",
      "model_name": "LayoutModel",
      "state": {}
     },
     "24433a74d3d14d91bee446537ba8a1c0": {
      "model_module": "@jupyter-widgets/base",
      "model_module_version": "2.0.0",
      "model_name": "LayoutModel",
      "state": {}
     },
     "24a802d9c52e40b8b897fed9f3f98940": {
      "model_module": "@jupyter-widgets/base",
      "model_module_version": "2.0.0",
      "model_name": "LayoutModel",
      "state": {
       "height": "350px"
      }
     },
     "24ea29fe2beb47bd90789f2bd633ff9a": {
      "model_module": "@jupyter-widgets/base",
      "model_module_version": "2.0.0",
      "model_name": "LayoutModel",
      "state": {
       "height": "150px"
      }
     },
     "25f7794692b241e58f58f0388cd2ed5a": {
      "model_module": "@jupyter-widgets/base",
      "model_module_version": "2.0.0",
      "model_name": "LayoutModel",
      "state": {
       "height": "410px"
      }
     },
     "26d3a9310cf745b5867c0e0857ddd503": {
      "model_module": "@jupyter-widgets/base",
      "model_module_version": "2.0.0",
      "model_name": "LayoutModel",
      "state": {}
     },
     "27013a84f4c741a79440eae4a1933ca2": {
      "model_module": "@jupyter-widgets/base",
      "model_module_version": "2.0.0",
      "model_name": "LayoutModel",
      "state": {}
     },
     "2736d23502f94719b425c65b53dbf934": {
      "model_module": "@jupyter-widgets/controls",
      "model_module_version": "2.0.0",
      "model_name": "ButtonStyleModel",
      "state": {
       "font_family": null,
       "font_size": null,
       "font_style": null,
       "font_variant": null,
       "font_weight": null,
       "text_color": null,
       "text_decoration": null
      }
     },
     "275e9ae9321c4240854dc84787c68b03": {
      "model_module": "@jupyter-widgets/controls",
      "model_module_version": "2.0.0",
      "model_name": "ButtonStyleModel",
      "state": {
       "font_family": null,
       "font_size": null,
       "font_style": null,
       "font_variant": null,
       "font_weight": null,
       "text_color": null,
       "text_decoration": null
      }
     },
     "27e99e7959d94f4ea23ffc65d09ad16b": {
      "model_module": "@jupyter-widgets/controls",
      "model_module_version": "2.0.0",
      "model_name": "ButtonStyleModel",
      "state": {
       "font_family": null,
       "font_size": null,
       "font_style": null,
       "font_variant": null,
       "font_weight": null,
       "text_color": null,
       "text_decoration": null
      }
     },
     "281ebdb59ca14375b3ea54554403ce4a": {
      "model_module": "@jupyter-widgets/base",
      "model_module_version": "2.0.0",
      "model_name": "LayoutModel",
      "state": {
       "height": "250px"
      }
     },
     "289ae01bea1c418ba05493327b33bffb": {
      "model_module": "@jupyter-widgets/base",
      "model_module_version": "2.0.0",
      "model_name": "LayoutModel",
      "state": {}
     },
     "29c29e68ca5e49ea9e48ad4c8ab07d81": {
      "model_module": "@jupyter-widgets/controls",
      "model_module_version": "2.0.0",
      "model_name": "ButtonModel",
      "state": {
       "description": "Generate Vectors",
       "layout": "IPY_MODEL_8d0c15720f92422fbd319b0947678350",
       "style": "IPY_MODEL_f2104cd309b04d12ac08b910b3761587",
       "tooltip": null
      }
     },
     "2a7b2b0b561a48bcb9a543573950a3eb": {
      "model_module": "@jupyter-widgets/output",
      "model_module_version": "1.0.0",
      "model_name": "OutputModel",
      "state": {
       "layout": "IPY_MODEL_26d3a9310cf745b5867c0e0857ddd503",
       "outputs": [
        {
         "name": "stdout",
         "output_type": "stream",
         "text": "Converting Row:  0 Col:  1 with value =(516-477)/4) Failed\nRow # 0 skipped\nFound 1 valid rows\n\nCreated array:\n mVec = np.array([142.0])\n\nCreated array:\n umVec = np.array([2.886751345948129])\n"
        }
       ]
      }
     },
     "2b6b9c6dc3f54f229f0cdaed6ee9093d": {
      "model_module": "@jupyter-widgets/base",
      "model_module_version": "2.0.0",
      "model_name": "LayoutModel",
      "state": {}
     },
     "2ce69852e97648aca3357d28f0c98eb2": {
      "model_module": "@jupyter-widgets/base",
      "model_module_version": "2.0.0",
      "model_name": "LayoutModel",
      "state": {
       "height": "350px"
      }
     },
     "2d0b0766c75e461fa04a645fdeda415c": {
      "model_module": "@jupyter-widgets/controls",
      "model_module_version": "2.0.0",
      "model_name": "ButtonModel",
      "state": {
       "description": "Undo",
       "layout": "IPY_MODEL_c93feeba4cf04710a3191b3a77c7800b",
       "style": "IPY_MODEL_7e3d2f3a8f5a4c5389ce94bf8f34a6d4",
       "tooltip": null
      }
     },
     "2d6f8ddd06274bccb1764d51b063881a": {
      "model_module": "@jupyter-widgets/base",
      "model_module_version": "2.0.0",
      "model_name": "LayoutModel",
      "state": {}
     },
     "2e3713ff3ac0469f972fa15e0600872d": {
      "model_module": "ipydatagrid",
      "model_module_version": "^1.1.13",
      "model_name": "DataGridModel",
      "state": {
       "_data": {
        "data": [
         {
          "0": "m",
          "1": "um",
          "ipydguuid": 0,
          "key": "  Variable:"
         },
         {
          "0": "g",
          "1": "g",
          "ipydguuid": 1,
          "key": " Units:"
         },
         {
          "0": "497",
          "1": "=(516-477)/4)",
          "ipydguuid": 2,
          "key": 0
         },
         {
          "0": "142",
          "1": "=10/(2*np.sqrt(3))",
          "ipydguuid": 3,
          "key": 1
         }
        ],
        "fields": [
         {
          "key": null
         },
         {
          "0": null
         },
         {
          "1": null
         },
         {
          "ipydguuid": null
         }
        ],
        "schema": {
         "fields": [
          {
           "name": "key",
           "type": "string"
          },
          {
           "name": 0,
           "type": "string"
          },
          {
           "name": 1,
           "type": "string"
          },
          {
           "name": "ipydguuid",
           "type": "integer"
          }
         ],
         "pandas_version": "1.4.0",
         "primaryKey": [
          "key",
          "ipydguuid"
         ],
         "primaryKeyUuid": "ipydguuid"
        }
       },
       "_model_module_version": "^1.1.13",
       "_model_name": "DataGridModel",
       "_view_module_version": "^1.1.13",
       "auto_fit_columns": false,
       "auto_fit_params": {
        "area": "all",
        "numCols": null,
        "padding": 30
       },
       "base_column_header_size": 20,
       "base_column_size": 64,
       "base_row_header_size": 64,
       "base_row_size": 20,
       "default_renderer": "IPY_MODEL_dc5a1318026140889110c012d300cec2",
       "editable": true,
       "header_visibility": "all",
       "layout": "IPY_MODEL_520ca8bee64f4ff2bc8ccced42cacb83",
       "selection_mode": "cell",
       "selections": [
        {
         "c1": 1,
         "c2": 1,
         "r1": 2,
         "r2": 2
        }
       ]
      }
     },
     "2e6cd57382394fc9a0ca3d6c59e29607": {
      "model_module": "@jupyter-widgets/controls",
      "model_module_version": "2.0.0",
      "model_name": "ButtonModel",
      "state": {
       "description": "Undo",
       "layout": "IPY_MODEL_8ed74e199c52489e8905239a7a860745",
       "style": "IPY_MODEL_09ef20c835a9415c855cfd3fce812163",
       "tooltip": null
      }
     },
     "2fb9972b010a4f5eb2170338312499f8": {
      "model_module": "@jupyter-widgets/controls",
      "model_module_version": "2.0.0",
      "model_name": "ButtonStyleModel",
      "state": {
       "font_family": null,
       "font_size": null,
       "font_style": null,
       "font_variant": null,
       "font_weight": null,
       "text_color": null,
       "text_decoration": null
      }
     },
     "305111883a7b4fa3b1b3333399e94b93": {
      "model_module": "@jupyter-widgets/base",
      "model_module_version": "2.0.0",
      "model_name": "LayoutModel",
      "state": {
       "height": "170px"
      }
     },
     "3164ba96e35a4064bf1226a60445f79b": {
      "model_module": "@jupyter-widgets/base",
      "model_module_version": "2.0.0",
      "model_name": "LayoutModel",
      "state": {}
     },
     "31f4f8d3ac1f4b20a116cef97df63ca9": {
      "model_module": "@jupyter-widgets/base",
      "model_module_version": "2.0.0",
      "model_name": "LayoutModel",
      "state": {}
     },
     "324889bcbce848429bb39a35efe7b2ce": {
      "model_module": "@jupyter-widgets/base",
      "model_module_version": "2.0.0",
      "model_name": "LayoutModel",
      "state": {
       "height": "130px"
      }
     },
     "341171e0c6ad4845816553b706beda49": {
      "model_module": "@jupyter-widgets/controls",
      "model_module_version": "2.0.0",
      "model_name": "ButtonStyleModel",
      "state": {
       "font_family": null,
       "font_size": null,
       "font_style": null,
       "font_variant": null,
       "font_weight": null,
       "text_color": null,
       "text_decoration": null
      }
     },
     "3491dafbaa3341b4b2c788af35bebf60": {
      "model_module": "@jupyter-widgets/controls",
      "model_module_version": "2.0.0",
      "model_name": "ButtonModel",
      "state": {
       "description": "Add Column",
       "layout": "IPY_MODEL_805a8d3b78c641e898994f5e8eda195d",
       "style": "IPY_MODEL_2736d23502f94719b425c65b53dbf934",
       "tooltip": null
      }
     },
     "34aa1dc231584c02b53ee4caf72d685a": {
      "model_module": "@jupyter-widgets/controls",
      "model_module_version": "2.0.0",
      "model_name": "ButtonStyleModel",
      "state": {
       "font_family": null,
       "font_size": null,
       "font_style": null,
       "font_variant": null,
       "font_weight": null,
       "text_color": null,
       "text_decoration": null
      }
     },
     "3526d4b7f190478eb3f67e124ac75885": {
      "model_module": "ipydatagrid",
      "model_module_version": "^1.1.13",
      "model_name": "TextRendererModel",
      "state": {
       "_model_module_version": "^1.1.13",
       "_view_module_version": "^1.1.13",
       "background_color": "IPY_MODEL_5e9ae21fa6d742cd90ef7a9c7eec2cfd",
       "text_color": "IPY_MODEL_3bc08418e03d458daa3caa680e106732"
      }
     },
     "352c2f8729304404b2f01e36be70e653": {
      "model_module": "@jupyter-widgets/base",
      "model_module_version": "2.0.0",
      "model_name": "LayoutModel",
      "state": {}
     },
     "367b8112e9d647cb883e07ba4fb48b4f": {
      "model_module": "@jupyter-widgets/controls",
      "model_module_version": "2.0.0",
      "model_name": "ButtonModel",
      "state": {
       "description": "Undo",
       "layout": "IPY_MODEL_241057e34535482c870495f2cf34db77",
       "style": "IPY_MODEL_f447fbaccb9f4b0ca92fd9f454fbef53",
       "tooltip": null
      }
     },
     "36f9ed054b8a42b380e83e69ec5c69a6": {
      "model_module": "@jupyter-widgets/base",
      "model_module_version": "2.0.0",
      "model_name": "LayoutModel",
      "state": {
       "height": "370px"
      }
     },
     "3845eca433974281b9f6e53a238c7d49": {
      "model_module": "@jupyter-widgets/base",
      "model_module_version": "2.0.0",
      "model_name": "LayoutModel",
      "state": {
       "height": "590px"
      }
     },
     "385d2edb52ce42d88a7ce7a3aa1f27c3": {
      "model_module": "@jupyter-widgets/base",
      "model_module_version": "2.0.0",
      "model_name": "LayoutModel",
      "state": {}
     },
     "39d0f8b3ad234dd5b18d897ba59af046": {
      "model_module": "@jupyter-widgets/controls",
      "model_module_version": "2.0.0",
      "model_name": "ButtonModel",
      "state": {
       "description": "Generate Vectors",
       "layout": "IPY_MODEL_cb5677c2b3014cd9b4982fb1cd931adb",
       "style": "IPY_MODEL_87650dbc5ae44fd08f45e1b30684809a",
       "tooltip": null
      }
     },
     "3bc04f597eea49abb9e0999b93cb517a": {
      "model_module": "@jupyter-widgets/base",
      "model_module_version": "2.0.0",
      "model_name": "LayoutModel",
      "state": {
       "height": "290px"
      }
     },
     "3bc08418e03d458daa3caa680e106732": {
      "model_module": "ipydatagrid",
      "model_module_version": "^1.1.13",
      "model_name": "VegaExprModel",
      "state": {
       "_model_module_version": "^1.1.13",
       "_view_module": "ipydatagrid",
       "_view_module_version": "^1.1.13",
       "_view_name": "VegaExprView"
      }
     },
     "3e23155313264180a3cb6f6f4a6e51ac": {
      "model_module": "@jupyter-widgets/base",
      "model_module_version": "2.0.0",
      "model_name": "LayoutModel",
      "state": {
       "height": "130px"
      }
     },
     "3e3cb6267b614c2d99bd5b3b65138de8": {
      "model_module": "@jupyter-widgets/base",
      "model_module_version": "2.0.0",
      "model_name": "LayoutModel",
      "state": {}
     },
     "3e5b3272147940f7bed9f3a624510493": {
      "model_module": "@jupyter-widgets/controls",
      "model_module_version": "2.0.0",
      "model_name": "ButtonModel",
      "state": {
       "description": "Undo",
       "layout": "IPY_MODEL_75d28028ba2145f5b3f0387c4cac87b0",
       "style": "IPY_MODEL_160110a1cbf24a938c9ac6b0654fa832",
       "tooltip": null
      }
     },
     "3ee37ca235154a78a982b5799e6d3fd8": {
      "model_module": "ipydatagrid",
      "model_module_version": "^1.1.13",
      "model_name": "DataGridModel",
      "state": {
       "_data": {
        "data": [
         {
          "0": "m",
          "1": "um",
          "ipydguuid": 0,
          "key": "  Variable:"
         },
         {
          "0": "g",
          "1": "g",
          "ipydguuid": 1,
          "key": " Units:"
         },
         {
          "0": "497",
          "1": "=(516-477)/4)",
          "ipydguuid": 2,
          "key": 0
         },
         {
          "0": "142",
          "1": "=10/(2*np.sqrt(3))",
          "ipydguuid": 3,
          "key": 1
         }
        ],
        "fields": [
         {
          "key": null
         },
         {
          "0": null
         },
         {
          "1": null
         },
         {
          "ipydguuid": null
         }
        ],
        "schema": {
         "fields": [
          {
           "name": "key",
           "type": "string"
          },
          {
           "name": 0,
           "type": "string"
          },
          {
           "name": 1,
           "type": "string"
          },
          {
           "name": "ipydguuid",
           "type": "integer"
          }
         ],
         "pandas_version": "1.4.0",
         "primaryKey": [
          "key",
          "ipydguuid"
         ],
         "primaryKeyUuid": "ipydguuid"
        }
       },
       "_model_module_version": "^1.1.13",
       "_model_name": "DataGridModel",
       "_view_module_version": "^1.1.13",
       "_visible_rows": [
        0,
        1,
        2,
        3
       ],
       "auto_fit_columns": false,
       "auto_fit_params": {
        "area": "all",
        "numCols": null,
        "padding": 30
       },
       "base_column_header_size": 20,
       "base_column_size": 64,
       "base_row_header_size": 64,
       "base_row_size": 20,
       "default_renderer": "IPY_MODEL_ad579d220ff2462fa476a7e19eb50f59",
       "editable": true,
       "header_visibility": "all",
       "layout": "IPY_MODEL_3e23155313264180a3cb6f6f4a6e51ac",
       "selection_mode": "cell",
       "selections": [
        {
         "c1": 1,
         "c2": 1,
         "r1": 3,
         "r2": 3
        }
       ]
      }
     },
     "3efd23c106f74664bc3a821ef15ca627": {
      "model_module": "@jupyter-widgets/base",
      "model_module_version": "2.0.0",
      "model_name": "LayoutModel",
      "state": {}
     },
     "3f6dd79fb95a43e9aca4fba41f403dd7": {
      "model_module": "@jupyter-widgets/base",
      "model_module_version": "2.0.0",
      "model_name": "LayoutModel",
      "state": {
       "height": "550px"
      }
     },
     "406e645464154e3989fa2853828377e6": {
      "model_module": "@jupyter-widgets/controls",
      "model_module_version": "2.0.0",
      "model_name": "ButtonStyleModel",
      "state": {
       "font_family": null,
       "font_size": null,
       "font_style": null,
       "font_variant": null,
       "font_weight": null,
       "text_color": null,
       "text_decoration": null
      }
     },
     "415839ed519640e1bcaf2b13dafee544": {
      "model_module": "ipydatagrid",
      "model_module_version": "^1.1.13",
      "model_name": "DataGridModel",
      "state": {
       "_data": {
        "data": [
         {
          "0": "m",
          "1": "um",
          "ipydguuid": 0,
          "key": "  Variable:"
         },
         {
          "0": "g",
          "1": "g",
          "ipydguuid": 1,
          "key": " Units:"
         },
         {
          "0": "497",
          "1": "=(516-477)/4",
          "ipydguuid": 2,
          "key": 0
         },
         {
          "0": "142",
          "1": "=10/(2*np.sqrt(3))",
          "ipydguuid": 3,
          "key": 1
         }
        ],
        "fields": [
         {
          "key": null
         },
         {
          "0": null
         },
         {
          "1": null
         },
         {
          "ipydguuid": null
         }
        ],
        "schema": {
         "fields": [
          {
           "name": "key",
           "type": "string"
          },
          {
           "name": 0,
           "type": "string"
          },
          {
           "name": 1,
           "type": "string"
          },
          {
           "name": "ipydguuid",
           "type": "integer"
          }
         ],
         "pandas_version": "1.4.0",
         "primaryKey": [
          "key",
          "ipydguuid"
         ],
         "primaryKeyUuid": "ipydguuid"
        }
       },
       "_model_module_version": "^1.1.13",
       "_model_name": "DataGridModel",
       "_view_module_version": "^1.1.13",
       "auto_fit_columns": false,
       "auto_fit_params": {
        "area": "all",
        "numCols": null,
        "padding": 30
       },
       "base_column_header_size": 20,
       "base_column_size": 64,
       "base_row_header_size": 64,
       "base_row_size": 20,
       "default_renderer": "IPY_MODEL_49ab225eb52247abbd9bc2a1d5624b8f",
       "editable": true,
       "header_visibility": "all",
       "layout": "IPY_MODEL_324889bcbce848429bb39a35efe7b2ce",
       "selection_mode": "cell"
      }
     },
     "4187d7dd56044feeb77e3b7e11a46927": {
      "model_module": "@jupyter-widgets/controls",
      "model_module_version": "2.0.0",
      "model_name": "ButtonStyleModel",
      "state": {
       "font_family": null,
       "font_size": null,
       "font_style": null,
       "font_variant": null,
       "font_weight": null,
       "text_color": null,
       "text_decoration": null
      }
     },
     "419545c9144c4a42b85ae90e6b10a196": {
      "model_module": "@jupyter-widgets/base",
      "model_module_version": "2.0.0",
      "model_name": "LayoutModel",
      "state": {
       "height": "510px"
      }
     },
     "41f965dee91d4fc2b3ffa46c92e2b25d": {
      "model_module": "@jupyter-widgets/base",
      "model_module_version": "2.0.0",
      "model_name": "LayoutModel",
      "state": {}
     },
     "42a75d800cb541258796ef9b4614b744": {
      "model_module": "@jupyter-widgets/base",
      "model_module_version": "2.0.0",
      "model_name": "LayoutModel",
      "state": {
       "height": "350px"
      }
     },
     "442651c6de93433cb9c13cdd8f823fab": {
      "model_module": "@jupyter-widgets/base",
      "model_module_version": "2.0.0",
      "model_name": "LayoutModel",
      "state": {}
     },
     "444186a8d7c7429e9148d78f3b62e337": {
      "model_module": "@jupyter-widgets/controls",
      "model_module_version": "2.0.0",
      "model_name": "ButtonModel",
      "state": {
       "description": "Generate Vectors",
       "layout": "IPY_MODEL_d17358d37e7f4693a2f07c0496464e12",
       "style": "IPY_MODEL_cee2f23747ba474a85bfc05135e39d2a",
       "tooltip": null
      }
     },
     "45acc9bfe371413a8ae9dbaa5ceaf406": {
      "model_module": "@jupyter-widgets/base",
      "model_module_version": "2.0.0",
      "model_name": "LayoutModel",
      "state": {}
     },
     "45fe30aa06db44b3993e9b4e0fda0af7": {
      "model_module": "@jupyter-widgets/base",
      "model_module_version": "2.0.0",
      "model_name": "LayoutModel",
      "state": {
       "height": "610px"
      }
     },
     "46020abaf1e94519a6a20e8d49f41f9a": {
      "model_module": "@jupyter-widgets/controls",
      "model_module_version": "2.0.0",
      "model_name": "ButtonStyleModel",
      "state": {
       "font_family": null,
       "font_size": null,
       "font_style": null,
       "font_variant": null,
       "font_weight": null,
       "text_color": null,
       "text_decoration": null
      }
     },
     "4648ed49964145988e210f8f541d21fb": {
      "model_module": "@jupyter-widgets/base",
      "model_module_version": "2.0.0",
      "model_name": "LayoutModel",
      "state": {
       "height": "250px"
      }
     },
     "46692d6da8ef4988b98250852ffca4b7": {
      "model_module": "@jupyter-widgets/base",
      "model_module_version": "2.0.0",
      "model_name": "LayoutModel",
      "state": {}
     },
     "47568a70cedb449e8003f8cc1a53b8bb": {
      "model_module": "@jupyter-widgets/base",
      "model_module_version": "2.0.0",
      "model_name": "LayoutModel",
      "state": {
       "height": "390px"
      }
     },
     "47ca3e64e6f74ba88b429119e52e5950": {
      "model_module": "@jupyter-widgets/base",
      "model_module_version": "2.0.0",
      "model_name": "LayoutModel",
      "state": {
       "height": "150px"
      }
     },
     "48f094a5dac04493830fabdb6eecb43f": {
      "model_module": "@jupyter-widgets/base",
      "model_module_version": "2.0.0",
      "model_name": "LayoutModel",
      "state": {}
     },
     "492aac3deee34483bb30ca2f121f06f1": {
      "model_module": "@jupyter-widgets/controls",
      "model_module_version": "2.0.0",
      "model_name": "ButtonStyleModel",
      "state": {
       "font_family": null,
       "font_size": null,
       "font_style": null,
       "font_variant": null,
       "font_weight": null,
       "text_color": null,
       "text_decoration": null
      }
     },
     "49ab225eb52247abbd9bc2a1d5624b8f": {
      "model_module": "ipydatagrid",
      "model_module_version": "^1.1.13",
      "model_name": "TextRendererModel",
      "state": {
       "_model_module_version": "^1.1.13",
       "_view_module_version": "^1.1.13",
       "background_color": "IPY_MODEL_5e9ae21fa6d742cd90ef7a9c7eec2cfd",
       "text_color": "IPY_MODEL_3bc08418e03d458daa3caa680e106732"
      }
     },
     "4a60d9f6b54e454499cc2e1a3bf6462d": {
      "model_module": "@jupyter-widgets/base",
      "model_module_version": "2.0.0",
      "model_name": "LayoutModel",
      "state": {
       "height": "310px"
      }
     },
     "4af3ee4b5d774df3bfee68e38fa57284": {
      "model_module": "@jupyter-widgets/controls",
      "model_module_version": "2.0.0",
      "model_name": "ButtonModel",
      "state": {
       "description": "Add Column",
       "layout": "IPY_MODEL_71773bc7983548d6965569165476bcbb",
       "style": "IPY_MODEL_34aa1dc231584c02b53ee4caf72d685a",
       "tooltip": null
      }
     },
     "4b8cd0c422d444c5afef5175349556d3": {
      "model_module": "@jupyter-widgets/controls",
      "model_module_version": "2.0.0",
      "model_name": "ButtonModel",
      "state": {
       "description": "Add Row",
       "layout": "IPY_MODEL_cecbec25f80d4990ad7e217d3c799eed",
       "style": "IPY_MODEL_f1738264ab6a4b35bf71c6db7a39d989",
       "tooltip": null
      }
     },
     "4bb67fba656a4b2db8cfbab33ba545a5": {
      "model_module": "@jupyter-widgets/controls",
      "model_module_version": "2.0.0",
      "model_name": "ButtonModel",
      "state": {
       "description": "Generate Vectors",
       "layout": "IPY_MODEL_19acaedb2c7047aabba728082f62163b",
       "style": "IPY_MODEL_68ececc704ba4250964da5d2dbcda676",
       "tooltip": null
      }
     },
     "4bd9f49126374d57be33a28a384bb5cc": {
      "model_module": "@jupyter-widgets/base",
      "model_module_version": "2.0.0",
      "model_name": "LayoutModel",
      "state": {
       "height": "330px"
      }
     },
     "4bf6100e9bd84b2dac6f9c9581fc2d39": {
      "model_module": "@jupyter-widgets/controls",
      "model_module_version": "2.0.0",
      "model_name": "ButtonStyleModel",
      "state": {
       "font_family": null,
       "font_size": null,
       "font_style": null,
       "font_variant": null,
       "font_weight": null,
       "text_color": null,
       "text_decoration": null
      }
     },
     "4ca6eb9e8e9646caab1fd8b5e43c99f7": {
      "model_module": "@jupyter-widgets/base",
      "model_module_version": "2.0.0",
      "model_name": "LayoutModel",
      "state": {
       "height": "370px"
      }
     },
     "4cea4bb99dcb4ce1977a4c2d0f1dbb0a": {
      "model_module": "@jupyter-widgets/base",
      "model_module_version": "2.0.0",
      "model_name": "LayoutModel",
      "state": {
       "height": "490px"
      }
     },
     "4d01febc371c4db6859644847c6d6749": {
      "model_module": "@jupyter-widgets/base",
      "model_module_version": "2.0.0",
      "model_name": "LayoutModel",
      "state": {
       "height": "230px"
      }
     },
     "4d0c2e69e3db4ca58a952fe44c5ab289": {
      "model_module": "@jupyter-widgets/controls",
      "model_module_version": "2.0.0",
      "model_name": "ButtonStyleModel",
      "state": {
       "font_family": null,
       "font_size": null,
       "font_style": null,
       "font_variant": null,
       "font_weight": null,
       "text_color": null,
       "text_decoration": null
      }
     },
     "4e833877007b4fcb8458c5645924010d": {
      "model_module": "@jupyter-widgets/base",
      "model_module_version": "2.0.0",
      "model_name": "LayoutModel",
      "state": {}
     },
     "4ef358825c374f9b9fbd601479bc5ca9": {
      "model_module": "@jupyter-widgets/controls",
      "model_module_version": "2.0.0",
      "model_name": "HBoxModel",
      "state": {
       "children": [
        "IPY_MODEL_d2ed8c6f86e44a1ca43d213540cde1d9",
        "IPY_MODEL_d41a175a670e4341bc8393df798ffc12",
        "IPY_MODEL_d8825022a82541acafc0f4e8b3801d88",
        "IPY_MODEL_0657eb6fbcd84ccb8517f495496ce36f",
        "IPY_MODEL_179a508db59f4ebe891ec26f6ddf3475"
       ],
       "layout": "IPY_MODEL_4e833877007b4fcb8458c5645924010d"
      }
     },
     "4eff547dafa54a92b01dccd8cf89529d": {
      "model_module": "@jupyter-widgets/controls",
      "model_module_version": "2.0.0",
      "model_name": "ButtonModel",
      "state": {
       "description": "Add Row",
       "layout": "IPY_MODEL_0931c338d0974d968ed83b6e2da728af",
       "style": "IPY_MODEL_1921d749afb3435d824c1eec0234b055",
       "tooltip": null
      }
     },
     "4f42132f99a94a398167ffdcacf5b5d0": {
      "model_module": "@jupyter-widgets/controls",
      "model_module_version": "2.0.0",
      "model_name": "ButtonStyleModel",
      "state": {
       "font_family": null,
       "font_size": null,
       "font_style": null,
       "font_variant": null,
       "font_weight": null,
       "text_color": null,
       "text_decoration": null
      }
     },
     "4fed155f8c0f4c329790faf4ac94760c": {
      "model_module": "@jupyter-widgets/output",
      "model_module_version": "1.0.0",
      "model_name": "OutputModel",
      "state": {
       "layout": "IPY_MODEL_e7a660d6e8c34336b0610bba9bdb1447"
      }
     },
     "503186f47c534bbf9a3d9e7e21395924": {
      "model_module": "@jupyter-widgets/controls",
      "model_module_version": "2.0.0",
      "model_name": "ButtonModel",
      "state": {
       "description": "Redo",
       "layout": "IPY_MODEL_183f987e631c4a6599a0ac707a1c3a79",
       "style": "IPY_MODEL_70408f95c9604af89d0096eb8e614228",
       "tooltip": null
      }
     },
     "5073e008c6fe4745b3e5495ce4748ab4": {
      "model_module": "@jupyter-widgets/base",
      "model_module_version": "2.0.0",
      "model_name": "LayoutModel",
      "state": {}
     },
     "5118b7ce2f6b4d65bb05f775d0dac0cc": {
      "model_module": "@jupyter-widgets/base",
      "model_module_version": "2.0.0",
      "model_name": "LayoutModel",
      "state": {}
     },
     "51b6a94f3c6f486c81fbb0e1cf4555e1": {
      "model_module": "@jupyter-widgets/base",
      "model_module_version": "2.0.0",
      "model_name": "LayoutModel",
      "state": {
       "height": "130px"
      }
     },
     "520ca8bee64f4ff2bc8ccced42cacb83": {
      "model_module": "@jupyter-widgets/base",
      "model_module_version": "2.0.0",
      "model_name": "LayoutModel",
      "state": {
       "height": "130px"
      }
     },
     "52594fc8df2b4a2b9c8f0a0c9ca409c5": {
      "model_module": "@jupyter-widgets/controls",
      "model_module_version": "2.0.0",
      "model_name": "ButtonStyleModel",
      "state": {
       "font_family": null,
       "font_size": null,
       "font_style": null,
       "font_variant": null,
       "font_weight": null,
       "text_color": null,
       "text_decoration": null
      }
     },
     "53cc35e64b4b4c9994de33679c218d3e": {
      "model_module": "@jupyter-widgets/controls",
      "model_module_version": "2.0.0",
      "model_name": "ButtonModel",
      "state": {
       "description": "Add Column",
       "layout": "IPY_MODEL_442651c6de93433cb9c13cdd8f823fab",
       "style": "IPY_MODEL_b14d095063d64dd3b94925aaf7fe9bb1",
       "tooltip": null
      }
     },
     "54767a487c514d11a1169e20e8228630": {
      "model_module": "@jupyter-widgets/base",
      "model_module_version": "2.0.0",
      "model_name": "LayoutModel",
      "state": {}
     },
     "549826079b08407ab68697512a52388e": {
      "model_module": "@jupyter-widgets/controls",
      "model_module_version": "2.0.0",
      "model_name": "ButtonModel",
      "state": {
       "description": "Redo",
       "layout": "IPY_MODEL_5f699e45cd3a44278bc8ee9c4775af25",
       "style": "IPY_MODEL_574a7663fd584205813b4bbe13e2bcaa",
       "tooltip": null
      }
     },
     "54bf016a4a1341179f24917b8f581fb7": {
      "model_module": "@jupyter-widgets/controls",
      "model_module_version": "2.0.0",
      "model_name": "ButtonModel",
      "state": {
       "description": "Generate Vectors",
       "layout": "IPY_MODEL_8809a9450bd64ba2940e4a27566592fe",
       "style": "IPY_MODEL_7b3a9fb3655f4517820a081d73268dde",
       "tooltip": null
      }
     },
     "55bb44f11a1a4421afbaf0588701abb6": {
      "model_module": "@jupyter-widgets/controls",
      "model_module_version": "2.0.0",
      "model_name": "ButtonStyleModel",
      "state": {
       "font_family": null,
       "font_size": null,
       "font_style": null,
       "font_variant": null,
       "font_weight": null,
       "text_color": null,
       "text_decoration": null
      }
     },
     "56997cd461e844d8a657017b2924a16b": {
      "model_module": "@jupyter-widgets/base",
      "model_module_version": "2.0.0",
      "model_name": "LayoutModel",
      "state": {
       "height": "310px"
      }
     },
     "56e6a0c5b3f6499fa5dac69feec48d0e": {
      "model_module": "@jupyter-widgets/base",
      "model_module_version": "2.0.0",
      "model_name": "LayoutModel",
      "state": {
       "height": "430px"
      }
     },
     "5734ef7c68104fbb91f1e39d0d1fd375": {
      "model_module": "@jupyter-widgets/controls",
      "model_module_version": "2.0.0",
      "model_name": "ButtonStyleModel",
      "state": {
       "font_family": null,
       "font_size": null,
       "font_style": null,
       "font_variant": null,
       "font_weight": null,
       "text_color": null,
       "text_decoration": null
      }
     },
     "574a7663fd584205813b4bbe13e2bcaa": {
      "model_module": "@jupyter-widgets/controls",
      "model_module_version": "2.0.0",
      "model_name": "ButtonStyleModel",
      "state": {
       "font_family": null,
       "font_size": null,
       "font_style": null,
       "font_variant": null,
       "font_weight": null,
       "text_color": null,
       "text_decoration": null
      }
     },
     "57ca58491da648668e7019b7df63c31a": {
      "model_module": "@jupyter-widgets/base",
      "model_module_version": "2.0.0",
      "model_name": "LayoutModel",
      "state": {}
     },
     "58657d89141c4157a2c51376762ae079": {
      "model_module": "@jupyter-widgets/controls",
      "model_module_version": "2.0.0",
      "model_name": "ButtonStyleModel",
      "state": {
       "font_family": null,
       "font_size": null,
       "font_style": null,
       "font_variant": null,
       "font_weight": null,
       "text_color": null,
       "text_decoration": null
      }
     },
     "58b3e7cbf5ca4a498c05db90825d5dd4": {
      "model_module": "@jupyter-widgets/controls",
      "model_module_version": "2.0.0",
      "model_name": "HBoxModel",
      "state": {
       "children": [
        "IPY_MODEL_e8a6692f660b42729e71b6efb2dfd082",
        "IPY_MODEL_549826079b08407ab68697512a52388e",
        "IPY_MODEL_c21925e616f94cdc924ef0ae0fd57001",
        "IPY_MODEL_bc784ebabee94b539db249097280620b",
        "IPY_MODEL_39d0f8b3ad234dd5b18d897ba59af046"
       ],
       "layout": "IPY_MODEL_fded9d041f534c4abb67017f9d6a8ff1"
      }
     },
     "59072fca98e24572a1b1cb1197220c40": {
      "model_module": "@jupyter-widgets/controls",
      "model_module_version": "2.0.0",
      "model_name": "ButtonStyleModel",
      "state": {
       "font_family": null,
       "font_size": null,
       "font_style": null,
       "font_variant": null,
       "font_weight": null,
       "text_color": null,
       "text_decoration": null
      }
     },
     "590a4c1cd25f4ae88d7a42acd83cea6e": {
      "model_module": "@jupyter-widgets/base",
      "model_module_version": "2.0.0",
      "model_name": "LayoutModel",
      "state": {
       "height": "470px"
      }
     },
     "591356744bf8456c86a3820ca8e9e267": {
      "model_module": "@jupyter-widgets/base",
      "model_module_version": "2.0.0",
      "model_name": "LayoutModel",
      "state": {}
     },
     "5930ccf07fba49419281cfc4a59faaee": {
      "model_module": "@jupyter-widgets/controls",
      "model_module_version": "2.0.0",
      "model_name": "ButtonStyleModel",
      "state": {
       "font_family": null,
       "font_size": null,
       "font_style": null,
       "font_variant": null,
       "font_weight": null,
       "text_color": null,
       "text_decoration": null
      }
     },
     "5930ee76d43b427a88bce4ce519e9121": {
      "model_module": "@jupyter-widgets/controls",
      "model_module_version": "2.0.0",
      "model_name": "VBoxModel",
      "state": {
       "children": [
        "IPY_MODEL_a4320781a4a542bd87bdaf75671faaee",
        "IPY_MODEL_2e3713ff3ac0469f972fa15e0600872d",
        "IPY_MODEL_f944126f739342c0a7867c8f3121989a"
       ],
       "layout": "IPY_MODEL_b59df89f010f4cf29b9009eb5717dcf1"
      }
     },
     "5955698f05af44c7a66035b55ecc7f16": {
      "model_module": "@jupyter-widgets/base",
      "model_module_version": "2.0.0",
      "model_name": "LayoutModel",
      "state": {}
     },
     "5957fbd47456430a9a728271b84a3848": {
      "model_module": "ipydatagrid",
      "model_module_version": "^1.1.13",
      "model_name": "TextRendererModel",
      "state": {
       "_model_module_version": "^1.1.13",
       "_view_module_version": "^1.1.13",
       "background_color": "IPY_MODEL_5e9ae21fa6d742cd90ef7a9c7eec2cfd",
       "text_color": "IPY_MODEL_3bc08418e03d458daa3caa680e106732"
      }
     },
     "5a2eebcb0ce24752be0f393c6ac05d84": {
      "model_module": "@jupyter-widgets/controls",
      "model_module_version": "2.0.0",
      "model_name": "ButtonStyleModel",
      "state": {
       "font_family": null,
       "font_size": null,
       "font_style": null,
       "font_variant": null,
       "font_weight": null,
       "text_color": null,
       "text_decoration": null
      }
     },
     "5a3c3a475c914669a735114544e21fe1": {
      "model_module": "@jupyter-widgets/controls",
      "model_module_version": "2.0.0",
      "model_name": "VBoxModel",
      "state": {
       "children": [
        "IPY_MODEL_c58e4fa3fbfe4ddb9a3ed40f000c1970",
        "IPY_MODEL_abdbc9bfbf54476293c5bf8386349315",
        "IPY_MODEL_78afbe9195e54eec8e9362d044598205"
       ],
       "layout": "IPY_MODEL_c91000a74c25412a9789bb313b30f177"
      }
     },
     "5a8270cdc70e4897a269334e1040a7cc": {
      "model_module": "@jupyter-widgets/controls",
      "model_module_version": "2.0.0",
      "model_name": "ButtonModel",
      "state": {
       "description": "Undo",
       "layout": "IPY_MODEL_95a11395824042a2bd9ce7d8ac4a3672",
       "style": "IPY_MODEL_92451eb927084916a1ac4dee9b67e6b2",
       "tooltip": null
      }
     },
     "5a8b355a169e4cc49ee99649d8b0489e": {
      "model_module": "@jupyter-widgets/base",
      "model_module_version": "2.0.0",
      "model_name": "LayoutModel",
      "state": {
       "height": "530px"
      }
     },
     "5accb0414b274328bf67f62fa09fedb2": {
      "model_module": "@jupyter-widgets/controls",
      "model_module_version": "2.0.0",
      "model_name": "ButtonStyleModel",
      "state": {
       "font_family": null,
       "font_size": null,
       "font_style": null,
       "font_variant": null,
       "font_weight": null,
       "text_color": null,
       "text_decoration": null
      }
     },
     "5acd878763f047339ca9a9f046ede5ae": {
      "model_module": "@jupyter-widgets/output",
      "model_module_version": "1.0.0",
      "model_name": "OutputModel",
      "state": {
       "layout": "IPY_MODEL_6fc0d49f0e1b45c09ebec2d8e498b791",
       "outputs": [
        {
         "name": "stdout",
         "output_type": "stream",
         "text": "Data vectors need to be updated\n"
        }
       ]
      }
     },
     "5cc7b85e1b614a4392c06173616ee9fd": {
      "model_module": "@jupyter-widgets/controls",
      "model_module_version": "2.0.0",
      "model_name": "ButtonModel",
      "state": {
       "description": "Generate Vectors",
       "layout": "IPY_MODEL_27013a84f4c741a79440eae4a1933ca2",
       "style": "IPY_MODEL_46020abaf1e94519a6a20e8d49f41f9a",
       "tooltip": null
      }
     },
     "5cfb4a4dffb4412e82bab30c0285ce36": {
      "model_module": "@jupyter-widgets/controls",
      "model_module_version": "2.0.0",
      "model_name": "ButtonModel",
      "state": {
       "description": "Generate Vectors",
       "layout": "IPY_MODEL_a0c4996630d744e6a7e7f4d16f6f4aa3",
       "style": "IPY_MODEL_a2c898fa58dc4eb5aa1f4a69985edef4",
       "tooltip": null
      }
     },
     "5d0e946217074543ab526e3ae1ee047c": {
      "model_module": "@jupyter-widgets/base",
      "model_module_version": "2.0.0",
      "model_name": "LayoutModel",
      "state": {
       "height": "270px"
      }
     },
     "5d2868be3f914ae6acbad3f807bc7246": {
      "model_module": "@jupyter-widgets/controls",
      "model_module_version": "2.0.0",
      "model_name": "ButtonModel",
      "state": {
       "description": "Generate Vectors",
       "layout": "IPY_MODEL_997f116169714ffa9a1cabe269b8b6fd",
       "style": "IPY_MODEL_21bedcd745244e048a856b0c94f318cf",
       "tooltip": null
      }
     },
     "5d4ff37938674bd18e2cfc7e8cd1d12f": {
      "model_module": "@jupyter-widgets/controls",
      "model_module_version": "2.0.0",
      "model_name": "ButtonStyleModel",
      "state": {
       "font_family": null,
       "font_size": null,
       "font_style": null,
       "font_variant": null,
       "font_weight": null,
       "text_color": null,
       "text_decoration": null
      }
     },
     "5e5275bc015945a7a70012af0fd57c15": {
      "model_module": "@jupyter-widgets/base",
      "model_module_version": "2.0.0",
      "model_name": "LayoutModel",
      "state": {}
     },
     "5e9ae21fa6d742cd90ef7a9c7eec2cfd": {
      "model_module": "ipydatagrid",
      "model_module_version": "^1.1.13",
      "model_name": "VegaExprModel",
      "state": {
       "_model_module_version": "^1.1.13",
       "_view_module": "ipydatagrid",
       "_view_module_version": "^1.1.13",
       "_view_name": "VegaExprView"
      }
     },
     "5f3a23fbf12b439fb6734ea81a8b1276": {
      "model_module": "@jupyter-widgets/controls",
      "model_module_version": "2.0.0",
      "model_name": "ButtonModel",
      "state": {
       "description": "Add Column",
       "layout": "IPY_MODEL_0bf207f856ab4ad7b91aeb1b0a5d8dfd",
       "style": "IPY_MODEL_08269b19d5d8481d900172bd3d68821d",
       "tooltip": null
      }
     },
     "5f699e45cd3a44278bc8ee9c4775af25": {
      "model_module": "@jupyter-widgets/base",
      "model_module_version": "2.0.0",
      "model_name": "LayoutModel",
      "state": {}
     },
     "607245cb5c054b26a16f74a283f5d4b3": {
      "model_module": "@jupyter-widgets/base",
      "model_module_version": "2.0.0",
      "model_name": "LayoutModel",
      "state": {
       "height": "390px"
      }
     },
     "60f79d5148d04b7099f6ae88a176485b": {
      "model_module": "@jupyter-widgets/base",
      "model_module_version": "2.0.0",
      "model_name": "LayoutModel",
      "state": {}
     },
     "61fd02fb3d164cdb9427cd4b9197d6a2": {
      "model_module": "@jupyter-widgets/base",
      "model_module_version": "2.0.0",
      "model_name": "LayoutModel",
      "state": {}
     },
     "621751c3108c48368b453d1fdc2f8509": {
      "model_module": "@jupyter-widgets/controls",
      "model_module_version": "2.0.0",
      "model_name": "ButtonModel",
      "state": {
       "description": "Redo",
       "layout": "IPY_MODEL_5118b7ce2f6b4d65bb05f775d0dac0cc",
       "style": "IPY_MODEL_59072fca98e24572a1b1cb1197220c40",
       "tooltip": null
      }
     },
     "627a0014d45c47e3a96a2440678193fa": {
      "model_module": "@jupyter-widgets/base",
      "model_module_version": "2.0.0",
      "model_name": "LayoutModel",
      "state": {
       "height": "410px"
      }
     },
     "629d899b12e04ed08a59f00743023c30": {
      "model_module": "@jupyter-widgets/controls",
      "model_module_version": "2.0.0",
      "model_name": "ButtonStyleModel",
      "state": {
       "font_family": null,
       "font_size": null,
       "font_style": null,
       "font_variant": null,
       "font_weight": null,
       "text_color": null,
       "text_decoration": null
      }
     },
     "647495cb7591411395cd5ca35e8bd912": {
      "model_module": "@jupyter-widgets/controls",
      "model_module_version": "2.0.0",
      "model_name": "ButtonModel",
      "state": {
       "description": "Undo",
       "layout": "IPY_MODEL_d5a29270819440c38f02f1b4edc5924f",
       "style": "IPY_MODEL_21efa182c6cc49bea6b350911ccadf2a",
       "tooltip": null
      }
     },
     "64a5a69cc176467aa43076316ae634bb": {
      "model_module": "ipydatagrid",
      "model_module_version": "^1.1.13",
      "model_name": "DataGridModel",
      "state": {
       "_data": {
        "data": [
         {
          "0": "d",
          "1": "",
          "ipydguuid": 0,
          "key": "  Variable:"
         },
         {
          "0": "mm",
          "1": "",
          "ipydguuid": 1,
          "key": " Units:"
         },
         {
          "0": "439.3",
          "1": "",
          "ipydguuid": 2,
          "key": 0
         },
         {
          "0": "431.6",
          "1": "",
          "ipydguuid": 3,
          "key": 1
         },
         {
          "0": "",
          "1": "",
          "ipydguuid": 4,
          "key": 2
         },
         {
          "0": "",
          "1": "",
          "ipydguuid": 5,
          "key": 3
         },
         {
          "0": "",
          "1": "",
          "ipydguuid": 6,
          "key": 4
         },
         {
          "0": "",
          "1": "",
          "ipydguuid": 7,
          "key": 5
         },
         {
          "0": "",
          "1": "",
          "ipydguuid": 8,
          "key": 6
         },
         {
          "0": "",
          "1": "",
          "ipydguuid": 9,
          "key": 7
         },
         {
          "0": "1",
          "1": "",
          "ipydguuid": 10,
          "key": 8
         },
         {
          "0": "2",
          "1": "",
          "ipydguuid": 11,
          "key": 9
         },
         {
          "0": "",
          "1": "",
          "ipydguuid": 12,
          "key": 10
         },
         {
          "0": "",
          "1": "",
          "ipydguuid": 13,
          "key": 11
         },
         {
          "0": "1",
          "1": "",
          "ipydguuid": 14,
          "key": 12
         },
         {
          "0": "",
          "1": "",
          "ipydguuid": 15,
          "key": 13
         },
         {
          "0": "",
          "1": "",
          "ipydguuid": 16,
          "key": 14
         }
        ],
        "fields": [
         {
          "key": null
         },
         {
          "0": null
         },
         {
          "1": null
         },
         {
          "ipydguuid": null
         }
        ],
        "schema": {
         "fields": [
          {
           "name": "key",
           "type": "string"
          },
          {
           "name": 0,
           "type": "string"
          },
          {
           "name": 1,
           "type": "string"
          },
          {
           "name": "ipydguuid",
           "type": "integer"
          }
         ],
         "pandas_version": "1.4.0",
         "primaryKey": [
          "key",
          "ipydguuid"
         ],
         "primaryKeyUuid": "ipydguuid"
        }
       },
       "_model_module_version": "^1.1.13",
       "_model_name": "DataGridModel",
       "_view_module_version": "^1.1.13",
       "_visible_rows": [
        0,
        1,
        2,
        3,
        4,
        5,
        6,
        7,
        8,
        9,
        10,
        11,
        12,
        13,
        14,
        15,
        16
       ],
       "auto_fit_columns": false,
       "auto_fit_params": {
        "area": "all",
        "numCols": null,
        "padding": 30
       },
       "base_column_header_size": 20,
       "base_column_size": 64,
       "base_row_header_size": 64,
       "base_row_size": 20,
       "default_renderer": "IPY_MODEL_d9b59c5722e14e91a24e6bd4652a7cd1",
       "editable": true,
       "header_visibility": "all",
       "layout": "IPY_MODEL_607245cb5c054b26a16f74a283f5d4b3",
       "selection_mode": "cell",
       "selections": [
        {
         "c1": 1,
         "c2": 1,
         "r1": 0,
         "r2": 0
        }
       ]
      }
     },
     "652ef250e3c6432186970a4b07df8101": {
      "model_module": "ipydatagrid",
      "model_module_version": "^1.1.13",
      "model_name": "DataGridModel",
      "state": {
       "_data": {
        "data": [
         {
          "0": "",
          "1": "",
          "2": "",
          "ipydguuid": 0,
          "key": "  Variable:"
         },
         {
          "0": "",
          "1": "",
          "2": "",
          "ipydguuid": 1,
          "key": " Units:"
         },
         {
          "0": "439.3 431.6 434.6 433.3 439.3 442.6 428.6 441.6 431.2 427.6 433.2 441.3 436 437.6 434.7 433.2 433.1 431.3 436 432.9 436.5 437.2 435.7 432.6 434.7",
          "1": "",
          "2": "",
          "ipydguuid": 2,
          "key": 0
         },
         {
          "0": "",
          "1": "",
          "2": "",
          "ipydguuid": 3,
          "key": 1
         },
         {
          "0": "",
          "1": "",
          "2": "",
          "ipydguuid": 4,
          "key": 2
         },
         {
          "0": "",
          "1": "",
          "2": "",
          "ipydguuid": 5,
          "key": 3
         },
         {
          "0": "",
          "1": "",
          "2": "",
          "ipydguuid": 6,
          "key": 4
         },
         {
          "0": "",
          "1": "",
          "2": "",
          "ipydguuid": 7,
          "key": 5
         },
         {
          "0": "",
          "1": "",
          "2": "",
          "ipydguuid": 8,
          "key": 6
         },
         {
          "0": "",
          "1": "",
          "2": "",
          "ipydguuid": 9,
          "key": 7
         },
         {
          "0": "",
          "1": "",
          "2": "",
          "ipydguuid": 10,
          "key": 8
         },
         {
          "0": "",
          "1": "",
          "2": "",
          "ipydguuid": 11,
          "key": 9
         },
         {
          "0": "",
          "1": "",
          "2": "",
          "ipydguuid": 12,
          "key": 10
         },
         {
          "0": "",
          "1": "",
          "2": "",
          "ipydguuid": 13,
          "key": 11
         },
         {
          "0": "",
          "1": "",
          "2": "",
          "ipydguuid": 14,
          "key": 12
         },
         {
          "0": "",
          "1": "",
          "2": "",
          "ipydguuid": 15,
          "key": 13
         },
         {
          "0": "",
          "1": "",
          "2": "",
          "ipydguuid": 16,
          "key": 14
         },
         {
          "0": "",
          "1": "",
          "2": "",
          "ipydguuid": 17,
          "key": 15
         },
         {
          "0": "",
          "1": "",
          "2": "",
          "ipydguuid": 18,
          "key": 16
         },
         {
          "0": "",
          "1": "",
          "2": "",
          "ipydguuid": 19,
          "key": 17
         },
         {
          "0": "",
          "1": "",
          "2": "",
          "ipydguuid": 20,
          "key": 18
         },
         {
          "0": "",
          "1": "",
          "2": "",
          "ipydguuid": 21,
          "key": 19
         },
         {
          "0": "",
          "1": "",
          "2": "",
          "ipydguuid": 22,
          "key": 20
         },
         {
          "0": "",
          "1": "",
          "2": "",
          "ipydguuid": 23,
          "key": 21
         },
         {
          "0": "",
          "1": "",
          "2": "",
          "ipydguuid": 24,
          "key": 22
         },
         {
          "0": "",
          "1": "",
          "2": "",
          "ipydguuid": 25,
          "key": 23
         },
         {
          "0": "",
          "1": "",
          "2": "",
          "ipydguuid": 26,
          "key": 24
         },
         {
          "0": "",
          "1": "",
          "2": "",
          "ipydguuid": 27,
          "key": 25
         }
        ],
        "fields": [
         {
          "key": null
         },
         {
          "0": null
         },
         {
          "1": null
         },
         {
          "2": null
         },
         {
          "ipydguuid": null
         }
        ],
        "schema": {
         "fields": [
          {
           "name": "key",
           "type": "string"
          },
          {
           "name": 0,
           "type": "string"
          },
          {
           "name": 1,
           "type": "string"
          },
          {
           "name": 2,
           "type": "string"
          },
          {
           "name": "ipydguuid",
           "type": "integer"
          }
         ],
         "pandas_version": "1.4.0",
         "primaryKey": [
          "key",
          "ipydguuid"
         ],
         "primaryKeyUuid": "ipydguuid"
        }
       },
       "_model_module_version": "^1.1.13",
       "_model_name": "DataGridModel",
       "_view_module_version": "^1.1.13",
       "_visible_rows": [
        0,
        1,
        2,
        3,
        4,
        5,
        6,
        7,
        8,
        9,
        10,
        11,
        12,
        13,
        14,
        15,
        16,
        17,
        18,
        19,
        20,
        21,
        22,
        23,
        24,
        25,
        26,
        27
       ],
       "auto_fit_columns": false,
       "auto_fit_params": {
        "area": "all",
        "numCols": null,
        "padding": 30
       },
       "base_column_header_size": 20,
       "base_column_size": 64,
       "base_row_header_size": 64,
       "base_row_size": 20,
       "default_renderer": "IPY_MODEL_ebea99762f8b4f49910c874cb2f46cad",
       "editable": true,
       "header_visibility": "all",
       "layout": "IPY_MODEL_ef77c752e5ec4a6b9a1d6e109f9016ee",
       "selection_mode": "cell",
       "selections": [
        {
         "c1": 0,
         "c2": 0,
         "r1": 2,
         "r2": 2
        }
       ]
      }
     },
     "653c209dc3bb43bf8f248c4f80d39cbe": {
      "model_module": "@jupyter-widgets/base",
      "model_module_version": "2.0.0",
      "model_name": "LayoutModel",
      "state": {}
     },
     "6585fb30155743dea55d2735f266a7fb": {
      "model_module": "@jupyter-widgets/controls",
      "model_module_version": "2.0.0",
      "model_name": "ButtonModel",
      "state": {
       "description": "Add Row",
       "layout": "IPY_MODEL_31f4f8d3ac1f4b20a116cef97df63ca9",
       "style": "IPY_MODEL_492aac3deee34483bb30ca2f121f06f1",
       "tooltip": null
      }
     },
     "65e177f106594c3ebd48ab49727cde4f": {
      "model_module": "@jupyter-widgets/controls",
      "model_module_version": "2.0.0",
      "model_name": "ButtonModel",
      "state": {
       "description": "Redo",
       "layout": "IPY_MODEL_a651c2ee678e4efab9f4095e3e79c703",
       "style": "IPY_MODEL_d3c647e8429748d5a546465ce59d10bd",
       "tooltip": null
      }
     },
     "661834f6363344e6811a396f8d0a5d5c": {
      "model_module": "@jupyter-widgets/controls",
      "model_module_version": "2.0.0",
      "model_name": "ButtonStyleModel",
      "state": {
       "font_family": null,
       "font_size": null,
       "font_style": null,
       "font_variant": null,
       "font_weight": null,
       "text_color": null,
       "text_decoration": null
      }
     },
     "68ececc704ba4250964da5d2dbcda676": {
      "model_module": "@jupyter-widgets/controls",
      "model_module_version": "2.0.0",
      "model_name": "ButtonStyleModel",
      "state": {
       "font_family": null,
       "font_size": null,
       "font_style": null,
       "font_variant": null,
       "font_weight": null,
       "text_color": null,
       "text_decoration": null
      }
     },
     "695c7ca4f9a34b7daeb36826fe5ed2f0": {
      "model_module": "ipydatagrid",
      "model_module_version": "^1.1.13",
      "model_name": "DataGridModel",
      "state": {
       "_data": {
        "data": [
         {
          "0": "d",
          "1": "# empty",
          "ipydguuid": 0,
          "key": "  Variable:"
         },
         {
          "0": "mm",
          "1": "",
          "ipydguuid": 1,
          "key": " Units:"
         },
         {
          "0": "439.3",
          "1": "7",
          "ipydguuid": 2,
          "key": 0
         },
         {
          "0": "431.6",
          "1": "",
          "ipydguuid": 3,
          "key": 1
         },
         {
          "0": "0",
          "1": "",
          "ipydguuid": 4,
          "key": 2
         },
         {
          "0": "7",
          "1": "",
          "ipydguuid": 5,
          "key": 3
         },
         {
          "0": "8",
          "1": "",
          "ipydguuid": 6,
          "key": 4
         },
         {
          "0": "7",
          "1": "",
          "ipydguuid": 7,
          "key": 5
         },
         {
          "0": "",
          "1": "",
          "ipydguuid": 8,
          "key": 6
         },
         {
          "0": "",
          "1": "",
          "ipydguuid": 9,
          "key": 7
         },
         {
          "0": "1",
          "1": "",
          "ipydguuid": 10,
          "key": 8
         },
         {
          "0": "2",
          "1": "",
          "ipydguuid": 11,
          "key": 9
         },
         {
          "0": "",
          "1": "",
          "ipydguuid": 12,
          "key": 10
         },
         {
          "0": "",
          "1": "",
          "ipydguuid": 13,
          "key": 11
         },
         {
          "0": "1",
          "1": "",
          "ipydguuid": 14,
          "key": 12
         }
        ],
        "fields": [
         {
          "key": null
         },
         {
          "0": null
         },
         {
          "1": null
         },
         {
          "ipydguuid": null
         }
        ],
        "schema": {
         "fields": [
          {
           "name": "key",
           "type": "string"
          },
          {
           "name": 0,
           "type": "string"
          },
          {
           "name": 1,
           "type": "string"
          },
          {
           "name": "ipydguuid",
           "type": "integer"
          }
         ],
         "pandas_version": "1.4.0",
         "primaryKey": [
          "key",
          "ipydguuid"
         ],
         "primaryKeyUuid": "ipydguuid"
        }
       },
       "_model_module_version": "^1.1.13",
       "_model_name": "DataGridModel",
       "_view_module_version": "^1.1.13",
       "_visible_rows": [
        0,
        1,
        2,
        3,
        4,
        5,
        6,
        7,
        8,
        9,
        10,
        11,
        12,
        13,
        14
       ],
       "auto_fit_columns": false,
       "auto_fit_params": {
        "area": "all",
        "numCols": null,
        "padding": 30
       },
       "base_column_header_size": 20,
       "base_column_size": 64,
       "base_row_header_size": 64,
       "base_row_size": 20,
       "default_renderer": "IPY_MODEL_0462500403884606b22e2bbb6850ad2f",
       "editable": true,
       "header_visibility": "all",
       "layout": "IPY_MODEL_0ec104405cbc45699d6212eded148931",
       "selection_mode": "cell",
       "selections": [
        {
         "c1": 1,
         "c2": 1,
         "r1": 1,
         "r2": 1
        }
       ]
      }
     },
     "69cd75b0c98f4a01bf2b8f503180978b": {
      "model_module": "@jupyter-widgets/base",
      "model_module_version": "2.0.0",
      "model_name": "LayoutModel",
      "state": {
       "height": "490px"
      }
     },
     "6aa150a370594b74896e8c5547026fd3": {
      "model_module": "@jupyter-widgets/base",
      "model_module_version": "2.0.0",
      "model_name": "LayoutModel",
      "state": {}
     },
     "6b10c8a646874fe3bc11bbab751625e0": {
      "model_module": "@jupyter-widgets/controls",
      "model_module_version": "2.0.0",
      "model_name": "VBoxModel",
      "state": {
       "children": [
        "IPY_MODEL_1e12582ee37f43d1a88c9206189a412b",
        "IPY_MODEL_05bc8d8539114b13a076e5916aa26755",
        "IPY_MODEL_4fed155f8c0f4c329790faf4ac94760c"
       ],
       "layout": "IPY_MODEL_99fbde09b04c40d3b07aef111a28bf9c"
      }
     },
     "6bf1b523a40f4cdfb86ae0d94faace25": {
      "model_module": "@jupyter-widgets/controls",
      "model_module_version": "2.0.0",
      "model_name": "ButtonModel",
      "state": {
       "description": "Add Column",
       "layout": "IPY_MODEL_184f8c954305491fb44d9a44f3628baa",
       "style": "IPY_MODEL_edd527fcbd304a71b46f5e2a6cb179eb",
       "tooltip": null
      }
     },
     "6c73f93f27394cdbb3f6448692ddc998": {
      "model_module": "@jupyter-widgets/output",
      "model_module_version": "1.0.0",
      "model_name": "OutputModel",
      "state": {
       "layout": "IPY_MODEL_168f597bdde0411ab1abbb8b124bf7a4",
       "outputs": [
        {
         "name": "stdout",
         "output_type": "stream",
         "text": "Found 2 valid rows\n\nCreated array:\n mVec = np.array([497.0, 142.0])\n\nCreated array:\n umVec = np.array([9.75, 2.886751345948129])\n"
        }
       ]
      }
     },
     "6ccecf56710842e39154dd56d6c8691b": {
      "model_module": "@jupyter-widgets/base",
      "model_module_version": "2.0.0",
      "model_name": "LayoutModel",
      "state": {}
     },
     "6d922681e7f44052b1910dc81e40d0b5": {
      "model_module": "@jupyter-widgets/base",
      "model_module_version": "2.0.0",
      "model_name": "LayoutModel",
      "state": {}
     },
     "6e0dc95c62f841a3852a8b105902bedd": {
      "model_module": "@jupyter-widgets/base",
      "model_module_version": "2.0.0",
      "model_name": "LayoutModel",
      "state": {}
     },
     "6e3aeb12d37b4e5d96befb9dfb1659be": {
      "model_module": "@jupyter-widgets/base",
      "model_module_version": "2.0.0",
      "model_name": "LayoutModel",
      "state": {}
     },
     "6edc3409a94448c49ed4684e384fe1e7": {
      "model_module": "@jupyter-widgets/base",
      "model_module_version": "2.0.0",
      "model_name": "LayoutModel",
      "state": {
       "height": "130px"
      }
     },
     "6ef6e3b4f1fb4958b8e2bfc088c33e1f": {
      "model_module": "ipydatagrid",
      "model_module_version": "^1.1.13",
      "model_name": "TextRendererModel",
      "state": {
       "_model_module_version": "^1.1.13",
       "_view_module_version": "^1.1.13",
       "background_color": "IPY_MODEL_5e9ae21fa6d742cd90ef7a9c7eec2cfd",
       "text_color": "IPY_MODEL_3bc08418e03d458daa3caa680e106732"
      }
     },
     "6efdc20285b24220b9d1f2e868a1bf8e": {
      "model_module": "@jupyter-widgets/base",
      "model_module_version": "2.0.0",
      "model_name": "LayoutModel",
      "state": {
       "height": "530px"
      }
     },
     "6f272acaf063477aa80ce5b0004bc142": {
      "model_module": "@jupyter-widgets/controls",
      "model_module_version": "2.0.0",
      "model_name": "ButtonStyleModel",
      "state": {
       "font_family": null,
       "font_size": null,
       "font_style": null,
       "font_variant": null,
       "font_weight": null,
       "text_color": null,
       "text_decoration": null
      }
     },
     "6fc0d49f0e1b45c09ebec2d8e498b791": {
      "model_module": "@jupyter-widgets/base",
      "model_module_version": "2.0.0",
      "model_name": "LayoutModel",
      "state": {}
     },
     "70408f95c9604af89d0096eb8e614228": {
      "model_module": "@jupyter-widgets/controls",
      "model_module_version": "2.0.0",
      "model_name": "ButtonStyleModel",
      "state": {
       "font_family": null,
       "font_size": null,
       "font_style": null,
       "font_variant": null,
       "font_weight": null,
       "text_color": null,
       "text_decoration": null
      }
     },
     "71773bc7983548d6965569165476bcbb": {
      "model_module": "@jupyter-widgets/base",
      "model_module_version": "2.0.0",
      "model_name": "LayoutModel",
      "state": {}
     },
     "71a2b72e57e942fb9d23a03e6b4e29de": {
      "model_module": "@jupyter-widgets/controls",
      "model_module_version": "2.0.0",
      "model_name": "HBoxModel",
      "state": {
       "children": [
        "IPY_MODEL_367b8112e9d647cb883e07ba4fb48b4f",
        "IPY_MODEL_9f7b6012fb23424c870cffa3dbbafa5c",
        "IPY_MODEL_1192fcbf95ea451caed16b6ee7bdc2ac",
        "IPY_MODEL_86aee3cbbc904c82967f6b5f25f9d88c",
        "IPY_MODEL_00d1df0c5f6a4e50ae27b823447087ac"
       ],
       "layout": "IPY_MODEL_ff0bcfb9a1b44696961a1af4bad29c6f"
      }
     },
     "74896db06625422580c21e06fef9ece7": {
      "model_module": "@jupyter-widgets/controls",
      "model_module_version": "2.0.0",
      "model_name": "VBoxModel",
      "state": {
       "children": [
        "IPY_MODEL_06c44f60d2264a81902f24fdd987046b",
        "IPY_MODEL_83bdf2297f1d4bd0aafa2e172055f235",
        "IPY_MODEL_16b066ade0c84753903ac0cbcde150c3"
       ],
       "layout": "IPY_MODEL_ed10a2eb33fc4679824b59ce37046f12"
      }
     },
     "75d28028ba2145f5b3f0387c4cac87b0": {
      "model_module": "@jupyter-widgets/base",
      "model_module_version": "2.0.0",
      "model_name": "LayoutModel",
      "state": {}
     },
     "75eada7a1f7a4546a82b47167459fd6e": {
      "model_module": "@jupyter-widgets/base",
      "model_module_version": "2.0.0",
      "model_name": "LayoutModel",
      "state": {}
     },
     "7780cbaf7bc64056b681e29abc1e7784": {
      "model_module": "@jupyter-widgets/controls",
      "model_module_version": "2.0.0",
      "model_name": "VBoxModel",
      "state": {
       "children": [
        "IPY_MODEL_d813590a342d4222a42554e77626a6c7",
        "IPY_MODEL_7af01f2f398d41a7abbb56e7296a76ca",
        "IPY_MODEL_0364f35e6eb248e1b0ade1fcab4e0bf5"
       ],
       "layout": "IPY_MODEL_5073e008c6fe4745b3e5495ce4748ab4"
      }
     },
     "7786c7ce22724733b6b17d8798a3d6a6": {
      "model_module": "@jupyter-widgets/controls",
      "model_module_version": "2.0.0",
      "model_name": "ButtonModel",
      "state": {
       "description": "Add Row",
       "layout": "IPY_MODEL_bbd24002c0cb47c18e9324fc45796393",
       "style": "IPY_MODEL_cd2f9c1c6c28421fbfdcefbcd04b1fa8",
       "tooltip": null
      }
     },
     "77eef3f0f35343889adaf5080aa37214": {
      "model_module": "@jupyter-widgets/base",
      "model_module_version": "2.0.0",
      "model_name": "LayoutModel",
      "state": {}
     },
     "785533911cfd4682bfd541a9ccf94987": {
      "model_module": "@jupyter-widgets/base",
      "model_module_version": "2.0.0",
      "model_name": "LayoutModel",
      "state": {}
     },
     "78afbe9195e54eec8e9362d044598205": {
      "model_module": "@jupyter-widgets/output",
      "model_module_version": "1.0.0",
      "model_name": "OutputModel",
      "state": {
       "layout": "IPY_MODEL_2d6f8ddd06274bccb1764d51b063881a",
       "outputs": [
        {
         "name": "stdout",
         "output_type": "stream",
         "text": "Data vectors need to be updated\n"
        }
       ]
      }
     },
     "78bb3012232149b695b0a05acb1ee994": {
      "model_module": "@jupyter-widgets/base",
      "model_module_version": "2.0.0",
      "model_name": "LayoutModel",
      "state": {}
     },
     "78eaa0c7035848199cccf8d581623947": {
      "model_module": "@jupyter-widgets/controls",
      "model_module_version": "2.0.0",
      "model_name": "ButtonModel",
      "state": {
       "description": "Add Column",
       "layout": "IPY_MODEL_daa66fd70791465f92280efa4604e9e0",
       "style": "IPY_MODEL_5d4ff37938674bd18e2cfc7e8cd1d12f",
       "tooltip": null
      }
     },
     "79e60ed30e91473c9258869e8afc4f8a": {
      "model_module": "@jupyter-widgets/base",
      "model_module_version": "2.0.0",
      "model_name": "LayoutModel",
      "state": {
       "height": "210px"
      }
     },
     "7a5f7af5ba754cf288bec60ba4a793b5": {
      "model_module": "@jupyter-widgets/base",
      "model_module_version": "2.0.0",
      "model_name": "LayoutModel",
      "state": {}
     },
     "7af01f2f398d41a7abbb56e7296a76ca": {
      "model_module": "ipydatagrid",
      "model_module_version": "^1.1.13",
      "model_name": "DataGridModel",
      "state": {
       "_data": {
        "data": [
         {
          "0": "m",
          "1": "um",
          "ipydguuid": 0,
          "key": "  Variable:"
         },
         {
          "0": "g",
          "1": "g",
          "ipydguuid": 1,
          "key": " Units:"
         },
         {
          "0": "497",
          "1": "=(516-477)/4)",
          "ipydguuid": 2,
          "key": 0
         },
         {
          "0": "142",
          "1": "=10/(2*np.sqrt(3))",
          "ipydguuid": 3,
          "key": 1
         }
        ],
        "fields": [
         {
          "key": null
         },
         {
          "0": null
         },
         {
          "1": null
         },
         {
          "ipydguuid": null
         }
        ],
        "schema": {
         "fields": [
          {
           "name": "key",
           "type": "string"
          },
          {
           "name": 0,
           "type": "string"
          },
          {
           "name": 1,
           "type": "string"
          },
          {
           "name": "ipydguuid",
           "type": "integer"
          }
         ],
         "pandas_version": "1.4.0",
         "primaryKey": [
          "key",
          "ipydguuid"
         ],
         "primaryKeyUuid": "ipydguuid"
        }
       },
       "_model_module_version": "^1.1.13",
       "_model_name": "DataGridModel",
       "_view_module_version": "^1.1.13",
       "auto_fit_columns": false,
       "auto_fit_params": {
        "area": "all",
        "numCols": null,
        "padding": 30
       },
       "base_column_header_size": 20,
       "base_column_size": 64,
       "base_row_header_size": 64,
       "base_row_size": 20,
       "default_renderer": "IPY_MODEL_a5ced55381c44e08a9526c2913d81a2f",
       "editable": true,
       "header_visibility": "all",
       "layout": "IPY_MODEL_ade922223f97496f92ec9aebbedf7370",
       "selection_mode": "cell"
      }
     },
     "7b3a9fb3655f4517820a081d73268dde": {
      "model_module": "@jupyter-widgets/controls",
      "model_module_version": "2.0.0",
      "model_name": "ButtonStyleModel",
      "state": {
       "font_family": null,
       "font_size": null,
       "font_style": null,
       "font_variant": null,
       "font_weight": null,
       "text_color": null,
       "text_decoration": null
      }
     },
     "7c94a68837a34b1f8949389d3cc23162": {
      "model_module": "@jupyter-widgets/base",
      "model_module_version": "2.0.0",
      "model_name": "LayoutModel",
      "state": {
       "height": "290px"
      }
     },
     "7e3d2f3a8f5a4c5389ce94bf8f34a6d4": {
      "model_module": "@jupyter-widgets/controls",
      "model_module_version": "2.0.0",
      "model_name": "ButtonStyleModel",
      "state": {
       "font_family": null,
       "font_size": null,
       "font_style": null,
       "font_variant": null,
       "font_weight": null,
       "text_color": null,
       "text_decoration": null
      }
     },
     "7fa09a5662cc4aac98da7aa4f0e46560": {
      "model_module": "@jupyter-widgets/controls",
      "model_module_version": "2.0.0",
      "model_name": "ButtonModel",
      "state": {
       "description": "Generate Vectors",
       "layout": "IPY_MODEL_bc47f9c317cc40388f573db3e6eb695c",
       "style": "IPY_MODEL_89944502b41b4b9687cec94c863dd8ec",
       "tooltip": null
      }
     },
     "805a8d3b78c641e898994f5e8eda195d": {
      "model_module": "@jupyter-widgets/base",
      "model_module_version": "2.0.0",
      "model_name": "LayoutModel",
      "state": {}
     },
     "80a78ab82e404bd0b5e14e89eb8bbebc": {
      "model_module": "@jupyter-widgets/base",
      "model_module_version": "2.0.0",
      "model_name": "LayoutModel",
      "state": {}
     },
     "80c4addf09d449eaac9f5153ac607bab": {
      "model_module": "@jupyter-widgets/controls",
      "model_module_version": "2.0.0",
      "model_name": "ButtonModel",
      "state": {
       "description": "Add Row",
       "layout": "IPY_MODEL_5e5275bc015945a7a70012af0fd57c15",
       "style": "IPY_MODEL_8f8014e1344e431b9c29be6c8ea53ac5",
       "tooltip": null
      }
     },
     "81c12ed6d54a4efe8d652dde5b01b703": {
      "model_module": "@jupyter-widgets/base",
      "model_module_version": "2.0.0",
      "model_name": "LayoutModel",
      "state": {
       "height": "130px"
      }
     },
     "81c7d832857d418fb4c2c95e139990d9": {
      "model_module": "@jupyter-widgets/base",
      "model_module_version": "2.0.0",
      "model_name": "LayoutModel",
      "state": {}
     },
     "82b00b6be7ae407294d283d52c72275a": {
      "model_module": "@jupyter-widgets/base",
      "model_module_version": "2.0.0",
      "model_name": "LayoutModel",
      "state": {
       "height": "330px"
      }
     },
     "83bdf2297f1d4bd0aafa2e172055f235": {
      "model_module": "ipydatagrid",
      "model_module_version": "^1.1.13",
      "model_name": "DataGridModel",
      "state": {
       "_data": {
        "data": [
         {
          "0": "d",
          "1": "",
          "ipydguuid": 0,
          "key": "  Variable:"
         },
         {
          "0": "mm",
          "1": "",
          "ipydguuid": 1,
          "key": " Units:"
         },
         {
          "0": "439.3",
          "1": "",
          "ipydguuid": 2,
          "key": 0
         },
         {
          "0": "431.6",
          "1": "",
          "ipydguuid": 3,
          "key": 1
         },
         {
          "0": "0",
          "1": "",
          "ipydguuid": 4,
          "key": 2
         },
         {
          "0": "7",
          "1": "",
          "ipydguuid": 5,
          "key": 3
         },
         {
          "0": "8",
          "1": "",
          "ipydguuid": 6,
          "key": 4
         },
         {
          "0": "7",
          "1": "",
          "ipydguuid": 7,
          "key": 5
         },
         {
          "0": "8",
          "1": "",
          "ipydguuid": 8,
          "key": 6
         },
         {
          "0": "9",
          "1": "",
          "ipydguuid": 9,
          "key": 7
         },
         {
          "0": "1",
          "1": "",
          "ipydguuid": 10,
          "key": 8
         },
         {
          "0": "2",
          "1": "",
          "ipydguuid": 11,
          "key": 9
         },
         {
          "0": "7",
          "1": "",
          "ipydguuid": 12,
          "key": 10
         },
         {
          "0": "8",
          "1": "",
          "ipydguuid": 13,
          "key": 11
         },
         {
          "0": "1",
          "1": "",
          "ipydguuid": 14,
          "key": 12
         }
        ],
        "fields": [
         {
          "key": null
         },
         {
          "0": null
         },
         {
          "1": null
         },
         {
          "ipydguuid": null
         }
        ],
        "schema": {
         "fields": [
          {
           "name": "key",
           "type": "string"
          },
          {
           "name": 0,
           "type": "string"
          },
          {
           "name": 1,
           "type": "string"
          },
          {
           "name": "ipydguuid",
           "type": "integer"
          }
         ],
         "pandas_version": "1.4.0",
         "primaryKey": [
          "key",
          "ipydguuid"
         ],
         "primaryKeyUuid": "ipydguuid"
        }
       },
       "_model_module_version": "^1.1.13",
       "_model_name": "DataGridModel",
       "_view_module_version": "^1.1.13",
       "_visible_rows": [
        0,
        1,
        2,
        3,
        4,
        5,
        6,
        7,
        8,
        9,
        10,
        11,
        12,
        13,
        14
       ],
       "auto_fit_columns": false,
       "auto_fit_params": {
        "area": "all",
        "numCols": null,
        "padding": 30
       },
       "base_column_header_size": 20,
       "base_column_size": 64,
       "base_row_header_size": 64,
       "base_row_size": 20,
       "default_renderer": "IPY_MODEL_ddf5791ff70d4840bc87f665ec9fa19b",
       "editable": true,
       "header_visibility": "all",
       "layout": "IPY_MODEL_2ce69852e97648aca3357d28f0c98eb2",
       "selection_mode": "cell",
       "selections": [
        {
         "c1": 0,
         "c2": 0,
         "r1": 13,
         "r2": 13
        }
       ]
      }
     },
     "83da8556bfee4f738f43c0331c37ec7a": {
      "model_module": "@jupyter-widgets/controls",
      "model_module_version": "2.0.0",
      "model_name": "ButtonModel",
      "state": {
       "description": "Add Row",
       "layout": "IPY_MODEL_6aa150a370594b74896e8c5547026fd3",
       "style": "IPY_MODEL_f1cbb47abb644c6799466edc856cf1d9",
       "tooltip": null
      }
     },
     "846d86496b414e5cac032302a4843f72": {
      "model_module": "@jupyter-widgets/controls",
      "model_module_version": "2.0.0",
      "model_name": "VBoxModel",
      "state": {
       "children": [
        "IPY_MODEL_fe56cf8218c24669999fe71d94a67659",
        "IPY_MODEL_a202f12763e54ed2b495e11079f13663",
        "IPY_MODEL_8d16e34eb7e04263a5b8c15f411a3405"
       ],
       "layout": "IPY_MODEL_df7f1322295749ff85d0080632935dce"
      }
     },
     "8565234f40b4485b9e50ec9b778f4edc": {
      "model_module": "@jupyter-widgets/controls",
      "model_module_version": "2.0.0",
      "model_name": "ButtonStyleModel",
      "state": {
       "font_family": null,
       "font_size": null,
       "font_style": null,
       "font_variant": null,
       "font_weight": null,
       "text_color": null,
       "text_decoration": null
      }
     },
     "867421bbad0843c38d036bdb003b8cce": {
      "model_module": "@jupyter-widgets/base",
      "model_module_version": "2.0.0",
      "model_name": "LayoutModel",
      "state": {
       "height": "230px"
      }
     },
     "86aee3cbbc904c82967f6b5f25f9d88c": {
      "model_module": "@jupyter-widgets/controls",
      "model_module_version": "2.0.0",
      "model_name": "ButtonModel",
      "state": {
       "description": "Add Column",
       "layout": "IPY_MODEL_48f094a5dac04493830fabdb6eecb43f",
       "style": "IPY_MODEL_98f001f24a2944dabae8f7a91492ee68",
       "tooltip": null
      }
     },
     "86f9ba5551bd493194b4fe4a65aaead5": {
      "model_module": "@jupyter-widgets/base",
      "model_module_version": "2.0.0",
      "model_name": "LayoutModel",
      "state": {}
     },
     "876415435b7c4964a294ca32af9befaf": {
      "model_module": "@jupyter-widgets/controls",
      "model_module_version": "2.0.0",
      "model_name": "HBoxModel",
      "state": {
       "children": [
        "IPY_MODEL_3e5b3272147940f7bed9f3a624510493",
        "IPY_MODEL_9c0f4376bc734f96909b153fafbec2df",
        "IPY_MODEL_4b8cd0c422d444c5afef5175349556d3",
        "IPY_MODEL_5f3a23fbf12b439fb6734ea81a8b1276",
        "IPY_MODEL_4bb67fba656a4b2db8cfbab33ba545a5"
       ],
       "layout": "IPY_MODEL_93c070153bfc4016bd714ba2fb290a44"
      }
     },
     "87650dbc5ae44fd08f45e1b30684809a": {
      "model_module": "@jupyter-widgets/controls",
      "model_module_version": "2.0.0",
      "model_name": "ButtonStyleModel",
      "state": {
       "font_family": null,
       "font_size": null,
       "font_style": null,
       "font_variant": null,
       "font_weight": null,
       "text_color": null,
       "text_decoration": null
      }
     },
     "8782397617004aff8eae5b348f3591e7": {
      "model_module": "ipydatagrid",
      "model_module_version": "^1.1.13",
      "model_name": "DataGridModel",
      "state": {
       "_data": {
        "data": [
         {
          "0": "m",
          "1": "um",
          "2": "",
          "ipydguuid": 0,
          "key": "  Variable:"
         },
         {
          "0": "g",
          "1": "g",
          "2": "",
          "ipydguuid": 1,
          "key": " Units:"
         },
         {
          "0": "497",
          "1": "(516-477)/4",
          "2": "",
          "ipydguuid": 2,
          "key": 0
         },
         {
          "0": "142",
          "1": "=10/(2*np.sqrt(3))",
          "2": "",
          "ipydguuid": 3,
          "key": 1
         },
         {
          "0": "",
          "1": "",
          "2": "",
          "ipydguuid": 4,
          "key": 2
         },
         {
          "0": "",
          "1": "",
          "2": "",
          "ipydguuid": 5,
          "key": 3
         },
         {
          "0": "",
          "1": "",
          "2": "",
          "ipydguuid": 6,
          "key": 4
         },
         {
          "0": "",
          "1": "",
          "2": "",
          "ipydguuid": 7,
          "key": 5
         },
         {
          "0": "",
          "1": "",
          "2": "",
          "ipydguuid": 8,
          "key": 6
         },
         {
          "0": "",
          "1": "",
          "2": "",
          "ipydguuid": 9,
          "key": 7
         }
        ],
        "fields": [
         {
          "key": null
         },
         {
          "0": null
         },
         {
          "1": null
         },
         {
          "2": null
         },
         {
          "ipydguuid": null
         }
        ],
        "schema": {
         "fields": [
          {
           "name": "key",
           "type": "string"
          },
          {
           "name": 0,
           "type": "string"
          },
          {
           "name": 1,
           "type": "string"
          },
          {
           "name": 2,
           "type": "string"
          },
          {
           "name": "ipydguuid",
           "type": "integer"
          }
         ],
         "pandas_version": "1.4.0",
         "primaryKey": [
          "key",
          "ipydguuid"
         ],
         "primaryKeyUuid": "ipydguuid"
        }
       },
       "_model_module_version": "^1.1.13",
       "_model_name": "DataGridModel",
       "_view_module_version": "^1.1.13",
       "_visible_rows": [
        0,
        1,
        2,
        3,
        4,
        5,
        6,
        7,
        8,
        9
       ],
       "auto_fit_columns": false,
       "auto_fit_params": {
        "area": "all",
        "numCols": null,
        "padding": 30
       },
       "base_column_header_size": 20,
       "base_column_size": 64,
       "base_row_header_size": 64,
       "base_row_size": 20,
       "column_widths": {
        "1": 139
       },
       "default_renderer": "IPY_MODEL_afab17ca773d4a2daf629e10a38cb4b0",
       "editable": true,
       "header_visibility": "all",
       "layout": "IPY_MODEL_4648ed49964145988e210f8f541d21fb",
       "selection_mode": "cell",
       "selections": [
        {
         "c1": 1,
         "c2": 1,
         "r1": 3,
         "r2": 3
        }
       ]
      }
     },
     "87f135f6340647bd927f487d7d10e2d5": {
      "model_module": "@jupyter-widgets/output",
      "model_module_version": "1.0.0",
      "model_name": "OutputModel",
      "state": {
       "layout": "IPY_MODEL_be0fd68bc3de4989a0080943b5744d12",
       "outputs": [
        {
         "name": "stdout",
         "output_type": "stream",
         "text": "Data vectors need to be updated\n"
        }
       ]
      }
     },
     "8809a9450bd64ba2940e4a27566592fe": {
      "model_module": "@jupyter-widgets/base",
      "model_module_version": "2.0.0",
      "model_name": "LayoutModel",
      "state": {}
     },
     "885328f5b1484960ad8762586c1c3058": {
      "model_module": "@jupyter-widgets/base",
      "model_module_version": "2.0.0",
      "model_name": "LayoutModel",
      "state": {}
     },
     "89264278bf6b489c8544a27e3b404200": {
      "model_module": "@jupyter-widgets/controls",
      "model_module_version": "2.0.0",
      "model_name": "ButtonStyleModel",
      "state": {
       "font_family": null,
       "font_size": null,
       "font_style": null,
       "font_variant": null,
       "font_weight": null,
       "text_color": null,
       "text_decoration": null
      }
     },
     "89944502b41b4b9687cec94c863dd8ec": {
      "model_module": "@jupyter-widgets/controls",
      "model_module_version": "2.0.0",
      "model_name": "ButtonStyleModel",
      "state": {
       "font_family": null,
       "font_size": null,
       "font_style": null,
       "font_variant": null,
       "font_weight": null,
       "text_color": null,
       "text_decoration": null
      }
     },
     "8ae24ec430d9417a966398859ba490e8": {
      "model_module": "@jupyter-widgets/controls",
      "model_module_version": "2.0.0",
      "model_name": "VBoxModel",
      "state": {
       "children": [
        "IPY_MODEL_edc82db946b14c3189f03767099de9ec",
        "IPY_MODEL_695c7ca4f9a34b7daeb36826fe5ed2f0",
        "IPY_MODEL_c79bdeda24f644f998029c0dd030a551"
       ],
       "layout": "IPY_MODEL_c8481294c38049548e5f882ce6a3f8aa"
      }
     },
     "8b0db3773f4e4e768d12e5fe8798406a": {
      "model_module": "@jupyter-widgets/base",
      "model_module_version": "2.0.0",
      "model_name": "LayoutModel",
      "state": {
       "height": "410px"
      }
     },
     "8c85d74d07f4439cb09161bf938ffd45": {
      "model_module": "@jupyter-widgets/base",
      "model_module_version": "2.0.0",
      "model_name": "LayoutModel",
      "state": {}
     },
     "8d0c15720f92422fbd319b0947678350": {
      "model_module": "@jupyter-widgets/base",
      "model_module_version": "2.0.0",
      "model_name": "LayoutModel",
      "state": {}
     },
     "8d16e34eb7e04263a5b8c15f411a3405": {
      "model_module": "@jupyter-widgets/output",
      "model_module_version": "1.0.0",
      "model_name": "OutputModel",
      "state": {
       "layout": "IPY_MODEL_c40bd58b17cd48248e95f50656d61874",
       "outputs": [
        {
         "name": "stdout",
         "output_type": "stream",
         "text": "Converting Row:  0 Col:  1 with value =(516-477)/4) Failed\nRow # 0 skipped\nFound 1 valid rows\n\nCreated array:\n mVec = np.array([142.0])\n\nCreated array:\n umVec = np.array([2.886751345948129])\n"
        }
       ]
      }
     },
     "8d2b97d161ce4734956916444604a78a": {
      "model_module": "@jupyter-widgets/base",
      "model_module_version": "2.0.0",
      "model_name": "LayoutModel",
      "state": {}
     },
     "8de249a6387e4f798ddb47072c7d2baa": {
      "model_module": "@jupyter-widgets/base",
      "model_module_version": "2.0.0",
      "model_name": "LayoutModel",
      "state": {}
     },
     "8e5590627dad465192e4cdbd82f0f9f1": {
      "model_module": "@jupyter-widgets/base",
      "model_module_version": "2.0.0",
      "model_name": "LayoutModel",
      "state": {
       "height": "570px"
      }
     },
     "8ed74e199c52489e8905239a7a860745": {
      "model_module": "@jupyter-widgets/base",
      "model_module_version": "2.0.0",
      "model_name": "LayoutModel",
      "state": {}
     },
     "8f8014e1344e431b9c29be6c8ea53ac5": {
      "model_module": "@jupyter-widgets/controls",
      "model_module_version": "2.0.0",
      "model_name": "ButtonStyleModel",
      "state": {
       "font_family": null,
       "font_size": null,
       "font_style": null,
       "font_variant": null,
       "font_weight": null,
       "text_color": null,
       "text_decoration": null
      }
     },
     "90b62d277cf4496a9d689f9028458133": {
      "model_module": "@jupyter-widgets/base",
      "model_module_version": "2.0.0",
      "model_name": "LayoutModel",
      "state": {}
     },
     "92451eb927084916a1ac4dee9b67e6b2": {
      "model_module": "@jupyter-widgets/controls",
      "model_module_version": "2.0.0",
      "model_name": "ButtonStyleModel",
      "state": {
       "font_family": null,
       "font_size": null,
       "font_style": null,
       "font_variant": null,
       "font_weight": null,
       "text_color": null,
       "text_decoration": null
      }
     },
     "9250931bb202454fb690d9a3317e0c99": {
      "model_module": "@jupyter-widgets/base",
      "model_module_version": "2.0.0",
      "model_name": "LayoutModel",
      "state": {
       "height": "590px"
      }
     },
     "9265ea27b2be4defb656f526cd3e4d1e": {
      "model_module": "@jupyter-widgets/base",
      "model_module_version": "2.0.0",
      "model_name": "LayoutModel",
      "state": {}
     },
     "926c68e20d784e1abff1415c3e705ccf": {
      "model_module": "@jupyter-widgets/controls",
      "model_module_version": "2.0.0",
      "model_name": "ButtonStyleModel",
      "state": {
       "font_family": null,
       "font_size": null,
       "font_style": null,
       "font_variant": null,
       "font_weight": null,
       "text_color": null,
       "text_decoration": null
      }
     },
     "92b194a823c34648a6416f5872085dd7": {
      "model_module": "@jupyter-widgets/controls",
      "model_module_version": "2.0.0",
      "model_name": "ButtonModel",
      "state": {
       "description": "Generate Vectors",
       "layout": "IPY_MODEL_0bfa7fab73a34f59ba55ac6c852bf8ac",
       "style": "IPY_MODEL_af7eeb9f8cb04451b2b77896e93616df",
       "tooltip": null
      }
     },
     "92c80d999e2d4271b2a3f5f6f8c6575f": {
      "model_module": "@jupyter-widgets/controls",
      "model_module_version": "2.0.0",
      "model_name": "ButtonModel",
      "state": {
       "description": "Generate Vectors",
       "layout": "IPY_MODEL_167014d6418a4f9bbee7e3dc2c29bf59",
       "style": "IPY_MODEL_96f085c7c0354cd4bbcad54b39a556e8",
       "tooltip": null
      }
     },
     "93c070153bfc4016bd714ba2fb290a44": {
      "model_module": "@jupyter-widgets/base",
      "model_module_version": "2.0.0",
      "model_name": "LayoutModel",
      "state": {}
     },
     "941bf1b16303441ab50055295c1b7c2f": {
      "model_module": "@jupyter-widgets/base",
      "model_module_version": "2.0.0",
      "model_name": "LayoutModel",
      "state": {}
     },
     "950c526060134beebc454b0a1f477ef3": {
      "model_module": "@jupyter-widgets/controls",
      "model_module_version": "2.0.0",
      "model_name": "ButtonModel",
      "state": {
       "description": "Add Column",
       "layout": "IPY_MODEL_352c2f8729304404b2f01e36be70e653",
       "style": "IPY_MODEL_629d899b12e04ed08a59f00743023c30",
       "tooltip": null
      }
     },
     "95a11395824042a2bd9ce7d8ac4a3672": {
      "model_module": "@jupyter-widgets/base",
      "model_module_version": "2.0.0",
      "model_name": "LayoutModel",
      "state": {}
     },
     "96f085c7c0354cd4bbcad54b39a556e8": {
      "model_module": "@jupyter-widgets/controls",
      "model_module_version": "2.0.0",
      "model_name": "ButtonStyleModel",
      "state": {
       "font_family": null,
       "font_size": null,
       "font_style": null,
       "font_variant": null,
       "font_weight": null,
       "text_color": null,
       "text_decoration": null
      }
     },
     "976220470d08463cbc5dc9754ccbc9fc": {
      "model_module": "@jupyter-widgets/base",
      "model_module_version": "2.0.0",
      "model_name": "LayoutModel",
      "state": {}
     },
     "97ab23abb1ba40c9a5102c37d747b4c4": {
      "model_module": "@jupyter-widgets/base",
      "model_module_version": "2.0.0",
      "model_name": "LayoutModel",
      "state": {}
     },
     "983c928e83664047a870ffbb7ad7fdbc": {
      "model_module": "@jupyter-widgets/base",
      "model_module_version": "2.0.0",
      "model_name": "LayoutModel",
      "state": {}
     },
     "98e9be560e7a4ec084ed838bcf689f55": {
      "model_module": "@jupyter-widgets/controls",
      "model_module_version": "2.0.0",
      "model_name": "HBoxModel",
      "state": {
       "children": [
        "IPY_MODEL_647495cb7591411395cd5ca35e8bd912",
        "IPY_MODEL_c834db628a204b9b831c2b14c651e1a1",
        "IPY_MODEL_d935dec2a08f4b14aa49b594a07cc85f",
        "IPY_MODEL_dcec499cfcc54b95b27bc07c3413a243",
        "IPY_MODEL_444186a8d7c7429e9148d78f3b62e337"
       ],
       "layout": "IPY_MODEL_57ca58491da648668e7019b7df63c31a"
      }
     },
     "98f001f24a2944dabae8f7a91492ee68": {
      "model_module": "@jupyter-widgets/controls",
      "model_module_version": "2.0.0",
      "model_name": "ButtonStyleModel",
      "state": {
       "font_family": null,
       "font_size": null,
       "font_style": null,
       "font_variant": null,
       "font_weight": null,
       "text_color": null,
       "text_decoration": null
      }
     },
     "997f116169714ffa9a1cabe269b8b6fd": {
      "model_module": "@jupyter-widgets/base",
      "model_module_version": "2.0.0",
      "model_name": "LayoutModel",
      "state": {}
     },
     "99fbde09b04c40d3b07aef111a28bf9c": {
      "model_module": "@jupyter-widgets/base",
      "model_module_version": "2.0.0",
      "model_name": "LayoutModel",
      "state": {}
     },
     "9c0f4376bc734f96909b153fafbec2df": {
      "model_module": "@jupyter-widgets/controls",
      "model_module_version": "2.0.0",
      "model_name": "ButtonModel",
      "state": {
       "description": "Redo",
       "layout": "IPY_MODEL_6e0dc95c62f841a3852a8b105902bedd",
       "style": "IPY_MODEL_55bb44f11a1a4421afbaf0588701abb6",
       "tooltip": null
      }
     },
     "9cb081fd1a474178b6f838e2da16b7d5": {
      "model_module": "ipydatagrid",
      "model_module_version": "^1.1.13",
      "model_name": "TextRendererModel",
      "state": {
       "_model_module_version": "^1.1.13",
       "_view_module_version": "^1.1.13",
       "background_color": "IPY_MODEL_5e9ae21fa6d742cd90ef7a9c7eec2cfd",
       "text_color": "IPY_MODEL_3bc08418e03d458daa3caa680e106732"
      }
     },
     "9cb2cef966d947b6875c1042c1827998": {
      "model_module": "@jupyter-widgets/base",
      "model_module_version": "2.0.0",
      "model_name": "LayoutModel",
      "state": {}
     },
     "9d161ef5c0434497b107a8c9f977e790": {
      "model_module": "@jupyter-widgets/base",
      "model_module_version": "2.0.0",
      "model_name": "LayoutModel",
      "state": {
       "height": "330px"
      }
     },
     "9d3c0d235b2e43588cdc7d55c1aac6bd": {
      "model_module": "@jupyter-widgets/base",
      "model_module_version": "2.0.0",
      "model_name": "LayoutModel",
      "state": {}
     },
     "9e280dadfca84910b1b9b0282f5d3fc4": {
      "model_module": "@jupyter-widgets/controls",
      "model_module_version": "2.0.0",
      "model_name": "ButtonStyleModel",
      "state": {
       "font_family": null,
       "font_size": null,
       "font_style": null,
       "font_variant": null,
       "font_weight": null,
       "text_color": null,
       "text_decoration": null
      }
     },
     "9eeabb4b42f94fb88cfc3a10d7db0f3d": {
      "model_module": "@jupyter-widgets/base",
      "model_module_version": "2.0.0",
      "model_name": "LayoutModel",
      "state": {}
     },
     "9f08efbfdf3844fcb2fc6aad41acc034": {
      "model_module": "@jupyter-widgets/controls",
      "model_module_version": "2.0.0",
      "model_name": "VBoxModel",
      "state": {
       "children": [
        "IPY_MODEL_71a2b72e57e942fb9d23a03e6b4e29de",
        "IPY_MODEL_01748b72f9754998b953b14495513689",
        "IPY_MODEL_fd24e579081b488ca6c4d9f688d84433"
       ],
       "layout": "IPY_MODEL_accca53f4c6c43f4ba199cb8e66beb6b"
      }
     },
     "9f7b6012fb23424c870cffa3dbbafa5c": {
      "model_module": "@jupyter-widgets/controls",
      "model_module_version": "2.0.0",
      "model_name": "ButtonModel",
      "state": {
       "description": "Redo",
       "layout": "IPY_MODEL_97ab23abb1ba40c9a5102c37d747b4c4",
       "style": "IPY_MODEL_5accb0414b274328bf67f62fa09fedb2",
       "tooltip": null
      }
     },
     "a00df9b8ed6c4847a120e824f6ce5427": {
      "model_module": "@jupyter-widgets/controls",
      "model_module_version": "2.0.0",
      "model_name": "ButtonStyleModel",
      "state": {
       "font_family": null,
       "font_size": null,
       "font_style": null,
       "font_variant": null,
       "font_weight": null,
       "text_color": null,
       "text_decoration": null
      }
     },
     "a08736a44dde4434a5079f8701bf61ac": {
      "model_module": "@jupyter-widgets/controls",
      "model_module_version": "2.0.0",
      "model_name": "ButtonModel",
      "state": {
       "description": "Redo",
       "layout": "IPY_MODEL_0c18a9cce0a64268ad589f1f99c4d01e",
       "style": "IPY_MODEL_341171e0c6ad4845816553b706beda49",
       "tooltip": null
      }
     },
     "a0b6c1e1b2de4de7a587118a34f413ee": {
      "model_module": "@jupyter-widgets/base",
      "model_module_version": "2.0.0",
      "model_name": "LayoutModel",
      "state": {}
     },
     "a0c4996630d744e6a7e7f4d16f6f4aa3": {
      "model_module": "@jupyter-widgets/base",
      "model_module_version": "2.0.0",
      "model_name": "LayoutModel",
      "state": {}
     },
     "a202f12763e54ed2b495e11079f13663": {
      "model_module": "ipydatagrid",
      "model_module_version": "^1.1.13",
      "model_name": "DataGridModel",
      "state": {
       "_data": {
        "data": [
         {
          "0": "m",
          "1": "um",
          "ipydguuid": 0,
          "key": "  Variable:"
         },
         {
          "0": "g",
          "1": "g",
          "ipydguuid": 1,
          "key": " Units:"
         },
         {
          "0": "497",
          "1": "=(516-477)/4)",
          "ipydguuid": 2,
          "key": 0
         },
         {
          "0": "142",
          "1": "=10/(2*np.sqrt(3))",
          "ipydguuid": 3,
          "key": 1
         }
        ],
        "fields": [
         {
          "key": null
         },
         {
          "0": null
         },
         {
          "1": null
         },
         {
          "ipydguuid": null
         }
        ],
        "schema": {
         "fields": [
          {
           "name": "key",
           "type": "string"
          },
          {
           "name": 0,
           "type": "string"
          },
          {
           "name": 1,
           "type": "string"
          },
          {
           "name": "ipydguuid",
           "type": "integer"
          }
         ],
         "pandas_version": "1.4.0",
         "primaryKey": [
          "key",
          "ipydguuid"
         ],
         "primaryKeyUuid": "ipydguuid"
        }
       },
       "_model_module_version": "^1.1.13",
       "_model_name": "DataGridModel",
       "_transforms": [
        {
         "columnIndex": 2,
         "desc": false,
         "type": "sort"
        }
       ],
       "_view_module_version": "^1.1.13",
       "_visible_rows": [
        2,
        3,
        1,
        0
       ],
       "auto_fit_columns": false,
       "auto_fit_params": {
        "area": "all",
        "numCols": null,
        "padding": 30
       },
       "base_column_header_size": 20,
       "base_column_size": 64,
       "base_row_header_size": 64,
       "base_row_size": 20,
       "column_widths": {
        "0": 111,
        "1": 161
       },
       "default_renderer": "IPY_MODEL_6ef6e3b4f1fb4958b8e2bfc088c33e1f",
       "editable": true,
       "header_visibility": "all",
       "layout": "IPY_MODEL_6edc3409a94448c49ed4684e384fe1e7",
       "selection_mode": "cell"
      }
     },
     "a22ae811f52a40c19551b19134d0d943": {
      "model_module": "@jupyter-widgets/base",
      "model_module_version": "2.0.0",
      "model_name": "LayoutModel",
      "state": {}
     },
     "a2c898fa58dc4eb5aa1f4a69985edef4": {
      "model_module": "@jupyter-widgets/controls",
      "model_module_version": "2.0.0",
      "model_name": "ButtonStyleModel",
      "state": {
       "font_family": null,
       "font_size": null,
       "font_style": null,
       "font_variant": null,
       "font_weight": null,
       "text_color": null,
       "text_decoration": null
      }
     },
     "a4320781a4a542bd87bdaf75671faaee": {
      "model_module": "@jupyter-widgets/controls",
      "model_module_version": "2.0.0",
      "model_name": "HBoxModel",
      "state": {
       "children": [
        "IPY_MODEL_20b6b493155e45b28cc5df6e307fcd05",
        "IPY_MODEL_f5689f55a41e4854b754de9fe920813f",
        "IPY_MODEL_fa2f327d1f104aaa9f559f58abe3781a",
        "IPY_MODEL_53cc35e64b4b4c9994de33679c218d3e",
        "IPY_MODEL_92b194a823c34648a6416f5872085dd7"
       ],
       "layout": "IPY_MODEL_ee012a8a290e429e966feed6c2c50904"
      }
     },
     "a477b0734f5a4e62a39ba2454ac2ceab": {
      "model_module": "@jupyter-widgets/base",
      "model_module_version": "2.0.0",
      "model_name": "LayoutModel",
      "state": {}
     },
     "a5ced55381c44e08a9526c2913d81a2f": {
      "model_module": "ipydatagrid",
      "model_module_version": "^1.1.13",
      "model_name": "TextRendererModel",
      "state": {
       "_model_module_version": "^1.1.13",
       "_view_module_version": "^1.1.13",
       "background_color": "IPY_MODEL_5e9ae21fa6d742cd90ef7a9c7eec2cfd",
       "text_color": "IPY_MODEL_3bc08418e03d458daa3caa680e106732"
      }
     },
     "a63fbd645bc4401d876d6e8da32e7567": {
      "model_module": "@jupyter-widgets/controls",
      "model_module_version": "2.0.0",
      "model_name": "ButtonStyleModel",
      "state": {
       "font_family": null,
       "font_size": null,
       "font_style": null,
       "font_variant": null,
       "font_weight": null,
       "text_color": null,
       "text_decoration": null
      }
     },
     "a651c2ee678e4efab9f4095e3e79c703": {
      "model_module": "@jupyter-widgets/base",
      "model_module_version": "2.0.0",
      "model_name": "LayoutModel",
      "state": {}
     },
     "a6577235d8f0420e9f989716cf41ad00": {
      "model_module": "@jupyter-widgets/base",
      "model_module_version": "2.0.0",
      "model_name": "LayoutModel",
      "state": {}
     },
     "a708476e8cbc4c8dae7bf4cb25f50c9b": {
      "model_module": "@jupyter-widgets/controls",
      "model_module_version": "2.0.0",
      "model_name": "ButtonStyleModel",
      "state": {
       "font_family": null,
       "font_size": null,
       "font_style": null,
       "font_variant": null,
       "font_weight": null,
       "text_color": null,
       "text_decoration": null
      }
     },
     "a74494b76d27425ab545274b41ba46de": {
      "model_module": "@jupyter-widgets/controls",
      "model_module_version": "2.0.0",
      "model_name": "ButtonModel",
      "state": {
       "description": "Undo",
       "layout": "IPY_MODEL_afb4ae45f01448d9aa86d4e0428599b1",
       "style": "IPY_MODEL_89264278bf6b489c8544a27e3b404200",
       "tooltip": null
      }
     },
     "a99746dd051c41c8960da521ac7b10bc": {
      "model_module": "@jupyter-widgets/base",
      "model_module_version": "2.0.0",
      "model_name": "LayoutModel",
      "state": {
       "height": "190px"
      }
     },
     "a9e58d0b8f0d4750ac63d2650e9fdb14": {
      "model_module": "@jupyter-widgets/controls",
      "model_module_version": "2.0.0",
      "model_name": "ButtonModel",
      "state": {
       "description": "Add Column",
       "layout": "IPY_MODEL_db0484729e144a878b5ad884bedc2a5a",
       "style": "IPY_MODEL_926c68e20d784e1abff1415c3e705ccf",
       "tooltip": null
      }
     },
     "aa31c249389b4c1ba5648ef13b1deb78": {
      "model_module": "@jupyter-widgets/base",
      "model_module_version": "2.0.0",
      "model_name": "LayoutModel",
      "state": {
       "height": "530px"
      }
     },
     "abdbc9bfbf54476293c5bf8386349315": {
      "model_module": "ipydatagrid",
      "model_module_version": "^1.1.13",
      "model_name": "DataGridModel",
      "state": {
       "_data": {
        "data": [
         {
          "0": "m",
          "1": "um",
          "ipydguuid": 0,
          "key": "  Variable:"
         },
         {
          "0": "g",
          "1": "g",
          "ipydguuid": 1,
          "key": " Units:"
         },
         {
          "0": "497",
          "1": "=(516-477)/4",
          "ipydguuid": 2,
          "key": 0
         },
         {
          "0": "142",
          "1": "=10/(2*np.sqrt(3))",
          "ipydguuid": 3,
          "key": 1
         }
        ],
        "fields": [
         {
          "key": null
         },
         {
          "0": null
         },
         {
          "1": null
         },
         {
          "ipydguuid": null
         }
        ],
        "schema": {
         "fields": [
          {
           "name": "key",
           "type": "string"
          },
          {
           "name": 0,
           "type": "string"
          },
          {
           "name": 1,
           "type": "string"
          },
          {
           "name": "ipydguuid",
           "type": "integer"
          }
         ],
         "pandas_version": "1.4.0",
         "primaryKey": [
          "key",
          "ipydguuid"
         ],
         "primaryKeyUuid": "ipydguuid"
        }
       },
       "_model_module_version": "^1.1.13",
       "_model_name": "DataGridModel",
       "_view_module_version": "^1.1.13",
       "_visible_rows": [
        0,
        1,
        2,
        3
       ],
       "auto_fit_columns": false,
       "auto_fit_params": {
        "area": "all",
        "numCols": null,
        "padding": 30
       },
       "base_column_header_size": 20,
       "base_column_size": 64,
       "base_row_header_size": 64,
       "base_row_size": 20,
       "default_renderer": "IPY_MODEL_1d5a74da757f42be81e65a63ff5e676d",
       "editable": true,
       "header_visibility": "all",
       "layout": "IPY_MODEL_f3160688e5c34ecc890c44a1831f80b3",
       "selection_mode": "cell",
       "selections": [
        {
         "c1": 1,
         "c2": 1,
         "r1": 2,
         "r2": 2
        }
       ]
      }
     },
     "accca53f4c6c43f4ba199cb8e66beb6b": {
      "model_module": "@jupyter-widgets/base",
      "model_module_version": "2.0.0",
      "model_name": "LayoutModel",
      "state": {}
     },
     "ad579d220ff2462fa476a7e19eb50f59": {
      "model_module": "ipydatagrid",
      "model_module_version": "^1.1.13",
      "model_name": "TextRendererModel",
      "state": {
       "_model_module_version": "^1.1.13",
       "_view_module_version": "^1.1.13",
       "background_color": "IPY_MODEL_5e9ae21fa6d742cd90ef7a9c7eec2cfd",
       "text_color": "IPY_MODEL_3bc08418e03d458daa3caa680e106732"
      }
     },
     "ade922223f97496f92ec9aebbedf7370": {
      "model_module": "@jupyter-widgets/base",
      "model_module_version": "2.0.0",
      "model_name": "LayoutModel",
      "state": {
       "height": "130px"
      }
     },
     "af7eeb9f8cb04451b2b77896e93616df": {
      "model_module": "@jupyter-widgets/controls",
      "model_module_version": "2.0.0",
      "model_name": "ButtonStyleModel",
      "state": {
       "font_family": null,
       "font_size": null,
       "font_style": null,
       "font_variant": null,
       "font_weight": null,
       "text_color": null,
       "text_decoration": null
      }
     },
     "afab17ca773d4a2daf629e10a38cb4b0": {
      "model_module": "ipydatagrid",
      "model_module_version": "^1.1.13",
      "model_name": "TextRendererModel",
      "state": {
       "_model_module_version": "^1.1.13",
       "_view_module_version": "^1.1.13",
       "background_color": "IPY_MODEL_5e9ae21fa6d742cd90ef7a9c7eec2cfd",
       "text_color": "IPY_MODEL_3bc08418e03d458daa3caa680e106732"
      }
     },
     "afb4ae45f01448d9aa86d4e0428599b1": {
      "model_module": "@jupyter-widgets/base",
      "model_module_version": "2.0.0",
      "model_name": "LayoutModel",
      "state": {}
     },
     "afbf0ecb019846c69c04e33b71d69844": {
      "model_module": "@jupyter-widgets/base",
      "model_module_version": "2.0.0",
      "model_name": "LayoutModel",
      "state": {
       "height": "570px"
      }
     },
     "afd7256b4d6c408c9a460ebfc83c8ba2": {
      "model_module": "@jupyter-widgets/base",
      "model_module_version": "2.0.0",
      "model_name": "LayoutModel",
      "state": {
       "height": "390px"
      }
     },
     "b01456775cfa4d65a2a0ad9f1b6ef077": {
      "model_module": "@jupyter-widgets/controls",
      "model_module_version": "2.0.0",
      "model_name": "ButtonModel",
      "state": {
       "description": "Undo",
       "layout": "IPY_MODEL_cc4029aa74b14979a7017fa9a3b2f485",
       "style": "IPY_MODEL_eebfd155c2a44ed79b2e1c1e47efd768",
       "tooltip": null
      }
     },
     "b0b1de9ab240454588ed8786c609983a": {
      "model_module": "@jupyter-widgets/base",
      "model_module_version": "2.0.0",
      "model_name": "LayoutModel",
      "state": {
       "height": "190px"
      }
     },
     "b0e593837370479abcf1a95e1d9c18e9": {
      "model_module": "@jupyter-widgets/base",
      "model_module_version": "2.0.0",
      "model_name": "LayoutModel",
      "state": {}
     },
     "b14d095063d64dd3b94925aaf7fe9bb1": {
      "model_module": "@jupyter-widgets/controls",
      "model_module_version": "2.0.0",
      "model_name": "ButtonStyleModel",
      "state": {
       "font_family": null,
       "font_size": null,
       "font_style": null,
       "font_variant": null,
       "font_weight": null,
       "text_color": null,
       "text_decoration": null
      }
     },
     "b17d72ea30f3466fa618d2b9f1c6e100": {
      "model_module": "@jupyter-widgets/base",
      "model_module_version": "2.0.0",
      "model_name": "LayoutModel",
      "state": {}
     },
     "b37a37efa01e41cb934dc110ea4f83bd": {
      "model_module": "@jupyter-widgets/base",
      "model_module_version": "2.0.0",
      "model_name": "LayoutModel",
      "state": {
       "height": "130px"
      }
     },
     "b50a0924f34b4c72ac5c689feab268b3": {
      "model_module": "@jupyter-widgets/controls",
      "model_module_version": "2.0.0",
      "model_name": "ButtonModel",
      "state": {
       "description": "Add Column",
       "layout": "IPY_MODEL_1bd0b402a30b42d69a3e9da2f5c64124",
       "style": "IPY_MODEL_f970326c230249469eebedec41a36abf",
       "tooltip": null
      }
     },
     "b59df89f010f4cf29b9009eb5717dcf1": {
      "model_module": "@jupyter-widgets/base",
      "model_module_version": "2.0.0",
      "model_name": "LayoutModel",
      "state": {}
     },
     "b67c0548f8e948d99415daa554821a34": {
      "model_module": "@jupyter-widgets/controls",
      "model_module_version": "2.0.0",
      "model_name": "ButtonStyleModel",
      "state": {
       "font_family": null,
       "font_size": null,
       "font_style": null,
       "font_variant": null,
       "font_weight": null,
       "text_color": null,
       "text_decoration": null
      }
     },
     "b8e794e0067449b49286ace1ce3f5aac": {
      "model_module": "@jupyter-widgets/controls",
      "model_module_version": "2.0.0",
      "model_name": "ButtonModel",
      "state": {
       "description": "Add Column",
       "layout": "IPY_MODEL_9265ea27b2be4defb656f526cd3e4d1e",
       "style": "IPY_MODEL_27e99e7959d94f4ea23ffc65d09ad16b",
       "tooltip": null
      }
     },
     "b90a8e84c8c2444eb5ded32085e138b4": {
      "model_module": "@jupyter-widgets/controls",
      "model_module_version": "2.0.0",
      "model_name": "ButtonModel",
      "state": {
       "description": "Redo",
       "layout": "IPY_MODEL_13085dc1fafb463f831291145ac63e43",
       "style": "IPY_MODEL_8565234f40b4485b9e50ec9b778f4edc",
       "tooltip": null
      }
     },
     "ba785ed7b21a4449b6daa6f6423554a3": {
      "model_module": "@jupyter-widgets/base",
      "model_module_version": "2.0.0",
      "model_name": "LayoutModel",
      "state": {
       "height": "570px"
      }
     },
     "bb1c50bd2fdd4bb7a6115f425ab4292d": {
      "model_module": "ipydatagrid",
      "model_module_version": "^1.1.13",
      "model_name": "DataGridModel",
      "state": {
       "_data": {
        "data": [
         {
          "0": "d",
          "1": "",
          "ipydguuid": 0,
          "key": "  Variable:"
         },
         {
          "0": "mm",
          "1": "",
          "ipydguuid": 1,
          "key": " Units:"
         },
         {
          "0": "439.3",
          "1": "",
          "ipydguuid": 2,
          "key": 0
         },
         {
          "0": "431.6",
          "1": "",
          "ipydguuid": 3,
          "key": 1
         },
         {
          "0": "",
          "1": "",
          "ipydguuid": 4,
          "key": 2
         },
         {
          "0": "",
          "1": "",
          "ipydguuid": 5,
          "key": 3
         },
         {
          "0": "",
          "1": "",
          "ipydguuid": 6,
          "key": 4
         },
         {
          "0": "",
          "1": "",
          "ipydguuid": 7,
          "key": 5
         },
         {
          "0": "",
          "1": "",
          "ipydguuid": 8,
          "key": 6
         },
         {
          "0": "",
          "1": "",
          "ipydguuid": 9,
          "key": 7
         },
         {
          "0": "1",
          "1": "",
          "ipydguuid": 10,
          "key": 8
         },
         {
          "0": "2",
          "1": "",
          "ipydguuid": 11,
          "key": 9
         },
         {
          "0": "",
          "1": "",
          "ipydguuid": 12,
          "key": 10
         },
         {
          "0": "",
          "1": "",
          "ipydguuid": 13,
          "key": 11
         },
         {
          "0": "1",
          "1": "",
          "ipydguuid": 14,
          "key": 12
         },
         {
          "0": "",
          "1": "",
          "ipydguuid": 15,
          "key": 13
         },
         {
          "0": "111111",
          "1": "",
          "ipydguuid": 16,
          "key": 14
         },
         {
          "0": "",
          "1": "",
          "ipydguuid": 17,
          "key": 15
         },
         {
          "0": "",
          "1": "",
          "ipydguuid": 18,
          "key": 16
         },
         {
          "0": "",
          "1": "",
          "ipydguuid": 19,
          "key": 17
         },
         {
          "0": "",
          "1": "",
          "ipydguuid": 20,
          "key": 18
         },
         {
          "0": "",
          "1": "",
          "ipydguuid": 21,
          "key": 19
         },
         {
          "0": "",
          "1": "",
          "ipydguuid": 22,
          "key": 20
         },
         {
          "0": "",
          "1": "",
          "ipydguuid": 23,
          "key": 21
         },
         {
          "0": "",
          "1": "",
          "ipydguuid": 24,
          "key": 22
         },
         {
          "0": "",
          "1": "",
          "ipydguuid": 25,
          "key": 23
         },
         {
          "0": "",
          "1": "",
          "ipydguuid": 26,
          "key": 24
         },
         {
          "0": "",
          "1": "",
          "ipydguuid": 27,
          "key": 25
         }
        ],
        "fields": [
         {
          "key": null
         },
         {
          "0": null
         },
         {
          "1": null
         },
         {
          "ipydguuid": null
         }
        ],
        "schema": {
         "fields": [
          {
           "name": "key",
           "type": "string"
          },
          {
           "name": 0,
           "type": "string"
          },
          {
           "name": 1,
           "type": "string"
          },
          {
           "name": "ipydguuid",
           "type": "integer"
          }
         ],
         "pandas_version": "1.4.0",
         "primaryKey": [
          "key",
          "ipydguuid"
         ],
         "primaryKeyUuid": "ipydguuid"
        }
       },
       "_model_module_version": "^1.1.13",
       "_model_name": "DataGridModel",
       "_view_module_version": "^1.1.13",
       "_visible_rows": [
        0,
        1,
        2,
        3,
        4,
        5,
        6,
        7,
        8,
        9,
        10,
        11,
        12,
        13,
        14,
        15,
        16,
        17,
        18,
        19,
        20,
        21,
        22,
        23,
        24,
        25,
        26,
        27
       ],
       "auto_fit_columns": false,
       "auto_fit_params": {
        "area": "all",
        "numCols": null,
        "padding": 30
       },
       "base_column_header_size": 20,
       "base_column_size": 64,
       "base_row_header_size": 64,
       "base_row_size": 20,
       "default_renderer": "IPY_MODEL_21aab12b36f64f31811074c72ad9612d",
       "editable": true,
       "header_visibility": "all",
       "layout": "IPY_MODEL_45fe30aa06db44b3993e9b4e0fda0af7",
       "selection_mode": "cell",
       "selections": [
        {
         "c1": 1,
         "c2": 1,
         "r1": 10,
         "r2": 10
        }
       ]
      }
     },
     "bbd24002c0cb47c18e9324fc45796393": {
      "model_module": "@jupyter-widgets/base",
      "model_module_version": "2.0.0",
      "model_name": "LayoutModel",
      "state": {}
     },
     "bbe854e018b84bf59a381a34884c420b": {
      "model_module": "@jupyter-widgets/base",
      "model_module_version": "2.0.0",
      "model_name": "LayoutModel",
      "state": {}
     },
     "bc47f9c317cc40388f573db3e6eb695c": {
      "model_module": "@jupyter-widgets/base",
      "model_module_version": "2.0.0",
      "model_name": "LayoutModel",
      "state": {}
     },
     "bc784ebabee94b539db249097280620b": {
      "model_module": "@jupyter-widgets/controls",
      "model_module_version": "2.0.0",
      "model_name": "ButtonModel",
      "state": {
       "description": "Add Column",
       "layout": "IPY_MODEL_385d2edb52ce42d88a7ce7a3aa1f27c3",
       "style": "IPY_MODEL_6f272acaf063477aa80ce5b0004bc142",
       "tooltip": null
      }
     },
     "bcbbfb7e6c3943a9a2665687a3d3c5e1": {
      "model_module": "@jupyter-widgets/base",
      "model_module_version": "2.0.0",
      "model_name": "LayoutModel",
      "state": {
       "height": "470px"
      }
     },
     "be0fd68bc3de4989a0080943b5744d12": {
      "model_module": "@jupyter-widgets/base",
      "model_module_version": "2.0.0",
      "model_name": "LayoutModel",
      "state": {}
     },
     "be7085df5f0341a2be845f0cca277608": {
      "model_module": "@jupyter-widgets/base",
      "model_module_version": "2.0.0",
      "model_name": "LayoutModel",
      "state": {}
     },
     "bf0219d50dd5487cb4d54368c4b4cb0c": {
      "model_module": "@jupyter-widgets/controls",
      "model_module_version": "2.0.0",
      "model_name": "VBoxModel",
      "state": {
       "children": [
        "IPY_MODEL_062aec4b7be347a89983b87aae193bfa",
        "IPY_MODEL_fadce987498d463f8fc333a6fbaff3b3",
        "IPY_MODEL_cff2be4636aa409481a19a030e636c98"
       ],
       "layout": "IPY_MODEL_f0e78ad7f7d546218f2fc090d883fbf8"
      }
     },
     "c01971413333446eb86ac1ad4710096f": {
      "model_module": "@jupyter-widgets/base",
      "model_module_version": "2.0.0",
      "model_name": "LayoutModel",
      "state": {}
     },
     "c091d962f39a4b3a8b2f68a482283851": {
      "model_module": "@jupyter-widgets/controls",
      "model_module_version": "2.0.0",
      "model_name": "ButtonStyleModel",
      "state": {
       "font_family": null,
       "font_size": null,
       "font_style": null,
       "font_variant": null,
       "font_weight": null,
       "text_color": null,
       "text_decoration": null
      }
     },
     "c0cd8a276aee415babd70d351152b0f1": {
      "model_module": "@jupyter-widgets/base",
      "model_module_version": "2.0.0",
      "model_name": "LayoutModel",
      "state": {
       "height": "490px"
      }
     },
     "c1d6210ece7545158b633248d2c67e30": {
      "model_module": "@jupyter-widgets/controls",
      "model_module_version": "2.0.0",
      "model_name": "ButtonModel",
      "state": {
       "description": "Undo",
       "layout": "IPY_MODEL_78bb3012232149b695b0a05acb1ee994",
       "style": "IPY_MODEL_0784fcdfa8b1492fa69b067268096a82",
       "tooltip": null
      }
     },
     "c21925e616f94cdc924ef0ae0fd57001": {
      "model_module": "@jupyter-widgets/controls",
      "model_module_version": "2.0.0",
      "model_name": "ButtonModel",
      "state": {
       "description": "Add Row",
       "layout": "IPY_MODEL_9d3c0d235b2e43588cdc7d55c1aac6bd",
       "style": "IPY_MODEL_5734ef7c68104fbb91f1e39d0d1fd375",
       "tooltip": null
      }
     },
     "c29f977ea2f046a0bfcb8e01f95d3788": {
      "model_module": "@jupyter-widgets/base",
      "model_module_version": "2.0.0",
      "model_name": "LayoutModel",
      "state": {
       "height": "550px"
      }
     },
     "c40bd58b17cd48248e95f50656d61874": {
      "model_module": "@jupyter-widgets/base",
      "model_module_version": "2.0.0",
      "model_name": "LayoutModel",
      "state": {}
     },
     "c4ea127fa27942f4b356f8775d677da6": {
      "model_module": "@jupyter-widgets/base",
      "model_module_version": "2.0.0",
      "model_name": "LayoutModel",
      "state": {}
     },
     "c58e4fa3fbfe4ddb9a3ed40f000c1970": {
      "model_module": "@jupyter-widgets/controls",
      "model_module_version": "2.0.0",
      "model_name": "HBoxModel",
      "state": {
       "children": [
        "IPY_MODEL_03f0f3088a2f4d9ab60106ecbe4e7de0",
        "IPY_MODEL_1ed94505a15642c992dfc0ea803d5f90",
        "IPY_MODEL_80c4addf09d449eaac9f5153ac607bab",
        "IPY_MODEL_b50a0924f34b4c72ac5c689feab268b3",
        "IPY_MODEL_da7d6f58d70a4fb282c369ada4013f48"
       ],
       "layout": "IPY_MODEL_e052362d0e71436b8d5a1bbf22e34a99"
      }
     },
     "c76e2b311b1f454a80da709b11a7d40b": {
      "model_module": "@jupyter-widgets/base",
      "model_module_version": "2.0.0",
      "model_name": "LayoutModel",
      "state": {}
     },
     "c7752f5cb5e6437d84e6a0044c1c9733": {
      "model_module": "@jupyter-widgets/controls",
      "model_module_version": "2.0.0",
      "model_name": "ButtonStyleModel",
      "state": {
       "font_family": null,
       "font_size": null,
       "font_style": null,
       "font_variant": null,
       "font_weight": null,
       "text_color": null,
       "text_decoration": null
      }
     },
     "c79bdeda24f644f998029c0dd030a551": {
      "model_module": "@jupyter-widgets/output",
      "model_module_version": "1.0.0",
      "model_name": "OutputModel",
      "state": {
       "layout": "IPY_MODEL_0a820c0267b443c6afbd150f91ade759",
       "outputs": [
        {
         "name": "stdout",
         "output_type": "stream",
         "text": "Converting Row:  1 Col:  1 with value  Failed\nRow # 1 skipped\nConverting Row:  2 Col:  1 with value  Failed\nRow # 2 skipped\nConverting Row:  3 Col:  1 with value  Failed\nRow # 3 skipped\nConverting Row:  4 Col:  1 with value  Failed\nRow # 4 skipped\nConverting Row:  5 Col:  1 with value  Failed\nRow # 5 skipped\nConverting Row:  6 Col:  0 with value  Failed\nRow # 6 skipped\nConverting Row:  7 Col:  0 with value  Failed\nRow # 7 skipped\nConverting Row:  8 Col:  1 with value  Failed\nRow # 8 skipped\nConverting Row:  9 Col:  1 with value  Failed\nRow # 9 skipped\nConverting Row:  10 Col:  0 with value  Failed\nRow # 10 skipped\nConverting Row:  11 Col:  0 with value  Failed\nRow # 11 skipped\nConverting Row:  12 Col:  1 with value  Failed\nRow # 12 skipped\nFound 1 valid rows\nFailed to create array. Ensure that column names are valid and that numpy has been imported.\n"
        }
       ]
      }
     },
     "c7fad37a303842a1bce838c8a9a4a6be": {
      "model_module": "@jupyter-widgets/base",
      "model_module_version": "2.0.0",
      "model_name": "LayoutModel",
      "state": {}
     },
     "c834db628a204b9b831c2b14c651e1a1": {
      "model_module": "@jupyter-widgets/controls",
      "model_module_version": "2.0.0",
      "model_name": "ButtonModel",
      "state": {
       "description": "Redo",
       "layout": "IPY_MODEL_19743c4131de4731ac268aba140e01fb",
       "style": "IPY_MODEL_0eb3bcfda9464c1988644dae96fd932e",
       "tooltip": null
      }
     },
     "c83e0eab00d849b49bc1be0bb1a3e507": {
      "model_module": "@jupyter-widgets/base",
      "model_module_version": "2.0.0",
      "model_name": "LayoutModel",
      "state": {}
     },
     "c844516dbed64edf852a003937ddd317": {
      "model_module": "@jupyter-widgets/controls",
      "model_module_version": "2.0.0",
      "model_name": "VBoxModel",
      "state": {
       "children": [
        "IPY_MODEL_f285ad5b27c74b2aa1646768b932f874",
        "IPY_MODEL_415839ed519640e1bcaf2b13dafee544",
        "IPY_MODEL_6c73f93f27394cdbb3f6448692ddc998"
       ],
       "layout": "IPY_MODEL_a22ae811f52a40c19551b19134d0d943"
      }
     },
     "c8481294c38049548e5f882ce6a3f8aa": {
      "model_module": "@jupyter-widgets/base",
      "model_module_version": "2.0.0",
      "model_name": "LayoutModel",
      "state": {}
     },
     "c91000a74c25412a9789bb313b30f177": {
      "model_module": "@jupyter-widgets/base",
      "model_module_version": "2.0.0",
      "model_name": "LayoutModel",
      "state": {}
     },
     "c93feeba4cf04710a3191b3a77c7800b": {
      "model_module": "@jupyter-widgets/base",
      "model_module_version": "2.0.0",
      "model_name": "LayoutModel",
      "state": {}
     },
     "c9bd2d4de6764a8c812efe3803bd4f48": {
      "model_module": "@jupyter-widgets/base",
      "model_module_version": "2.0.0",
      "model_name": "LayoutModel",
      "state": {
       "height": "210px"
      }
     },
     "ca89fdfc25324d3a983deb59a49e6279": {
      "model_module": "@jupyter-widgets/base",
      "model_module_version": "2.0.0",
      "model_name": "LayoutModel",
      "state": {}
     },
     "cb28c03aa1b94a7da017e9008cade5fa": {
      "model_module": "@jupyter-widgets/base",
      "model_module_version": "2.0.0",
      "model_name": "LayoutModel",
      "state": {}
     },
     "cb5677c2b3014cd9b4982fb1cd931adb": {
      "model_module": "@jupyter-widgets/base",
      "model_module_version": "2.0.0",
      "model_name": "LayoutModel",
      "state": {}
     },
     "cc4029aa74b14979a7017fa9a3b2f485": {
      "model_module": "@jupyter-widgets/base",
      "model_module_version": "2.0.0",
      "model_name": "LayoutModel",
      "state": {}
     },
     "cd2f9c1c6c28421fbfdcefbcd04b1fa8": {
      "model_module": "@jupyter-widgets/controls",
      "model_module_version": "2.0.0",
      "model_name": "ButtonStyleModel",
      "state": {
       "font_family": null,
       "font_size": null,
       "font_style": null,
       "font_variant": null,
       "font_weight": null,
       "text_color": null,
       "text_decoration": null
      }
     },
     "cecbec25f80d4990ad7e217d3c799eed": {
      "model_module": "@jupyter-widgets/base",
      "model_module_version": "2.0.0",
      "model_name": "LayoutModel",
      "state": {}
     },
     "cee2f23747ba474a85bfc05135e39d2a": {
      "model_module": "@jupyter-widgets/controls",
      "model_module_version": "2.0.0",
      "model_name": "ButtonStyleModel",
      "state": {
       "font_family": null,
       "font_size": null,
       "font_style": null,
       "font_variant": null,
       "font_weight": null,
       "text_color": null,
       "text_decoration": null
      }
     },
     "cf79907be7724086a9a9993006c01113": {
      "model_module": "@jupyter-widgets/controls",
      "model_module_version": "2.0.0",
      "model_name": "VBoxModel",
      "state": {
       "children": [
        "IPY_MODEL_e6f04cf463bc48ca9469a9f4461a2d71",
        "IPY_MODEL_652ef250e3c6432186970a4b07df8101",
        "IPY_MODEL_5acd878763f047339ca9a9f046ede5ae"
       ],
       "layout": "IPY_MODEL_5955698f05af44c7a66035b55ecc7f16"
      }
     },
     "cff2be4636aa409481a19a030e636c98": {
      "model_module": "@jupyter-widgets/output",
      "model_module_version": "1.0.0",
      "model_name": "OutputModel",
      "state": {
       "layout": "IPY_MODEL_be7085df5f0341a2be845f0cca277608",
       "outputs": [
        {
         "name": "stdout",
         "output_type": "stream",
         "text": "Data vectors need to be updated\n"
        }
       ]
      }
     },
     "d0ca5d74b2ed47e3a07a552cbcfe4da9": {
      "model_module": "@jupyter-widgets/controls",
      "model_module_version": "2.0.0",
      "model_name": "ButtonModel",
      "state": {
       "description": "Generate Vectors",
       "layout": "IPY_MODEL_c4ea127fa27942f4b356f8775d677da6",
       "style": "IPY_MODEL_0374df25259445ea855c849c8959d680",
       "tooltip": null
      }
     },
     "d17358d37e7f4693a2f07c0496464e12": {
      "model_module": "@jupyter-widgets/base",
      "model_module_version": "2.0.0",
      "model_name": "LayoutModel",
      "state": {}
     },
     "d268578d33e94a0c8877c664e5fde6b2": {
      "model_module": "@jupyter-widgets/controls",
      "model_module_version": "2.0.0",
      "model_name": "HBoxModel",
      "state": {
       "children": [
        "IPY_MODEL_2d0b0766c75e461fa04a645fdeda415c",
        "IPY_MODEL_160f10a230e342f7a2cbba660cf45a22",
        "IPY_MODEL_7786c7ce22724733b6b17d8798a3d6a6",
        "IPY_MODEL_b8e794e0067449b49286ace1ce3f5aac",
        "IPY_MODEL_92c80d999e2d4271b2a3f5f6f8c6575f"
       ],
       "layout": "IPY_MODEL_591356744bf8456c86a3820ca8e9e267"
      }
     },
     "d2ed8c6f86e44a1ca43d213540cde1d9": {
      "model_module": "@jupyter-widgets/controls",
      "model_module_version": "2.0.0",
      "model_name": "ButtonModel",
      "state": {
       "description": "Undo",
       "layout": "IPY_MODEL_bbe854e018b84bf59a381a34884c420b",
       "style": "IPY_MODEL_4187d7dd56044feeb77e3b7e11a46927",
       "tooltip": null
      }
     },
     "d37d98e892b54060a6491f4b57802f49": {
      "model_module": "@jupyter-widgets/controls",
      "model_module_version": "2.0.0",
      "model_name": "ButtonModel",
      "state": {
       "description": "Add Row",
       "layout": "IPY_MODEL_0b39852cf89b429d81809f2ddf88ccf0",
       "style": "IPY_MODEL_d479dbfa341c43f1a7693dce0cc0d78b",
       "tooltip": null
      }
     },
     "d3c647e8429748d5a546465ce59d10bd": {
      "model_module": "@jupyter-widgets/controls",
      "model_module_version": "2.0.0",
      "model_name": "ButtonStyleModel",
      "state": {
       "font_family": null,
       "font_size": null,
       "font_style": null,
       "font_variant": null,
       "font_weight": null,
       "text_color": null,
       "text_decoration": null
      }
     },
     "d41a175a670e4341bc8393df798ffc12": {
      "model_module": "@jupyter-widgets/controls",
      "model_module_version": "2.0.0",
      "model_name": "ButtonModel",
      "state": {
       "description": "Redo",
       "layout": "IPY_MODEL_81c7d832857d418fb4c2c95e139990d9",
       "style": "IPY_MODEL_d98e85fb8f1840eb9b3c18aa2117f40d",
       "tooltip": null
      }
     },
     "d479dbfa341c43f1a7693dce0cc0d78b": {
      "model_module": "@jupyter-widgets/controls",
      "model_module_version": "2.0.0",
      "model_name": "ButtonStyleModel",
      "state": {
       "font_family": null,
       "font_size": null,
       "font_style": null,
       "font_variant": null,
       "font_weight": null,
       "text_color": null,
       "text_decoration": null
      }
     },
     "d52ffef26c974a1989dd5c6c83a89cc4": {
      "model_module": "@jupyter-widgets/base",
      "model_module_version": "2.0.0",
      "model_name": "LayoutModel",
      "state": {
       "height": "350px"
      }
     },
     "d5a29270819440c38f02f1b4edc5924f": {
      "model_module": "@jupyter-widgets/base",
      "model_module_version": "2.0.0",
      "model_name": "LayoutModel",
      "state": {}
     },
     "d6a0b78d35e64966bc68b61991b52d03": {
      "model_module": "@jupyter-widgets/controls",
      "model_module_version": "2.0.0",
      "model_name": "VBoxModel",
      "state": {
       "children": [
        "IPY_MODEL_4ef358825c374f9b9fbd601479bc5ca9",
        "IPY_MODEL_bb1c50bd2fdd4bb7a6115f425ab4292d",
        "IPY_MODEL_87f135f6340647bd927f487d7d10e2d5"
       ],
       "layout": "IPY_MODEL_13a4a0983cbc4b11b8dc152d47288f0c"
      }
     },
     "d7d8a60e03a945fc95398cbb2207f1bc": {
      "model_module": "@jupyter-widgets/base",
      "model_module_version": "2.0.0",
      "model_name": "LayoutModel",
      "state": {}
     },
     "d813590a342d4222a42554e77626a6c7": {
      "model_module": "@jupyter-widgets/controls",
      "model_module_version": "2.0.0",
      "model_name": "HBoxModel",
      "state": {
       "children": [
        "IPY_MODEL_b01456775cfa4d65a2a0ad9f1b6ef077",
        "IPY_MODEL_621751c3108c48368b453d1fdc2f8509",
        "IPY_MODEL_d37d98e892b54060a6491f4b57802f49",
        "IPY_MODEL_a9e58d0b8f0d4750ac63d2650e9fdb14",
        "IPY_MODEL_09555c75aad4491caf28c4cc73792cc1"
       ],
       "layout": "IPY_MODEL_9eeabb4b42f94fb88cfc3a10d7db0f3d"
      }
     },
     "d8825022a82541acafc0f4e8b3801d88": {
      "model_module": "@jupyter-widgets/controls",
      "model_module_version": "2.0.0",
      "model_name": "ButtonModel",
      "state": {
       "description": "Add Row",
       "layout": "IPY_MODEL_17d9e339d949445cb7f77a5705fe4586",
       "style": "IPY_MODEL_143aac76caed4c4ea27e613934fe8e4a",
       "tooltip": null
      }
     },
     "d935dec2a08f4b14aa49b594a07cc85f": {
      "model_module": "@jupyter-widgets/controls",
      "model_module_version": "2.0.0",
      "model_name": "ButtonModel",
      "state": {
       "description": "Add Row",
       "layout": "IPY_MODEL_3e3cb6267b614c2d99bd5b3b65138de8",
       "style": "IPY_MODEL_58657d89141c4157a2c51376762ae079",
       "tooltip": null
      }
     },
     "d98e85fb8f1840eb9b3c18aa2117f40d": {
      "model_module": "@jupyter-widgets/controls",
      "model_module_version": "2.0.0",
      "model_name": "ButtonStyleModel",
      "state": {
       "font_family": null,
       "font_size": null,
       "font_style": null,
       "font_variant": null,
       "font_weight": null,
       "text_color": null,
       "text_decoration": null
      }
     },
     "d9af7879b6c340fe88b838ce18c6d226": {
      "model_module": "@jupyter-widgets/base",
      "model_module_version": "2.0.0",
      "model_name": "LayoutModel",
      "state": {
       "height": "250px"
      }
     },
     "d9b59c5722e14e91a24e6bd4652a7cd1": {
      "model_module": "ipydatagrid",
      "model_module_version": "^1.1.13",
      "model_name": "TextRendererModel",
      "state": {
       "_model_module_version": "^1.1.13",
       "_view_module_version": "^1.1.13",
       "background_color": "IPY_MODEL_5e9ae21fa6d742cd90ef7a9c7eec2cfd",
       "text_color": "IPY_MODEL_3bc08418e03d458daa3caa680e106732"
      }
     },
     "da1961d4bf3a4fb8a73ff669793c78bd": {
      "model_module": "@jupyter-widgets/base",
      "model_module_version": "2.0.0",
      "model_name": "LayoutModel",
      "state": {
       "height": "430px"
      }
     },
     "da7d6f58d70a4fb282c369ada4013f48": {
      "model_module": "@jupyter-widgets/controls",
      "model_module_version": "2.0.0",
      "model_name": "ButtonModel",
      "state": {
       "description": "Generate Vectors",
       "layout": "IPY_MODEL_15d232cb057144c68ef2f7c78fcb540a",
       "style": "IPY_MODEL_5930ccf07fba49419281cfc4a59faaee",
       "tooltip": null
      }
     },
     "daa66fd70791465f92280efa4604e9e0": {
      "model_module": "@jupyter-widgets/base",
      "model_module_version": "2.0.0",
      "model_name": "LayoutModel",
      "state": {}
     },
     "db0484729e144a878b5ad884bedc2a5a": {
      "model_module": "@jupyter-widgets/base",
      "model_module_version": "2.0.0",
      "model_name": "LayoutModel",
      "state": {}
     },
     "dc5946bf4580418aa00469eafbdae1de": {
      "model_module": "@jupyter-widgets/base",
      "model_module_version": "2.0.0",
      "model_name": "LayoutModel",
      "state": {
       "height": "450px"
      }
     },
     "dc5a1318026140889110c012d300cec2": {
      "model_module": "ipydatagrid",
      "model_module_version": "^1.1.13",
      "model_name": "TextRendererModel",
      "state": {
       "_model_module_version": "^1.1.13",
       "_view_module_version": "^1.1.13",
       "background_color": "IPY_MODEL_5e9ae21fa6d742cd90ef7a9c7eec2cfd",
       "text_color": "IPY_MODEL_3bc08418e03d458daa3caa680e106732"
      }
     },
     "dc5d9e78c88043fab3f8f984d9e13455": {
      "model_module": "@jupyter-widgets/base",
      "model_module_version": "2.0.0",
      "model_name": "LayoutModel",
      "state": {}
     },
     "dcec499cfcc54b95b27bc07c3413a243": {
      "model_module": "@jupyter-widgets/controls",
      "model_module_version": "2.0.0",
      "model_name": "ButtonModel",
      "state": {
       "description": "Add Column",
       "layout": "IPY_MODEL_c7fad37a303842a1bce838c8a9a4a6be",
       "style": "IPY_MODEL_406e645464154e3989fa2853828377e6",
       "tooltip": null
      }
     },
     "dd1fcea4945f495eacceffdba8551ee4": {
      "model_module": "@jupyter-widgets/controls",
      "model_module_version": "2.0.0",
      "model_name": "ButtonStyleModel",
      "state": {
       "font_family": null,
       "font_size": null,
       "font_style": null,
       "font_variant": null,
       "font_weight": null,
       "text_color": null,
       "text_decoration": null
      }
     },
     "ddf5791ff70d4840bc87f665ec9fa19b": {
      "model_module": "ipydatagrid",
      "model_module_version": "^1.1.13",
      "model_name": "TextRendererModel",
      "state": {
       "_model_module_version": "^1.1.13",
       "_view_module_version": "^1.1.13",
       "background_color": "IPY_MODEL_5e9ae21fa6d742cd90ef7a9c7eec2cfd",
       "text_color": "IPY_MODEL_3bc08418e03d458daa3caa680e106732"
      }
     },
     "de29bb20ee6547f8892fd2cc4ddbf570": {
      "model_module": "@jupyter-widgets/base",
      "model_module_version": "2.0.0",
      "model_name": "LayoutModel",
      "state": {
       "height": "270px"
      }
     },
     "df7f1322295749ff85d0080632935dce": {
      "model_module": "@jupyter-widgets/base",
      "model_module_version": "2.0.0",
      "model_name": "LayoutModel",
      "state": {}
     },
     "df9e67d3825f47e49004c4bd8248bcf0": {
      "model_module": "@jupyter-widgets/base",
      "model_module_version": "2.0.0",
      "model_name": "LayoutModel",
      "state": {
       "height": "390px"
      }
     },
     "e052362d0e71436b8d5a1bbf22e34a99": {
      "model_module": "@jupyter-widgets/base",
      "model_module_version": "2.0.0",
      "model_name": "LayoutModel",
      "state": {}
     },
     "e33a678db46b4aad917a7c138a915b1c": {
      "model_module": "@jupyter-widgets/base",
      "model_module_version": "2.0.0",
      "model_name": "LayoutModel",
      "state": {
       "height": "450px"
      }
     },
     "e461ed0b71cf496a820151d20f757d0c": {
      "model_module": "@jupyter-widgets/controls",
      "model_module_version": "2.0.0",
      "model_name": "ButtonModel",
      "state": {
       "description": "Undo",
       "layout": "IPY_MODEL_c83e0eab00d849b49bc1be0bb1a3e507",
       "style": "IPY_MODEL_4bf6100e9bd84b2dac6f9c9581fc2d39",
       "tooltip": null
      }
     },
     "e64679e49b1c413bbd00a86dd62b9857": {
      "model_module": "@jupyter-widgets/base",
      "model_module_version": "2.0.0",
      "model_name": "LayoutModel",
      "state": {
       "height": "430px"
      }
     },
     "e658591a8013489090cbc1d3f88745c7": {
      "model_module": "@jupyter-widgets/controls",
      "model_module_version": "2.0.0",
      "model_name": "ButtonStyleModel",
      "state": {
       "font_family": null,
       "font_size": null,
       "font_style": null,
       "font_variant": null,
       "font_weight": null,
       "text_color": null,
       "text_decoration": null
      }
     },
     "e6f04cf463bc48ca9469a9f4461a2d71": {
      "model_module": "@jupyter-widgets/controls",
      "model_module_version": "2.0.0",
      "model_name": "HBoxModel",
      "state": {
       "children": [
        "IPY_MODEL_2e6cd57382394fc9a0ca3d6c59e29607",
        "IPY_MODEL_ee62e077540340769106bd6369d6b200",
        "IPY_MODEL_4eff547dafa54a92b01dccd8cf89529d",
        "IPY_MODEL_950c526060134beebc454b0a1f477ef3",
        "IPY_MODEL_7fa09a5662cc4aac98da7aa4f0e46560"
       ],
       "layout": "IPY_MODEL_c76e2b311b1f454a80da709b11a7d40b"
      }
     },
     "e7a660d6e8c34336b0610bba9bdb1447": {
      "model_module": "@jupyter-widgets/base",
      "model_module_version": "2.0.0",
      "model_name": "LayoutModel",
      "state": {}
     },
     "e8a6692f660b42729e71b6efb2dfd082": {
      "model_module": "@jupyter-widgets/controls",
      "model_module_version": "2.0.0",
      "model_name": "ButtonModel",
      "state": {
       "description": "Undo",
       "layout": "IPY_MODEL_46692d6da8ef4988b98250852ffca4b7",
       "style": "IPY_MODEL_dd1fcea4945f495eacceffdba8551ee4",
       "tooltip": null
      }
     },
     "e909ad5b96894a6a9e69b2722248e541": {
      "model_module": "@jupyter-widgets/controls",
      "model_module_version": "2.0.0",
      "model_name": "ButtonModel",
      "state": {
       "description": "Undo",
       "layout": "IPY_MODEL_61fd02fb3d164cdb9427cd4b9197d6a2",
       "style": "IPY_MODEL_4f42132f99a94a398167ffdcacf5b5d0",
       "tooltip": null
      }
     },
     "e90acd2a082b4835bab99cab8d0e11fe": {
      "model_module": "@jupyter-widgets/base",
      "model_module_version": "2.0.0",
      "model_name": "LayoutModel",
      "state": {
       "height": "450px"
      }
     },
     "e9990b7b337e4a5eb35749e2997d386a": {
      "model_module": "@jupyter-widgets/base",
      "model_module_version": "2.0.0",
      "model_name": "LayoutModel",
      "state": {}
     },
     "eaae68ed2b414ada8cc38e2bb64202a5": {
      "model_module": "@jupyter-widgets/base",
      "model_module_version": "2.0.0",
      "model_name": "LayoutModel",
      "state": {
       "height": "510px"
      }
     },
     "ebea99762f8b4f49910c874cb2f46cad": {
      "model_module": "ipydatagrid",
      "model_module_version": "^1.1.13",
      "model_name": "TextRendererModel",
      "state": {
       "_model_module_version": "^1.1.13",
       "_view_module_version": "^1.1.13",
       "background_color": "IPY_MODEL_5e9ae21fa6d742cd90ef7a9c7eec2cfd",
       "text_color": "IPY_MODEL_3bc08418e03d458daa3caa680e106732"
      }
     },
     "ed10a2eb33fc4679824b59ce37046f12": {
      "model_module": "@jupyter-widgets/base",
      "model_module_version": "2.0.0",
      "model_name": "LayoutModel",
      "state": {}
     },
     "edc82db946b14c3189f03767099de9ec": {
      "model_module": "@jupyter-widgets/controls",
      "model_module_version": "2.0.0",
      "model_name": "HBoxModel",
      "state": {
       "children": [
        "IPY_MODEL_c1d6210ece7545158b633248d2c67e30",
        "IPY_MODEL_0e910b74658540d7b8436119d850823d",
        "IPY_MODEL_6585fb30155743dea55d2735f266a7fb",
        "IPY_MODEL_6bf1b523a40f4cdfb86ae0d94faace25",
        "IPY_MODEL_d0ca5d74b2ed47e3a07a552cbcfe4da9"
       ],
       "layout": "IPY_MODEL_01b1ceb73bdb4b20a5b25de5cf387a3b"
      }
     },
     "edd527fcbd304a71b46f5e2a6cb179eb": {
      "model_module": "@jupyter-widgets/controls",
      "model_module_version": "2.0.0",
      "model_name": "ButtonStyleModel",
      "state": {
       "font_family": null,
       "font_size": null,
       "font_style": null,
       "font_variant": null,
       "font_weight": null,
       "text_color": null,
       "text_decoration": null
      }
     },
     "ee012a8a290e429e966feed6c2c50904": {
      "model_module": "@jupyter-widgets/base",
      "model_module_version": "2.0.0",
      "model_name": "LayoutModel",
      "state": {}
     },
     "ee62e077540340769106bd6369d6b200": {
      "model_module": "@jupyter-widgets/controls",
      "model_module_version": "2.0.0",
      "model_name": "ButtonModel",
      "state": {
       "description": "Redo",
       "layout": "IPY_MODEL_d7d8a60e03a945fc95398cbb2207f1bc",
       "style": "IPY_MODEL_9e280dadfca84910b1b9b0282f5d3fc4",
       "tooltip": null
      }
     },
     "eebfd155c2a44ed79b2e1c1e47efd768": {
      "model_module": "@jupyter-widgets/controls",
      "model_module_version": "2.0.0",
      "model_name": "ButtonStyleModel",
      "state": {
       "font_family": null,
       "font_size": null,
       "font_style": null,
       "font_variant": null,
       "font_weight": null,
       "text_color": null,
       "text_decoration": null
      }
     },
     "eed565987d4d45c5b1aace3fd681d661": {
      "model_module": "@jupyter-widgets/base",
      "model_module_version": "2.0.0",
      "model_name": "LayoutModel",
      "state": {}
     },
     "ef77c752e5ec4a6b9a1d6e109f9016ee": {
      "model_module": "@jupyter-widgets/base",
      "model_module_version": "2.0.0",
      "model_name": "LayoutModel",
      "state": {
       "height": "610px"
      }
     },
     "f0e78ad7f7d546218f2fc090d883fbf8": {
      "model_module": "@jupyter-widgets/base",
      "model_module_version": "2.0.0",
      "model_name": "LayoutModel",
      "state": {}
     },
     "f14fb5463ca4462ea81c1c607a286b8c": {
      "model_module": "@jupyter-widgets/controls",
      "model_module_version": "2.0.0",
      "model_name": "ButtonModel",
      "state": {
       "description": "Add Column",
       "layout": "IPY_MODEL_0b4173d180ab4bd3aed2ae6d1c2c8364",
       "style": "IPY_MODEL_fec101227cef4aebafea9a651f5bb727",
       "tooltip": null
      }
     },
     "f1738264ab6a4b35bf71c6db7a39d989": {
      "model_module": "@jupyter-widgets/controls",
      "model_module_version": "2.0.0",
      "model_name": "ButtonStyleModel",
      "state": {
       "font_family": null,
       "font_size": null,
       "font_style": null,
       "font_variant": null,
       "font_weight": null,
       "text_color": null,
       "text_decoration": null
      }
     },
     "f1cbb47abb644c6799466edc856cf1d9": {
      "model_module": "@jupyter-widgets/controls",
      "model_module_version": "2.0.0",
      "model_name": "ButtonStyleModel",
      "state": {
       "font_family": null,
       "font_size": null,
       "font_style": null,
       "font_variant": null,
       "font_weight": null,
       "text_color": null,
       "text_decoration": null
      }
     },
     "f2104cd309b04d12ac08b910b3761587": {
      "model_module": "@jupyter-widgets/controls",
      "model_module_version": "2.0.0",
      "model_name": "ButtonStyleModel",
      "state": {
       "font_family": null,
       "font_size": null,
       "font_style": null,
       "font_variant": null,
       "font_weight": null,
       "text_color": null,
       "text_decoration": null
      }
     },
     "f285ad5b27c74b2aa1646768b932f874": {
      "model_module": "@jupyter-widgets/controls",
      "model_module_version": "2.0.0",
      "model_name": "HBoxModel",
      "state": {
       "children": [
        "IPY_MODEL_02e44c40776949758a1a43d67390db70",
        "IPY_MODEL_1ee4174c013149b39ecbbd2aff0e45b5",
        "IPY_MODEL_1716e246941f48d4a9da91c9563f5e38",
        "IPY_MODEL_3491dafbaa3341b4b2c788af35bebf60",
        "IPY_MODEL_5cc7b85e1b614a4392c06173616ee9fd"
       ],
       "layout": "IPY_MODEL_976220470d08463cbc5dc9754ccbc9fc"
      }
     },
     "f2ce13baa00d4db5a9584f46afe1dc6c": {
      "model_module": "@jupyter-widgets/base",
      "model_module_version": "2.0.0",
      "model_name": "LayoutModel",
      "state": {
       "height": "550px"
      }
     },
     "f2f21f7c624b490aa5f8a27b81952d98": {
      "model_module": "@jupyter-widgets/base",
      "model_module_version": "2.0.0",
      "model_name": "LayoutModel",
      "state": {
       "height": "170px"
      }
     },
     "f3160688e5c34ecc890c44a1831f80b3": {
      "model_module": "@jupyter-widgets/base",
      "model_module_version": "2.0.0",
      "model_name": "LayoutModel",
      "state": {
       "height": "130px"
      }
     },
     "f3b170408c1b49aa8fc5953f41326968": {
      "model_module": "ipydatagrid",
      "model_module_version": "^1.1.13",
      "model_name": "DataGridModel",
      "state": {
       "_data": {
        "data": [
         {
          "0": "m",
          "1": "um",
          "ipydguuid": 0,
          "key": "  Variable:"
         },
         {
          "0": "g",
          "1": "g",
          "ipydguuid": 1,
          "key": " Units:"
         },
         {
          "0": "497",
          "1": "=(516-477)/4",
          "ipydguuid": 2,
          "key": 0
         },
         {
          "0": "142",
          "1": "=10/(2*np.sqrt(3))",
          "ipydguuid": 3,
          "key": 1
         }
        ],
        "fields": [
         {
          "key": null
         },
         {
          "0": null
         },
         {
          "1": null
         },
         {
          "ipydguuid": null
         }
        ],
        "schema": {
         "fields": [
          {
           "name": "key",
           "type": "string"
          },
          {
           "name": 0,
           "type": "string"
          },
          {
           "name": 1,
           "type": "string"
          },
          {
           "name": "ipydguuid",
           "type": "integer"
          }
         ],
         "pandas_version": "1.4.0",
         "primaryKey": [
          "key",
          "ipydguuid"
         ],
         "primaryKeyUuid": "ipydguuid"
        }
       },
       "_model_module_version": "^1.1.13",
       "_model_name": "DataGridModel",
       "_view_module_version": "^1.1.13",
       "_visible_rows": [
        0,
        1,
        2,
        3
       ],
       "auto_fit_columns": false,
       "auto_fit_params": {
        "area": "all",
        "numCols": null,
        "padding": 30
       },
       "base_column_header_size": 20,
       "base_column_size": 64,
       "base_row_header_size": 64,
       "base_row_size": 20,
       "default_renderer": "IPY_MODEL_5957fbd47456430a9a728271b84a3848",
       "editable": true,
       "header_visibility": "all",
       "layout": "IPY_MODEL_1f1157647b5b4551aca1e0d1e4d6ce98",
       "selection_mode": "cell",
       "selections": [
        {
         "c1": 1,
         "c2": 1,
         "r1": 3,
         "r2": 3
        }
       ]
      }
     },
     "f447fbaccb9f4b0ca92fd9f454fbef53": {
      "model_module": "@jupyter-widgets/controls",
      "model_module_version": "2.0.0",
      "model_name": "ButtonStyleModel",
      "state": {
       "font_family": null,
       "font_size": null,
       "font_style": null,
       "font_variant": null,
       "font_weight": null,
       "text_color": null,
       "text_decoration": null
      }
     },
     "f54b5facd183437289dde97efe796c70": {
      "model_module": "@jupyter-widgets/base",
      "model_module_version": "2.0.0",
      "model_name": "LayoutModel",
      "state": {}
     },
     "f5689f55a41e4854b754de9fe920813f": {
      "model_module": "@jupyter-widgets/controls",
      "model_module_version": "2.0.0",
      "model_name": "ButtonModel",
      "state": {
       "description": "Redo",
       "layout": "IPY_MODEL_8de249a6387e4f798ddb47072c7d2baa",
       "style": "IPY_MODEL_06d810b541214c6e9281c2cbe040d61a",
       "tooltip": null
      }
     },
     "f944126f739342c0a7867c8f3121989a": {
      "model_module": "@jupyter-widgets/output",
      "model_module_version": "1.0.0",
      "model_name": "OutputModel",
      "state": {
       "layout": "IPY_MODEL_45acc9bfe371413a8ae9dbaa5ceaf406",
       "outputs": [
        {
         "name": "stdout",
         "output_type": "stream",
         "text": "Converting Row:  0 Col:  1 with value =(516-477)/4) Failed\nRow # 0 skipped\nFound 1 valid rows\n\nCreated array:\n mVec = np.array([142.0])\n\nCreated array:\n umVec = np.array([2.886751345948129])\n"
        }
       ]
      }
     },
     "f94e70cdd4d14fe9a18f90412a8a704e": {
      "model_module": "@jupyter-widgets/base",
      "model_module_version": "2.0.0",
      "model_name": "LayoutModel",
      "state": {}
     },
     "f970326c230249469eebedec41a36abf": {
      "model_module": "@jupyter-widgets/controls",
      "model_module_version": "2.0.0",
      "model_name": "ButtonStyleModel",
      "state": {
       "font_family": null,
       "font_size": null,
       "font_style": null,
       "font_variant": null,
       "font_weight": null,
       "text_color": null,
       "text_decoration": null
      }
     },
     "fa2f327d1f104aaa9f559f58abe3781a": {
      "model_module": "@jupyter-widgets/controls",
      "model_module_version": "2.0.0",
      "model_name": "ButtonModel",
      "state": {
       "description": "Add Row",
       "layout": "IPY_MODEL_9cb2cef966d947b6875c1042c1827998",
       "style": "IPY_MODEL_b67c0548f8e948d99415daa554821a34",
       "tooltip": null
      }
     },
     "fadce987498d463f8fc333a6fbaff3b3": {
      "model_module": "ipydatagrid",
      "model_module_version": "^1.1.13",
      "model_name": "DataGridModel",
      "state": {
       "_data": {
        "data": [
         {
          "0": "d",
          "1": "",
          "ipydguuid": 0,
          "key": "  Variable:"
         },
         {
          "0": "mm",
          "1": "",
          "ipydguuid": 1,
          "key": " Units:"
         },
         {
          "0": "439.3",
          "1": "",
          "ipydguuid": 2,
          "key": 0
         },
         {
          "0": "",
          "1": "",
          "ipydguuid": 3,
          "key": 1
         },
         {
          "0": "",
          "1": "",
          "ipydguuid": 4,
          "key": 2
         },
         {
          "0": "",
          "1": "",
          "ipydguuid": 5,
          "key": 3
         },
         {
          "0": "",
          "1": "",
          "ipydguuid": 6,
          "key": 4
         },
         {
          "0": "",
          "1": "",
          "ipydguuid": 7,
          "key": 5
         },
         {
          "0": "",
          "1": "",
          "ipydguuid": 8,
          "key": 6
         },
         {
          "0": "",
          "1": "",
          "ipydguuid": 9,
          "key": 7
         },
         {
          "0": "",
          "1": "",
          "ipydguuid": 10,
          "key": 8
         },
         {
          "0": "",
          "1": "",
          "ipydguuid": 11,
          "key": 9
         },
         {
          "0": "",
          "1": "",
          "ipydguuid": 12,
          "key": 10
         },
         {
          "0": "",
          "1": "",
          "ipydguuid": 13,
          "key": 11
         },
         {
          "0": "",
          "1": "",
          "ipydguuid": 14,
          "key": 12
         },
         {
          "0": "",
          "1": "",
          "ipydguuid": 15,
          "key": 13
         },
         {
          "0": "",
          "1": "",
          "ipydguuid": 16,
          "key": 14
         },
         {
          "0": "",
          "1": "",
          "ipydguuid": 17,
          "key": 15
         },
         {
          "0": "",
          "1": "",
          "ipydguuid": 18,
          "key": 16
         },
         {
          "0": "",
          "1": "",
          "ipydguuid": 19,
          "key": 17
         },
         {
          "0": "",
          "1": "",
          "ipydguuid": 20,
          "key": 18
         },
         {
          "0": "",
          "1": "",
          "ipydguuid": 21,
          "key": 19
         },
         {
          "0": "",
          "1": "",
          "ipydguuid": 22,
          "key": 20
         },
         {
          "0": "",
          "1": "",
          "ipydguuid": 23,
          "key": 21
         },
         {
          "0": "",
          "1": "",
          "ipydguuid": 24,
          "key": 22
         },
         {
          "0": "",
          "1": "",
          "ipydguuid": 25,
          "key": 23
         },
         {
          "0": "",
          "1": "",
          "ipydguuid": 26,
          "key": 24
         }
        ],
        "fields": [
         {
          "key": null
         },
         {
          "0": null
         },
         {
          "1": null
         },
         {
          "ipydguuid": null
         }
        ],
        "schema": {
         "fields": [
          {
           "name": "key",
           "type": "string"
          },
          {
           "name": 0,
           "type": "string"
          },
          {
           "name": 1,
           "type": "string"
          },
          {
           "name": "ipydguuid",
           "type": "integer"
          }
         ],
         "pandas_version": "1.4.0",
         "primaryKey": [
          "key",
          "ipydguuid"
         ],
         "primaryKeyUuid": "ipydguuid"
        }
       },
       "_model_module_version": "^1.1.13",
       "_model_name": "DataGridModel",
       "_view_module_version": "^1.1.13",
       "_visible_rows": [
        0,
        1,
        2,
        3,
        4,
        5,
        6,
        7,
        8,
        9,
        10,
        11,
        12,
        13,
        14,
        15,
        16,
        17,
        18,
        19,
        20,
        21,
        22,
        23,
        24,
        25,
        26
       ],
       "auto_fit_columns": false,
       "auto_fit_params": {
        "area": "all",
        "numCols": null,
        "padding": 30
       },
       "base_column_header_size": 20,
       "base_column_size": 64,
       "base_row_header_size": 64,
       "base_row_size": 20,
       "column_widths": {
        "0": 266
       },
       "default_renderer": "IPY_MODEL_3526d4b7f190478eb3f67e124ac75885",
       "editable": true,
       "header_visibility": "all",
       "layout": "IPY_MODEL_9250931bb202454fb690d9a3317e0c99",
       "selection_mode": "cell",
       "selections": [
        {
         "c1": 0,
         "c2": 0,
         "r1": 3,
         "r2": 3
        }
       ]
      }
     },
     "fcd73908f82f4c128c7598ed1d7a0ee1": {
      "model_module": "@jupyter-widgets/base",
      "model_module_version": "2.0.0",
      "model_name": "LayoutModel",
      "state": {
       "height": "510px"
      }
     },
     "fd24e579081b488ca6c4d9f688d84433": {
      "model_module": "@jupyter-widgets/output",
      "model_module_version": "1.0.0",
      "model_name": "OutputModel",
      "state": {
       "layout": "IPY_MODEL_a0b6c1e1b2de4de7a587118a34f413ee"
      }
     },
     "fde489df9c5f425ea22ad2f46d60995a": {
      "model_module": "@jupyter-widgets/base",
      "model_module_version": "2.0.0",
      "model_name": "LayoutModel",
      "state": {}
     },
     "fded9d041f534c4abb67017f9d6a8ff1": {
      "model_module": "@jupyter-widgets/base",
      "model_module_version": "2.0.0",
      "model_name": "LayoutModel",
      "state": {}
     },
     "fe56cf8218c24669999fe71d94a67659": {
      "model_module": "@jupyter-widgets/controls",
      "model_module_version": "2.0.0",
      "model_name": "HBoxModel",
      "state": {
       "children": [
        "IPY_MODEL_a74494b76d27425ab545274b41ba46de",
        "IPY_MODEL_65e177f106594c3ebd48ab49727cde4f",
        "IPY_MODEL_121699d37448406ab258eba8e70ca42c",
        "IPY_MODEL_78eaa0c7035848199cccf8d581623947",
        "IPY_MODEL_5d2868be3f914ae6acbad3f807bc7246"
       ],
       "layout": "IPY_MODEL_8c85d74d07f4439cb09161bf938ffd45"
      }
     },
     "fe5b3a6362dd4e75a9471b23515558cd": {
      "model_module": "@jupyter-widgets/base",
      "model_module_version": "2.0.0",
      "model_name": "LayoutModel",
      "state": {}
     },
     "fe92c711534743a3a613c0b22907ede3": {
      "model_module": "@jupyter-widgets/output",
      "model_module_version": "1.0.0",
      "model_name": "OutputModel",
      "state": {
       "layout": "IPY_MODEL_6ccecf56710842e39154dd56d6c8691b",
       "outputs": [
        {
         "name": "stdout",
         "output_type": "stream",
         "text": "Data vectors need to be updated\n"
        }
       ]
      }
     },
     "fec101227cef4aebafea9a651f5bb727": {
      "model_module": "@jupyter-widgets/controls",
      "model_module_version": "2.0.0",
      "model_name": "ButtonStyleModel",
      "state": {
       "font_family": null,
       "font_size": null,
       "font_style": null,
       "font_variant": null,
       "font_weight": null,
       "text_color": null,
       "text_decoration": null
      }
     },
     "ff0bcfb9a1b44696961a1af4bad29c6f": {
      "model_module": "@jupyter-widgets/base",
      "model_module_version": "2.0.0",
      "model_name": "LayoutModel",
      "state": {}
     }
    },
    "version_major": 2,
    "version_minor": 0
   }
  }
 },
 "nbformat": 4,
 "nbformat_minor": 5
}
