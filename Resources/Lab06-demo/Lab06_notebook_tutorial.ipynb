{
 "cells": [
  {
   "attachments": {},
   "cell_type": "markdown",
   "id": "2c32fb06-bb63-49c1-aa51-125a423b0747",
   "metadata": {},
   "source": [
    "# Lab 06 notebook tutorial"
   ]
  },
  {
   "cell_type": "markdown",
   "id": "b3318975",
   "metadata": {},
   "source": [
    "<span style=\"color: red;\">**Please do not read this notebook until after the invention activity in class**</span>\n",
    "\n",
    "Please see the bottom of this notebook for a summary of our new tool"
   ]
  },
  {
   "cell_type": "code",
   "execution_count": null,
   "id": "be5b35ac-3c4e-42d4-b63a-46d7c26153a6",
   "metadata": {},
   "outputs": [],
   "source": [
    "import data_entry2\n",
    "import numpy as np\n",
    "import matplotlib.pyplot as plt"
   ]
  },
  {
   "cell_type": "code",
   "execution_count": null,
   "id": "f1759948-cdb0-4a74-8d7b-3a78feead5c5",
   "metadata": {},
   "outputs": [],
   "source": [
    "# Load the prelab data we used for Lab 05\n",
    "de = data_entry2.sheet(\"lab05_prelab_data1\")"
   ]
  },
  {
   "cell_type": "code",
   "execution_count": null,
   "id": "79e47a00-266f-48be-98c4-f036fc5cff84",
   "metadata": {},
   "outputs": [],
   "source": [
    "# Step 1: Find the limits of the data:\n",
    "xmin = np.min(dxVec) # use the np.min function to find the smallest x value\n",
    "xmax = np.max(dxVec) # same for max\n",
    "# print (xmin, xmax)  # uncomment to see what the limits are\n",
    "\n",
    "# Step 2: Generate a bunch of x points between xmin and xmax\n",
    "xpoints = np.linspace(xmin, xmax, 200) # gives 200 evenly spaced points between xmin and xmax\n",
    "# print(xpoints) # uncomment to see the x values that were generated.\n",
    "\n",
    "# Step 3: Calculate the model values given your input to the slope:\n",
    "slope = 2.3 # Your estimate of the slope.\n",
    "ypoints = xpoints * slope # this calculates the yvalues at all 200 points.\n",
    "\n",
    "# Step 4: plot the curve. We plot this as a red line \"r-\" :\n",
    "plt.plot(xpoints, ypoints, \"r-\", label = \"F = kx\")\n",
    "\n",
    "# Let's plot our data with the model:\n",
    "plt.errorbar(dxVec, FVec, u_FVec, fmt=\"bo\", markersize = 3, label=\"Experimental data\")\n",
    "plt.title(\"Force vs. Displacement for spring\")\n",
    "plt.xlabel(\"Displacement of spring from equilibrium (m)\")\n",
    "plt.ylabel(\"Force (N)\")\n",
    "plt.legend()\n",
    "plt.show()\n",
    "\n",
    "#Residuals Plot\n",
    "# Step 1: Calculate the model at each x-datapoint\n",
    "ymodel = slope * dxVec # y = mx at each x_i\n",
    "\n",
    "# Step 2: Calculate the residual vector\n",
    "ResVec = FVec - ymodel\n",
    "\n",
    "# Step 3: Plot the residual vector against the x-data vector\n",
    "plt.errorbar(dxVec, ResVec, u_FVec, fmt=\"bo\", markersize = 3)\n",
    "\n",
    "# Step 4: Add a R = 0 x-axis (horizontal line) to the plot\n",
    "plt.hlines(y=0, xmin=xmin, xmax=xmax, color='k') # draw axis at y = 0.\n",
    "\n",
    "# Add axis labels and title, and show the graph\n",
    "plt.title(\"Residuals for Force vs. displacement for spring\")\n",
    "plt.xlabel(\"Displacement (m)\")\n",
    "plt.ylabel(\"Residual = data - model (N)\")\n",
    "plt.show()\n",
    "\n",
    "# Calculate chi-squared \n",
    "chi2 = np.sum((ResVec/u_FVec)**2)/(len(ResVec)-1)\n",
    "print (\"Slope: \", slope, \"N/m\")\n",
    "print (\"Weighted chi-squared: \", chi2)\n"
   ]
  },
  {
   "cell_type": "code",
   "execution_count": null,
   "id": "cb1c2f60-f771-4772-94d2-6af16c26d0b0",
   "metadata": {},
   "outputs": [],
   "source": [
    "## Keep track of chi-squared based on changing the slope\n",
    "dec = data_entry2.sheet('chi2-1')"
   ]
  },
  {
   "attachments": {},
   "cell_type": "markdown",
   "id": "e81b32e1-9d7f-4eed-a638-02fea2b9a862",
   "metadata": {
    "tags": []
   },
   "source": [
    "### Best estimate for slope:"
   ]
  },
  {
   "attachments": {},
   "cell_type": "markdown",
   "id": "f29535a9",
   "metadata": {},
   "source": [
    "* The best estimate of your slope will be the one you find above that has the lowest chi-squared.\n",
    "* The best estimate of your uncertainties on the slope will be the difference between best fit and the slope when chi-squared is +1 larger than your best fit."
   ]
  },
  {
   "cell_type": "code",
   "execution_count": null,
   "id": "5cacb11d-3544-49d4-a209-1facf595ab7c",
   "metadata": {},
   "outputs": [],
   "source": [
    "# Best slope\n",
    "m_best = 2.1\n",
    "m_min = 2.0\n",
    "u_m = m_best - m_min\n",
    "print(\"Slope uncertainty:\",u_m, \"N/m\")"
   ]
  },
  {
   "attachments": {},
   "cell_type": "markdown",
   "id": "6e1c86b1-46d3-4972-a276-3e3da5951cd4",
   "metadata": {},
   "source": [
    "Best estimate of the slope is 2.10 $\\pm$ 0.10 N/m."
   ]
  },
  {
   "cell_type": "markdown",
   "id": "8b48c739",
   "metadata": {},
   "source": [
    "# Fitting using reduced chi-squared minimization / weighted least squares fitting"
   ]
  },
  {
   "cell_type": "markdown",
   "id": "a0ab09b2",
   "metadata": {},
   "source": [
    "$$\\large \\chi_w^2 = \\frac{1}{N-P} \\sum_{i=1}^N \\left[ \\frac{y_i - f(x_i) }{u\\_y_i} \\right]^2$$"
   ]
  },
  {
   "cell_type": "markdown",
   "id": "2e5da35d",
   "metadata": {},
   "source": [
    "When using chi-squared, the goal is to adjust your fitting parameters in order to minimize the value for chi-squared, which indicates the best possible fit of your model to the data."
   ]
  },
  {
   "cell_type": "markdown",
   "id": "9641b39e",
   "metadata": {},
   "source": [
    "Interpreting $\\large \\chi_w^2$:\n",
    "\n",
    "* $\\large \\chi_w^2 \\approx 1$: The model fits the data well, assuming uncertainties have been characterized well\n",
    "* $\\large \\chi_w^2 \\gg 1$: Not a good fit or the uncertainties have been underestimated\n",
    "* $\\large \\chi_w^2 \\ll 1$: The uncertainties have been overestimated\n",
    "\n",
    "Using chi-squared is a 2-step process:\n",
    "1. First minimize chi-squared by adjusting parameters.\n",
    "2. Then, once it is minimized, interpret the value. \n",
    "\n",
    "The goal is **not** to make chi-squared = 1, it is to minimize it to find the best possible fit, and then interpret the resulting chi-squared value"
   ]
  },
  {
   "cell_type": "markdown",
   "id": "6f40dacc",
   "metadata": {},
   "source": []
  }
 ],
 "metadata": {
  "kernelspec": {
   "display_name": "Python 3 (ipykernel)",
   "language": "python",
   "name": "python3"
  },
  "language_info": {
   "codemirror_mode": {
    "name": "ipython",
    "version": 3
   },
   "file_extension": ".py",
   "mimetype": "text/x-python",
   "name": "python",
   "nbconvert_exporter": "python",
   "pygments_lexer": "ipython3",
   "version": "3.10.10"
  },
  "widgets": {
   "application/vnd.jupyter.widget-state+json": {
    "state": {},
    "version_major": 2,
    "version_minor": 0
   }
  }
 },
 "nbformat": 4,
 "nbformat_minor": 5
}
