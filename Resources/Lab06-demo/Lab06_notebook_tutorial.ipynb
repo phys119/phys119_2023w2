{
 "cells": [
  {
   "attachments": {},
   "cell_type": "markdown",
   "id": "2c32fb06-bb63-49c1-aa51-125a423b0747",
   "metadata": {},
   "source": [
    "# Lab 06 notebook tutorial"
   ]
  },
  {
   "cell_type": "code",
   "execution_count": null,
   "id": "be5b35ac-3c4e-42d4-b63a-46d7c26153a6",
   "metadata": {},
   "outputs": [],
   "source": [
    "import data_entry2\n",
    "import numpy as np\n",
    "import matplotlib.pyplot as plt"
   ]
  },
  {
   "cell_type": "code",
   "execution_count": null,
   "id": "f1759948-cdb0-4a74-8d7b-3a78feead5c5",
   "metadata": {},
   "outputs": [],
   "source": [
    "# Load the prelab data we used for Lab 05\n",
    "de = data_entry2.sheet(\"lab05_prelab_data1\")"
   ]
  },
  {
   "cell_type": "code",
   "execution_count": null,
   "id": "79e47a00-266f-48be-98c4-f036fc5cff84",
   "metadata": {},
   "outputs": [],
   "source": [
    "# Step 1: Find the limits of the data:\n",
    "xmin = np.min(dxVec) # use the np.min function to find the smallest x value\n",
    "xmax = np.max(dxVec) # same for max\n",
    "# print (xmin, xmax)  # uncomment to see what the limits are\n",
    "\n",
    "# Step 2: Generate a bunch of x points between xmin and xmax\n",
    "xpoints = np.linspace(xmin, xmax, 200) # gives 200 evenly spaced points between xmin and xmax\n",
    "# print(xpoints) # uncomment to see the x values that were generated.\n",
    "\n",
    "# Step 3: Calculate the model values given your input to the slope:\n",
    "slope = 2.3 # Your estimate of the slope.\n",
    "ypoints = xpoints * slope # this calculates the yvalues at all 200 points.\n",
    "\n",
    "# Step 4: plot the curve. We plot this as a red line \"r-\" :\n",
    "plt.plot(xpoints, ypoints, \"r-\", label = \"F = kx\")\n",
    "\n",
    "# Let's plot our data with the model:\n",
    "plt.errorbar(dxVec, FVec, u_FVec, fmt=\"bo\", markersize = 3, label=\"Experimental data\")\n",
    "plt.title(\"Force vs. Displacement for spring\")\n",
    "plt.xlabel(\"Displacement of spring from equilibrium (m)\")\n",
    "plt.ylabel(\"Force (N)\")\n",
    "plt.legend()\n",
    "plt.show()\n",
    "\n",
    "#Residuals Plot\n",
    "# Step 1: Calculate the model at each x-datapoint\n",
    "ymodel = slope * dxVec # y = mx at each x_i\n",
    "\n",
    "# Step 2: Calculate the residual vector\n",
    "RVec = FVec - ymodel\n",
    "\n",
    "# Step 3: Plot the residual vector against the x-data vector\n",
    "plt.errorbar(dxVec, RVec, u_FVec, fmt=\"bo\", markersize = 3)\n",
    "\n",
    "# Step 4: Add a R = 0 x-axis (horizontal line) to the plot\n",
    "plt.hlines(y=0, xmin=xmin, xmax=xmax, color='k') # draw axis at y = 0.\n",
    "\n",
    "# Add axis labels and title, and show the graph\n",
    "plt.title(\"Residuals for Force vs. displacement for spring\")\n",
    "plt.xlabel(\"Displacement (m)\")\n",
    "plt.ylabel(\"Residual = data - model (N)\")\n",
    "plt.show()\n",
    "\n",
    "# Calculate chi-squared \n",
    "chi2 = np.sum((RVec/u_FVec)**2)/(len(RVec)-1)\n",
    "print (\"Slope: \", slope)\n",
    "print (\"Weighted chi-squared: \", chi2)\n"
   ]
  },
  {
   "cell_type": "code",
   "execution_count": null,
   "id": "cb1c2f60-f771-4772-94d2-6af16c26d0b0",
   "metadata": {},
   "outputs": [],
   "source": [
    "## Keep track of chi-squared based on changing the slope\n",
    "dec = data_entry2.sheet('chi2-1')"
   ]
  },
  {
   "attachments": {},
   "cell_type": "markdown",
   "id": "e81b32e1-9d7f-4eed-a638-02fea2b9a862",
   "metadata": {
    "tags": []
   },
   "source": [
    "### Best estimate for slope:"
   ]
  },
  {
   "attachments": {},
   "cell_type": "markdown",
   "id": "f29535a9",
   "metadata": {},
   "source": [
    "* The best estimate of your slope will be the one you find above that has the lowest chi-squared.\n",
    "* The best estimate of your uncertainties on the slope will be the difference between best fit and the slope when chi-squared is +1 larger than your best fit."
   ]
  },
  {
   "cell_type": "code",
   "execution_count": null,
   "id": "5cacb11d-3544-49d4-a209-1facf595ab7c",
   "metadata": {},
   "outputs": [],
   "source": [
    "# Best slope\n",
    "m_best = 2.1\n",
    "m_min = 2.0\n",
    "u_m = m_best - m_min\n",
    "print(\"Slope uncertainty:\",u_m)"
   ]
  },
  {
   "attachments": {},
   "cell_type": "markdown",
   "id": "6e1c86b1-46d3-4972-a276-3e3da5951cd4",
   "metadata": {},
   "source": [
    "Best estimate of the slope is 2.10 $\\pm$ 0.10."
   ]
  },
  {
   "cell_type": "code",
   "execution_count": null,
   "id": "0413cde8",
   "metadata": {},
   "outputs": [],
   "source": []
  }
 ],
 "metadata": {
  "kernelspec": {
   "display_name": "Python 3 (ipykernel)",
   "language": "python",
   "name": "python3"
  },
  "language_info": {
   "codemirror_mode": {
    "name": "ipython",
    "version": 3
   },
   "file_extension": ".py",
   "mimetype": "text/x-python",
   "name": "python",
   "nbconvert_exporter": "python",
   "pygments_lexer": "ipython3",
   "version": "3.10.10"
  },
  "widgets": {
   "application/vnd.jupyter.widget-state+json": {
    "state": {},
    "version_major": 2,
    "version_minor": 0
   }
  }
 },
 "nbformat": 4,
 "nbformat_minor": 5
}
