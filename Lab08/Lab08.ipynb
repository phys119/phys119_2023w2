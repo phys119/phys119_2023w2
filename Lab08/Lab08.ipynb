{
 "cells": [
  {
   "cell_type": "markdown",
   "id": "0b9caaf1-fb8b-429f-bb3f-5715cc1c324c",
   "metadata": {},
   "source": [
    "# Lab 08 - RC circuits II"
   ]
  },
  {
   "cell_type": "markdown",
   "id": "ce0ac33c-4510-4a29-b4d3-dfd605dff94d",
   "metadata": {},
   "source": [
    "Edit this cell and provide the information requested:\n",
    "\n",
    "- Your name:\n",
    "- Your student number:\n",
    "- Partner's name:"
   ]
  },
  {
   "cell_type": "code",
   "execution_count": null,
   "id": "2f468deb-066b-4b13-aded-15b9fabd4c6e",
   "metadata": {
    "tags": []
   },
   "outputs": [],
   "source": [
    "%reset -f\n",
    "import numpy as np\n",
    "import data_entry2\n",
    "import matplotlib.pyplot as plt"
   ]
  },
  {
   "cell_type": "markdown",
   "id": "856cf8f2-ea8c-4523-b719-f9a41b2dd61f",
   "metadata": {
    "tags": []
   },
   "source": [
    "## PART A - INTRO"
   ]
  },
  {
   "cell_type": "markdown",
   "id": "557e3b2c-86ca-4fbe-a0e3-6cefb3db450f",
   "metadata": {},
   "source": []
  },
  {
   "cell_type": "markdown",
   "id": "6d252924-7a9a-46e8-bc2e-46d2a575f7fa",
   "metadata": {},
   "source": [
    "## PART B - FAMILIARIZATION & IMPROVEMENT REFLECTIONS"
   ]
  },
  {
   "cell_type": "markdown",
   "id": "e249e9eb-15da-4e6b-9c4c-794a48d1b0e0",
   "metadata": {},
   "source": []
  },
  {
   "cell_type": "markdown",
   "id": "f01fa510-3f6c-4b5e-a538-cf36e4565087",
   "metadata": {},
   "source": [
    "## PART C - DATA COLLECTION"
   ]
  },
  {
   "cell_type": "markdown",
   "id": "8be73253-2d10-4ef2-9e3d-1a8df10900f3",
   "metadata": {},
   "source": []
  },
  {
   "cell_type": "code",
   "execution_count": null,
   "id": "e32b8548-92cc-4f21-a1c4-53839ff4f686",
   "metadata": {},
   "outputs": [],
   "source": []
  },
  {
   "cell_type": "markdown",
   "id": "2191def5-90c9-4f85-a972-9a0e05295df7",
   "metadata": {},
   "source": [
    "## PART D - DATA ANALYSIS AND COMPARISON"
   ]
  },
  {
   "cell_type": "markdown",
   "id": "3f28db3a-b86a-4844-8ade-14b8ea71f64c",
   "metadata": {},
   "source": []
  },
  {
   "cell_type": "code",
   "execution_count": null,
   "id": "d1e7ebd5-2c22-4572-95b4-621738e4b393",
   "metadata": {},
   "outputs": [],
   "source": []
  },
  {
   "cell_type": "markdown",
   "id": "de1438d6-3c1f-46b6-80cc-72a21901c5d4",
   "metadata": {},
   "source": [
    "## PART E - IMPROVEMENTS"
   ]
  },
  {
   "cell_type": "markdown",
   "id": "36854a98-b618-4095-9d1f-5c5000a7c926",
   "metadata": {},
   "source": []
  },
  {
   "cell_type": "code",
   "execution_count": null,
   "id": "06e1e3dc-2570-4a18-950c-2f7381ae6eb5",
   "metadata": {},
   "outputs": [],
   "source": []
  },
  {
   "cell_type": "markdown",
   "id": "7b59a550-bd7b-4c06-94a6-b496cda1ada4",
   "metadata": {},
   "source": [
    "## PART F - Finishing Things Off"
   ]
  },
  {
   "cell_type": "markdown",
   "id": "93993561-e168-4c0c-bc9a-b760ae081ccd",
   "metadata": {},
   "source": []
  },
  {
   "cell_type": "markdown",
   "id": "26886d0a-58de-4a45-8e5e-d17c22bd8945",
   "metadata": {},
   "source": [
    "# Submit\n",
    "\n",
    "Steps for submission:\n",
    "\n",
    "1. Click: Run => Run_All_Cells\n",
    "2. Read through the notebook to ensure all the cells executed correctly and without error.\n",
    "3. File => Save_and_Export_Notebook_As->HTML\n",
    "4. Inspect your exported html\n",
    "5. Upload the HTML document to the lab submission assignment on Canvas."
   ]
  },
  {
   "cell_type": "code",
   "execution_count": null,
   "id": "cd8acd69-29c9-4208-a563-6ce95e92e9dd",
   "metadata": {},
   "outputs": [],
   "source": [
    "display_sheets()"
   ]
  }
 ],
 "metadata": {
  "kernelspec": {
   "display_name": "Python 3 (ipykernel)",
   "language": "python",
   "name": "python3"
  },
  "language_info": {
   "codemirror_mode": {
    "name": "ipython",
    "version": 3
   },
   "file_extension": ".py",
   "mimetype": "text/x-python",
   "name": "python",
   "nbconvert_exporter": "python",
   "pygments_lexer": "ipython3",
   "version": "3.11.5"
  },
  "widgets": {
   "application/vnd.jupyter.widget-state+json": {
    "state": {},
    "version_major": 2,
    "version_minor": 0
   }
  }
 },
 "nbformat": 4,
 "nbformat_minor": 5
}
