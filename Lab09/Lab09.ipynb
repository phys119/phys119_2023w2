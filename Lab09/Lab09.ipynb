{
 "cells": [
  {
   "cell_type": "markdown",
   "id": "8b42018a-744a-4a76-86d3-989d31c02420",
   "metadata": {
    "id": "61ed9912-a3b5-4024-b62b-49c912b1aa25"
   },
   "source": [
    "# Lab 09 - Radiation Shielding (Part 1)"
   ]
  },
  {
   "cell_type": "markdown",
   "id": "0ce96c66-1b26-42d1-9e77-df222a6c2b5d",
   "metadata": {
    "id": "355521ea-d050-45f2-93d5-988f72f018a2"
   },
   "source": [
    "Edit this cell and provide the information requested:\n",
    "\n",
    "- Your name:\n",
    "- Your student number:\n",
    "- Partner's name:"
   ]
  },
  {
   "cell_type": "code",
   "execution_count": 1,
   "id": "bdbafbb8-f7aa-4c12-9c3e-1c109fef8893",
   "metadata": {
    "id": "b795858f-a049-496e-a9bb-8128e61d49c3"
   },
   "outputs": [],
   "source": [
    "%reset -f\n",
    "import numpy as np\n",
    "import data_entry2\n",
    "import matplotlib.pyplot as plt"
   ]
  },
  {
   "cell_type": "markdown",
   "id": "3bf1ee22-e1f9-442b-9852-c97f7bf14733",
   "metadata": {},
   "source": []
  },
  {
   "cell_type": "markdown",
   "id": "fe70bc6b-91cb-41bc-8fc2-5357a6e7defd",
   "metadata": {},
   "source": [
    "## Data"
   ]
  },
  {
   "cell_type": "markdown",
   "id": "0d676ed0-1288-4d89-bdb8-cd4c4fb54233",
   "metadata": {},
   "source": [
    "*Include the round number in your data table to help you identify which round of data collection each row corresponds to.*"
   ]
  },
  {
   "cell_type": "code",
   "execution_count": 2,
   "id": "a7f530df-8e74-4d80-b540-f1ac35217ebb",
   "metadata": {},
   "outputs": [
    {
     "name": "stdout",
     "output_type": "stream",
     "text": [
      "Sheet name: lab09_data.csv\n"
     ]
    },
    {
     "data": {
      "application/vnd.jupyter.widget-view+json": {
       "model_id": "25dec99d6a8d4912bf57e4caa3507ea0",
       "version_major": 2,
       "version_minor": 0
      },
      "text/plain": [
       "VBox(children=(HBox(children=(Button(description='Undo', style=ButtonStyle()), Button(description='Redo', styl…"
      ]
     },
     "metadata": {},
     "output_type": "display_data"
    }
   ],
   "source": [
    "de1 = data_entry2.sheet(\"lab09_data\")"
   ]
  },
  {
   "cell_type": "markdown",
   "id": "f30f88cf-d7ef-4205-a2cc-7a63284e2444",
   "metadata": {},
   "source": []
  },
  {
   "cell_type": "markdown",
   "id": "1d2eaf0f-0f27-4181-a8e1-dcdf9d285f56",
   "metadata": {},
   "source": []
  },
  {
   "cell_type": "markdown",
   "id": "91d79863-1827-47e5-93cf-d6f89374e5b2",
   "metadata": {},
   "source": []
  },
  {
   "cell_type": "markdown",
   "id": "217ddc0b-a637-491b-85a9-e9afcfc9cb48",
   "metadata": {},
   "source": []
  },
  {
   "cell_type": "markdown",
   "id": "098eacee-f21b-4459-9c2c-b0fcbb601400",
   "metadata": {},
   "source": [
    "# Submit\n",
    "\n",
    "Steps for submission:\n",
    "\n",
    "1. Click: Run => Run_All_Cells\n",
    "2. Read through the notebook to ensure all the cells executed correctly and without error.\n",
    "3. File => Save_and_Export_Notebook_As->HTML\n",
    "4. Inspect your html file\n",
    "5. Upload the HTML document to the lab submission assignment on Canvas."
   ]
  },
  {
   "cell_type": "code",
   "execution_count": 3,
   "id": "ad3d8037-6574-49db-bce4-a1b9399afdab",
   "metadata": {},
   "outputs": [
    {
     "name": "stdout",
     "output_type": "stream",
     "text": [
      "Sheet: de1   File: lab09_data.csv\n"
     ]
    },
    {
     "data": {
      "text/html": [
       "<div>\n",
       "<style scoped>\n",
       "    .dataframe tbody tr th:only-of-type {\n",
       "        vertical-align: middle;\n",
       "    }\n",
       "\n",
       "    .dataframe tbody tr th {\n",
       "        vertical-align: top;\n",
       "    }\n",
       "\n",
       "    .dataframe thead th {\n",
       "        text-align: right;\n",
       "    }\n",
       "</style>\n",
       "<table border=\"1\" class=\"dataframe\">\n",
       "  <thead>\n",
       "    <tr style=\"text-align: right;\">\n",
       "      <th></th>\n",
       "      <th>round</th>\n",
       "      <th>x</th>\n",
       "      <th>u_x</th>\n",
       "      <th>N</th>\n",
       "      <th>t</th>\n",
       "      <th>u_t</th>\n",
       "    </tr>\n",
       "  </thead>\n",
       "  <tbody>\n",
       "    <tr>\n",
       "      <th>Units</th>\n",
       "      <td></td>\n",
       "      <td>units</td>\n",
       "      <td>units</td>\n",
       "      <td></td>\n",
       "      <td>units</td>\n",
       "      <td>units</td>\n",
       "    </tr>\n",
       "    <tr>\n",
       "      <th>0</th>\n",
       "      <td></td>\n",
       "      <td></td>\n",
       "      <td></td>\n",
       "      <td></td>\n",
       "      <td></td>\n",
       "      <td></td>\n",
       "    </tr>\n",
       "    <tr>\n",
       "      <th>1</th>\n",
       "      <td></td>\n",
       "      <td></td>\n",
       "      <td></td>\n",
       "      <td></td>\n",
       "      <td></td>\n",
       "      <td></td>\n",
       "    </tr>\n",
       "  </tbody>\n",
       "</table>\n",
       "</div>"
      ],
      "text/plain": [
       "      round      x    u_x N      t    u_t\n",
       "Units        units  units    units  units\n",
       "0                                        \n",
       "1                                        "
      ]
     },
     "metadata": {},
     "output_type": "display_data"
    }
   ],
   "source": [
    "display_sheets()"
   ]
  }
 ],
 "metadata": {
  "kernelspec": {
   "display_name": "Python 3 (ipykernel)",
   "language": "python",
   "name": "python3"
  },
  "language_info": {
   "codemirror_mode": {
    "name": "ipython",
    "version": 3
   },
   "file_extension": ".py",
   "mimetype": "text/x-python",
   "name": "python",
   "nbconvert_exporter": "python",
   "pygments_lexer": "ipython3",
   "version": "3.10.10"
  },
  "widgets": {
   "application/vnd.jupyter.widget-state+json": {
    "state": {
     "03d4494c3d5547f4a4a8026ca24815f5": {
      "model_module": "@jupyter-widgets/base",
      "model_module_version": "2.0.0",
      "model_name": "LayoutModel",
      "state": {}
     },
     "25dec99d6a8d4912bf57e4caa3507ea0": {
      "model_module": "@jupyter-widgets/controls",
      "model_module_version": "2.0.0",
      "model_name": "VBoxModel",
      "state": {
       "children": [
        "IPY_MODEL_2c0e8681ff8347238e4f5c5b73ff993d",
        "IPY_MODEL_d30909d0f21b470bb6743746985d76e1",
        "IPY_MODEL_f1e11b8790d94b32b682fb62fe3771b4"
       ],
       "layout": "IPY_MODEL_97e0e6b8aaf445d396018a946fe2179c"
      }
     },
     "26d98e90b11e45c3bc05f955ba31c86c": {
      "model_module": "@jupyter-widgets/base",
      "model_module_version": "2.0.0",
      "model_name": "LayoutModel",
      "state": {}
     },
     "29c7ec84b26f44d9a51afe5b6ca275d3": {
      "model_module": "@jupyter-widgets/base",
      "model_module_version": "2.0.0",
      "model_name": "LayoutModel",
      "state": {}
     },
     "2b65cadf58ab46f2a8e0ec99e88ddb9c": {
      "model_module": "@jupyter-widgets/controls",
      "model_module_version": "2.0.0",
      "model_name": "ButtonStyleModel",
      "state": {
       "font_family": null,
       "font_size": null,
       "font_style": null,
       "font_variant": null,
       "font_weight": null,
       "text_color": null,
       "text_decoration": null
      }
     },
     "2c0e8681ff8347238e4f5c5b73ff993d": {
      "model_module": "@jupyter-widgets/controls",
      "model_module_version": "2.0.0",
      "model_name": "HBoxModel",
      "state": {
       "children": [
        "IPY_MODEL_6e9283ef77c54e05a70478e6b4cf5ef3",
        "IPY_MODEL_b64f4a863a6349a4a71f85c7391c354f",
        "IPY_MODEL_f27fb95d7e114a14bd5a86961cbe0852",
        "IPY_MODEL_47723587aee04458b7566ed9646795e8",
        "IPY_MODEL_f689a430aad1407b9308949aef884376"
       ],
       "layout": "IPY_MODEL_352551c86da74656b94a081ce6d93802"
      }
     },
     "352551c86da74656b94a081ce6d93802": {
      "model_module": "@jupyter-widgets/base",
      "model_module_version": "2.0.0",
      "model_name": "LayoutModel",
      "state": {}
     },
     "3c9ccdd6d4f44514bb8725c687a44fdb": {
      "model_module": "@jupyter-widgets/controls",
      "model_module_version": "2.0.0",
      "model_name": "ButtonStyleModel",
      "state": {
       "font_family": null,
       "font_size": null,
       "font_style": null,
       "font_variant": null,
       "font_weight": null,
       "text_color": null,
       "text_decoration": null
      }
     },
     "3cd0c3227fa84ee29d324b8781dccaad": {
      "model_module": "@jupyter-widgets/base",
      "model_module_version": "2.0.0",
      "model_name": "LayoutModel",
      "state": {}
     },
     "4669dd67bde94d68bb95bb3fda001f60": {
      "model_module": "@jupyter-widgets/base",
      "model_module_version": "2.0.0",
      "model_name": "LayoutModel",
      "state": {}
     },
     "47723587aee04458b7566ed9646795e8": {
      "model_module": "@jupyter-widgets/controls",
      "model_module_version": "2.0.0",
      "model_name": "ButtonModel",
      "state": {
       "description": "Add Column",
       "layout": "IPY_MODEL_e735e50647814f608676ed11a2ef2677",
       "style": "IPY_MODEL_2b65cadf58ab46f2a8e0ec99e88ddb9c",
       "tooltip": null
      }
     },
     "64f5a80f46e440bab33a48ef315b041a": {
      "model_module": "@jupyter-widgets/controls",
      "model_module_version": "2.0.0",
      "model_name": "ButtonStyleModel",
      "state": {
       "font_family": null,
       "font_size": null,
       "font_style": null,
       "font_variant": null,
       "font_weight": null,
       "text_color": null,
       "text_decoration": null
      }
     },
     "6e9283ef77c54e05a70478e6b4cf5ef3": {
      "model_module": "@jupyter-widgets/controls",
      "model_module_version": "2.0.0",
      "model_name": "ButtonModel",
      "state": {
       "description": "Undo",
       "layout": "IPY_MODEL_26d98e90b11e45c3bc05f955ba31c86c",
       "style": "IPY_MODEL_e3ea975c03b44e2899aada5811bb688d",
       "tooltip": null
      }
     },
     "775504d226734f35a739b076e1547078": {
      "model_module": "ipydatagrid",
      "model_module_version": "^1.1.16",
      "model_name": "VegaExprModel",
      "state": {
       "_model_module_version": "^1.1.16",
       "_view_module": "ipydatagrid",
       "_view_module_version": "^1.1.16",
       "_view_name": "VegaExprView"
      }
     },
     "922775b3e3934dacb815615058832ff6": {
      "model_module": "@jupyter-widgets/controls",
      "model_module_version": "2.0.0",
      "model_name": "ButtonStyleModel",
      "state": {
       "font_family": null,
       "font_size": null,
       "font_style": null,
       "font_variant": null,
       "font_weight": null,
       "text_color": null,
       "text_decoration": null
      }
     },
     "97e0e6b8aaf445d396018a946fe2179c": {
      "model_module": "@jupyter-widgets/base",
      "model_module_version": "2.0.0",
      "model_name": "LayoutModel",
      "state": {}
     },
     "af63585a01514d67972bc09fa91bc4cb": {
      "model_module": "@jupyter-widgets/base",
      "model_module_version": "2.0.0",
      "model_name": "LayoutModel",
      "state": {}
     },
     "b163682c4efa43f9a5cb6603bc7ba510": {
      "model_module": "ipydatagrid",
      "model_module_version": "^1.1.16",
      "model_name": "VegaExprModel",
      "state": {
       "_model_module_version": "^1.1.16",
       "_view_module": "ipydatagrid",
       "_view_module_version": "^1.1.16",
       "_view_name": "VegaExprView"
      }
     },
     "b64f4a863a6349a4a71f85c7391c354f": {
      "model_module": "@jupyter-widgets/controls",
      "model_module_version": "2.0.0",
      "model_name": "ButtonModel",
      "state": {
       "description": "Redo",
       "layout": "IPY_MODEL_03d4494c3d5547f4a4a8026ca24815f5",
       "style": "IPY_MODEL_922775b3e3934dacb815615058832ff6",
       "tooltip": null
      }
     },
     "d18aafcba7bb4e7b835df7b29353219f": {
      "model_module": "ipydatagrid",
      "model_module_version": "^1.1.16",
      "model_name": "TextRendererModel",
      "state": {
       "_model_module_version": "^1.1.16",
       "_view_module_version": "^1.1.16",
       "background_color": "IPY_MODEL_775504d226734f35a739b076e1547078",
       "text_color": "IPY_MODEL_b163682c4efa43f9a5cb6603bc7ba510"
      }
     },
     "d30909d0f21b470bb6743746985d76e1": {
      "model_module": "ipydatagrid",
      "model_module_version": "^1.1.16",
      "model_name": "DataGridModel",
      "state": {
       "_data": {
        "data": [
         {
          "0": "RoundNumber",
          "1": "x",
          "2": "u_x",
          "3": "N",
          "4": "t",
          "5": "u_t",
          "ipydguuid": 0,
          "key": "  Variable:"
         },
         {
          "0": "",
          "1": "units",
          "2": "units",
          "3": "",
          "4": "units",
          "5": "units",
          "ipydguuid": 1,
          "key": " Units:"
         },
         {
          "0": "1",
          "1": "",
          "2": "",
          "3": "",
          "4": "",
          "5": "",
          "ipydguuid": 2,
          "key": 0
         },
         {
          "0": "1",
          "1": "",
          "2": "",
          "3": "",
          "4": "",
          "5": "",
          "ipydguuid": 3,
          "key": 1
         }
        ],
        "fields": [
         {
          "key": null
         },
         {
          "0": null
         },
         {
          "1": null
         },
         {
          "2": null
         },
         {
          "3": null
         },
         {
          "4": null
         },
         {
          "5": null
         },
         {
          "ipydguuid": null
         }
        ],
        "schema": {
         "fields": [
          {
           "name": "key",
           "type": "string"
          },
          {
           "name": 0,
           "type": "string"
          },
          {
           "name": 1,
           "type": "string"
          },
          {
           "name": 2,
           "type": "string"
          },
          {
           "name": 3,
           "type": "string"
          },
          {
           "name": 4,
           "type": "string"
          },
          {
           "name": 5,
           "type": "string"
          },
          {
           "name": "ipydguuid",
           "type": "integer"
          }
         ],
         "pandas_version": "1.4.0",
         "primaryKey": [
          "key",
          "ipydguuid"
         ],
         "primaryKeyUuid": "ipydguuid"
        }
       },
       "_model_module_version": "^1.1.16",
       "_model_name": "DataGridModel",
       "_view_module_version": "^1.1.16",
       "_visible_rows": [
        0,
        1,
        2,
        3
       ],
       "auto_fit_columns": false,
       "auto_fit_params": {
        "area": "all",
        "numCols": null,
        "padding": 30
       },
       "base_column_header_size": 20,
       "base_column_size": 64,
       "base_row_header_size": 64,
       "base_row_size": 20,
       "default_renderer": "IPY_MODEL_d18aafcba7bb4e7b835df7b29353219f",
       "editable": true,
       "header_visibility": "all",
       "layout": "IPY_MODEL_ec632b497e2749398d39207dd46409c9",
       "selection_mode": "cell"
      }
     },
     "e3ea975c03b44e2899aada5811bb688d": {
      "model_module": "@jupyter-widgets/controls",
      "model_module_version": "2.0.0",
      "model_name": "ButtonStyleModel",
      "state": {
       "font_family": null,
       "font_size": null,
       "font_style": null,
       "font_variant": null,
       "font_weight": null,
       "text_color": null,
       "text_decoration": null
      }
     },
     "e735e50647814f608676ed11a2ef2677": {
      "model_module": "@jupyter-widgets/base",
      "model_module_version": "2.0.0",
      "model_name": "LayoutModel",
      "state": {}
     },
     "ec632b497e2749398d39207dd46409c9": {
      "model_module": "@jupyter-widgets/base",
      "model_module_version": "2.0.0",
      "model_name": "LayoutModel",
      "state": {
       "height": "130px"
      }
     },
     "f1e11b8790d94b32b682fb62fe3771b4": {
      "model_module": "@jupyter-widgets/output",
      "model_module_version": "1.0.0",
      "model_name": "OutputModel",
      "state": {
       "layout": "IPY_MODEL_4669dd67bde94d68bb95bb3fda001f60",
       "outputs": [
        {
         "name": "stdout",
         "output_type": "stream",
         "text": "Data vectors need to be updated\n"
        }
       ]
      }
     },
     "f27fb95d7e114a14bd5a86961cbe0852": {
      "model_module": "@jupyter-widgets/controls",
      "model_module_version": "2.0.0",
      "model_name": "ButtonModel",
      "state": {
       "description": "Add Row",
       "layout": "IPY_MODEL_af63585a01514d67972bc09fa91bc4cb",
       "style": "IPY_MODEL_3c9ccdd6d4f44514bb8725c687a44fdb",
       "tooltip": null
      }
     },
     "f689a430aad1407b9308949aef884376": {
      "model_module": "@jupyter-widgets/controls",
      "model_module_version": "2.0.0",
      "model_name": "ButtonModel",
      "state": {
       "description": "Generate Vectors",
       "layout": "IPY_MODEL_3cd0c3227fa84ee29d324b8781dccaad",
       "style": "IPY_MODEL_64f5a80f46e440bab33a48ef315b041a",
       "tooltip": null
      }
     }
    },
    "version_major": 2,
    "version_minor": 0
   }
  }
 },
 "nbformat": 4,
 "nbformat_minor": 5
}
