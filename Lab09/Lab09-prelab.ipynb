{
 "cells": [
  {
   "cell_type": "markdown",
   "id": "9d295f05-aa2d-4c6a-9386-e37388c04c42",
   "metadata": {},
   "source": [
    "# Lab 09 Prelab - Exponentials and Uncertainty in Count Rates"
   ]
  },
  {
   "cell_type": "code",
   "execution_count": null,
   "id": "274541f9-025e-43ac-bb5e-34fb6bf97cfc",
   "metadata": {},
   "outputs": [],
   "source": [
    "%reset -f\n",
    "import data_entry2\n",
    "import numpy as np\n",
    "import matplotlib.pyplot as plt"
   ]
  },
  {
   "cell_type": "markdown",
   "id": "1269e27d-73b1-40f7-99ad-9bc5157e7180",
   "metadata": {},
   "source": [
    "Lab 09, radiation shielding, will use physical models that are exponential. The process of *Linearizing* exponential data allows us to continue to use our linear fitting techniques on data that were originally not linear. This prelab uses worked examples to teach you about the linearization process and subsequent analysis. Additionally, we will discuss how to quantify uncertainty in radiation count-rates.\n",
    "\n",
    "Some notes before we dive into the pre-lab proper:\n",
    "1. Most questions in this pre-lab ask you to explain why you can perform a certain step. The explanations do not need to be mathematically rigorous. What we want is a level of detail in your explanation so that a confused peer in the course could read it and understand the “why” part. For example, you might explain a step in an algebraic manipulation of a function as “the function looks like $y=mx+b$ and we know how to fit a graph to this function.”\n",
    "1. For the first two parts of the pre-lab, we omit uncertainties from the examples to focus attention on working with exponential data. However, in the lab you will be using data that includes uncertainties."
   ]
  },
  {
   "cell_type": "markdown",
   "id": "e157603e-f772-48e8-88c4-45a075c8a378",
   "metadata": {
    "tags": []
   },
   "source": [
    "## Part 1 - Exponentials"
   ]
  },
  {
   "cell_type": "markdown",
   "id": "bb5634ff-50dd-412e-ac26-7a67424fda66",
   "metadata": {},
   "source": [
    "The table and plot below display the population $P$ of yeast cells observed in a sample of grape juice being fermented into wine, measured over a time $t$. For simplicity, we have neglected the uncertainties in the data and rounded all times to the nearest minute."
   ]
  },
  {
   "cell_type": "code",
   "execution_count": null,
   "id": "46a9017d-ab68-43e7-8dc9-b58f21e1c71e",
   "metadata": {},
   "outputs": [],
   "source": [
    "# Run me to load the first example data set\n",
    "# Make sure to hit \"Generate Vectors\"!\n",
    "\n",
    "de = data_entry2.sheet(\"lab09_prelab_data1.csv\")"
   ]
  },
  {
   "cell_type": "code",
   "execution_count": null,
   "id": "58857cc5-bba7-4d55-bbe8-6c0523bb9dc4",
   "metadata": {},
   "outputs": [],
   "source": [
    "# Run me to plot the above data\n",
    "\n",
    "plt.plot(tVec, PVec, \"bo\", markersize=5)\n",
    "plt.title(\"Population of yeast cells in grape juice\")\n",
    "plt.xlabel(\"time (min)\")\n",
    "plt.ylabel(\"P\")\n",
    "plt.show()"
   ]
  },
  {
   "cell_type": "markdown",
   "id": "858fe9d1-c2ea-45a4-a6ce-0f714f0493ec",
   "metadata": {},
   "source": [
    "The data are rising with a steep upward curvature, rising extremely fast at later times $t$, so we suspect that $P$ may be rising EXPONENTIALLY with $t$. To check for an exponential dependence, $P(t) \\propto e^{at}$ (where $\\propto$ means \"proportional to\"), we plot a *semi-log* graph, in which the log of the population is plotted on the y-axis. In order to obtain the natural log of the population $P$, we use the `np.log()` function.\n",
    "\n",
    "A small aside; you might be used to denoting the natural logarithm (base-$e$ logarithm) as $\\ln$ in high school (and with $\\log$ denoting the base-10 logarithm). However, in physics and math and most computer languages, the standard notation is to use $\\log$ to denote the natural logarithm (and with the base-10 logarithm being denoted as $\\log_{10})$."
   ]
  },
  {
   "cell_type": "code",
   "execution_count": null,
   "id": "accdd9de-7188-4f16-9f3f-eacd1f8e900e",
   "metadata": {},
   "outputs": [],
   "source": [
    "# Run me to take the (natural) log of PVec\n",
    "\n",
    "logPVec = np.log(PVec)"
   ]
  },
  {
   "cell_type": "markdown",
   "id": "9d1ed117-4248-4ba9-8f82-a3007823d7b2",
   "metadata": {},
   "source": [
    "Plotting the semi-log graph, we then obtain:"
   ]
  },
  {
   "cell_type": "code",
   "execution_count": null,
   "id": "467c04cf-54d3-4563-89fb-176056e59ec5",
   "metadata": {},
   "outputs": [],
   "source": [
    "# Run me to make the semi-log (log[P] vs t) graph\n",
    "\n",
    "plt.plot(tVec, logPVec, \"bo\", markersize=5)\n",
    "plt.title(\"Population of yeast cells in grape juice, semi-log plot\")\n",
    "plt.xlabel(\"time (min)\")\n",
    "plt.ylabel(\"log(P)\")\n",
    "plt.show()"
   ]
  },
  {
   "cell_type": "markdown",
   "id": "21c1c82a-83ce-454b-ad7a-8f7c58f19847",
   "metadata": {},
   "source": [
    "The graph reveals that a plausibly linear relationship between $\\log(P)$ and $t$. It looks like the following general equation should be a good model for the data:\n",
    "\n",
    "$$\\log(P) = mt + b$$"
   ]
  },
  {
   "cell_type": "markdown",
   "id": "d1b1e060-43b0-4413-a113-93e5ee1414ff",
   "metadata": {},
   "source": [
    "### Your turn #1.1"
   ]
  },
  {
   "cell_type": "markdown",
   "id": "3bfdebb8-8ee9-4bd6-8343-d8dde116bf4f",
   "metadata": {},
   "source": [
    "Explain why we can write this equation as the model for the data."
   ]
  },
  {
   "cell_type": "markdown",
   "id": "7032bdc9-ae11-417e-90de-696bf8e9225a",
   "metadata": {},
   "source": []
  },
  {
   "cell_type": "markdown",
   "id": "84d03128-d4c4-475f-afa7-5d69bca8e9f1",
   "metadata": {
    "jp-MarkdownHeadingCollapsed": true,
    "tags": []
   },
   "source": [
    "##### Answer (Uncollapse to reveal)"
   ]
  },
  {
   "cell_type": "markdown",
   "id": "bfc1aed8-77a3-4185-975f-aba8b032787e",
   "metadata": {},
   "source": [
    "We can write this equation as the model for the data because the graph shows a linear relationship between $\\log(P)$ and $t$, with a nonzero intercept."
   ]
  },
  {
   "cell_type": "markdown",
   "id": "b5458df8-0a63-452b-9dbb-0e2b6fdaa041",
   "metadata": {},
   "source": [
    "### Your turn #1.2"
   ]
  },
  {
   "cell_type": "markdown",
   "id": "d9782f71-902a-4bc7-a74f-64b26befe090",
   "metadata": {},
   "source": [
    "Estimate the slope of the line by choosing two points from the graph and calculating it. "
   ]
  },
  {
   "cell_type": "markdown",
   "id": "32d79b9b-eee4-4819-9235-2b2c10db2809",
   "metadata": {},
   "source": []
  },
  {
   "cell_type": "markdown",
   "id": "33a1dab2-5ee8-4593-b1bc-8cfd1d1b46b6",
   "metadata": {
    "jp-MarkdownHeadingCollapsed": true,
    "tags": []
   },
   "source": [
    "##### Answer"
   ]
  },
  {
   "cell_type": "markdown",
   "id": "eb125067-fba0-4037-8110-d62a6d3ba8e7",
   "metadata": {},
   "source": [
    "Choosing the points of (2 min, 3.6) and (6 min, 8.0) by eyeballing the graph, we approximate the slope as:\n",
    "\n",
    "$$m = \\frac{8.0 - 3.6}{6\\text{ min} - 2\\text{ min}} = 1.1\\text{ min}^{-1}.$$"
   ]
  },
  {
   "cell_type": "markdown",
   "id": "abe38a33-00e4-4ae1-a12c-2cf43569bb1b",
   "metadata": {},
   "source": [
    "### Your turn #1.3"
   ]
  },
  {
   "cell_type": "markdown",
   "id": "6e8b11c2-052a-4e3c-930c-d8f690b82107",
   "metadata": {},
   "source": [
    "Explain why we assign the units of 1/minutes to the slope."
   ]
  },
  {
   "cell_type": "markdown",
   "id": "0d9648f9-9683-4d8c-88b0-9382d6ffcbe6",
   "metadata": {},
   "source": []
  },
  {
   "cell_type": "markdown",
   "id": "abb53552-c82d-430d-8e56-95a3a9a4397f",
   "metadata": {
    "jp-MarkdownHeadingCollapsed": true,
    "tags": []
   },
   "source": [
    "##### Answer"
   ]
  },
  {
   "cell_type": "markdown",
   "id": "516a9dfd-d642-4891-a97e-a42af276f97f",
   "metadata": {},
   "source": [
    "The units of the slope will be the units of the y-variable divided by the units of the x-variable (as slope is rise over run). Since $\\log(P)$ is dimensionless and the units of time in the data are minutes, the units of the slope come out to be inverse minutes."
   ]
  },
  {
   "cell_type": "markdown",
   "id": "49d6505f-165b-4ade-9b92-23c6e8a483cb",
   "metadata": {},
   "source": [
    "### Your turn #1.4"
   ]
  },
  {
   "cell_type": "markdown",
   "id": "e61b9579-74a5-42a3-bcaa-9f0332846ea7",
   "metadata": {},
   "source": [
    "The value of the intercept $b$ is approximately 1.4. Briefly explain how you would find this value."
   ]
  },
  {
   "cell_type": "markdown",
   "id": "6091e979-6daf-4634-bb9e-90c511260ae9",
   "metadata": {},
   "source": []
  },
  {
   "cell_type": "markdown",
   "id": "ce1dc875-7bb8-461e-980b-e5d8e6572064",
   "metadata": {
    "jp-MarkdownHeadingCollapsed": true,
    "tags": []
   },
   "source": [
    "##### Answer"
   ]
  },
  {
   "cell_type": "markdown",
   "id": "06758d91-ad07-40d7-962e-98fa087bdb8e",
   "metadata": {},
   "source": [
    "Knowing the slope is $m = 1.1\\text{ min}^{-1}$, we can substitute a known point into the equation $\\log(P) = mt + b$ to approximate what $b$ should be. As an example, using (6 min, 8.0) as an (approximate) point, we find:\n",
    "\n",
    "$$8.0 = 1.1 \\times 6 + b \\implies b = 8 - 6.6 = 1.4$$\n",
    " "
   ]
  },
  {
   "cell_type": "markdown",
   "id": "e22a891b-3ea2-4870-8785-6bf8a692a43f",
   "metadata": {},
   "source": [
    "### Connecting the Linear and Exponential Equations"
   ]
  },
  {
   "cell_type": "markdown",
   "id": "3f1d586f-7d0d-49ee-9bd9-03d2edaca14f",
   "metadata": {},
   "source": [
    "Now, let's connect our linear expression of $\\log(P) = mt + b$, with the exponential equation $P_0\\,e^{at}$.\n",
    "\n",
    "Some logarithmic and mathematical rules that may be of use are given below:\n",
    "\n",
    "- Rule 1 - Inverse properties: $\\log_a(a^x) = x$ and $a^{\\log_a(x)} = x$\n",
    "- Rule 2 - Product: $\\log_a(xy) = \\log_a(x) + \\log_a(y)$ and $e^{x+y} = e^x e^y$\n",
    "- Rule 3 - Quotient: $\\log_a(x/y) = \\log_a(x) - \\log_a(y)$ and $e^{x-y} = e^x/e^y$\n",
    "- Rule 4 - Power: $\\log_a(x^p) = p\\log_a(x)$\n",
    "- Rule 5 - Property of equalities: If you perform the same option on both sides of an equation, the sides remain equal to each other.    "
   ]
  },
  {
   "cell_type": "markdown",
   "id": "04766f75-7290-4063-bdf4-6a040eed8685",
   "metadata": {},
   "source": [
    "### Your turn #1.5"
   ]
  },
  {
   "cell_type": "markdown",
   "id": "e4670e2e-9185-4ef2-b6fc-23cd560a1600",
   "metadata": {},
   "source": [
    "For the following steps, indicate which rule was applied."
   ]
  },
  {
   "cell_type": "markdown",
   "id": "969e20b5-1788-4f15-b559-864509671f7b",
   "metadata": {},
   "source": [
    "*Start:* $\\log(P) = mt + b$"
   ]
  },
  {
   "cell_type": "markdown",
   "id": "89a62c4a-3343-4bd2-b540-774d0c1283f2",
   "metadata": {},
   "source": [
    "*Step 1:* $e^{\\log(P)} = e^{mt + b}$."
   ]
  },
  {
   "cell_type": "markdown",
   "id": "934aaeab-0fb8-4090-89cb-35e7359839c4",
   "metadata": {},
   "source": []
  },
  {
   "cell_type": "markdown",
   "id": "c371c64a-ad04-4b83-8872-1d58d3f2a94f",
   "metadata": {},
   "source": [
    "*Step 2:* $P = e^{mt + b}$"
   ]
  },
  {
   "cell_type": "markdown",
   "id": "c7913a6e-9613-4c47-a90f-965136cd7f0a",
   "metadata": {},
   "source": []
  },
  {
   "cell_type": "markdown",
   "id": "19a8798f-3c9c-4b26-a420-d9220d35ff28",
   "metadata": {},
   "source": [
    "*Step 3:* $P = e^b e^{mt}$"
   ]
  },
  {
   "cell_type": "markdown",
   "id": "9d3cb36d-b2fb-477c-808a-ed10d86480ef",
   "metadata": {},
   "source": []
  },
  {
   "cell_type": "markdown",
   "id": "4ec2844d-e678-448f-b485-8280427dd111",
   "metadata": {
    "jp-MarkdownHeadingCollapsed": true,
    "tags": []
   },
   "source": [
    "##### Answer"
   ]
  },
  {
   "cell_type": "markdown",
   "id": "1c9d5a38-77d9-495d-a86b-1afccd2eb1e1",
   "metadata": {},
   "source": [
    "1. Property of equalities\n",
    "2. Inverse property\n",
    "3. Product Rule"
   ]
  },
  {
   "cell_type": "markdown",
   "id": "cd214aac-a00d-4697-8624-523c1c6b06bf",
   "metadata": {},
   "source": [
    "##### \n",
    "We have two expressions for $P$: $P = P_0 e^{at}$ as well as $P=e^b e^{mt}$. We find that the slope $m$ is the coefficient of $t$ inside the exponential: $m = a$ and the prefactor $P_0$ is the exponential of the intercept: $P_0 = e^b$."
   ]
  },
  {
   "cell_type": "markdown",
   "id": "44adad92-926c-4c79-b489-3ab6a083b4ab",
   "metadata": {},
   "source": [
    "### Your turn #1.6"
   ]
  },
  {
   "cell_type": "markdown",
   "id": "aa81f4e0-71a1-4fa0-8675-d7c3707f80ad",
   "metadata": {},
   "source": [
    "If we substitute in the values for $m$ and $b$, the model becomes:\n",
    "\n",
    "$$P = 4.0e^{1.1 t}.$$\n",
    "\n",
    "This is called exponential behavior (which is of the form $e^{t}$ and differs from a power law, which would be of the form $t^\\alpha$). Explain how the coefficient 4.0 in front of the exponential was determined."
   ]
  },
  {
   "cell_type": "markdown",
   "id": "d1ca08b1-8365-426b-966b-4cedc13e7720",
   "metadata": {},
   "source": []
  },
  {
   "cell_type": "markdown",
   "id": "480af818-83b5-42ae-a5f0-9bcd354a5ba1",
   "metadata": {
    "jp-MarkdownHeadingCollapsed": true,
    "tags": []
   },
   "source": [
    "##### Answer"
   ]
  },
  {
   "cell_type": "markdown",
   "id": "cf0b0199-14de-47ae-8737-1db4e7284a89",
   "metadata": {},
   "source": [
    "The coefficient is equal to $e^b$. We found that $b = 1.4$, and we therefore can calculate $e^{1.4} \\sim 4.0$."
   ]
  },
  {
   "cell_type": "markdown",
   "id": "a800092d-339c-4fe3-9216-9d62d7531489",
   "metadata": {},
   "source": [
    "### Summary"
   ]
  },
  {
   "cell_type": "markdown",
   "id": "c4868abf-0e2a-44af-8893-d06dcd754d0a",
   "metadata": {},
   "source": [
    "To summarize, data that follow a straight line on a *semi-log* plot (logarithmic y-axis, linear x-axis) indicate that an exponential is the correct model, and the value of the slope gives the coefficient in the argument of the exponent. \n",
    "\n",
    "A customary way to write such exponentials is:\n",
    "\n",
    "$$P(t) = P(0)e^{t/\\tau}$$\n",
    "\n",
    "so that the parameter $\\tau$ has the same units as the variable $t$. In this example, the units are minutes and $\\tau$ is referred to as a time constant (like we saw in the RC lab). For this particular set of data,\n",
    "\n",
    "$$\\tau = 0.9\\text{ minutes}.$$\n",
    "\n",
    "\n",
    "In python, we can obtain the logarithm of a vector by using the `np.log()` function on the original vector. In conclusion, we remark on the power of linearization; it allows us to see if a dataset has exponential behavior, and allows us to determine the coefficient in the exponent via determining the slope of the linearized dataset (something we know how to do); figuring out the coefficient just by looking at the original data is less obvious."
   ]
  },
  {
   "cell_type": "markdown",
   "id": "5b5c2b3f-6b90-4f6d-a194-c430c2b10d4d",
   "metadata": {},
   "source": [
    "### Your turn #1.7"
   ]
  },
  {
   "cell_type": "markdown",
   "id": "7951ce45-e2e4-4927-b9ca-6986f956997e",
   "metadata": {},
   "source": [
    "Explain the relationship between the time constant and the slope of the line in the semi-log plot."
   ]
  },
  {
   "cell_type": "markdown",
   "id": "2a945ec8-8131-49e9-94d3-44b39a8335c6",
   "metadata": {},
   "source": []
  },
  {
   "cell_type": "markdown",
   "id": "3f43fc49-dc48-480b-8ecf-1533b60e57ce",
   "metadata": {
    "jp-MarkdownHeadingCollapsed": true,
    "tags": []
   },
   "source": [
    "##### Answer"
   ]
  },
  {
   "cell_type": "markdown",
   "id": "0f4fab8f-f190-408e-9fcb-a31766d8d64b",
   "metadata": {},
   "source": [
    "The time constant is the inverse of the slope of the semi-log plot."
   ]
  },
  {
   "cell_type": "markdown",
   "id": "6632ca76-8c22-48c8-8c3a-4f836a3edc31",
   "metadata": {
    "tags": []
   },
   "source": [
    "## Part 2 - Uncertainties in radiation count-rates"
   ]
  },
  {
   "cell_type": "markdown",
   "id": "fe158772-88cf-4811-9d0c-be336b22733a",
   "metadata": {},
   "source": [
    "In this lab we will be using a Geiger counter to detect radiation from a radioactive source. Specifically, we will be using an Iron 55 source, which low-energy gamma rays when it decays. The Geiger counter detects ionizing radiation, including the low-energy gamma rays from this decay. Each particle of ionization radiation that interacts with the Geiger counter will produce a “count”. There are many factors that influence how many counts will be recorded by the Geiger counter, including how long you count for, how active the source is, how far apart the source and counter are, and how much shielding is in between source and counter.\n",
    "\n",
    "The count-rate, $R$, is the quantity that represents the rate at which the counts are being measured,\n",
    "\n",
    "$$R = N/t$$\n",
    "\n",
    "where $t$ is the amount of time for which you counted and $N$ the number of counts observed.\n",
    "\n",
    "Radioactive decay is a random process, so as with the pendulum timing measurements, there will be variability when you run multiple trials. The randomness in this case is well-described by counting statistics (specifically by the Poisson distribution). These counting statistics tell us that the uncertainty in the number of counts N is given by:\n",
    "\n",
    "$$u\\_N = \\sqrt{N}.$$\n",
    "\n",
    "This means that if you make repeated measurements of $N$ over the same time interval $T$, but keep the other variables the same, that these measurements will follow a Gaussian distribution and have a standard deviation of $\\sqrt{N}$. \n",
    "\n",
    "Now, let's turn our attention to calculating the uncertainty in the count-rate $R$. We can write the relative uncertainty for $R$ as:\n",
    "\n",
    "$$\\frac{u\\_R}{R} = \\sqrt{\\left(\\frac{u\\_N}{N}\\right)^2 + \\left(\\frac{u\\_t}{t}\\right)^2}. \\quad (1)$$"
   ]
  },
  {
   "cell_type": "markdown",
   "id": "d2e9b149-b188-4eb4-bdca-695554a11ccc",
   "metadata": {
    "tags": []
   },
   "source": [
    "### Your turn #2.1"
   ]
  },
  {
   "cell_type": "markdown",
   "id": "6f751de8-2af9-4f41-83b1-9df794c8d512",
   "metadata": {},
   "source": [
    "Revisit the <a href = \"https://docs.google.com/document/d/e/2PACX-1vTIsUtk7j6RnqhzD3hqYvxvvBEp20Ya3mCCQTi4ypSbqFB3CdKdIsDCitk541WsFADbQ5Feh0MsUKBz/pub\" target = \"_blank\">Overview of Uncertainty Propagation</a> document. Which expression for uncertainty propagation was used here?"
   ]
  },
  {
   "cell_type": "markdown",
   "id": "b306e41d-c2f0-4e9f-9e26-9100b4261d06",
   "metadata": {},
   "source": []
  },
  {
   "cell_type": "markdown",
   "id": "80fb17a6-32fd-4806-a82f-289b910e171b",
   "metadata": {
    "jp-MarkdownHeadingCollapsed": true,
    "tags": []
   },
   "source": [
    "##### Answer"
   ]
  },
  {
   "cell_type": "markdown",
   "id": "fcc2caf2-3e11-4525-bfc0-dc3a6f6b89e7",
   "metadata": {},
   "source": [
    "We used the expression for propogating the uncertainty when we multiply/divide two quantities. If $z = x/y$, then:\n",
    "\n",
    "$$\\frac{u\\_z}{z} = \\sqrt{\\left(\\frac{u\\_x}{x}\\right)^2 + \\left(\\frac{u\\_y}{y}\\right)^2}$$\n",
    "\n",
    "i.e. we add the relative uncertainties in quadrature."
   ]
  },
  {
   "cell_type": "markdown",
   "id": "09b838c5-7f90-46d9-abb0-16f5ef044f31",
   "metadata": {},
   "source": [
    "### Your turn #2.2"
   ]
  },
  {
   "cell_type": "markdown",
   "id": "a76535f0-057c-4862-8f4c-c08c8ef4f639",
   "metadata": {},
   "source": [
    "Using our expression for $u\\_N$ from the last question ($u\\_N/N = \\sqrt{N}/N = 1/\\sqrt{N}$), we can rewrite the expression above as:\n",
    "\n",
    "$$\\frac{u\\_R}{R} = \\sqrt{\\left(\\frac{1}{\\sqrt{N}}\\right)^2 + \\left(\\frac{u\\_t}{t}\\right)^2}. \\quad (2)$$\n",
    "$$\\frac{u\\_R}{R} = \\sqrt{\\frac{1}{N} + \\left(\\frac{u\\_t}{t}\\right)^2}. \\quad (3)$$\n",
    "\n",
    "Show how you get from equation (1) to equation (3)."
   ]
  },
  {
   "cell_type": "markdown",
   "id": "481c83ae-b283-4bfe-b757-84c86131bff3",
   "metadata": {},
   "source": []
  },
  {
   "cell_type": "markdown",
   "id": "cc679396-9f2d-4c63-ae7a-d12fc6796845",
   "metadata": {
    "jp-MarkdownHeadingCollapsed": true,
    "tags": []
   },
   "source": [
    "##### Answer"
   ]
  },
  {
   "cell_type": "markdown",
   "id": "43b33d10-ea95-4a78-8119-d0c5f0ecd35c",
   "metadata": {},
   "source": [
    "Going from (1) to (2), we use that $u\\_N/N = \\sqrt{N}/N = 1/\\sqrt{N}$. Going from (2) to (3), we use that $(1/\\sqrt{N})^2 = 1/N$."
   ]
  },
  {
   "cell_type": "markdown",
   "id": "504ba9a2-c94d-4be0-8ac4-eb420e2bc76e",
   "metadata": {},
   "source": [
    "### Focusing on the counting statistics uncertainty"
   ]
  },
  {
   "cell_type": "markdown",
   "id": "e690a8a0-4a7c-41e2-9c3d-a3c34d4382d4",
   "metadata": {},
   "source": [
    "In a later part of the prelab we will look at the uncertainty in time, but for now let us focus our attention only on the uncertainty due to counting statistics. To do this we will use a simplified version of Equation 3, without the uncertainty in time,\n",
    "\n",
    "$$\\frac{u\\_R}{R} = \\frac{1}{\\sqrt{N}}. \\quad (4)$$\n",
    "\n",
    "Let's use this to look at how counting for a longer period of time will affect the uncertainty in our count rate."
   ]
  },
  {
   "cell_type": "markdown",
   "id": "9e132b9f-ce72-4918-b762-6ea2181de5de",
   "metadata": {},
   "source": [
    "### Example 2.1"
   ]
  },
  {
   "cell_type": "markdown",
   "id": "1b93c255-5090-4584-8c8e-291f2b805c96",
   "metadata": {},
   "source": [
    "You perform a counting experiment and measure $N = 400$ counts during a 49.98s time interval. We will investigate how to determine the timing uncertainty during the lab."
   ]
  },
  {
   "cell_type": "markdown",
   "id": "fcac3142-3848-48ec-b263-97c9586c36fe",
   "metadata": {},
   "source": [
    "### Your turn #2.3"
   ]
  },
  {
   "cell_type": "markdown",
   "id": "075716e2-ae49-406d-b96c-c3f2ec8dcaaf",
   "metadata": {},
   "source": [
    "Calculate the relative uncertainties for this measurement: $u\\_N/N$, and $u\\_R/R$."
   ]
  },
  {
   "cell_type": "markdown",
   "id": "d0547769-f4e3-4bd8-bab4-59c813ded7ad",
   "metadata": {},
   "source": []
  },
  {
   "cell_type": "markdown",
   "id": "4f146a8b-572d-4dce-be52-977cace2df65",
   "metadata": {
    "jp-MarkdownHeadingCollapsed": true,
    "tags": []
   },
   "source": [
    "##### Answer"
   ]
  },
  {
   "cell_type": "markdown",
   "id": "12b27060-571b-43f9-a611-05462f646b65",
   "metadata": {},
   "source": [
    "$u\\_N/N = 1/\\sqrt{N} = 1/\\sqrt{400} = 1/20 = 0.05$ and $u\\_R/R = u\\_N/N = 0.05$."
   ]
  },
  {
   "cell_type": "markdown",
   "id": "4a2bc587-2d37-4818-9a01-48d76b757e0b",
   "metadata": {},
   "source": [
    "### Your turn #2.4"
   ]
  },
  {
   "cell_type": "markdown",
   "id": "64a209c7-44f9-43d0-bd7b-2782f54eea1b",
   "metadata": {},
   "source": [
    "Show that $R = 8.00 \\pm 0.40$ counts/second (after we apply our regular 2 sig figs for calculated uncertainties rule)."
   ]
  },
  {
   "cell_type": "markdown",
   "id": "35a82aba-a93d-4785-b141-89dc34aea809",
   "metadata": {},
   "source": []
  },
  {
   "cell_type": "markdown",
   "id": "4f73214c-c736-4257-8241-21db99e0a887",
   "metadata": {
    "jp-MarkdownHeadingCollapsed": true,
    "tags": []
   },
   "source": [
    "##### Answer"
   ]
  },
  {
   "cell_type": "markdown",
   "id": "5516c241-151f-41a5-abc3-d74589278f91",
   "metadata": {},
   "source": [
    "$R = N/t = 400/49.98 = 8.0032$ counts/second, and we know that $u\\_R/R = 0.05$ so $u\\_R = 0.05 \\times R \\approx 0.40$. Therefore by the 2 sig fig reporting rule we have $R = 8.00 \\pm 0.40$ counts/second. "
   ]
  },
  {
   "cell_type": "markdown",
   "id": "d2e90b4b-f86f-4c96-a54b-573de2c8d0fd",
   "metadata": {},
   "source": [
    "### Example 2.2"
   ]
  },
  {
   "cell_type": "markdown",
   "id": "fb7c335f-aa48-4c20-89df-6555e4004fd8",
   "metadata": {},
   "source": [
    "You decide that you can reduce the uncertainty in your count-rate by counting for longer and decide to count for 4 times as long. You measure $N = 1602$ counts in a 200.16s time interval. "
   ]
  },
  {
   "cell_type": "markdown",
   "id": "0e96c3f4-0450-421f-a310-7420ccb6091b",
   "metadata": {},
   "source": [
    "### Your turn #2.5"
   ]
  },
  {
   "cell_type": "markdown",
   "id": "19cafaca-fc35-4030-b841-d803a24484ed",
   "metadata": {},
   "source": [
    "Again, calculate the relative uncertainties for this measurement: $u\\_N/N$, and $u\\_R/R$."
   ]
  },
  {
   "cell_type": "markdown",
   "id": "b82e28ab-567c-41c8-8d8e-4fdb311ea356",
   "metadata": {},
   "source": []
  },
  {
   "cell_type": "markdown",
   "id": "e84aee6c-360a-459a-8aa3-999db97fb177",
   "metadata": {
    "jp-MarkdownHeadingCollapsed": true,
    "tags": []
   },
   "source": [
    "##### Answer"
   ]
  },
  {
   "cell_type": "markdown",
   "id": "986eb141-6536-41bc-8f14-6f144c3224b1",
   "metadata": {},
   "source": [
    "$u\\_N/N = 1/\\sqrt{N} = 1/\\sqrt{1602} \\approx 0.025$ and $u\\_R/R = u\\_N/N = 0.025$."
   ]
  },
  {
   "cell_type": "markdown",
   "id": "df051955-0b43-4c00-9baa-6741397e1bb7",
   "metadata": {},
   "source": [
    "### Your turn #2.6"
   ]
  },
  {
   "cell_type": "markdown",
   "id": "e7181a6b-0251-44b3-b265-4fbf30dfa78e",
   "metadata": {},
   "source": [
    "Show that $R = 8.00 \\pm 0.20$ counts/second (after we apply our regular 2 sig figs for calculated uncertainties rule)."
   ]
  },
  {
   "cell_type": "markdown",
   "id": "31d8bfb1-2a1b-4416-a12c-034628a775a2",
   "metadata": {},
   "source": []
  },
  {
   "cell_type": "markdown",
   "id": "aaab0e8f-59a4-4270-97fb-815ed59af7d9",
   "metadata": {
    "jp-MarkdownHeadingCollapsed": true,
    "tags": []
   },
   "source": [
    "##### Answer"
   ]
  },
  {
   "cell_type": "markdown",
   "id": "65bee7c7-f2e6-4629-a041-5554103855e6",
   "metadata": {},
   "source": [
    "$R = N/t = 1602/200.16 = 8.0036$ counts/second, and we know that $u\\_R/R = 0.025$ so $u\\_R = 0.025 \\times R \\approx 0.20$. Therefore by the 2 sig fig reporting rule we have $R = 8.00 \\pm 0.20$ counts/second. "
   ]
  },
  {
   "cell_type": "markdown",
   "id": "9f437c98-75f6-4760-a0e9-1e954a0d955e",
   "metadata": {},
   "source": [
    "### Your turn #2.7"
   ]
  },
  {
   "cell_type": "markdown",
   "id": "30bd8ea0-8672-49f2-b056-fa68979d1045",
   "metadata": {},
   "source": [
    "Use the relative uncertainty $u\\_N/N$ to explain how this happened."
   ]
  },
  {
   "cell_type": "markdown",
   "id": "06a1955b-fb88-4292-b88b-10ad75bdf76d",
   "metadata": {},
   "source": []
  },
  {
   "cell_type": "markdown",
   "id": "b76df428-662e-4335-af82-480d965f436d",
   "metadata": {
    "jp-MarkdownHeadingCollapsed": true,
    "tags": []
   },
   "source": [
    "##### Answer"
   ]
  },
  {
   "cell_type": "markdown",
   "id": "92140649-dc87-4f03-866c-635a52d22435",
   "metadata": {},
   "source": [
    "Since $N$ increased by a factor of 4, $u\\_N/N = 1/\\sqrt{N}$ decreased by a factor of $1/\\sqrt{4} = 1/2$, hence the uncertainty in the count rate is half of what it was in the first example."
   ]
  },
  {
   "cell_type": "markdown",
   "id": "15b6ad5f-6503-4fd6-9543-38f3edbda596",
   "metadata": {
    "tags": []
   },
   "source": [
    "## Part 3 - Setting up analysis code for the lab"
   ]
  },
  {
   "cell_type": "markdown",
   "id": "b18d531c-146d-4e0a-86ee-7c30679b9cee",
   "metadata": {},
   "source": [
    "In the lab, we will be analyzing the radiation count-rate $R$ as a function of the thickness of shielding $x$. You have two options for doing the analysis this week.\n",
    "- Option 1: Manual adjustment of fitting parameter to minimize chi-squared. This is a bit quicker to set up, but will take more effort during the lab to iteratively adjust parameters to find the best fit.\n",
    "- Option 2: The two-parameter analytic solution to minimize chi-squared. This will be much quicker in the lab if you get it set up ahead of time. \n",
    "\n",
    "Below, we have a mock dataset for which we will demonstrate the process of linearization - you'll need this for either approach.\n",
    "\n",
    "**These data represent how the radiation count rate, $N/t$, changes as a function of the thickness of shielding, $x$, placed between the radiation source and the radiation detector.**"
   ]
  },
  {
   "cell_type": "code",
   "execution_count": null,
   "id": "3947a1cd-2daf-4e5f-8d4a-66bdb5aa8a46",
   "metadata": {},
   "outputs": [],
   "source": [
    "# Run me to load the second example data set\n",
    "# Make sure to hit \"Generate Vectors\"!\n",
    "\n",
    "de2 = data_entry2.sheet(\"lab09_prelab_data2.csv\")"
   ]
  },
  {
   "cell_type": "markdown",
   "id": "ae1978d4-a4b2-4715-ac48-1bea6b74b80d",
   "metadata": {},
   "source": [
    "The uncertainty $u\\_N$ can be calculated by taking the square root of the $N$-vector:"
   ]
  },
  {
   "cell_type": "code",
   "execution_count": null,
   "id": "edd7080c-32f2-435b-9875-19ed5bb30ffd",
   "metadata": {},
   "outputs": [],
   "source": [
    "# Run me to calculate the u\\_N vector\n",
    "\n",
    "u_NVec = np.sqrt(NVec)"
   ]
  },
  {
   "cell_type": "markdown",
   "id": "3098c71e-acb9-4412-b4a4-a641fe062d98",
   "metadata": {},
   "source": [
    "Next, we want to calculate the count rate from the data. We recall that $R = N/t$, so we can calculate the count rate vector as:"
   ]
  },
  {
   "cell_type": "code",
   "execution_count": null,
   "id": "3c0b9bf2-f01e-4c65-aca4-1091c0575aab",
   "metadata": {},
   "outputs": [],
   "source": [
    "# Run me to calculate the R = N/t vector\n",
    "\n",
    "RateVec = NVec/tVec"
   ]
  },
  {
   "cell_type": "markdown",
   "id": "08256c53-59b1-47c3-ac9e-5efd079604f4",
   "metadata": {},
   "source": [
    "Next, rearranging equation (3) from the earlier part in the pre-lab, we can obtain the uncertainty in the count rates:\n",
    "\n",
    "$$u\\_R = R\\sqrt{\\frac{1}{N} + \\left(\\frac{u\\_t}{t}\\right)^2}.$$\n",
    "\n",
    "So in python, this becomes:"
   ]
  },
  {
   "cell_type": "code",
   "execution_count": null,
   "id": "124cf866-5e2c-42e7-8282-0aef153974e6",
   "metadata": {},
   "outputs": [],
   "source": [
    "# Run me to calculate the u\\_R vector\n",
    "\n",
    "u_RateVec = RateVec * np.sqrt(1/NVec + (u_tVec/tVec)**2)"
   ]
  },
  {
   "cell_type": "markdown",
   "id": "5054e64a-1295-43cf-a6c2-253a4698e274",
   "metadata": {},
   "source": [
    "Our model for the count-rate will take the form:\n",
    "\n",
    "$$R(x) = R_0\\exp(-\\mu x)$$\n",
    "\n",
    "where $R_0 = R(0)$ is the no-shielding count-rate, and $\\mu$ is the attenuation parameter. In order to proceed with fitting for the count-rate, we will want to linearize the data; in order to do so, we take the natural logarithm of the count-rate. Doing so, we obtain:\n",
    "\n",
    "$$\\log(R(x)) = \\log(R_0\\exp(-\\mu x)) = \\log(R_0) + \\log(\\exp(-\\mu x)) = \\log(R_0) - \\mu x = b+ mx$$\n",
    "\n",
    "where in the last equality we have $m = -\\mu$ as the slope of the linearized model and $\\log(R_0) = b$ as the intercept.\n",
    "\n",
    "To fit this model, we will want to take the natural logarithm of the count rate data. Doing so in python, we have:"
   ]
  },
  {
   "cell_type": "code",
   "execution_count": null,
   "id": "b191903b-f41a-46d6-8e50-2f0a92a5fef2",
   "metadata": {},
   "outputs": [],
   "source": [
    "# Run me to calculate the natural logarithm of the count rate data\n",
    "\n",
    "logRateVec = np.log(RateVec)"
   ]
  },
  {
   "cell_type": "markdown",
   "id": "1b340801-65f0-4115-b8e6-1477fc43052b",
   "metadata": {},
   "source": [
    "We will also want to obtain the uncertainty in the logarithm of the rate; we can derive this using the derivative rule for uncertainties:\n",
    "\n",
    "$$u\\_f(x) = u\\_x\\left|  {\\frac{\\mathrm{d}f}{\\mathrm{d}x}} \\right|$$\n",
    "\n",
    "In our case, we have that the function $f(x)$ takes the form of $log(R)$, so the uncertainty is:\n",
    "\n",
    "$$u\\_\\log(R) = u\\_R\\left| \\frac{\\mathrm{d}\\log(R)}{\\mathrm{d}R}\\right| = u\\_R\\frac{1}{R} = \\frac{u\\_R}{R}$$\n",
    "\n",
    "where we have used that the derivative of the natural logarithm $\\log(R)$ is $\\frac{1}{R}$. We have therefore found the uncertainty in the logarithm of the rate to be $u\\_R/R$. Writing this another way: if $Y = \\log(R)$ then $u\\_Y = u\\_R/R$. This may well seem strange compared to the other uncertainties we've calculated (if it doesn't, look at it more carefully!). Let's also calculate this in python:"
   ]
  },
  {
   "cell_type": "code",
   "execution_count": null,
   "id": "36908b6c-14d2-4676-b3d4-ddd73a99d0c9",
   "metadata": {},
   "outputs": [],
   "source": [
    "# Run me to calculate the uncertainty in the natural logarithm of the count rate data\n",
    "\n",
    "u_logRateVec = u_RateVec/RateVec"
   ]
  },
  {
   "cell_type": "markdown",
   "id": "a61e4447-f307-4afb-9b1f-9076d8f206cd",
   "metadata": {},
   "source": [
    "Now, we have a linearized dataset to which we may fit a linear model (with an intercept). This is something that we have done many times before (in labs 5-8). We can reuse all of the code we had for plotting the (linearized data) scatterplot, plotting the linear model, calculating and plotting the residuals, and calculating the $\\chi_w^2$ metric for calculating the goodness of fit."
   ]
  },
  {
   "cell_type": "code",
   "execution_count": null,
   "id": "a7766424-f802-4263-bb0b-40fa6364e530",
   "metadata": {},
   "outputs": [],
   "source": [
    "# Run me to create an initial model and associated plots\n",
    "# \n",
    "\n",
    "# DATA/MODEL PLOT\n",
    "\n",
    "# Step 1: find the limits of the data:\n",
    "xmin = np.min(xVec) # use the np.min function to find the smallest x value\n",
    "xmax = np.max(xVec) # same for max\n",
    "#print (xmin, xmax)  # uncomment to see what the limits are\n",
    "\n",
    "# Step 2: generate a bunch of x points between xmin and xmax\n",
    "xpoints = np.linspace(xmin, xmax, 200) # gives 200 evenly spaced points between xmin and xmax\n",
    "#print(xpoints) # uncomment to see the x values that were generated.\n",
    "\n",
    "# Step 3: calculate the linear model values\n",
    "#################### MODIFY THE MODEL PARAMETERS HERE #########################\n",
    "slope = -5  # Estimate of the slope m\n",
    "intercept = 3  # Estimate of the intercept b\n",
    "###############################################################################\n",
    "ypoints = xpoints * slope + intercept # this calculates the yvalues at all 200 points\n",
    "\n",
    "# Step 4: plot the curve. We plot this as a red line \"r-\" :\n",
    "plt.plot(xpoints, ypoints, \"r-\", label = \"log(R) = -mu x + log(R_0)\")\n",
    "\n",
    "# What's below is exactly what we had earlier:\n",
    "plt.errorbar(xVec, logRateVec, u_logRateVec, fmt=\"bo\", markersize=3, label=\"Log of Experimental data\")\n",
    "plt.title(\"Semi-log plot for Count rate vs. thickness of shielding\")\n",
    "plt.xlabel(\"Thickness (mm)\")\n",
    "plt.ylabel(\"Log(Count-rate)\")\n",
    "plt.legend()\n",
    "plt.show()\n",
    "\n",
    "\n",
    "# RESIDUALS PLOT\n",
    "# Step 1: Calculate the model at each x-datapoint\n",
    "ymodel = xVec * slope + intercept\n",
    "\n",
    "# Step 2: Calculate the residual vector\n",
    "resVec = logRateVec - ymodel\n",
    "\n",
    "# Step 3: Plot the residual vector against the x-data vector\n",
    "plt.errorbar(xVec, resVec, u_logRateVec, fmt=\"bo\", markersize = 3)\n",
    "\n",
    "# Step 4: Add a R = 0 x-axis (horizontal line) to the plot\n",
    "plt.hlines(y=0, xmin=xmin, xmax=xmax, color='k') # draw axis at y = 0.\n",
    "\n",
    "# Add axis labels and title, and show the graph\n",
    "plt.title(\"Residuals for Linear fit of semi-log count rate data\")\n",
    "plt.xlabel(\"Thickness (mm)\")\n",
    "plt.ylabel(\"Residual = data - model\")\n",
    "plt.show()\n",
    "\n",
    "\n",
    "# CHI-SQUARED CALCULATION\n",
    "N = len(xVec)\n",
    "P = 2  # 2 parameters; slope and intercept\n",
    "weightedsquaredresVec = (resVec/u_logRateVec)**2\n",
    "chisquared = np.sum(weightedsquaredresVec)/(N-P)\n",
    "print(\"Chi-squared:\", chisquared)"
   ]
  },
  {
   "cell_type": "markdown",
   "id": "fe645fed-7c69-47dd-bcc4-d2f46a3862df",
   "metadata": {},
   "source": [
    "A couple notes:\n",
    "- We do all of the fitting on the <u>linearized dataset</u>. Thus, for plotting, the residuals calculation, and the $\\chi_w^2$ calculation, we use the <u>logarithm of the experimental count data</u> throughout.\n",
    "- The count-rate decreases the more shielding we have; so the exponential coefficient, and hence the slope of the semi-log plot will be both negative."
   ]
  },
  {
   "cell_type": "markdown",
   "id": "b97da66a-6721-4799-85f1-cb81ecb41abc",
   "metadata": {},
   "source": [
    "### Your turn #3.1 (manual fit)"
   ]
  },
  {
   "cell_type": "markdown",
   "id": "e3f07821-53b8-4cb8-ad1b-baac34697bc4",
   "metadata": {},
   "source": [
    "The semi-log plot looks linear, which tells us that the data indeed possesses exponential behavior. However, the linear model we fit to the semi-log scatter plot looks like a pretty bad fit at the moment. \n",
    "\n",
    "Find a best fit model for the data above using iterative method of the manual, iterative method of adjusting the `slope` and `intercept` values manually, using chi-squared as feedback for when you have found the best fit. As always, use your residuals to guide the fitting process. Report the best-fit slope and intercept parameters, as well as the minimized $\\chi_w^2$ value you end up with."
   ]
  },
  {
   "cell_type": "markdown",
   "id": "7a4e10f9-b3bc-4b92-8d67-3bda679c7864",
   "metadata": {},
   "source": [
    "**Your best-fit values**\n",
    "* slope = \n",
    "* intercept =\n",
    "* chi-squared = "
   ]
  },
  {
   "cell_type": "markdown",
   "id": "3e43e555-25c5-4a40-ae39-4c0b0939c573",
   "metadata": {},
   "source": [
    "### Your turn #3.2"
   ]
  },
  {
   "cell_type": "markdown",
   "id": "4f1d8290-e6fb-4380-a1b1-ae7b8649c0b7",
   "metadata": {},
   "source": [
    "From your best-fit `slope` and `intercept` values, extract the parameters $R_0$ (the zero-shielding count-rate) and $\\mu$ (the attenuation coefficient). Recall that $b = \\log(R_0)$ and $m = -\\mu$."
   ]
  },
  {
   "cell_type": "markdown",
   "id": "4ebc2a5c-8961-4542-bb0c-e81645a8f822",
   "metadata": {},
   "source": []
  },
  {
   "cell_type": "markdown",
   "id": "fa8a3288-82fc-4faa-b543-6cfd8de34a05",
   "metadata": {
    "jp-MarkdownHeadingCollapsed": true,
    "tags": []
   },
   "source": [
    "##### Answer (Consistency check for final values)"
   ]
  },
  {
   "cell_type": "markdown",
   "id": "30dc6f53-ad2d-40d4-96ad-dc6bb7dca471",
   "metadata": {},
   "source": [
    "You should have found that $\\mu \\approx 9.5 \\text{ mm}^{-1}$ and $R_0 \\approx 5 \\text{ counts/second}$. The physical interpretation for $R_0$ is that it is what the model predicts the count-rate will be when there is no shielding."
   ]
  },
  {
   "cell_type": "markdown",
   "id": "061340e8-4d85-464a-a126-c93e7ba8caa3",
   "metadata": {
    "tags": []
   },
   "source": [
    "## Part 4 - Setting up analysis code for the lab (Analytic 2-parameter best fit)"
   ]
  },
  {
   "cell_type": "markdown",
   "id": "531efa78-39a6-4b6b-b5fd-26fd0094f719",
   "metadata": {},
   "source": [
    "In the RC circuit lab, we used an *analytic* expression for the best-fit slope that minimized $\\chi_w^2$. In that scenario, we had a slightly simpler model of $y = mx$; without any intercept parameter. Calculating the best fit for the two-parameter model follows a similar strategy as the one-parameter case, but results in somewhat more complicated expressions, so here we will just quote the result. \n",
    "\n",
    "We consider a dataset with $N$ data points: $x_i$, $y_i \\pm u\\_y_i$ and first define some intermediate parameters to simplify the coding:\n",
    "\n",
    "$$A = \\sum_{i=1}^N \\frac{1}{(u\\_y_i)^2}$$\n",
    "\n",
    "$$B = \\sum_{i=1}^N \\frac{x_iy_i}{(u\\_y_i)^2}$$\n",
    "\n",
    "$$C = \\sum_{i=1}^N \\frac{x_i}{(u\\_y_i)^2}$$\n",
    "\n",
    "$$D = \\sum_{i=1}^N \\frac{y_i}{(u\\_y_i)^2}$$\n",
    "\n",
    "$$E = \\sum_{i=1}^N \\frac{x_i^2}{(u\\_y_i)^2}$$\n",
    "\n",
    "$$Z = A\\times E - C^2$$\n",
    "\n",
    "Having defined these sums, we can then quote the best-fit parameters and their uncertainties as:\n",
    "\n",
    "\n",
    "$$m = \\frac{A\\times B - C \\times D}{Z}$$\n",
    "\n",
    "$$u\\_m = \\sqrt{\\frac{A}{Z}}$$\n",
    "\n",
    "$$b = \\frac{D\\times E - B\\times C}{Z}$$\n",
    "\n",
    "$$u\\_b = \\sqrt{\\frac{E}{Z}}$$\n",
    "\n",
    "It is not important in this course to understand how we arrived at these complicated expressions, but they can be derived using the same process of differentiating the chi-squared equation and setting that to 0 that we used for the 1-parameter model. \n"
   ]
  },
  {
   "cell_type": "markdown",
   "id": "b4f383c5-03bd-4928-9467-b1dd49a5ebdf",
   "metadata": {},
   "source": [
    "##### Your turn #4.1\n",
    "\n",
    "Below, we have some of the python code that calculates the best-fit slope/intercept $m$ and $b$, along with their uncertainties, for a dataset `xVec, yVec, u_yVec` (running the code will just throw an error, as we have not defined these quantities). Finish the missing steps to calculate `m`, `b`, `um` and `ub`.\n",
    "\n",
    "_**Hint**_: You could change yVec to logRateVec and u_yVec to u_logRateVec, but it might be easier to leave the calculations of A, B, C, etc. alone, and instead set `yVec = logRateVec` and `u_yVec = u_logRateVec` before those values are calculated. You also need to implement the final calculations for m, b, u[m] and u[b]"
   ]
  },
  {
   "cell_type": "code",
   "execution_count": null,
   "id": "7188d962-7bd6-47e6-81df-210175ccd9cb",
   "metadata": {},
   "outputs": [],
   "source": [
    "# Fix the expressions in this cell to use our data from above and to\n",
    "# correcty calculate m, u[m], b and u[b]\n",
    "\n",
    "A = np.sum(1/u_yVec**2)\n",
    "B = np.sum(xVec*yVec/u_yVec**2)\n",
    "C = np.sum(xVec/u_yVec**2)\n",
    "D = np.sum(yVec/u_yVec**2)\n",
    "E = np.sum(xVec**2/u_yVec**2)\n",
    "Z = A * E - C**2\n",
    "\n",
    "m  =\n",
    "u_m =\n",
    "b  =\n",
    "u_b =\n",
    "\n",
    "print(\"Slope =\", m, \"±\",u_m)\n",
    "print(\"Intervept =\", b, \"±\",u_b)"
   ]
  },
  {
   "cell_type": "markdown",
   "id": "caa61167-f34b-49c7-87e7-7b2ae8c4c9c8",
   "metadata": {
    "tags": []
   },
   "source": [
    "### Your turn #4.2"
   ]
  },
  {
   "cell_type": "markdown",
   "id": "b8846237-7a19-4702-b3c3-24b176a55eba",
   "metadata": {},
   "source": [
    "Use your best-fit slope and intercept values from above in your code below to make your best-fit model, resulting plots, and  $\\chi_w^2$. Use the residuals graph and chi-squared to assess the quality of the fit of this model to these data."
   ]
  },
  {
   "cell_type": "code",
   "execution_count": null,
   "id": "72b82e8f-1035-4e12-aabd-b6e297a8d735",
   "metadata": {},
   "outputs": [],
   "source": [
    "# DATA/MODEL PLOT\n",
    "# Step 1: find the limits of the data:\n",
    "xmin = np.min(xVec) # use the np.min function to find the smallest x value\n",
    "xmax = np.max(xVec) # same for max\n",
    "#print (xmin, xmax)  # uncomment to see what the limits are\n",
    "\n",
    "# Step 2: generate a bunch of x points between xmin and xmax\n",
    "xpoints = np.linspace(xmin, xmax, 200) # gives 200 evenly spaced points between xmin and xmax\n",
    "#print(xpoints) # uncomment to see the x values that were generated.\n",
    "\n",
    "# Step 3: calculate the model values (for linear model with intercept):\n",
    "#################### MODIFY THE MODEL PARAMETERS #########################\n",
    "slope = ??  # Replace ?? with the best fit slope\n",
    "intercept = ??  # Replace ?? with the best fit intercept\n",
    "##########################################################################\n",
    "ypoints = xpoints * slope + intercept # this calculates the yvalues at all 200 points\n",
    "\n",
    "# Step 4: plot the curve. We plot this as a red line \"r-\" :\n",
    "plt.plot(xpoints, ypoints, \"r-\", label = \"log(R) = -mu x + log(R_0)\")\n",
    "\n",
    "# What's below is exactly what we had earlier:\n",
    "plt.errorbar(xVec, logRateVec, u_logRateVec, fmt=\"bo\", markersize=3, label=\"Log of Experimental data\")\n",
    "plt.title(\"Semi-log plot for Count rate vs. thickness of shielding\")\n",
    "plt.xlabel(\"Thickness (mm)\")\n",
    "plt.ylabel(\"Log(Count-rate)\")\n",
    "plt.legend()\n",
    "plt.show()\n",
    "\n",
    "\n",
    "# RESIDUALS PLOT\n",
    "# Step 1: Calculate the model at each x-datapoint\n",
    "ymodel = xVec * slope + intercept\n",
    "\n",
    "# Step 2: Calculate the residual vector\n",
    "resVec = logRateVec - ymodel\n",
    "\n",
    "# Step 3: Plot the residual vector against the x-data vector\n",
    "plt.errorbar(xVec, resVec, u_logRateVec, fmt=\"bo\", markersize = 3)\n",
    "\n",
    "# Step 4: Add a R = 0 x-axis (horizontal line) to the plot\n",
    "plt.hlines(y=0, xmin=xmin, xmax=xmax, color='k') # draw axis at y = 0.\n",
    "\n",
    "# Add axis labels and title, and show the graph\n",
    "plt.title(\"Residuals for Linear fit of semi-log count rate data\")\n",
    "plt.xlabel(\"Thickness (mm)\")\n",
    "plt.ylabel(\"Residual = data - model\")\n",
    "plt.show()\n",
    "\n",
    "\n",
    "# CHI-SQUARED CALCULATION\n",
    "N = len(xVec)\n",
    "P = 2  # 2 parameters; slope and intercept\n",
    "weightedsquaredresVec = (resVec/u_logRateVec)**2\n",
    "chisquared = np.sum(weightedsquaredresVec)/(N-P)\n",
    "print(\"Chi-squared\", chisquared)"
   ]
  },
  {
   "cell_type": "markdown",
   "id": "0ca2ab27-6925-4d78-a2b4-3cb50d323e8e",
   "metadata": {},
   "source": [
    "### Your turn #4.3"
   ]
  },
  {
   "cell_type": "markdown",
   "id": "6ec22987-ceb7-4f85-bc63-fd6db99e2cf4",
   "metadata": {},
   "source": [
    "From the best-fit $m$ and $b$ values, extract the parameters $R_0$ (the zero-shielding count-rate) and $\\mu$ (the attenuation coefficient). Recall that $b = \\log(R_0)$ and $m = -\\mu$."
   ]
  },
  {
   "cell_type": "markdown",
   "id": "c3831039-742d-4833-8d35-fec522b5ff7c",
   "metadata": {},
   "source": []
  },
  {
   "cell_type": "markdown",
   "id": "4ca4261c-0efd-4ed5-9a6c-42836116e2c8",
   "metadata": {},
   "source": [
    "### Your turn #4.4"
   ]
  },
  {
   "cell_type": "markdown",
   "id": "a23560a4-e711-473f-b1ce-eb48105d0151",
   "metadata": {},
   "source": [
    "From the uncertainties in $m$ and $b$, extract the uncertainties in $R_0$ and the attenuation coefficient $\\mu$.\n",
    "\n",
    "Hint: By the derivative rule, we have that:\n",
    "\n",
    "$$R_0 = \\exp(b) \\implies u\\_R_0 = u\\_b\\exp(b)$$\n",
    "\n",
    "$$m = -\\mu \\implies u\\_m = u\\_\\mu.$$"
   ]
  },
  {
   "cell_type": "markdown",
   "id": "26f8f3d2-7120-4acc-a413-d41abdeb47ab",
   "metadata": {},
   "source": []
  },
  {
   "cell_type": "markdown",
   "id": "d3f2febd-b3b8-4293-ad47-81778b61d39c",
   "metadata": {
    "jp-MarkdownHeadingCollapsed": true,
    "tags": []
   },
   "source": [
    "##### Answer (Consistency check for final values)"
   ]
  },
  {
   "cell_type": "markdown",
   "id": "4c94b75c-968f-407c-a44e-d58f8b7d41c8",
   "metadata": {},
   "source": [
    "You should have found that $\\mu = 9.80 \\pm 0.70 \\text{ mm}^{-1}$ and $R_0 = 5.17 \\pm 0.39 \\text{ counts/second}$."
   ]
  },
  {
   "cell_type": "markdown",
   "id": "297114ad-bffb-46d3-8493-21395f45674e",
   "metadata": {},
   "source": [
    "# Submit\n",
    "\n",
    "Steps for submission:\n",
    "\n",
    "1. Click: Run => Run_All_Cells\n",
    "2. Read through the notebook to ensure all the cells executed correctly and without error.\n",
    "3. File => Save_and_Export_Notebook_As->HTML\n",
    "4. Inspect your html file\n",
    "5. Upload the HTML document to the lab submission assignment on Canvas."
   ]
  }
 ],
 "metadata": {
  "kernelspec": {
   "display_name": "Python 3 (ipykernel)",
   "language": "python",
   "name": "python3"
  },
  "language_info": {
   "codemirror_mode": {
    "name": "ipython",
    "version": 3
   },
   "file_extension": ".py",
   "mimetype": "text/x-python",
   "name": "python",
   "nbconvert_exporter": "python",
   "pygments_lexer": "ipython3",
   "version": "3.10.10"
  },
  "widgets": {
   "application/vnd.jupyter.widget-state+json": {
    "state": {},
    "version_major": 2,
    "version_minor": 0
   }
  }
 },
 "nbformat": 4,
 "nbformat_minor": 5
}
