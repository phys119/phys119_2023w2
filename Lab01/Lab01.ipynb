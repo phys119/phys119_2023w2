{
 "cells": [
  {
   "cell_type": "markdown",
   "id": "32573df8-8e9b-450f-aa6a-64c28ff8c2a2",
   "metadata": {
    "id": "32573df8-8e9b-450f-aa6a-64c28ff8c2a2"
   },
   "source": [
    "# Lab 01 - Introduction to Experimentation"
   ]
  },
  {
   "cell_type": "markdown",
   "id": "e556177f-bd50-4cf4-9492-710e564d726e",
   "metadata": {
    "id": "e556177f-bd50-4cf4-9492-710e564d726e"
   },
   "source": [
    "Today's notebook has some reminders and template 'scaffolding' in it to help you make\n",
    "sure you put all the pieces in it. As we go through the next few weeks, you'll see less and\n",
    "less of that.\n",
    "\n",
    "Please start by **running the cell below** (by clicking on it and pressing the play/triangle button, or by Shift + Return) before getting started! This cell will clear the python environment and import the necessary Python packages to run your data analysis in today's lab."
   ]
  },
  {
   "cell_type": "code",
   "execution_count": null,
   "id": "26726484-93c7-499a-9f34-d4656ef6df5a",
   "metadata": {
    "id": "26726484-93c7-499a-9f34-d4656ef6df5a",
    "tags": []
   },
   "outputs": [],
   "source": [
    "# This clears the python workspace of any previously defined variables.:\n",
    "%reset -f \n",
    "\n",
    "# Import the numpy library:\n",
    "import numpy as np"
   ]
  },
  {
   "cell_type": "markdown",
   "id": "aac644cf-1acd-4734-9c84-029f978575a3",
   "metadata": {
    "tags": []
   },
   "source": [
    "Edit this cell and provide the information requested:\n",
    "\n",
    "- Your name:\n",
    "- Your student number:\n",
    "- Partner's name:\n"
   ]
  },
  {
   "cell_type": "markdown",
   "id": "1699f60d-35fb-4ea7-8dbd-83b391307428",
   "metadata": {
    "id": "1699f60d-35fb-4ea7-8dbd-83b391307428"
   },
   "source": [
    "## Part B - Familiarization with the experiment"
   ]
  },
  {
   "cell_type": "markdown",
   "id": "c91906bd-3c8d-46d1-9a0b-0cfb288fbc5f",
   "metadata": {
    "id": "c91906bd-3c8d-46d1-9a0b-0cfb288fbc5f"
   },
   "source": [
    "Double click on this cell to edit it! Write down any notes you have from the familiarization here. Consult the lab instructions for tips on what to include in your lab notes during this familiarization stage. Remember that you can use bullet points if you wish:\n",
    "- Here is a note\n",
    "- Here is another note"
   ]
  },
  {
   "cell_type": "markdown",
   "id": "377eec21",
   "metadata": {
    "tags": []
   },
   "source": [
    "#### How did you take your measurement?"
   ]
  },
  {
   "cell_type": "markdown",
   "id": "72ba03be-2223-4099-a292-921436e658da",
   "metadata": {
    "id": "72ba03be-2223-4099-a292-921436e658da",
    "tags": []
   },
   "source": [
    "## Your initial measurement and calculation of $k$"
   ]
  },
  {
   "cell_type": "markdown",
   "id": "ffd7559a-a019-4b0e-b3fb-1c335931a0c5",
   "metadata": {
    "id": "ffd7559a-a019-4b0e-b3fb-1c335931a0c5"
   },
   "source": [
    "Use the Python cell below to enter your measured values for $m_1$, $m_2$, $x_1$, and $x_2$. You may then calculate $k$ from these Python variables within the same cell."
   ]
  },
  {
   "cell_type": "code",
   "execution_count": null,
   "id": "696185dd-d5b6-46ee-81b0-66f4815b8050",
   "metadata": {
    "id": "696185dd-d5b6-46ee-81b0-66f4815b8050",
    "tags": []
   },
   "outputs": [],
   "source": [
    "# type in your measured values to the right of the '=' to define each Python variable below\n",
    "m1 = # uncompressed mass reading\n",
    "x1 = # uncompressed height\n",
    "m2 = # compressed mass reading\n",
    "x2 = # compressed height\n",
    "\n",
    "# write some code below to calculate k\n",
    "# it may be helpful to define intermediate variables, e.g. delta_m, to make your calculation easier to follow"
   ]
  },
  {
   "cell_type": "markdown",
   "id": "a332b72c-8553-44c0-ad0c-c2ea9267bb14",
   "metadata": {
    "id": "a332b72c-8553-44c0-ad0c-c2ea9267bb14"
   },
   "source": [
    "# Part C - Discussion with your group (Familiarization)"
   ]
  },
  {
   "cell_type": "markdown",
   "id": "05ea38a1-3a38-45e6-ab2c-965e0491c48e",
   "metadata": {
    "id": "05ea38a1-3a38-45e6-ab2c-965e0491c48e"
   },
   "source": [
    "Write down notes from comparisons/discussions with your group here. Tips below:\n",
    "- How do your methods and results compare to other members of your group? \n",
    "- Did they experience challenges or insights different from yours?"
   ]
  },
  {
   "cell_type": "markdown",
   "id": "e4a6be0c-5f4d-41db-ad46-dde8814a6c8f",
   "metadata": {
    "id": "e4a6be0c-5f4d-41db-ad46-dde8814a6c8f"
   },
   "source": [
    "# Part D -  How the instructional team would perform the measurement"
   ]
  },
  {
   "cell_type": "markdown",
   "id": "f58d9929-fe2c-4d58-bb18-c270b00b9c68",
   "metadata": {
    "id": "f58d9929-fe2c-4d58-bb18-c270b00b9c68"
   },
   "source": [
    "Follow along with the slides and make some notes as you go. Make sure to also write down the most important equations and a brief note on how/when to use it (for future reference). Consult the appendix in the Lab 1 instructions document on Canvas for Markdown code for the equations, which you can copy into this cell.\n",
    "\n",
    "Below is an example of a Markdown formatted equation with notes (which you should remove and replace with your own notes).\n",
    "\n",
    "**Quadratic formula:**\n",
    "\n",
    "$$ x_{root} = \\frac{ -b \\pm \\sqrt{b^2 - 4ac} }{ 2a } $$\n",
    "\n",
    "- The quadratic formula provides a solution for the roots (or zeros) of a quadratic equation $ax^2 + bx + c = 0$\n",
    "- The discriminant, $ b^2 - 4ac $, tells us how many roots the equation has\n",
    "    - $ b^2 - 4ac < 0 $ means no roots\n",
    "    - $ b^2 - 4ac = 0 $ means one root\n",
    "    - $ b^2 - 4ac > 0 $ means two roots"
   ]
  },
  {
   "cell_type": "markdown",
   "id": "dd0452f0",
   "metadata": {},
   "source": [
    "#### New tools that you learned (there should be 4):"
   ]
  },
  {
   "cell_type": "markdown",
   "id": "1995e7df",
   "metadata": {},
   "source": [
    "#### Answers to the uncertainty example discussion\n",
    "\n",
    "1. \n",
    "2. \n",
    "3. "
   ]
  },
  {
   "cell_type": "markdown",
   "id": "4536d2bb-9381-4bd0-989b-b2433f8a862b",
   "metadata": {
    "id": "4536d2bb-9381-4bd0-989b-b2433f8a862b"
   },
   "source": [
    "# Part E - Revisiting your spring constant measurement with measurement uncertainty characterizations and calculations "
   ]
  },
  {
   "cell_type": "markdown",
   "id": "2dd1843e-5a65-4e98-96f5-0baf02598b54",
   "metadata": {
    "id": "2dd1843e-5a65-4e98-96f5-0baf02598b54"
   },
   "source": [
    "## Notes from the investigation stage"
   ]
  },
  {
   "cell_type": "markdown",
   "id": "15bc9a02-c33e-4472-a0ed-ecb493882fe4",
   "metadata": {
    "id": "15bc9a02-c33e-4472-a0ed-ecb493882fe4"
   },
   "source": [
    "This is the main ***investigation*** after your ***familiarization***. Explain how you do your measurements in enough detail that someone else could repeat it. Tips below:\n",
    "- What type of uncertainty does each variable have? Why? How did you calculate uncertainty for each variable? Justify your uncertainty choices for each measured quantity.\n",
    "- Read the lab instructions and questions carefully.\n",
    "- Check the grading rubric for further information on what we are looking for in this week’s grading."
   ]
  },
  {
   "cell_type": "markdown",
   "id": "91533941-87c0-44e6-9345-b12cef390ef8",
   "metadata": {
    "id": "91533941-87c0-44e6-9345-b12cef390ef8"
   },
   "source": [
    "## Measurement and data analysis"
   ]
  },
  {
   "cell_type": "markdown",
   "id": "b60c3fdb-b924-4ff8-866c-8820990766e4",
   "metadata": {
    "id": "b60c3fdb-b924-4ff8-866c-8820990766e4"
   },
   "source": [
    "Add a new Python cell below and adapt your code from Part A to perform your improved measurement of $k$, along with uncertainty calculations. Consult the Appendix in the student instructions for helpful Python code which you can adapt to perform your uncertainty propagation calculations."
   ]
  },
  {
   "cell_type": "markdown",
   "id": "ab48adcd-5007-458d-8512-9773bf78f09e",
   "metadata": {
    "id": "ab48adcd-5007-458d-8512-9773bf78f09e"
   },
   "source": [
    "# Part F - Summary of results (Start this by 2h30 after the start of the lab)"
   ]
  },
  {
   "cell_type": "markdown",
   "id": "680f7194-c38a-4c37-b8cb-6ca9e60ee8a2",
   "metadata": {
    "id": "680f7194-c38a-4c37-b8cb-6ca9e60ee8a2"
   },
   "source": [
    "You do not need to write a formal conclusion, but tips on what to include are provided below.\n",
    "\n",
    "- Restate your final result for k, with uncertainty\n",
    "- Summarize the results of any comparisons you made with others regarding your final result. Are you able to draw any conclusions from these comparisons? (*Hint: the experimental goal may be helpful here*)\n",
    "- Discuss in 1-2 sentences what you would do next to improve your results if you had additional time to work on this lab"
   ]
  },
  {
   "cell_type": "markdown",
   "id": "7517a771-b9f8-45bd-bed6-019c5242ccb6",
   "metadata": {
    "id": "7517a771-b9f8-45bd-bed6-019c5242ccb6"
   },
   "source": [
    "# Submit your lab by 2h50m after the start of lab"
   ]
  },
  {
   "cell_type": "markdown",
   "id": "e0ef016b-4d17-4c3c-bfda-7c3ae55024a4",
   "metadata": {
    "id": "e0ef016b-4d17-4c3c-bfda-7c3ae55024a4"
   },
   "source": [
    "Steps for submission:\n",
    "\n",
    "1. Click: Run => Run_All_Cells\n",
    "2. Read through the notebook to ensure all the cells executed correctly and without error.\n",
    "3. Correct any errors you find!\n",
    "4. File => Save_and_Export_Notebook_As->HTML\n",
    "5. Upload the HTML document to the lab submission assignment on Canvas.\n",
    "\n",
    "You will receive a participation grade this week for a reasonable submission as well as feedback from a TA for next week."
   ]
  }
 ],
 "metadata": {
  "colab": {
   "collapsed_sections": [],
   "name": "Lab01_student_version_v2.ipynb",
   "provenance": []
  },
  "kernelspec": {
   "display_name": "Python 3 (ipykernel)",
   "language": "python",
   "name": "python3"
  },
  "language_info": {
   "codemirror_mode": {
    "name": "ipython",
    "version": 3
   },
   "file_extension": ".py",
   "mimetype": "text/x-python",
   "name": "python",
   "nbconvert_exporter": "python",
   "pygments_lexer": "ipython3",
   "version": "3.10.10"
  },
  "widgets": {
   "application/vnd.jupyter.widget-state+json": {
    "state": {},
    "version_major": 2,
    "version_minor": 0
   }
  }
 },
 "nbformat": 4,
 "nbformat_minor": 5
}
