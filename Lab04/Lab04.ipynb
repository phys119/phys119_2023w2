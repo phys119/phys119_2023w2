{
 "cells": [
  {
   "cell_type": "markdown",
   "id": "10129cf0-f314-4d11-9b4a-e8580785b7bf",
   "metadata": {},
   "source": [
    " # Lab 4 - The Pendulum II"
   ]
  },
  {
   "cell_type": "code",
   "execution_count": null,
   "id": "bb41a3e5-6dc2-4689-8f6b-c571553096ce",
   "metadata": {
    "colab": {
     "base_uri": "https://localhost:8080/",
     "height": 34,
     "referenced_widgets": [
      "f4867fcd1bc84f73a8ebaf6d3fe7f93a",
      "d034be63185d4811a05ec0f093d02d7a",
      "bd6d356d711e4792a1e9ada201d26b78",
      "c0d9513060084283a214f5c8f025ecf0",
      "da2defae0a8e4905a29dc8d3ca8a42e3",
      "60dc88a1698c461187c3481c679c7b71",
      "5f73d93446b34030af9201112526626f",
      "4d3b430ac5934818a7693c1a6a3d9355",
      "0bedf7f9be8a49378ea8f37f9c2ebf16",
      "ea117ac05b9b41c082cd9d62ef94d518",
      "124f9831f181482eb784405723a8b2d0",
      "8e1cbf36822a474ebdf82a80a5681924",
      "f8023654ea164371b4e3f37957a06c8a",
      "e1709bb85bb34c7e997f035a4c7560b8",
      "5a1355ddfd1840c2bc9de6ebd7342682",
      "624675d0d30242d6bf1213deb6e3f624",
      "699f933c64d24cafa5bfd5e0a1fc397a",
      "d58d95defca340b885a9e405134fc887",
      "58cf21d8ac234496bad2ebd7ae7f2a1d",
      "5e2883b7e2ba4d6d8a1352e621a8183f",
      "ffe3c8f2bda74603a92742464e69ba6b",
      "7ce01fb43382463f9ae0ad311d7b5dc4"
     ]
    },
    "id": "26726484-93c7-499a-9f34-d4656ef6df5a",
    "outputId": "82f6fee3-86ff-43e5-8b52-64b7eb4467ab"
   },
   "outputs": [],
   "source": [
    "# Make sure to run this cell before running any other code cells\n",
    "%reset -f\n",
    "import numpy as np\n",
    "import data_entry2"
   ]
  },
  {
   "cell_type": "markdown",
   "id": "06bab186-614b-4f20-b1e1-cde1032a8eeb",
   "metadata": {},
   "source": [
    "***Edit the following cell to provide the information requested:***"
   ]
  },
  {
   "cell_type": "markdown",
   "id": "883c8daf-e901-4c0e-a0d7-d9c7dc0d6621",
   "metadata": {},
   "source": [
    "- Your name:\n",
    "- Your student number:\n",
    "- Partner's name:"
   ]
  },
  {
   "cell_type": "markdown",
   "id": "6bc2f65e-1838-4b3d-adcd-a78a7f7b17e8",
   "metadata": {},
   "source": [
    "## Part A - Intro and announcements"
   ]
  },
  {
   "cell_type": "markdown",
   "id": "658cad60-0137-47fd-9a6e-2bdfccbacfae",
   "metadata": {},
   "source": [
    "***TA grading feedback here:***\n",
    "- Example feedback"
   ]
  },
  {
   "cell_type": "markdown",
   "id": "0bf9f813-2fb3-46e1-a83e-df454787d388",
   "metadata": {},
   "source": [
    "## Part B - t-score mini lesson"
   ]
  },
  {
   "cell_type": "markdown",
   "id": "603c4e3a-29a1-40ba-a8df-12eada3ba547",
   "metadata": {},
   "source": [
    "***Summarize any important notes from the class discussion***"
   ]
  },
  {
   "cell_type": "markdown",
   "id": "d1142b9a-ec95-432c-bc05-c24548806d53",
   "metadata": {},
   "source": []
  },
  {
   "cell_type": "markdown",
   "id": "b481304a-5188-4fbd-a395-0d9edbf26080",
   "metadata": {},
   "source": [
    "## Part C - Improvement rounds (at least 2)"
   ]
  },
  {
   "cell_type": "markdown",
   "id": "6e89245b-c391-4a95-88bb-02b83170ca3d",
   "metadata": {},
   "source": [
    "***Summarize any important notes from the class discussion and familiarization done in Part C of the student instructions***"
   ]
  },
  {
   "cell_type": "markdown",
   "id": "039d956c-b989-42e9-8367-d218de62679f",
   "metadata": {},
   "source": [
    "***Write some notes below detailing your initial measurement plan***"
   ]
  },
  {
   "cell_type": "markdown",
   "id": "4ce31b01-2acc-4cbd-a949-90cd8c8ca07e",
   "metadata": {},
   "source": [
    "- Example note"
   ]
  },
  {
   "cell_type": "markdown",
   "id": "c6677981-9e16-458c-a38c-2fd16879fdff",
   "metadata": {},
   "source": [
    "***Use the cell below to load in a blank spreadsheet to fill in with your initial round of data. (Note that you should have 2 columns of data, of equal length.)***"
   ]
  },
  {
   "cell_type": "code",
   "execution_count": null,
   "id": "11fcd5cf-3996-4878-9a64-70417859e239",
   "metadata": {},
   "outputs": [],
   "source": []
  },
  {
   "cell_type": "markdown",
   "id": "646cf611-7a78-44ec-ab99-54d855c531d0",
   "metadata": {},
   "source": [
    "***Use the cell below for your analysis code. Insert additional cells below as needed. (Note that you can copy in and update your analysis code from lab03.)***"
   ]
  },
  {
   "cell_type": "code",
   "execution_count": null,
   "id": "7d9b1e93-dfe3-4a1b-bed5-4bcff2f1c49f",
   "metadata": {},
   "outputs": [],
   "source": []
  },
  {
   "cell_type": "markdown",
   "id": "45ae3def-3190-4cab-a047-cdff4faa4237",
   "metadata": {},
   "source": [
    "***Reflect on the results of your first round below***"
   ]
  },
  {
   "cell_type": "markdown",
   "id": "2b0b3691-029f-4909-8fd4-eadb93e5a0fa",
   "metadata": {},
   "source": []
  },
  {
   "cell_type": "markdown",
   "id": "7df7ff5a-0df9-4085-a91e-6d98e4b8d5be",
   "metadata": {},
   "source": [
    "## YOUR SUMMARY OF RESULTS AND SUBMIT"
   ]
  },
  {
   "cell_type": "markdown",
   "id": "8778f9ab-d956-4dfa-9319-daa7fa4611ea",
   "metadata": {},
   "source": []
  },
  {
   "cell_type": "markdown",
   "id": "28df5d2b-5cb5-4ae4-aceb-ad6c1809c9b0",
   "metadata": {},
   "source": []
  },
  {
   "cell_type": "markdown",
   "id": "818f2cae-2811-4d42-8a06-9a1ba2a26da1",
   "metadata": {},
   "source": [
    "# Submit\n",
    "\n",
    "Steps for submission:\n",
    "\n",
    "1. Click: Run => Run_All_Cells\n",
    "2. Read through the notebook to ensure all the cells executed correctly and without error.\n",
    "3. File => Save_and_Export_Notebook_As->HTML\n",
    "4. Upload the HTML document to the lab submission assignment on Canvas."
   ]
  },
  {
   "cell_type": "code",
   "execution_count": null,
   "id": "6fdf957e",
   "metadata": {},
   "outputs": [],
   "source": []
  },
  {
   "cell_type": "code",
   "execution_count": null,
   "id": "645481c6-3c5c-4813-80a3-7a242297fbba",
   "metadata": {},
   "outputs": [],
   "source": [
    "# trick to display tables in html output\n",
    "display_sheets()"
   ]
  }
 ],
 "metadata": {
  "kernelspec": {
   "display_name": "Python 3 (ipykernel)",
   "language": "python",
   "name": "python3"
  },
  "language_info": {
   "codemirror_mode": {
    "name": "ipython",
    "version": 3
   },
   "file_extension": ".py",
   "mimetype": "text/x-python",
   "name": "python",
   "nbconvert_exporter": "python",
   "pygments_lexer": "ipython3",
   "version": "3.11.5"
  },
  "widgets": {
   "application/vnd.jupyter.widget-state+json": {
    "state": {},
    "version_major": 2,
    "version_minor": 0
   }
  }
 },
 "nbformat": 4,
 "nbformat_minor": 5
}
