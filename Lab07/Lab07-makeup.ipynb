{
 "cells": [
  {
   "attachments": {},
   "cell_type": "markdown",
   "id": "d8d5d4d2-d72a-4e39-8261-d2270bea16ef",
   "metadata": {},
   "source": [
    "# Lab 07 - Introduction to the Oscilloscope (Make-Up Lab Version)"
   ]
  },
  {
   "attachments": {},
   "cell_type": "markdown",
   "id": "616336d2-b711-4daa-b591-51875f8e64a4",
   "metadata": {},
   "source": [
    "Edit this cell and provide the information requested:\n",
    "\n",
    "- Your name:\n",
    "- Your student number:"
   ]
  },
  {
   "cell_type": "code",
   "execution_count": 1,
   "id": "c7e56ef9-175b-4e74-8d0c-46daf5159cfa",
   "metadata": {},
   "outputs": [],
   "source": [
    "%reset -f \n",
    "import numpy as np\n",
    "import data_entry2\n",
    "import matplotlib.pyplot as plt"
   ]
  },
  {
   "attachments": {},
   "cell_type": "markdown",
   "id": "e6311cdc-8028-44c2-8b85-4c4986e4f7c9",
   "metadata": {},
   "source": [
    "## Part A - FAMILIARIZE, Part 1 - Overview of your resistor-capacitor (RC) circuit and the oscilloscope tutorial"
   ]
  },
  {
   "attachments": {},
   "cell_type": "markdown",
   "id": "57bada0b-1a00-4b40-abd8-b4a6122aa052",
   "metadata": {},
   "source": []
  },
  {
   "attachments": {},
   "cell_type": "markdown",
   "id": "411a6b6d-425a-4e2a-a0d7-cbc5eabe7cdc",
   "metadata": {},
   "source": [
    "## Part B - Make an initial set of measurements"
   ]
  },
  {
   "attachments": {},
   "cell_type": "markdown",
   "id": "d4cefc5c-7959-43c4-ae2f-bfc19939864d",
   "metadata": {},
   "source": []
  },
  {
   "attachments": {},
   "cell_type": "markdown",
   "id": "e3433d8b-a751-419b-af4d-213e7902cf05",
   "metadata": {},
   "source": [
    "## Part C - MEASURE & ANALYZE - Create a scatter plot"
   ]
  },
  {
   "attachments": {},
   "cell_type": "markdown",
   "id": "2635aecf-0fdf-43c1-9061-71e1ce02ec8f",
   "metadata": {},
   "source": []
  },
  {
   "cell_type": "code",
   "execution_count": null,
   "id": "11041811-5ad0-45fa-8dfe-60f6047f2bfd",
   "metadata": {
    "tags": []
   },
   "outputs": [],
   "source": []
  },
  {
   "attachments": {},
   "cell_type": "markdown",
   "id": "46456db0-bcff-4d9c-aa90-0d05e760f7ec",
   "metadata": {},
   "source": [
    "## Part D - COMPARE, SUMMARIZE, REFLECT"
   ]
  },
  {
   "attachments": {},
   "cell_type": "markdown",
   "id": "fed583af-c89b-410e-a86a-df614f2bf196",
   "metadata": {},
   "source": []
  },
  {
   "attachments": {},
   "cell_type": "markdown",
   "id": "e73ac6f8-0590-4c98-a163-21a846cc73ce",
   "metadata": {},
   "source": [
    "# Submit\n",
    "\n",
    "Steps for submission:\n",
    "\n",
    "1. Click: Run => Run_All_Cells\n",
    "2. Read through the notebook to ensure all the cells executed correctly and without error.\n",
    "3. File => Save_and Export_Notebook_As->HTML\n",
    "4. Upload the HTML document to the lab submission assignment on Canvas."
   ]
  },
  {
   "cell_type": "code",
   "execution_count": null,
   "id": "e2ec7b06-f8ca-463b-a09b-6b81dff12a77",
   "metadata": {},
   "outputs": [],
   "source": [
    "display_sheets()"
   ]
  }
 ],
 "metadata": {
  "kernelspec": {
   "display_name": "Python 3 (ipykernel)",
   "language": "python",
   "name": "python3"
  },
  "language_info": {
   "codemirror_mode": {
    "name": "ipython",
    "version": 3
   },
   "file_extension": ".py",
   "mimetype": "text/x-python",
   "name": "python",
   "nbconvert_exporter": "python",
   "pygments_lexer": "ipython3",
   "version": "3.11.5"
  },
  "widgets": {
   "application/vnd.jupyter.widget-state+json": {
    "state": {},
    "version_major": 2,
    "version_minor": 0
   }
  }
 },
 "nbformat": 4,
 "nbformat_minor": 5
}
