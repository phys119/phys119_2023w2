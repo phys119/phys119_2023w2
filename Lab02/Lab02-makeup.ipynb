{
 "cells": [
  {
   "attachments": {},
   "cell_type": "markdown",
   "id": "43bb25ef-99a2-4f0f-97ef-55d301a83ebe",
   "metadata": {},
   "source": [
    "# Lab 02 - Hooke's Law (Make-Up Version)"
   ]
  },
  {
   "attachments": {},
   "cell_type": "markdown",
   "id": "5e1d33f2-1a9d-4255-b378-fd99629e67c4",
   "metadata": {
    "tags": []
   },
   "source": [
    "# Housekeeping Tasks before you get started:\n",
    "## Enable Widget State Saving:\n",
    "1. Please Go to: Settings->Save Widget State Automatically\n",
    "This is a toggle setting, after you've selected it, it should appear in the settings menu with a checkbox next to it.\n",
    "2. Reload your browser tab (eg CTRL-R, or click on the URL and hit enter)."
   ]
  },
  {
   "cell_type": "code",
   "execution_count": null,
   "id": "73304620-b011-449e-9a34-6cfc5988e88f",
   "metadata": {},
   "outputs": [],
   "source": [
    "# These should always be at the top. Don't forget to execute them\n",
    "%reset -f\n",
    "import numpy as np\n",
    "import data_entry2"
   ]
  },
  {
   "attachments": {},
   "cell_type": "markdown",
   "id": "b185798a-fc6e-48d2-9bec-399168146f5d",
   "metadata": {},
   "source": [
    "***Edit the following markdown cell to provide the information requested:***"
   ]
  },
  {
   "attachments": {},
   "cell_type": "markdown",
   "id": "3e7bbdc1-d7a1-4d96-bf6d-2d19ff732090",
   "metadata": {
    "tags": []
   },
   "source": [
    "- Your name:\n",
    "- Your student number:\n"
   ]
  },
  {
   "attachments": {},
   "cell_type": "markdown",
   "id": "21fdbeb6-eca3-469e-8039-275c7c8424d7",
   "metadata": {
    "tags": []
   },
   "source": [
    "## Part A - Introduction"
   ]
  },
  {
   "attachments": {},
   "cell_type": "markdown",
   "id": "73c25d8d-614f-4f8e-a3f3-f3edb0531ba5",
   "metadata": {},
   "source": [
    "***Notes from this section here:***\n",
    "- example note"
   ]
  },
  {
   "attachments": {},
   "cell_type": "markdown",
   "id": "9c464e96-f995-43f8-99c8-3f1aa8a5efd9",
   "metadata": {},
   "source": [
    "## Part B - Uncertainty Discussions"
   ]
  },
  {
   "attachments": {},
   "cell_type": "markdown",
   "id": "0f5cdc1a-2e78-457b-a7e8-a4ec5ff45041",
   "metadata": {},
   "source": [
    "***Notes from this section here:***\n",
    "- example note"
   ]
  },
  {
   "attachments": {},
   "cell_type": "markdown",
   "id": "e13a6e2c",
   "metadata": {},
   "source": [
    "***Make sure to include a formula for the new tool and a description of how to use it.*** "
   ]
  },
  {
   "attachments": {},
   "cell_type": "markdown",
   "id": "0ab775b9",
   "metadata": {},
   "source": []
  },
  {
   "attachments": {},
   "cell_type": "markdown",
   "id": "ccba0bfe",
   "metadata": {},
   "source": [
    "***Brainstorm a few ways that you can decrease the relative uncertainty of your spring constants this lab***\n",
    "- example note"
   ]
  },
  {
   "attachments": {},
   "cell_type": "markdown",
   "id": "950791c5-89e9-49d9-9840-653d3e411f61",
   "metadata": {},
   "source": [
    "## Part C - First round of measurements (~30 minutes)"
   ]
  },
  {
   "attachments": {},
   "cell_type": "markdown",
   "id": "060d749e-8cd0-4798-acf0-8d219b5b7b60",
   "metadata": {},
   "source": [
    "***Include your initial measurement plan in the Markdown cell below, then follow the instructions on setting up your data spreadsheet.***"
   ]
  },
  {
   "attachments": {},
   "cell_type": "markdown",
   "id": "f829c3f0-937e-4ab3-81e3-8cca68b1c6db",
   "metadata": {},
   "source": []
  },
  {
   "attachments": {},
   "cell_type": "markdown",
   "id": "3c9f1aed-6a7d-41b0-bead-a0c4491afdd3",
   "metadata": {},
   "source": [
    "Uncomment the code below (i.e., remove the '#') to set up your initial spreadsheet 'lab02_data_round1.csv'. Any edits you make will automatically be saved. When you are finished inputting your data, press 'Generate Vectors' to transform each column into a Python vector. For instance, if you title a column 'm1', then a Python vector called 'm1Vec' will be generated. The idea is to use these generated vectors to perform the necessary calculations to obtain $k$ and $u[k]$ for small and large compressions."
   ]
  },
  {
   "cell_type": "code",
   "execution_count": null,
   "id": "29a8d24c-fa66-42d1-a5ac-6119fc49bb10",
   "metadata": {},
   "outputs": [],
   "source": [
    "#de_round1 = data_entry2.sheet(\"lab02_data_round1\")"
   ]
  },
  {
   "attachments": {},
   "cell_type": "markdown",
   "id": "716c733d-b549-4dac-81a9-954820d3868b",
   "metadata": {},
   "source": [
    "## Part D - Compare Results with Others and Plan for Improvements (~30 minutes)"
   ]
  },
  {
   "attachments": {},
   "cell_type": "markdown",
   "id": "89d1b174-ba68-41f1-a2ab-84343a08e7ec",
   "metadata": {},
   "source": [
    "***Use the guiding questions in the make-up lab instructions and the results from the shared student results spreadsheet (found in the make-up lab resources of the Lab 02 module on Canvas) to compare your results with other students and plan for your next measurement round.***"
   ]
  },
  {
   "attachments": {},
   "cell_type": "markdown",
   "id": "0bc55fd0-2d59-432f-a704-213cd47890a1",
   "metadata": {},
   "source": []
  },
  {
   "attachments": {},
   "cell_type": "markdown",
   "id": "a3987179-8dc3-4e07-a566-1886f2ede8e9",
   "metadata": {},
   "source": [
    "## Part E - Cycles of Making Improvements (~50 minutes)"
   ]
  },
  {
   "attachments": {},
   "cell_type": "markdown",
   "id": "a1a36267-483c-41e2-ab0f-45a78d2bffbe",
   "metadata": {},
   "source": [
    "Uncomment the code below to set up a new spreadsheet for your improvement round data. This code will copy your old spreadsheet so that all you have to do is overwrite the data from your initial round with your improvement round data. *IMPORTANT NOTE: do not run the code below until you are finished with your data entry in Part D.* "
   ]
  },
  {
   "cell_type": "code",
   "execution_count": null,
   "id": "9211de0c-c33c-443c-8304-41ea35c42e96",
   "metadata": {},
   "outputs": [],
   "source": [
    "#de_round2 = data_entry2.copy_sheet(\"lab02_data_round1\", \"lab02_data_round2\")"
   ]
  },
  {
   "attachments": {},
   "cell_type": "markdown",
   "id": "812ddb11-10f2-44e5-b981-955228163f62",
   "metadata": {
    "tags": []
   },
   "source": [
    "## Summary of Results (~30 minutes)"
   ]
  },
  {
   "attachments": {},
   "cell_type": "markdown",
   "id": "7dbc0155-d839-4d2e-860b-dfe3dc02022a",
   "metadata": {},
   "source": []
  },
  {
   "attachments": {},
   "cell_type": "markdown",
   "id": "6fff46af-b278-4ed8-8600-d32a60515a58",
   "metadata": {},
   "source": [
    "# Submit\n",
    "\n",
    "Steps for submission:\n",
    "\n",
    "1. Click: Run => Run_All_Cells\n",
    "2. Read through the notebook to ensure all the cells executed correctly and without error.\n",
    "3. File => Save_and_Export_Notebook_As->HTML\n",
    "4. Upload the HTML document to the lab submission assignment on Canvas."
   ]
  },
  {
   "cell_type": "code",
   "execution_count": null,
   "id": "587723c8",
   "metadata": {},
   "outputs": [],
   "source": []
  },
  {
   "cell_type": "code",
   "execution_count": null,
   "id": "d6d79d31-539b-4861-8316-19d29709b9de",
   "metadata": {},
   "outputs": [],
   "source": [
    "display_sheets() # Displays your spreadsheets in the HTML export"
   ]
  }
 ],
 "metadata": {
  "kernelspec": {
   "display_name": "Python 3 (ipykernel)",
   "language": "python",
   "name": "python3"
  },
  "language_info": {
   "codemirror_mode": {
    "name": "ipython",
    "version": 3
   },
   "file_extension": ".py",
   "mimetype": "text/x-python",
   "name": "python",
   "nbconvert_exporter": "python",
   "pygments_lexer": "ipython3",
   "version": "3.11.5"
  },
  "widgets": {
   "application/vnd.jupyter.widget-state+json": {
    "state": {},
    "version_major": 2,
    "version_minor": 0
   }
  }
 },
 "nbformat": 4,
 "nbformat_minor": 5
}
